{
 "cells": [
  {
   "cell_type": "code",
   "execution_count": 1,
   "id": "93115fbb",
   "metadata": {},
   "outputs": [
    {
     "name": "stderr",
     "output_type": "stream",
     "text": [
      "\u001b[32m\u001b[1m  Activating\u001b[22m\u001b[39m project at `/media/dasc3/SAMSUNG_SSD/dasc3/devansh/nvblox-accuracy-testing/julia_ply_viz`\n"
     ]
    }
   ],
   "source": [
    "] activate ."
   ]
  },
  {
   "cell_type": "code",
   "execution_count": 2,
   "id": "dd2e6d60",
   "metadata": {},
   "outputs": [
    {
     "name": "stdout",
     "output_type": "stream",
     "text": [
      "\u001b[32m\u001b[1mStatus\u001b[22m\u001b[39m `/media/dasc3/SAMSUNG_SSD/dasc3/devansh/nvblox-accuracy-testing/julia_ply_viz/Project.toml`\n",
      "\u001b[32m⌃\u001b[39m \u001b[90m[35d6a980] \u001b[39mColorSchemes v3.26.0\n",
      "\u001b[33m⌅\u001b[39m \u001b[90m[3da002f7] \u001b[39mColorTypes v0.11.5\n",
      "  \u001b[90m[150eb455] \u001b[39mCoordinateTransformations v0.6.3\n",
      "  \u001b[90m[a6e39b05] \u001b[39mDecompUtil v0.1.3 `https://github.com/dev10110/DecompUtil.jl#main`\n",
      "\u001b[32m⌃\u001b[39m \u001b[90m[5789e2e9] \u001b[39mFileIO v1.16.3\n",
      "  \u001b[90m[60bf3e95] \u001b[39mGLPK v1.2.1\n",
      "\u001b[33m⌅\u001b[39m \u001b[90m[5c1252a2] \u001b[39mGeometryBasics v0.4.11\n",
      "\u001b[32m⌃\u001b[39m \u001b[90m[916415d5] \u001b[39mImages v0.26.1\n",
      "  \u001b[90m[682c06a0] \u001b[39mJSON v0.21.4\n",
      "\u001b[32m⌃\u001b[39m \u001b[90m[283c5d60] \u001b[39mMeshCat v0.16.2\n",
      "\u001b[32m⌃\u001b[39m \u001b[90m[91a5bcdd] \u001b[39mPlots v1.40.8\n",
      "\u001b[32m⌃\u001b[39m \u001b[90m[42171d58] \u001b[39mPlyIO v1.1.2\n",
      "\u001b[33m⌅\u001b[39m \u001b[90m[67491407] \u001b[39mPolyhedra v0.7.8\n",
      "  \u001b[90m[92933f4c] \u001b[39mProgressMeter v1.10.2\n",
      "\u001b[32m⌃\u001b[39m \u001b[90m[6099a3de] \u001b[39mPythonCall v0.9.23\n",
      "\u001b[32m⌃\u001b[39m \u001b[90m[a8468747] \u001b[39mQHull v0.2.5\n",
      "\u001b[32m⌃\u001b[39m \u001b[90m[295af30f] \u001b[39mRevise v3.6.0\n",
      "  \u001b[90m[6038ab10] \u001b[39mRotations v1.7.1\n",
      "  \u001b[90m[87eb8544] \u001b[39mSolidModeling v0.1.0\n",
      "\u001b[32m⌃\u001b[39m \u001b[90m[90137ffa] \u001b[39mStaticArrays v1.9.7\n",
      "\u001b[32m⌃\u001b[39m \u001b[90m[a759f4b9] \u001b[39mTimerOutputs v0.5.24\n",
      "\u001b[36m\u001b[1mInfo\u001b[22m\u001b[39m Packages marked with \u001b[32m⌃\u001b[39m and \u001b[33m⌅\u001b[39m have new versions available. Those with \u001b[32m⌃\u001b[39m may be upgradable, but those with \u001b[33m⌅\u001b[39m are restricted by compatibility constraints from upgrading. To see why use `status --outdated`\n"
     ]
    }
   ],
   "source": [
    "] st"
   ]
  },
  {
   "cell_type": "code",
   "execution_count": null,
   "id": "ec020a4f",
   "metadata": {},
   "outputs": [],
   "source": []
  },
  {
   "cell_type": "code",
   "execution_count": 3,
   "id": "00101ace",
   "metadata": {},
   "outputs": [],
   "source": [
    "\n",
    "using MeshCat, ColorTypes, GeometryBasics\n",
    "using FileIO, PlyIO\n",
    "using LinearAlgebra, StaticArrays\n",
    "using Polyhedra\n",
    "using ColorSchemes\n",
    "using ProgressMeter\n",
    "using DelimitedFiles\n",
    "using Printf \n",
    "include(\"src/vis_helper.jl\")\n",
    "# include(\"src/direct_mapping.jl\")\n",
    "VH = VisHelper;\n",
    "# DM = DirectMapping\n",
    "\n",
    "using CoordinateTransformations, Rotations, StaticArrays\n",
    "\n",
    "\n"
   ]
  },
  {
   "cell_type": "code",
   "execution_count": 4,
   "id": "7dec1bfd",
   "metadata": {},
   "outputs": [
    {
     "data": {
      "text/plain": [
       "trajectory_path (generic function with 1 method)"
      ]
     },
     "execution_count": 4,
     "metadata": {},
     "output_type": "execute_result"
    }
   ],
   "source": [
    "function read_trajectory(traj_file)\n",
    "    M = readdlm(traj_file, ' ', Float64, '\\n')\n",
    "    return map( v -> SMatrix{4,4}(collect(reshape(v, 4,4)')), eachrow(M) )\n",
    "end\n",
    "function trajectory_path(base_path)\n",
    "    return base_path * \"/traj.txt\"\n",
    "end  "
   ]
  },
  {
   "cell_type": "code",
   "execution_count": 5,
   "id": "49dc696a",
   "metadata": {},
   "outputs": [
    {
     "name": "stderr",
     "output_type": "stream",
     "text": [
      "\u001b[36m\u001b[1m[ \u001b[22m\u001b[39m\u001b[36m\u001b[1mInfo: \u001b[22m\u001b[39mListening on: 127.0.0.1:8700, thread id: 1\n",
      "\u001b[36m\u001b[1m┌ \u001b[22m\u001b[39m\u001b[36m\u001b[1mInfo: \u001b[22m\u001b[39mMeshCat server started. You can open the visualizer by visiting the following URL in your browser:\n",
      "\u001b[36m\u001b[1m└ \u001b[22m\u001b[39mhttp://127.0.0.1:8700\n"
     ]
    },
    {
     "data": {
      "text/plain": [
       "Process(`\u001b[4mxdg-open\u001b[24m \u001b[4mhttp://127.0.0.1:8700\u001b[24m`, ProcessExited(0))"
      ]
     },
     "execution_count": 5,
     "metadata": {},
     "output_type": "execute_result"
    },
    {
     "name": "stdout",
     "output_type": "stream",
     "text": [
      "Opening in existing browser session.\n"
     ]
    }
   ],
   "source": [
    "vis = Visualizer()\n",
    "open(vis)"
   ]
  },
  {
   "cell_type": "code",
   "execution_count": 6,
   "id": "e31c9164",
   "metadata": {},
   "outputs": [
    {
     "data": {
      "text/plain": [
       "3-element Point{3, Float32} with indices SOneTo(3):\n",
       "  0.30573833\n",
       " -0.7496212\n",
       "  0.22674635"
      ]
     },
     "execution_count": 6,
     "metadata": {},
     "output_type": "execute_result"
    }
   ],
   "source": [
    "env_name = \"office0\"\n",
    "alg = \"certified\"\n",
    "Σ = 1e-6 * I(6)\n",
    "\n",
    "basedir = \"../data/Replica/$(env_name)/\"\n",
    "data_root_dir = \"./esdf_data/office0/\"\n",
    "esdf_root_dir = data_root_dir * \"/esdf/\"\n",
    "\n",
    "# grab the true traj\n",
    "true_traj = read_trajectory(trajectory_path(basedir))\n",
    "est_traj = read_trajectory(data_root_dir * \"perturbed.txt\")\n",
    "    \n",
    "\n",
    "# grab the ground truth pointcloud\n",
    "groundtruth_mesh = \"../data/Replica/$(env_name)_mesh.ply\"\n",
    "gt_mesh = VH.PlyMesh(load_ply(groundtruth_mesh))\n",
    "\n",
    "\n",
    "\n",
    "gt_mesh_center = sum(gt_mesh.coordinates) / length(gt_mesh.coordinates)\n",
    "\n"
   ]
  },
  {
   "cell_type": "code",
   "execution_count": 240,
   "id": "516db9d0",
   "metadata": {},
   "outputs": [
    {
     "name": "stdout",
     "output_type": "stream",
     "text": [
      "0.00.050.10.150000000000000020.20.250.300000000000000040.350000000000000030.40.450.50.550.60000000000000010.650.70000000000000010.750.80.85000000000000010.90.95000000000000011.01.051.11.15000000000000011.20000000000000021.251.31.351.40000000000000011.45000000000000021.51.551.61.65000000000000011.70000000000000021.751.81.851.90000000000000011.95000000000000022.02.05000000000000032.12.152.22.252.30000000000000032.352.40000000000000042.452.52.55000000000000032.62.65000000000000042.72.752.80000000000000032.852.90000000000000042.953.03.05000000000000033.13.15000000000000043.23.253.30000000000000033.353.40000000000000043.453.53.55000000000000033.63.65000000000000043.73.753.80000000000000033.853.90000000000000043.954.04.054.10000000000000054.154.24.254.34.35000000000000054.44.454.54.554.60000000000000054.654.74.754.8000000000000014.85000000000000054.94.955.05.0500000000000015.10000000000000055.155.25.255.3000000000000015.35000000000000055.45.455.55.5500000000000015.60000000000000055.655.75.755.8000000000000015.85000000000000055.95.956.06.0500000000000016.10000000000000056.156.26.25"
     ]
    }
   ],
   "source": [
    "\n",
    "# draw the gt_mesh into the vis\n",
    "# delete!(vis)\n",
    "\n",
    "# initialize viz\n",
    "setprop!(vis[\"/Background\"], \"visible\", false)\n",
    "setprop!(vis[\"/Grid\"], \"visible\", false)\n",
    "setprop!(vis[\"/Axes\"], \"visible\", false)\n",
    "\n",
    "# set transfom of viz\n",
    "settransform!(vis[\"shifted\"], Translation(-gt_mesh_center))\n",
    "\n",
    "# draw the mesh\n",
    "VH.draw_mesh!(vis[\"shifted\"][\"gt_mesh\"], VH.cut_ceiling(gt_mesh, 1.3)) # assumed to be already cut ceiling\n",
    "\n",
    "# draw the camera cone\n",
    "c = Cone(Point3f(0,0,0.4), Point3f(0,0,0.0), 0.2f0)\n",
    "setobject!(vis[\"shifted\"][\"camera_cone\"], c, MeshPhongMaterial(;color=RGB(0.3,0.3,0.3)))\n",
    "\n",
    "\n",
    "\n",
    "# get the correct rotation for the camera\n",
    "\n",
    "for angle = 0:0.05:(2π)\n",
    "    print(angle)\n",
    "\n",
    "    # set the camera position\n",
    "    camera_r = 3.5\n",
    "    camera_z = 4.0 # + gt_mesh_center[3]\n",
    "    camera_x = camera_r * cos(angle) # + gt_mesh_center[1]\n",
    "    camera_y = camera_r * sin(angle) # + gt_mesh_center[2]\n",
    "    T_camera = Translation(camera_x, camera_y, camera_z) # ∘ T_center_of_attention\n",
    "\n",
    "\n",
    "    settransform!(vis[\"/Cameras/default\"], T_camera)\n",
    "\n",
    "        # force camera to be exactly where I set the transform to be\n",
    "    setprop!(vis[\"/Cameras/default/rotated/<object>\"], \"position\", [0,0,0])\n",
    "\n",
    "    sleep(0.1)\n",
    "end"
   ]
  },
  {
   "cell_type": "code",
   "execution_count": null,
   "id": "a7d37f77",
   "metadata": {},
   "outputs": [],
   "source": []
  },
  {
   "cell_type": "code",
   "execution_count": 7,
   "id": "9e5c86f0",
   "metadata": {},
   "outputs": [
    {
     "data": {
      "text/plain": [
       "get_processed_esdf_pc (generic function with 1 method)"
      ]
     },
     "execution_count": 7,
     "metadata": {},
     "output_type": "execute_result"
    }
   ],
   "source": [
    "function esdf_filename(k; esdf_root_dir, mode=\"baseline\")\n",
    "    \n",
    "    if mode == \"baseline\"\n",
    "        fn = @sprintf \"%04d_esdf.ply\" k\n",
    "        return esdf_root_dir * fn\n",
    "    else\n",
    "        fn = @sprintf \"%04d_certi_esdf.ply\" k\n",
    "        return esdf_root_dir * fn\n",
    "    end\n",
    "end\n",
    "\n",
    "function get_esdf_pointcloud(ply; threshold=0.02 * sqrt(3)/2, color_lo = RGB(1,0,0), color_hi=RGB(0,1,0))\n",
    "    # create pts\n",
    "    pts = map((x,y,z) -> Point3f(x,y,z), \n",
    "        ply[\"vertex\"][\"x\"], \n",
    "        ply[\"vertex\"][\"y\"],\n",
    "        ply[\"vertex\"][\"z\"])\n",
    "    \n",
    "    # create colors\n",
    "    colors = map( i-> i >= threshold ? color_hi : color_lo, ply[\"vertex\"][\"intensity\"])\n",
    "    \n",
    "    return PointCloud(pts, colors)\n",
    "end\n",
    "\n",
    "function get_processed_esdf_pc(esdf_path, T_map_body_est, T_inertial_body_true; \n",
    "        slice_z=-0.6, \n",
    "        thresh = 0.02 * sqrt(3)/2, \n",
    "        color_lo = RGBA(1,0,0, 0.5), \n",
    "        color_hi = RGBA(0,1,0, 0.5)\n",
    "    )\n",
    "    \n",
    "    esdf_ply = load_ply(esdf_path)\n",
    "    T =  T_inertial_body_true * inv(T_map_body_est) \n",
    "    rot_esdf_ply = VH.rotate_ply(esdf_ply, T)\n",
    "    sliced_esdf = VH.slice_ply(rot_esdf_ply,  z_lims=(slice_z -0.05, slice_z + 0.05))\n",
    "    \n",
    "    return get_esdf_pointcloud(sliced_esdf; threshold=thresh, color_lo=color_lo, color_hi=color_hi)\n",
    "end"
   ]
  },
  {
   "cell_type": "code",
   "execution_count": 232,
   "id": "8ba26bce",
   "metadata": {},
   "outputs": [
    {
     "data": {
      "text/plain": [
       "-1.1688691f0"
      ]
     },
     "execution_count": 232,
     "metadata": {},
     "output_type": "execute_result"
    }
   ],
   "source": [
    "minimum(map(x->x[3], gt_mesh.coordinates))"
   ]
  },
  {
   "cell_type": "code",
   "execution_count": 233,
   "id": "ce4e061d",
   "metadata": {},
   "outputs": [
    {
     "data": {
      "text/plain": [
       "1.8229918f0"
      ]
     },
     "execution_count": 233,
     "metadata": {},
     "output_type": "execute_result"
    }
   ],
   "source": [
    "maximum(map(x->x[3], gt_mesh.coordinates))"
   ]
  },
  {
   "cell_type": "code",
   "execution_count": 243,
   "id": "3f85878a",
   "metadata": {},
   "outputs": [
    {
     "name": "stdout",
     "output_type": "stream",
     "text": [
      "stdin> n\n",
      "gc: 1594\n",
      "updating esdf at 1594\n"
     ]
    }
   ],
   "source": [
    "\n",
    "\n",
    "# draw the gt_mesh into the vis\n",
    "delete!(vis)\n",
    "\n",
    "# initialize viz\n",
    "setprop!(vis[\"/Background\"], \"visible\", false)\n",
    "setprop!(vis[\"/Grid\"], \"visible\", false)\n",
    "setprop!(vis[\"/Axes\"], \"visible\", false)\n",
    "\n",
    "# set transfom of viz\n",
    "settransform!(vis[\"shifted\"], Translation(-gt_mesh_center))\n",
    "\n",
    "# draw the mesh\n",
    "VH.draw_mesh!(vis[\"shifted\"][\"gt_mesh\"], VH.cut_ceiling(gt_mesh, 1.3)) # assumed to be already cut ceiling\n",
    "\n",
    "# draw the camera cone\n",
    "c = Cone(Point3f(0,0,0.4), Point3f(0,0,0.0), 0.2f0)\n",
    "setobject!(vis[\"shifted\"][\"camera_cone\"], c, MeshPhongMaterial(;color=RGB(0.3,0.3,0.3)))\n",
    "\n",
    "\n",
    "\n",
    "N = 2000\n",
    "is_first = true\n",
    "last_cleared = 0\n",
    "for k = 1594:50:1600\n",
    "    \n",
    "    # try clearing gc\n",
    "    if last_cleared < k - 10\n",
    "        GC.gc()\n",
    "        last_cleared = k\n",
    "        println(\"gc: $k\")\n",
    "    end\n",
    "    \n",
    "    \n",
    "    # check if the esdf exists\n",
    "    esdf_fn = esdf_filename(k; esdf_root_dir=esdf_root_dir, mode=\"baseline\")\n",
    "\n",
    "    # update esdf if it exists\n",
    "    if isfile(esdf_fn)\n",
    "        println(\"updating esdf at $k\")\n",
    "\n",
    "        # grab the transforms\n",
    "        T_map_body_est = est_traj[k]\n",
    "        T_inertial_body_true = true_traj[k]\n",
    "        \n",
    "        \n",
    "        slice_z = -0.65  # + 0.3 * sin(2 * π * k / N * 4)\n",
    "\n",
    "        # grab the esdf\n",
    "        esdf_pc = get_processed_esdf_pc(esdf_fn, T_map_body_est, T_inertial_body_true, \n",
    "            slice_z=slice_z,\n",
    "            thresh=0.02 * sqrt(3)/2)\n",
    "\n",
    "        # plot\n",
    "        VH.draw_pointcloud!(vis[\"shifted\"][\"pc\"], esdf_pc)\n",
    "    end\n",
    "    \n",
    "    # transform all sfcs into the correct frame\n",
    "    T_odom_body_k = true_traj[k]\n",
    "\n",
    "    # plot camera\n",
    "    settransform!(vis[\"shifted\"][\"camera_cone\"], VH.get_transform(T_odom_body_k))\n",
    "\n",
    "    # plot the past points\n",
    "    past_points = [T[1:3, 4] for T in true_traj[1:k]]\n",
    "    VH.draw_points!(vis[\"shifted\"][\"past_poses\"], past_points; color=RGB(0,0,0), size=0.005)\n",
    "\n",
    "    \n",
    "    # force camera to be exactly where I set the transform to be\n",
    "    setprop!(vis[\"/Cameras/default/rotated/<object>\"], \"position\", [0,0,0])\n",
    "\n",
    "    # get the correct rotation for the camera\n",
    "    num_revolutions = 2.0\n",
    "    angle = k / N * num_revolutions * 2π\n",
    "\n",
    "    # set the camera position\n",
    "    camera_r = 4.5\n",
    "    camera_z = 5.0\n",
    "    camera_x = camera_r * cos(angle)\n",
    "    camera_y = camera_r * sin(angle)\n",
    "    T_camera = Translation(camera_x, camera_y, camera_z) # ∘ T_center_of_attention\n",
    "\n",
    "    settransform!(vis[\"/Cameras/default\"], T_camera)\n",
    "\n",
    "    if is_first\n",
    "        sleep(1)\n",
    "        s = readline()\n",
    "        if s == \"n\"\n",
    "            break\n",
    "        end\n",
    "        is_first = false\n",
    "    else\n",
    "        sleep(0.1)\n",
    "    end\n",
    "\n",
    "    # try to save the image to file\n",
    "    println(\"saving $k: \")\n",
    "#     save_image(vis)\n",
    "#     println(\"..done $k\")\n",
    "\n",
    "\n",
    "end\n"
   ]
  },
  {
   "cell_type": "code",
   "execution_count": 247,
   "id": "20b1ce12",
   "metadata": {},
   "outputs": [
    {
     "data": {
      "text/plain": [
       "MeshCat Visualizer with path /Cameras/default/rotated/<object> at http://127.0.0.1:8707"
      ]
     },
     "execution_count": 247,
     "metadata": {},
     "output_type": "execute_result"
    }
   ],
   "source": [
    "setprop!(vis[\"/Cameras/default/rotated/<object>\"], \"position\", [10,0,0])"
   ]
  },
  {
   "cell_type": "code",
   "execution_count": 10,
   "id": "c6485562",
   "metadata": {},
   "outputs": [
    {
     "data": {
      "text/plain": [
       "MeshCat Visualizer with path /meshcat/shifted/pc at http://127.0.0.1:8700"
      ]
     },
     "execution_count": 10,
     "metadata": {},
     "output_type": "execute_result"
    }
   ],
   "source": [
    "# grab the transforms\n",
    "k=1594\n",
    "esdf_fn = esdf_filename(k; esdf_root_dir=esdf_root_dir, mode=\"baseline\")\n",
    "T_map_body_est = est_traj[k]\n",
    "T_inertial_body_true = true_traj[k]\n",
    "\n",
    "\n",
    "slice_z = -0.6  # + 0.3 * sin(2 * π * k / N * 4)\n",
    "\n",
    "# grab the esdf\n",
    "esdf_pc = get_processed_esdf_pc(esdf_fn, T_map_body_est, T_inertial_body_true, \n",
    "slice_z=slice_z,\n",
    "thresh=0.02 * sqrt(3)/2)\n",
    "\n",
    "# plot\n",
    "VH.draw_pointcloud!(vis[\"shifted\"][\"pc\"], esdf_pc)"
   ]
  },
  {
   "cell_type": "code",
   "execution_count": 11,
   "id": "82b32d95",
   "metadata": {},
   "outputs": [
    {
     "data": {
      "text/plain": [
       "MeshCat Visualizer with path /meshcat/shifted/gt_mesh at http://127.0.0.1:8700"
      ]
     },
     "execution_count": 11,
     "metadata": {},
     "output_type": "execute_result"
    }
   ],
   "source": [
    "# draw the mesh\n",
    "VH.draw_mesh!(vis[\"shifted\"][\"gt_mesh\"], VH.cut_ceiling(gt_mesh, 1.3)) # assumed to be already cut ceiling\n"
   ]
  },
  {
   "cell_type": "code",
   "execution_count": 15,
   "id": "eebe7710",
   "metadata": {},
   "outputs": [
    {
     "data": {
      "text/plain": [
       "MeshCat Visualizer with path /meshcat/shifted/true_traj at http://127.0.0.1:8700"
      ]
     },
     "execution_count": 15,
     "metadata": {},
     "output_type": "execute_result"
    }
   ],
   "source": [
    "traj_pts = [T[1:3, 4] for T in true_traj]\n",
    "VH.draw_points!(vis[\"shifted\"][\"true_traj\"], map(p->Point3f(p...), traj_pts); size=0.02)"
   ]
  },
  {
   "cell_type": "code",
   "execution_count": 16,
   "id": "245cdd10",
   "metadata": {},
   "outputs": [
    {
     "data": {
      "text/plain": [
       "MeshCat Visualizer with path /meshcat/shifted/est_traj at http://127.0.0.1:8700"
      ]
     },
     "execution_count": 16,
     "metadata": {},
     "output_type": "execute_result"
    }
   ],
   "source": [
    "est_traj_pts = [T[1:3, 4] for T in est_traj]\n",
    "VH.draw_points!(vis[\"shifted\"][\"est_traj\"], est_traj_pts; size=0.02, color=RGB(0,0,0))"
   ]
  },
  {
   "cell_type": "code",
   "execution_count": null,
   "id": "8a7cd74c",
   "metadata": {},
   "outputs": [],
   "source": []
  }
 ],
 "metadata": {
  "@webio": {
   "lastCommId": null,
   "lastKernelId": null
  },
  "kernelspec": {
   "display_name": "Julia (4 threads) 1.11.2",
   "language": "julia",
   "name": "julia-_4-threads_-1.11"
  },
  "language_info": {
   "file_extension": ".jl",
   "mimetype": "application/julia",
   "name": "julia",
   "version": "1.11.2"
  }
 },
 "nbformat": 4,
 "nbformat_minor": 5
}
