{
 "cells": [
  {
   "cell_type": "code",
   "execution_count": 24,
   "id": "c561cd3b",
   "metadata": {},
   "outputs": [
    {
     "name": "stderr",
     "output_type": "stream",
     "text": [
      "\u001b[32m\u001b[1m  Activating\u001b[22m\u001b[39m project at `/media/dasc3/SAMSUNG_SSD/dasc3/devansh/nvblox-accuracy-testing/vslam-nvblox/ros_ws/src/dasc_nvblox/nvblox/nvblox`\n"
     ]
    }
   ],
   "source": [
    "] activate ."
   ]
  },
  {
   "cell_type": "code",
   "execution_count": 577,
   "id": "0a16128b",
   "metadata": {},
   "outputs": [
    {
     "name": "stderr",
     "output_type": "stream",
     "text": [
      "WARNING: replacing module VisHelper.\n"
     ]
    },
    {
     "data": {
      "text/plain": [
       "Main.VisHelper"
      ]
     },
     "execution_count": 577,
     "metadata": {},
     "output_type": "execute_result"
    }
   ],
   "source": [
    "include(\"julia_utils/vis_helper.jl\")"
   ]
  },
  {
   "cell_type": "code",
   "execution_count": 578,
   "id": "cd740478",
   "metadata": {},
   "outputs": [
    {
     "data": {
      "text/plain": [
       "Main.VisHelper"
      ]
     },
     "execution_count": 578,
     "metadata": {},
     "output_type": "execute_result"
    }
   ],
   "source": [
    "using PlyIO\n",
    "using Plots\n",
    "using MeshCat\n",
    "using GeometryBasics\n",
    "using .VisHelper\n",
    "VH = VisHelper"
   ]
  },
  {
   "cell_type": "code",
   "execution_count": 4,
   "id": "05034009",
   "metadata": {},
   "outputs": [
    {
     "name": "stderr",
     "output_type": "stream",
     "text": [
      "\u001b[36m\u001b[1m[ \u001b[22m\u001b[39m\u001b[36m\u001b[1mInfo: \u001b[22m\u001b[39mListening on: 127.0.0.1:8700, thread id: 2\n",
      "\u001b[36m\u001b[1m┌ \u001b[22m\u001b[39m\u001b[36m\u001b[1mInfo: \u001b[22m\u001b[39mMeshCat server started. You can open the visualizer by visiting the following URL in your browser:\n",
      "\u001b[36m\u001b[1m└ \u001b[22m\u001b[39mhttp://127.0.0.1:8700\n"
     ]
    },
    {
     "data": {
      "text/plain": [
       "MeshCat Visualizer with path /meshcat at http://127.0.0.1:8700"
      ]
     },
     "execution_count": 4,
     "metadata": {},
     "output_type": "execute_result"
    }
   ],
   "source": [
    "# start a visualizer\n",
    "vis = Visualizer()"
   ]
  },
  {
   "cell_type": "code",
   "execution_count": 579,
   "id": "db2f62d1",
   "metadata": {},
   "outputs": [
    {
     "data": {
      "text/plain": [
       "MeshCat Visualizer with path /meshcat at http://127.0.0.1:8700"
      ]
     },
     "execution_count": 579,
     "metadata": {},
     "output_type": "execute_result"
    }
   ],
   "source": [
    "delete!(vis)"
   ]
  },
  {
   "cell_type": "code",
   "execution_count": 580,
   "id": "265cab49",
   "metadata": {},
   "outputs": [],
   "source": [
    "# visualize the mesh"
   ]
  },
  {
   "cell_type": "code",
   "execution_count": 581,
   "id": "ad44f1e7",
   "metadata": {},
   "outputs": [
    {
     "data": {
      "text/plain": [
       "\"/media/dasc3/SAMSUNG_SSD/dasc3/devansh/nvblox-accuracy-testing/vslam-nvblox/ros_ws/src/dasc_nvblox/nvblox/nvblox\""
      ]
     },
     "execution_count": 581,
     "metadata": {},
     "output_type": "execute_result"
    }
   ],
   "source": [
    "pwd()"
   ]
  },
  {
   "cell_type": "code",
   "execution_count": 582,
   "id": "d7c3d836",
   "metadata": {},
   "outputs": [
    {
     "data": {
      "text/plain": [
       "\"/media/dasc3/SAMSUNG_SSD/dasc3/devansh/nvblox-accuracy-testing/\""
      ]
     },
     "execution_count": 582,
     "metadata": {},
     "output_type": "execute_result"
    }
   ],
   "source": [
    "root_dir = \"/media/dasc3/SAMSUNG_SSD/dasc3/devansh/nvblox-accuracy-testing/\""
   ]
  },
  {
   "cell_type": "code",
   "execution_count": 583,
   "id": "0f08e90a",
   "metadata": {},
   "outputs": [
    {
     "data": {
      "text/plain": [
       "\"./eval_results/office3/1e-5/mesh.ply\""
      ]
     },
     "execution_count": 583,
     "metadata": {},
     "output_type": "execute_result"
    }
   ],
   "source": [
    "gt_mesh_file = root_dir * \"/data/Replica/office3_mesh.ply\"\n",
    "\n",
    "pert_mesh = \"./eval_results/office3/1e-5/mesh.ply\""
   ]
  },
  {
   "cell_type": "code",
   "execution_count": 584,
   "id": "060fa1d0",
   "metadata": {},
   "outputs": [
    {
     "data": {
      "text/plain": [
       "Ply with header:\n",
       " ply\n",
       " format binary_little_endian 1.0\n",
       " element vertex 1187140\n",
       " property float32 x\n",
       " property float32 y\n",
       " property float32 z\n",
       " property float32 nx\n",
       " property float32 ny\n",
       " property float32 nz\n",
       " property uint8 red\n",
       " property uint8 green\n",
       " property uint8 blue\n",
       " element face 1185992\n",
       " property list uint8 int32 vertex_indices\n",
       " end_header"
      ]
     },
     "execution_count": 584,
     "metadata": {},
     "output_type": "execute_result"
    }
   ],
   "source": [
    "gt_mesh = load_ply(gt_mesh_file)"
   ]
  },
  {
   "cell_type": "code",
   "execution_count": 689,
   "id": "77a207c1",
   "metadata": {
    "scrolled": true
   },
   "outputs": [
    {
     "data": {
      "text/plain": [
       "PointCloud{Float32, Point{3, Float32}, RGBA{Float64}}(Point{3, Float32}[[-2.3487387, 0.18608984, -1.1850749], [-2.3554428, 0.19231752, -1.1824145], [-2.3642616, 0.18439144, -1.1812334], [-2.3581295, 0.17853868, -1.1841388], [-2.3464444, 0.20279224, -1.1833026], [-2.3392482, 0.1954318, -1.1856443], [-2.3476453, 0.18785612, -1.1762583], [-2.3552165, 0.17701825, -1.1741682], [-2.3730807, 0.17646535, -1.1800524], [-2.3675208, 0.17098749, -1.1832027]  …  [1.6683588, -1.5410032, -1.1954991], [1.6683589, -1.5410031, -1.1954992], [1.6762792, -1.5496393, -1.1953294], [1.6682639, -1.5495577, -1.1953709], [1.6602485, -1.5494761, -1.1954123], [1.5316036, -1.6628859, -1.1946058], [1.5293722, -1.6681741, -1.1947782], [1.5218673, -1.6658504, -1.1944952], [1.5258565, -1.6630996, -1.1944747], [1.5240986, -1.6605623, -1.194323]], RGBA{Float64}[RGBA(0.0, 0.0, 0.0, 0.1), RGBA(0.0, 0.0, 0.0, 0.1), RGBA(0.0, 0.0, 0.0, 0.1), RGBA(0.0, 0.0, 0.0, 0.1), RGBA(0.0, 0.0, 0.0, 0.1), RGBA(0.0, 0.0, 0.0, 0.1), RGBA(0.0, 0.0, 0.0, 0.1), RGBA(0.0, 0.0, 0.0, 0.1), RGBA(0.0, 0.0, 0.0, 0.1), RGBA(0.0, 0.0, 0.0, 0.1)  …  RGBA(0.0, 0.0, 0.0, 0.1), RGBA(0.0, 0.0, 0.0, 0.1), RGBA(0.0, 0.0, 0.0, 0.1), RGBA(0.0, 0.0, 0.0, 0.1), RGBA(0.0, 0.0, 0.0, 0.1), RGBA(0.0, 0.0, 0.0, 0.1), RGBA(0.0, 0.0, 0.0, 0.1), RGBA(0.0, 0.0, 0.0, 0.1), RGBA(0.0, 0.0, 0.0, 0.1), RGBA(0.0, 0.0, 0.0, 0.1)])"
      ]
     },
     "execution_count": 689,
     "metadata": {},
     "output_type": "execute_result"
    }
   ],
   "source": [
    "gt_mesh_pc = VH.mesh2PointCloud(gt_mesh; cut_ceiling=0, color=RGBA(0,0,0, 0.1))"
   ]
  },
  {
   "cell_type": "code",
   "execution_count": 690,
   "id": "84fffaca",
   "metadata": {},
   "outputs": [
    {
     "data": {
      "text/plain": [
       "MeshCat Visualizer with path /meshcat/gt_mesh_pc at http://127.0.0.1:8700"
      ]
     },
     "execution_count": 690,
     "metadata": {},
     "output_type": "execute_result"
    }
   ],
   "source": [
    "VH.draw_pointcloud!(vis[\"gt_mesh_pc\"], gt_mesh_pc; size=0.005f0, alpha=0.5)"
   ]
  },
  {
   "cell_type": "code",
   "execution_count": 691,
   "id": "f61fa927",
   "metadata": {},
   "outputs": [
    {
     "data": {
      "text/plain": [
       "Main.VisHelper.PlyMesh{Float32, Int32, Float64}(Point{3, Float32}[[-2.3487387, 0.18608984, -1.1850749], [-2.3554428, 0.19231752, -1.1824145], [-2.3642616, 0.18439144, -1.1812334], [-2.3581295, 0.17853868, -1.1841388], [-2.3464444, 0.20279224, -1.1833026], [-2.3392482, 0.1954318, -1.1856443], [-2.3476453, 0.18785612, -1.1762583], [-2.3552165, 0.17701825, -1.1741682], [-2.3730807, 0.17646535, -1.1800524], [-2.3675208, 0.17098749, -1.1832027]  …  [1.6683588, -1.5410032, -1.1954991], [1.6683589, -1.5410031, -1.1954992], [1.6762792, -1.5496393, -1.1953294], [1.6682639, -1.5495577, -1.1953709], [1.6602485, -1.5494761, -1.1954123], [1.5316036, -1.6628859, -1.1946058], [1.5293722, -1.6681741, -1.1947782], [1.5218673, -1.6658504, -1.1944952], [1.5258565, -1.6630996, -1.1944747], [1.5240986, -1.6605623, -1.194323]], TriangleFace{Int32}[TriangleFace{Int32}(1, 2, 3), TriangleFace{Int32}(3, 4, 1), TriangleFace{Int32}(5, 2, 1), TriangleFace{Int32}(1, 6, 5), TriangleFace{Int32}(3, 2, 7), TriangleFace{Int32}(7, 8, 3), TriangleFace{Int32}(3, 9, 10), TriangleFace{Int32}(10, 4, 3), TriangleFace{Int32}(11, 12, 1), TriangleFace{Int32}(1, 4, 11)  …  TriangleFace{Int32}(1187128, 1187135, 1187134), TriangleFace{Int32}(1187134, 1187132, 1187128), TriangleFace{Int32}(1187134, 1187133, 1187130), TriangleFace{Int32}(1187130, 1187132, 1187134), TriangleFace{Int32}(1187136, 1187137, 1187138), TriangleFace{Int32}(1187138, 1187139, 1187136), TriangleFace{Int32}(1187138, 444515, 1187140), TriangleFace{Int32}(1187140, 1187139, 1187138), TriangleFace{Int32}(1187140, 1187011, 1187136), TriangleFace{Int32}(1187136, 1187139, 1187140)], Point{3, Float32}[[-0.22583884, 0.16688518, -0.9597636], [-0.72029734, 0.6919121, -0.049287166], [-0.61744475, 0.73048335, 0.29181492], [-0.25599402, 0.20114993, -0.9455188], [-0.7593233, 0.64502233, -0.08587364], [-0.1852518, 0.12882347, -0.97421056], [-0.39744067, 0.4265043, 0.8124869], [-0.33846277, 0.40063488, 0.85143095], [-0.38494536, 0.4259833, 0.8187523], [-0.27243263, 0.25675553, -0.9272848]  …  [-0.005016808, 0.015052693, 0.9998741], [0.005016808, -0.015052693, -0.9998741], [0.0050217626, -0.015048103, -0.9998742], [0.0050217626, -0.015048103, -0.9998742], [0.0050069955, -0.0150525365, -0.9998741], [0.024391625, -0.04283778, 0.9987843], [0.024395376, -0.042850114, 0.9987837], [0.024391456, -0.042837705, 0.9987843], [0.024390258, -0.04283361, 0.9987844], [0.024387702, -0.04282536, 0.9987849]], RGB{Float64}[RGB(0.16862745098039217, 0.11372549019607843, 0.12941176470588237), RGB(0.16470588235294117, 0.11372549019607843, 0.12941176470588237), RGB(0.17254901960784313, 0.11372549019607843, 0.12549019607843137), RGB(0.17647058823529413, 0.11764705882352941, 0.12941176470588237), RGB(0.17647058823529413, 0.11372549019607843, 0.13333333333333333), RGB(0.17647058823529413, 0.11764705882352941, 0.1450980392156863), RGB(0.18823529411764706, 0.13725490196078433, 0.1607843137254902), RGB(0.18823529411764706, 0.13333333333333333, 0.16470588235294117), RGB(0.16862745098039217, 0.11372549019607843, 0.13725490196078433), RGB(0.16862745098039217, 0.11372549019607843, 0.1450980392156863)  …  RGB(0.10980392156862745, 0.011764705882352941, 0.08235294117647059), RGB(0.10980392156862745, 0.011764705882352941, 0.08235294117647059), RGB(0.0784313725490196, 0.0, 0.10196078431372549), RGB(0.10196078431372549, 0.047058823529411764, 0.09019607843137255), RGB(0.12156862745098039, 0.03137254901960784, 0.10588235294117647), RGB(0.0, 0.0, 0.0), RGB(0.0, 0.0, 0.0), RGB(0.0, 0.0, 0.0), RGB(0.0, 0.0, 0.0), RGB(0.0, 0.0, 0.0)])"
      ]
     },
     "execution_count": 691,
     "metadata": {},
     "output_type": "execute_result"
    }
   ],
   "source": [
    "gt_plymesh = VH.PlyMesh(gt_mesh)# ; color=RGB(0.8,0.8,0.8))"
   ]
  },
  {
   "cell_type": "code",
   "execution_count": 692,
   "id": "10ce44ba",
   "metadata": {},
   "outputs": [],
   "source": [
    "# VH.draw_pointcloud!(vis[\"gt_mesh_pc\"], gt_plymesh; )"
   ]
  },
  {
   "cell_type": "code",
   "execution_count": 693,
   "id": "784970ba",
   "metadata": {
    "scrolled": false
   },
   "outputs": [
    {
     "data": {
      "text/plain": [
       "Main.VisHelper.PlyMesh{Float32, Int32, Float64}(Point{3, Float32}[[-2.3487387, 0.18608984, -1.1850749], [-2.3554428, 0.19231752, -1.1824145], [-2.3642616, 0.18439144, -1.1812334], [-2.3581295, 0.17853868, -1.1841388], [-2.3464444, 0.20279224, -1.1833026], [-2.3392482, 0.1954318, -1.1856443], [-2.3476453, 0.18785612, -1.1762583], [-2.3552165, 0.17701825, -1.1741682], [-2.3730807, 0.17646535, -1.1800524], [-2.3675208, 0.17098749, -1.1832027]  …  [1.6683588, -1.5410032, -1.1954991], [1.6683589, -1.5410031, -1.1954992], [1.6762792, -1.5496393, -1.1953294], [1.6682639, -1.5495577, -1.1953709], [1.6602485, -1.5494761, -1.1954123], [1.5316036, -1.6628859, -1.1946058], [1.5293722, -1.6681741, -1.1947782], [1.5218673, -1.6658504, -1.1944952], [1.5258565, -1.6630996, -1.1944747], [1.5240986, -1.6605623, -1.194323]], TriangleFace{Int32}[TriangleFace{Int32}(1, 2, 3), TriangleFace{Int32}(3, 4, 1), TriangleFace{Int32}(5, 2, 1), TriangleFace{Int32}(1, 6, 5), TriangleFace{Int32}(3, 2, 7), TriangleFace{Int32}(7, 8, 3), TriangleFace{Int32}(3, 9, 10), TriangleFace{Int32}(10, 4, 3), TriangleFace{Int32}(11, 12, 1), TriangleFace{Int32}(1, 4, 11)  …  TriangleFace{Int32}(676515, 676522, 676521), TriangleFace{Int32}(676521, 676519, 676515), TriangleFace{Int32}(676521, 676520, 676517), TriangleFace{Int32}(676517, 676519, 676521), TriangleFace{Int32}(676523, 676524, 676525), TriangleFace{Int32}(676525, 676526, 676523), TriangleFace{Int32}(676525, 380621, 676527), TriangleFace{Int32}(676527, 676526, 676525), TriangleFace{Int32}(676527, 676433, 676523), TriangleFace{Int32}(676523, 676526, 676527)], Point{3, Float32}[[-0.22583884, 0.16688518, -0.9597636], [-0.72029734, 0.6919121, -0.049287166], [-0.61744475, 0.73048335, 0.29181492], [-0.25599402, 0.20114993, -0.9455188], [-0.7593233, 0.64502233, -0.08587364], [-0.1852518, 0.12882347, -0.97421056], [-0.39744067, 0.4265043, 0.8124869], [-0.33846277, 0.40063488, 0.85143095], [-0.38494536, 0.4259833, 0.8187523], [-0.27243263, 0.25675553, -0.9272848]  …  [-0.005016808, 0.015052693, 0.9998741], [0.005016808, -0.015052693, -0.9998741], [0.0050217626, -0.015048103, -0.9998742], [0.0050217626, -0.015048103, -0.9998742], [0.0050069955, -0.0150525365, -0.9998741], [0.024391625, -0.04283778, 0.9987843], [0.024395376, -0.042850114, 0.9987837], [0.024391456, -0.042837705, 0.9987843], [0.024390258, -0.04283361, 0.9987844], [0.024387702, -0.04282536, 0.9987849]], RGB{Float64}[RGB(0.16862745098039217, 0.11372549019607843, 0.12941176470588237), RGB(0.16470588235294117, 0.11372549019607843, 0.12941176470588237), RGB(0.17254901960784313, 0.11372549019607843, 0.12549019607843137), RGB(0.17647058823529413, 0.11764705882352941, 0.12941176470588237), RGB(0.17647058823529413, 0.11372549019607843, 0.13333333333333333), RGB(0.17647058823529413, 0.11764705882352941, 0.1450980392156863), RGB(0.18823529411764706, 0.13725490196078433, 0.1607843137254902), RGB(0.18823529411764706, 0.13333333333333333, 0.16470588235294117), RGB(0.16862745098039217, 0.11372549019607843, 0.13725490196078433), RGB(0.16862745098039217, 0.11372549019607843, 0.1450980392156863)  …  RGB(0.10980392156862745, 0.011764705882352941, 0.08235294117647059), RGB(0.10980392156862745, 0.011764705882352941, 0.08235294117647059), RGB(0.0784313725490196, 0.0, 0.10196078431372549), RGB(0.10196078431372549, 0.047058823529411764, 0.09019607843137255), RGB(0.12156862745098039, 0.03137254901960784, 0.10588235294117647), RGB(0.0, 0.0, 0.0), RGB(0.0, 0.0, 0.0), RGB(0.0, 0.0, 0.0), RGB(0.0, 0.0, 0.0), RGB(0.0, 0.0, 0.0)])"
      ]
     },
     "execution_count": 693,
     "metadata": {},
     "output_type": "execute_result"
    }
   ],
   "source": [
    "gt_plymesh_cut = VH.cut_ceiling(gt_plymesh,0)"
   ]
  },
  {
   "cell_type": "code",
   "execution_count": 694,
   "id": "cedac9d8",
   "metadata": {},
   "outputs": [
    {
     "data": {
      "text/plain": [
       "MeshCat Visualizer with path /meshcat/gt_mesh at http://127.0.0.1:8700"
      ]
     },
     "execution_count": 694,
     "metadata": {},
     "output_type": "execute_result"
    }
   ],
   "source": [
    "VH.draw_mesh!(vis[\"gt_mesh\"], gt_plymesh_cut; alpha=0.5)"
   ]
  },
  {
   "cell_type": "code",
   "execution_count": 608,
   "id": "10534672",
   "metadata": {},
   "outputs": [],
   "source": [
    "# grab the estimated mesh"
   ]
  },
  {
   "cell_type": "code",
   "execution_count": 644,
   "id": "d3fc6050",
   "metadata": {},
   "outputs": [
    {
     "data": {
      "text/plain": [
       "\"./vis_results/2000/transformed_certified_mesh.ply\""
      ]
     },
     "execution_count": 644,
     "metadata": {},
     "output_type": "execute_result"
    }
   ],
   "source": [
    "estimated_mesh_path = \"./vis_results/2000/transformed_mesh.ply\"\n",
    "estimated_cmesh_path = \"./vis_results/2000/transformed_certified_mesh.ply\""
   ]
  },
  {
   "cell_type": "code",
   "execution_count": 645,
   "id": "e8531bd0",
   "metadata": {},
   "outputs": [
    {
     "data": {
      "text/plain": [
       "Ply with header:\n",
       " ply\n",
       " format ascii 1.0\n",
       " element vertex 75677\n",
       " property float32 x\n",
       " property float32 y\n",
       " property float32 z\n",
       " property float32 nx\n",
       " property float32 ny\n",
       " property float32 nz\n",
       " element face 112771\n",
       " property list uint8 int32 vertex_indices\n",
       " end_header"
      ]
     },
     "execution_count": 645,
     "metadata": {},
     "output_type": "execute_result"
    }
   ],
   "source": [
    "estimated_mesh = load_ply(estimated_mesh_path)\n",
    "estimated_cmesh = load_ply(estimated_cmesh_path)"
   ]
  },
  {
   "cell_type": "code",
   "execution_count": 646,
   "id": "c56b3a84",
   "metadata": {},
   "outputs": [
    {
     "data": {
      "text/plain": [
       "MeshCat Visualizer with path /meshcat/estimated_cmesh_2 at http://127.0.0.1:8700"
      ]
     },
     "execution_count": 646,
     "metadata": {},
     "output_type": "execute_result"
    }
   ],
   "source": [
    "VH.draw_mesh!(vis[\"estimated_mesh_2\"], VH.PlyMesh(estimated_mesh; color=RGB(1,0,0), is_trimesh=true); alpha=1.0)\n",
    "\n",
    "VH.draw_mesh!(vis[\"estimated_cmesh_2\"], VH.PlyMesh(estimated_cmesh; color=RGB(0,1,0), is_trimesh=true); alpha=1.0)"
   ]
  },
  {
   "cell_type": "code",
   "execution_count": null,
   "id": "c343a30d",
   "metadata": {},
   "outputs": [],
   "source": []
  },
  {
   "cell_type": "code",
   "execution_count": null,
   "id": "b429509e",
   "metadata": {},
   "outputs": [],
   "source": []
  },
  {
   "cell_type": "code",
   "execution_count": 647,
   "id": "5f6d2a94",
   "metadata": {},
   "outputs": [
    {
     "data": {
      "text/plain": [
       "MeshCat Visualizer with path /meshcat/estimated_cmesh at http://127.0.0.1:8700"
      ]
     },
     "execution_count": 647,
     "metadata": {},
     "output_type": "execute_result"
    }
   ],
   "source": [
    "VH.draw_pointcloud!(vis[\"estimated_mesh\"], \n",
    "    VH.mesh2PointCloud(estimated_mesh; cut_ceiling=1.2, color=safe_color = rgba(100, 190, 80, 1)); \n",
    "    size=0.02f0)\n",
    "VH.draw_pointcloud!(vis[\"estimated_cmesh\"], \n",
    "    VH.mesh2PointCloud(estimated_cmesh; cut_ceiling=1.2, color=safe_color = rgba(100, 190, 80, 1)))"
   ]
  },
  {
   "cell_type": "code",
   "execution_count": 648,
   "id": "b8bebfd8",
   "metadata": {},
   "outputs": [],
   "source": [
    "\n",
    "# grab the esdf"
   ]
  },
  {
   "cell_type": "code",
   "execution_count": 695,
   "id": "a92cf431",
   "metadata": {},
   "outputs": [
    {
     "data": {
      "text/plain": [
       "\"./vis_results/1/transformed_certified_esdf.ply\""
      ]
     },
     "execution_count": 695,
     "metadata": {},
     "output_type": "execute_result"
    }
   ],
   "source": [
    "esdf_file = \"./vis_results/1/transformed_esdf.ply\"\n",
    "cesdf_file = \"./vis_results/1/transformed_certified_esdf.ply\""
   ]
  },
  {
   "cell_type": "code",
   "execution_count": 696,
   "id": "bd21e1ae",
   "metadata": {},
   "outputs": [
    {
     "data": {
      "text/plain": [
       "Ply with header:\n",
       " ply\n",
       " format ascii 1.0\n",
       " element vertex 6445568\n",
       " property float32 x\n",
       " property float32 y\n",
       " property float32 z\n",
       " property float32 intensity\n",
       " end_header"
      ]
     },
     "execution_count": 696,
     "metadata": {},
     "output_type": "execute_result"
    }
   ],
   "source": [
    "esdf_ply = load_ply(esdf_file)\n",
    "cesdf_ply = load_ply(cesdf_file)"
   ]
  },
  {
   "cell_type": "code",
   "execution_count": 697,
   "id": "b6e25b1b",
   "metadata": {},
   "outputs": [
    {
     "data": {
      "text/plain": [
       "slice_ply (generic function with 1 method)"
      ]
     },
     "execution_count": 697,
     "metadata": {},
     "output_type": "execute_result"
    }
   ],
   "source": [
    "function slice_ply(ply::PlyIO.Ply; z_lims=(-Inf, Inf), intensity_lims=(-Inf, Inf))\n",
    "    \n",
    "    il, iu = intensity_lims\n",
    "    zl, zu = z_lims\n",
    "    \n",
    "    intensities = ply[\"vertex\"][\"intensity\"]\n",
    "    zs = ply[\"vertex\"][\"z\"]\n",
    "    \n",
    "    N = length(intensities)\n",
    "    \n",
    "    good_inds = map( i -> (il <= intensities[i] <= iu) && (zl <= zs[i] <= zu), 1:N)\n",
    "    \n",
    "    new_ply = Ply()\n",
    "    new_vertex = PlyElement(\"vertex\",\n",
    "            ArrayProperty(\"x\", ply[\"vertex\"][\"x\"][good_inds]),\n",
    "            ArrayProperty(\"y\", ply[\"vertex\"][\"y\"][good_inds]),\n",
    "            ArrayProperty(\"z\", ply[\"vertex\"][\"z\"][good_inds]),\n",
    "            ArrayProperty(\"intensity\", ply[\"vertex\"][\"intensity\"][good_inds])\n",
    "    )\n",
    "    \n",
    "    push!(new_ply, new_vertex)\n",
    "    \n",
    "    return new_ply\n",
    "end"
   ]
  },
  {
   "cell_type": "code",
   "execution_count": 698,
   "id": "7e358e1f",
   "metadata": {},
   "outputs": [
    {
     "data": {
      "text/plain": [
       "Ply with header:\n",
       " ply\n",
       " format ascii 1.0\n",
       " element vertex 22889\n",
       " property float32 x\n",
       " property float32 y\n",
       " property float32 z\n",
       " property float32 intensity\n",
       " end_header"
      ]
     },
     "execution_count": 698,
     "metadata": {},
     "output_type": "execute_result"
    }
   ],
   "source": [
    "# esdf_ply_sliced = slice_ply(esdf_ply; z_lims=((-0.01, 0.01) .+ -0.3), intensity_lims=(0.00, 0.1))\n",
    "\n",
    "# esdf_ply_sliced = slice_ply(esdf_ply; z_lims=(-Inf, Inf), intensity_lims=(0.002, 0.1))\n",
    "    \n",
    "# # esdf_ply_sliced = slice_ply(esdf_ply; z_lims=(-0.85,-0.84), intensity_lims=(0.001, 1.02))\n",
    "    \n",
    "# esdf_ply_sliced = slice_ply(esdf_ply; z_lims=(-0.22, -0.2), intensity_lims=(0.002, 0.1))\n",
    "# cesdf_ply_sliced = slice_ply(cesdf_ply; z_lims=(-0.22, -0.2), intensity_lims=(0.002, 0.1))\n",
    "        \n",
    "esdf_ply_sliced = slice_ply(esdf_ply; z_lims=(-0.62, -0.6), intensity_lims=(0.001, 1.1))\n",
    "cesdf_ply_sliced = slice_ply(cesdf_ply; z_lims=(-0.62, -0.6), intensity_lims=(0.001, 1.1))\n",
    "    \n",
    "    \n",
    "# esdf_ply_sliced = slice_ply(esdf_ply; z_lims=(-Inf, Inf), intensity_lims=(-0.01, 0.0))    "
   ]
  },
  {
   "cell_type": "code",
   "execution_count": 699,
   "id": "825911c3",
   "metadata": {},
   "outputs": [
    {
     "data": {
      "text/plain": [
       "binary_colored_sdf (generic function with 1 method)"
      ]
     },
     "execution_count": 699,
     "metadata": {},
     "output_type": "execute_result"
    }
   ],
   "source": [
    "function binary_colored_sdf(ply::PlyIO.Ply, threshold, color_lo, color_hi)\n",
    "    intensities = ply[\"vertex\"][\"intensity\"]\n",
    "    \n",
    "    colors = map( i -> (i >= threshold ? color_hi : color_lo), intensities )\n",
    "    x = ply[\"vertex\"][\"x\"]\n",
    "    y = ply[\"vertex\"][\"y\"]    \n",
    "    z = ply[\"vertex\"][\"z\"]     \n",
    "    \n",
    "    pts = map( (x,y, z) -> Point3f(x,y,z), x, y, z)\n",
    "    \n",
    "    return PointCloud(pts, colors)\n",
    "end\n",
    "    "
   ]
  },
  {
   "cell_type": "code",
   "execution_count": 700,
   "id": "5fed24d3",
   "metadata": {},
   "outputs": [
    {
     "data": {
      "text/plain": [
       "rgba (generic function with 1 method)"
      ]
     },
     "execution_count": 700,
     "metadata": {},
     "output_type": "execute_result"
    }
   ],
   "source": [
    "rgba(r,g,b,a) = RGBA(r/255, g/255, b/255, a)"
   ]
  },
  {
   "cell_type": "code",
   "execution_count": 701,
   "id": "87bfeb43",
   "metadata": {},
   "outputs": [
    {
     "data": {
      "text/plain": [
       "PointCloud{Float32, Point{3, Float32}, RGBA{Float64}}(Point{3, Float32}[[1.93, -0.45, -0.61], [1.93, -0.43, -0.61], [1.93, -0.41, -0.61], [1.93, -0.39, -0.61], [1.93, -0.37, -0.61], [1.93, -0.35, -0.61], [1.93, -0.33, -0.61], [1.95, -0.45, -0.61], [1.95, -0.43, -0.61], [1.95, -0.41, -0.61]  …  [1.55, 1.33, -0.61], [1.55, 1.35, -0.61], [1.55, 1.37, -0.61], [1.57, 1.29, -0.61], [1.57, 1.31, -0.61], [1.57, 1.33, -0.61], [1.57, 1.35, -0.61], [1.59, 1.29, -0.61], [1.59, 1.31, -0.61], [1.59, 1.33, -0.61]], RGBA{Float64}[RGBA(0.023529411764705882, 0.0, 0.36470588235294116, 1.0), RGBA(0.023529411764705882, 0.0, 0.36470588235294116, 1.0), RGBA(0.023529411764705882, 0.0, 0.36470588235294116, 1.0), RGBA(0.023529411764705882, 0.0, 0.36470588235294116, 1.0), RGBA(0.023529411764705882, 0.0, 0.36470588235294116, 1.0), RGBA(0.023529411764705882, 0.0, 0.36470588235294116, 1.0), RGBA(0.023529411764705882, 0.0, 0.36470588235294116, 1.0), RGBA(0.023529411764705882, 0.0, 0.36470588235294116, 1.0), RGBA(0.023529411764705882, 0.0, 0.36470588235294116, 1.0), RGBA(0.023529411764705882, 0.0, 0.36470588235294116, 1.0)  …  RGBA(0.023529411764705882, 0.0, 0.36470588235294116, 1.0), RGBA(0.023529411764705882, 0.0, 0.36470588235294116, 1.0), RGBA(0.023529411764705882, 0.0, 0.36470588235294116, 1.0), RGBA(0.023529411764705882, 0.0, 0.36470588235294116, 1.0), RGBA(0.023529411764705882, 0.0, 0.36470588235294116, 1.0), RGBA(0.023529411764705882, 0.0, 0.36470588235294116, 1.0), RGBA(0.023529411764705882, 0.0, 0.36470588235294116, 1.0), RGBA(0.023529411764705882, 0.0, 0.36470588235294116, 1.0), RGBA(0.023529411764705882, 0.0, 0.36470588235294116, 1.0), RGBA(0.023529411764705882, 0.0, 0.36470588235294116, 1.0)])"
      ]
     },
     "execution_count": 701,
     "metadata": {},
     "output_type": "execute_result"
    }
   ],
   "source": [
    "# unsafe_color = RGBA(253/255, 152/255, 145/255, 1)\n",
    "unsafe_color = RGB(194/255, 81/255, 1/255)\n",
    "unsafe_color = RGB(1.0,0.2,0)\n",
    "\n",
    "safe_color = RGBA(43/255, 187/255, 127/255, 1)\n",
    "#safe_color = RGBA(179/255, 223/255, 115/255, 1)\n",
    "\n",
    "\n",
    "safe_color = rgba(216, 227, 166, 1)\n",
    "# unsafe_color = rgba(20, 88, 137, 1)\n",
    "unsafe_color = rgba(6, 51, 93, 1)\n",
    "# unsafe_color = RGB(0.8, 0.8, 0.8)\n",
    "\n",
    "unsafe_color = rgba(6, 0, 93, 1)\n",
    "# unsafe_color = rgba(60, 0, 10, 1)\n",
    "\n",
    "safe_color = rgba(100, 190, 80, 1)\n",
    "\n",
    "\n",
    "binary_esdf = binary_colored_sdf(esdf_ply_sliced, 0.04, unsafe_color, safe_color)\n",
    "binary_cesdf = binary_colored_sdf(cesdf_ply_sliced, 0.04, unsafe_color, safe_color)\n"
   ]
  },
  {
   "cell_type": "code",
   "execution_count": 702,
   "id": "e6a8317c",
   "metadata": {},
   "outputs": [
    {
     "data": {
      "text/plain": [
       "MeshCat Visualizer with path /meshcat/1/slice_cesdf at http://127.0.0.1:8700"
      ]
     },
     "execution_count": 702,
     "metadata": {},
     "output_type": "execute_result"
    }
   ],
   "source": [
    "\n",
    "VH.draw_pointcloud!(vis[\"1\"][\"slice_esdf\"], binary_esdf; size=0.02f0, alpha=0.75)\n",
    "VH.draw_pointcloud!(vis[\"1\"][\"slice_cesdf\"], binary_cesdf; size=0.02f0, alpha=0.75)"
   ]
  },
  {
   "cell_type": "code",
   "execution_count": null,
   "id": "dfd86ead",
   "metadata": {},
   "outputs": [],
   "source": []
  },
  {
   "cell_type": "code",
   "execution_count": null,
   "id": "d8c8ab9c",
   "metadata": {},
   "outputs": [],
   "source": []
  },
  {
   "cell_type": "code",
   "execution_count": null,
   "id": "f238dd45",
   "metadata": {},
   "outputs": [],
   "source": []
  },
  {
   "cell_type": "code",
   "execution_count": 93,
   "id": "7e96955b",
   "metadata": {},
   "outputs": [
    {
     "data": {
      "image/png": "[encoded data removed]",
      "image/svg+xml": [
       "<?xml version=\"1.0\" encoding=\"utf-8\"?>\n",
       "<svg xmlns=\"http://www.w3.org/2000/svg\" xmlns:xlink=\"http://www.w3.org/1999/xlink\" width=\"600\" height=\"400\" viewBox=\"0 0 2400 1600\">\n",
       "<defs>\n",
       "  <clipPath id=\"clip580\">\n",
       "    <rect x=\"0\" y=\"0\" width=\"2400\" height=\"1600\"/>\n",
       "  </clipPath>\n",
       "</defs>\n",
       "<path clip-path=\"url(#clip580)\" d=\"M0 1600 L2400 1600 L2400 0 L0 0  Z\" fill=\"#ffffff\" fill-rule=\"evenodd\" fill-opacity=\"1\"/>\n",
       "<defs>\n",
       "  <clipPath id=\"clip581\">\n",
       "    <rect x=\"480\" y=\"0\" width=\"1681\" height=\"1600\"/>\n",
       "  </clipPath>\n",
       "</defs>\n",
       "<path clip-path=\"url(#clip580)\" d=\"M277.431 1486.45 L2352.76 1486.45 L2352.76 47.2441 L277.431 47.2441  Z\" fill=\"#ffffff\" fill-rule=\"evenodd\" fill-opacity=\"1\"/>\n",
       "<defs>\n",
       "  <clipPath id=\"clip582\">\n",
       "    <rect x=\"277\" y=\"47\" width=\"2076\" height=\"1440\"/>\n",
       "  </clipPath>\n",
       "</defs>\n",
       "<polyline clip-path=\"url(#clip582)\" style=\"stroke:#000000; stroke-linecap:round; stroke-linejoin:round; stroke-width:2; stroke-opacity:0.1; fill:none\" points=\"559.489,1486.45 559.489,47.2441 \"/>\n",
       "<polyline clip-path=\"url(#clip582)\" style=\"stroke:#000000; stroke-linecap:round; stroke-linejoin:round; stroke-width:2; stroke-opacity:0.1; fill:none\" points=\"979.269,1486.45 979.269,47.2441 \"/>\n",
       "<polyline clip-path=\"url(#clip582)\" style=\"stroke:#000000; stroke-linecap:round; stroke-linejoin:round; stroke-width:2; stroke-opacity:0.1; fill:none\" points=\"1399.05,1486.45 1399.05,47.2441 \"/>\n",
       "<polyline clip-path=\"url(#clip582)\" style=\"stroke:#000000; stroke-linecap:round; stroke-linejoin:round; stroke-width:2; stroke-opacity:0.1; fill:none\" points=\"1818.83,1486.45 1818.83,47.2441 \"/>\n",
       "<polyline clip-path=\"url(#clip582)\" style=\"stroke:#000000; stroke-linecap:round; stroke-linejoin:round; stroke-width:2; stroke-opacity:0.1; fill:none\" points=\"2238.61,1486.45 2238.61,47.2441 \"/>\n",
       "<polyline clip-path=\"url(#clip582)\" style=\"stroke:#000000; stroke-linecap:round; stroke-linejoin:round; stroke-width:2; stroke-opacity:0.1; fill:none\" points=\"277.431,1486.45 2352.76,1486.45 \"/>\n",
       "<polyline clip-path=\"url(#clip582)\" style=\"stroke:#000000; stroke-linecap:round; stroke-linejoin:round; stroke-width:2; stroke-opacity:0.1; fill:none\" points=\"277.431,1203.09 2352.76,1203.09 \"/>\n",
       "<polyline clip-path=\"url(#clip582)\" style=\"stroke:#000000; stroke-linecap:round; stroke-linejoin:round; stroke-width:2; stroke-opacity:0.1; fill:none\" points=\"277.431,919.732 2352.76,919.732 \"/>\n",
       "<polyline clip-path=\"url(#clip582)\" style=\"stroke:#000000; stroke-linecap:round; stroke-linejoin:round; stroke-width:2; stroke-opacity:0.1; fill:none\" points=\"277.431,636.374 2352.76,636.374 \"/>\n",
       "<polyline clip-path=\"url(#clip582)\" style=\"stroke:#000000; stroke-linecap:round; stroke-linejoin:round; stroke-width:2; stroke-opacity:0.1; fill:none\" points=\"277.431,353.016 2352.76,353.016 \"/>\n",
       "<polyline clip-path=\"url(#clip582)\" style=\"stroke:#000000; stroke-linecap:round; stroke-linejoin:round; stroke-width:2; stroke-opacity:0.1; fill:none\" points=\"277.431,69.6577 2352.76,69.6577 \"/>\n",
       "<polyline clip-path=\"url(#clip580)\" style=\"stroke:#000000; stroke-linecap:round; stroke-linejoin:round; stroke-width:4; stroke-opacity:1; fill:none\" points=\"277.431,1486.45 2352.76,1486.45 \"/>\n",
       "<polyline clip-path=\"url(#clip580)\" style=\"stroke:#000000; stroke-linecap:round; stroke-linejoin:round; stroke-width:4; stroke-opacity:1; fill:none\" points=\"559.489,1486.45 559.489,1467.55 \"/>\n",
       "<polyline clip-path=\"url(#clip580)\" style=\"stroke:#000000; stroke-linecap:round; stroke-linejoin:round; stroke-width:4; stroke-opacity:1; fill:none\" points=\"979.269,1486.45 979.269,1467.55 \"/>\n",
       "<polyline clip-path=\"url(#clip580)\" style=\"stroke:#000000; stroke-linecap:round; stroke-linejoin:round; stroke-width:4; stroke-opacity:1; fill:none\" points=\"1399.05,1486.45 1399.05,1467.55 \"/>\n",
       "<polyline clip-path=\"url(#clip580)\" style=\"stroke:#000000; stroke-linecap:round; stroke-linejoin:round; stroke-width:4; stroke-opacity:1; fill:none\" points=\"1818.83,1486.45 1818.83,1467.55 \"/>\n",
       "<polyline clip-path=\"url(#clip580)\" style=\"stroke:#000000; stroke-linecap:round; stroke-linejoin:round; stroke-width:4; stroke-opacity:1; fill:none\" points=\"2238.61,1486.45 2238.61,1467.55 \"/>\n",
       "<path clip-path=\"url(#clip580)\" d=\"M521.793 1517.37 Q518.182 1517.37 516.353 1520.93 Q514.548 1524.47 514.548 1531.6 Q514.548 1538.71 516.353 1542.27 Q518.182 1545.82 521.793 1545.82 Q525.427 1545.82 527.233 1542.27 Q529.061 1538.71 529.061 1531.6 Q529.061 1524.47 527.233 1520.93 Q525.427 1517.37 521.793 1517.37 M521.793 1513.66 Q527.603 1513.66 530.659 1518.27 Q533.737 1522.85 533.737 1531.6 Q533.737 1540.33 530.659 1544.94 Q527.603 1549.52 521.793 1549.52 Q515.983 1549.52 512.904 1544.94 Q509.849 1540.33 509.849 1531.6 Q509.849 1522.85 512.904 1518.27 Q515.983 1513.66 521.793 1513.66 Z\" fill=\"#000000\" fill-rule=\"nonzero\" fill-opacity=\"1\" /><path clip-path=\"url(#clip580)\" d=\"M541.955 1542.97 L546.839 1542.97 L546.839 1548.85 L541.955 1548.85 L541.955 1542.97 Z\" fill=\"#000000\" fill-rule=\"nonzero\" fill-opacity=\"1\" /><path clip-path=\"url(#clip580)\" d=\"M567.024 1517.37 Q563.413 1517.37 561.584 1520.93 Q559.779 1524.47 559.779 1531.6 Q559.779 1538.71 561.584 1542.27 Q563.413 1545.82 567.024 1545.82 Q570.658 1545.82 572.464 1542.27 Q574.293 1538.71 574.293 1531.6 Q574.293 1524.47 572.464 1520.93 Q570.658 1517.37 567.024 1517.37 M567.024 1513.66 Q572.834 1513.66 575.89 1518.27 Q578.969 1522.85 578.969 1531.6 Q578.969 1540.33 575.89 1544.94 Q572.834 1549.52 567.024 1549.52 Q561.214 1549.52 558.135 1544.94 Q555.08 1540.33 555.08 1531.6 Q555.08 1522.85 558.135 1518.27 Q561.214 1513.66 567.024 1513.66 Z\" fill=\"#000000\" fill-rule=\"nonzero\" fill-opacity=\"1\" /><path clip-path=\"url(#clip580)\" d=\"M597.186 1517.37 Q593.575 1517.37 591.746 1520.93 Q589.941 1524.47 589.941 1531.6 Q589.941 1538.71 591.746 1542.27 Q593.575 1545.82 597.186 1545.82 Q600.82 1545.82 602.626 1542.27 Q604.455 1538.71 604.455 1531.6 Q604.455 1524.47 602.626 1520.93 Q600.82 1517.37 597.186 1517.37 M597.186 1513.66 Q602.996 1513.66 606.052 1518.27 Q609.13 1522.85 609.13 1531.6 Q609.13 1540.33 606.052 1544.94 Q602.996 1549.52 597.186 1549.52 Q591.376 1549.52 588.297 1544.94 Q585.242 1540.33 585.242 1531.6 Q585.242 1522.85 588.297 1518.27 Q591.376 1513.66 597.186 1513.66 Z\" fill=\"#000000\" fill-rule=\"nonzero\" fill-opacity=\"1\" /><path clip-path=\"url(#clip580)\" d=\"M942.071 1517.37 Q938.459 1517.37 936.631 1520.93 Q934.825 1524.47 934.825 1531.6 Q934.825 1538.71 936.631 1542.27 Q938.459 1545.82 942.071 1545.82 Q945.705 1545.82 947.51 1542.27 Q949.339 1538.71 949.339 1531.6 Q949.339 1524.47 947.51 1520.93 Q945.705 1517.37 942.071 1517.37 M942.071 1513.66 Q947.881 1513.66 950.936 1518.27 Q954.015 1522.85 954.015 1531.6 Q954.015 1540.33 950.936 1544.94 Q947.881 1549.52 942.071 1549.52 Q936.26 1549.52 933.182 1544.94 Q930.126 1540.33 930.126 1531.6 Q930.126 1522.85 933.182 1518.27 Q936.26 1513.66 942.071 1513.66 Z\" fill=\"#000000\" fill-rule=\"nonzero\" fill-opacity=\"1\" /><path clip-path=\"url(#clip580)\" d=\"M962.232 1542.97 L967.117 1542.97 L967.117 1548.85 L962.232 1548.85 L962.232 1542.97 Z\" fill=\"#000000\" fill-rule=\"nonzero\" fill-opacity=\"1\" /><path clip-path=\"url(#clip580)\" d=\"M981.33 1544.91 L997.649 1544.91 L997.649 1548.85 L975.705 1548.85 L975.705 1544.91 Q978.367 1542.16 982.95 1537.53 Q987.556 1532.88 988.737 1531.53 Q990.982 1529.01 991.862 1527.27 Q992.765 1525.51 992.765 1523.82 Q992.765 1521.07 990.82 1519.33 Q988.899 1517.6 985.797 1517.6 Q983.598 1517.6 981.144 1518.36 Q978.714 1519.13 975.936 1520.68 L975.936 1515.95 Q978.76 1514.82 981.214 1514.24 Q983.668 1513.66 985.705 1513.66 Q991.075 1513.66 994.269 1516.35 Q997.464 1519.03 997.464 1523.52 Q997.464 1525.65 996.654 1527.57 Q995.867 1529.47 993.76 1532.07 Q993.181 1532.74 990.08 1535.95 Q986.978 1539.15 981.33 1544.91 Z\" fill=\"#000000\" fill-rule=\"nonzero\" fill-opacity=\"1\" /><path clip-path=\"url(#clip580)\" d=\"M1007.51 1514.29 L1025.87 1514.29 L1025.87 1518.22 L1011.79 1518.22 L1011.79 1526.7 Q1012.81 1526.35 1013.83 1526.19 Q1014.85 1526 1015.87 1526 Q1021.65 1526 1025.03 1529.17 Q1028.41 1532.34 1028.41 1537.76 Q1028.41 1543.34 1024.94 1546.44 Q1021.47 1549.52 1015.15 1549.52 Q1012.97 1549.52 1010.7 1549.15 Q1008.46 1548.78 1006.05 1548.04 L1006.05 1543.34 Q1008.14 1544.47 1010.36 1545.03 Q1012.58 1545.58 1015.06 1545.58 Q1019.06 1545.58 1021.4 1543.48 Q1023.74 1541.37 1023.74 1537.76 Q1023.74 1534.15 1021.4 1532.04 Q1019.06 1529.94 1015.06 1529.94 Q1013.18 1529.94 1011.31 1530.35 Q1009.45 1530.77 1007.51 1531.65 L1007.51 1514.29 Z\" fill=\"#000000\" fill-rule=\"nonzero\" fill-opacity=\"1\" /><path clip-path=\"url(#clip580)\" d=\"M1361.35 1517.37 Q1357.74 1517.37 1355.91 1520.93 Q1354.11 1524.47 1354.11 1531.6 Q1354.11 1538.71 1355.91 1542.27 Q1357.74 1545.82 1361.35 1545.82 Q1364.99 1545.82 1366.79 1542.27 Q1368.62 1538.71 1368.62 1531.6 Q1368.62 1524.47 1366.79 1520.93 Q1364.99 1517.37 1361.35 1517.37 M1361.35 1513.66 Q1367.16 1513.66 1370.22 1518.27 Q1373.3 1522.85 1373.3 1531.6 Q1373.3 1540.33 1370.22 1544.94 Q1367.16 1549.52 1361.35 1549.52 Q1355.54 1549.52 1352.46 1544.94 Q1349.41 1540.33 1349.41 1531.6 Q1349.41 1522.85 1352.46 1518.27 Q1355.54 1513.66 1361.35 1513.66 Z\" fill=\"#000000\" fill-rule=\"nonzero\" fill-opacity=\"1\" /><path clip-path=\"url(#clip580)\" d=\"M1381.51 1542.97 L1386.4 1542.97 L1386.4 1548.85 L1381.51 1548.85 L1381.51 1542.97 Z\" fill=\"#000000\" fill-rule=\"nonzero\" fill-opacity=\"1\" /><path clip-path=\"url(#clip580)\" d=\"M1396.63 1514.29 L1414.99 1514.29 L1414.99 1518.22 L1400.91 1518.22 L1400.91 1526.7 Q1401.93 1526.35 1402.95 1526.19 Q1403.97 1526 1404.99 1526 Q1410.77 1526 1414.15 1529.17 Q1417.53 1532.34 1417.53 1537.76 Q1417.53 1543.34 1414.06 1546.44 Q1410.59 1549.52 1404.27 1549.52 Q1402.09 1549.52 1399.82 1549.15 Q1397.58 1548.78 1395.17 1548.04 L1395.17 1543.34 Q1397.26 1544.47 1399.48 1545.03 Q1401.7 1545.58 1404.18 1545.58 Q1408.18 1545.58 1410.52 1543.48 Q1412.86 1541.37 1412.86 1537.76 Q1412.86 1534.15 1410.52 1532.04 Q1408.18 1529.94 1404.18 1529.94 Q1402.3 1529.94 1400.43 1530.35 Q1398.57 1530.77 1396.63 1531.65 L1396.63 1514.29 Z\" fill=\"#000000\" fill-rule=\"nonzero\" fill-opacity=\"1\" /><path clip-path=\"url(#clip580)\" d=\"M1436.75 1517.37 Q1433.13 1517.37 1431.31 1520.93 Q1429.5 1524.47 1429.5 1531.6 Q1429.5 1538.71 1431.31 1542.27 Q1433.13 1545.82 1436.75 1545.82 Q1440.38 1545.82 1442.19 1542.27 Q1444.01 1538.71 1444.01 1531.6 Q1444.01 1524.47 1442.19 1520.93 Q1440.38 1517.37 1436.75 1517.37 M1436.75 1513.66 Q1442.56 1513.66 1445.61 1518.27 Q1448.69 1522.85 1448.69 1531.6 Q1448.69 1540.33 1445.61 1544.94 Q1442.56 1549.52 1436.75 1549.52 Q1430.94 1549.52 1427.86 1544.94 Q1424.8 1540.33 1424.8 1531.6 Q1424.8 1522.85 1427.86 1518.27 Q1430.94 1513.66 1436.75 1513.66 Z\" fill=\"#000000\" fill-rule=\"nonzero\" fill-opacity=\"1\" /><path clip-path=\"url(#clip580)\" d=\"M1781.63 1517.37 Q1778.02 1517.37 1776.19 1520.93 Q1774.39 1524.47 1774.39 1531.6 Q1774.39 1538.71 1776.19 1542.27 Q1778.02 1545.82 1781.63 1545.82 Q1785.26 1545.82 1787.07 1542.27 Q1788.9 1538.71 1788.9 1531.6 Q1788.9 1524.47 1787.07 1520.93 Q1785.26 1517.37 1781.63 1517.37 M1781.63 1513.66 Q1787.44 1513.66 1790.5 1518.27 Q1793.57 1522.85 1793.57 1531.6 Q1793.57 1540.33 1790.5 1544.94 Q1787.44 1549.52 1781.63 1549.52 Q1775.82 1549.52 1772.74 1544.94 Q1769.69 1540.33 1769.69 1531.6 Q1769.69 1522.85 1772.74 1518.27 Q1775.82 1513.66 1781.63 1513.66 Z\" fill=\"#000000\" fill-rule=\"nonzero\" fill-opacity=\"1\" /><path clip-path=\"url(#clip580)\" d=\"M1801.79 1542.97 L1806.68 1542.97 L1806.68 1548.85 L1801.79 1548.85 L1801.79 1542.97 Z\" fill=\"#000000\" fill-rule=\"nonzero\" fill-opacity=\"1\" /><path clip-path=\"url(#clip580)\" d=\"M1815.68 1514.29 L1837.9 1514.29 L1837.9 1516.28 L1825.36 1548.85 L1820.47 1548.85 L1832.28 1518.22 L1815.68 1518.22 L1815.68 1514.29 Z\" fill=\"#000000\" fill-rule=\"nonzero\" fill-opacity=\"1\" /><path clip-path=\"url(#clip580)\" d=\"M1847.07 1514.29 L1865.43 1514.29 L1865.43 1518.22 L1851.35 1518.22 L1851.35 1526.7 Q1852.37 1526.35 1853.39 1526.19 Q1854.41 1526 1855.43 1526 Q1861.21 1526 1864.59 1529.17 Q1867.97 1532.34 1867.97 1537.76 Q1867.97 1543.34 1864.5 1546.44 Q1861.03 1549.52 1854.71 1549.52 Q1852.53 1549.52 1850.26 1549.15 Q1848.02 1548.78 1845.61 1548.04 L1845.61 1543.34 Q1847.69 1544.47 1849.92 1545.03 Q1852.14 1545.58 1854.62 1545.58 Q1858.62 1545.58 1860.96 1543.48 Q1863.3 1541.37 1863.3 1537.76 Q1863.3 1534.15 1860.96 1532.04 Q1858.62 1529.94 1854.62 1529.94 Q1852.74 1529.94 1850.87 1530.35 Q1849.01 1530.77 1847.07 1531.65 L1847.07 1514.29 Z\" fill=\"#000000\" fill-rule=\"nonzero\" fill-opacity=\"1\" /><path clip-path=\"url(#clip580)\" d=\"M2190.68 1544.91 L2198.32 1544.91 L2198.32 1518.55 L2190.01 1520.21 L2190.01 1515.95 L2198.27 1514.29 L2202.95 1514.29 L2202.95 1544.91 L2210.59 1544.91 L2210.59 1548.85 L2190.68 1548.85 L2190.68 1544.91 Z\" fill=\"#000000\" fill-rule=\"nonzero\" fill-opacity=\"1\" /><path clip-path=\"url(#clip580)\" d=\"M2220.03 1542.97 L2224.92 1542.97 L2224.92 1548.85 L2220.03 1548.85 L2220.03 1542.97 Z\" fill=\"#000000\" fill-rule=\"nonzero\" fill-opacity=\"1\" /><path clip-path=\"url(#clip580)\" d=\"M2245.1 1517.37 Q2241.49 1517.37 2239.66 1520.93 Q2237.86 1524.47 2237.86 1531.6 Q2237.86 1538.71 2239.66 1542.27 Q2241.49 1545.82 2245.1 1545.82 Q2248.74 1545.82 2250.54 1542.27 Q2252.37 1538.71 2252.37 1531.6 Q2252.37 1524.47 2250.54 1520.93 Q2248.74 1517.37 2245.1 1517.37 M2245.1 1513.66 Q2250.91 1513.66 2253.97 1518.27 Q2257.05 1522.85 2257.05 1531.6 Q2257.05 1540.33 2253.97 1544.94 Q2250.91 1549.52 2245.1 1549.52 Q2239.29 1549.52 2236.21 1544.94 Q2233.16 1540.33 2233.16 1531.6 Q2233.16 1522.85 2236.21 1518.27 Q2239.29 1513.66 2245.1 1513.66 Z\" fill=\"#000000\" fill-rule=\"nonzero\" fill-opacity=\"1\" /><path clip-path=\"url(#clip580)\" d=\"M2275.26 1517.37 Q2271.65 1517.37 2269.82 1520.93 Q2268.02 1524.47 2268.02 1531.6 Q2268.02 1538.71 2269.82 1542.27 Q2271.65 1545.82 2275.26 1545.82 Q2278.9 1545.82 2280.7 1542.27 Q2282.53 1538.71 2282.53 1531.6 Q2282.53 1524.47 2280.7 1520.93 Q2278.9 1517.37 2275.26 1517.37 M2275.26 1513.66 Q2281.07 1513.66 2284.13 1518.27 Q2287.21 1522.85 2287.21 1531.6 Q2287.21 1540.33 2284.13 1544.94 Q2281.07 1549.52 2275.26 1549.52 Q2269.45 1549.52 2266.38 1544.94 Q2263.32 1540.33 2263.32 1531.6 Q2263.32 1522.85 2266.38 1518.27 Q2269.45 1513.66 2275.26 1513.66 Z\" fill=\"#000000\" fill-rule=\"nonzero\" fill-opacity=\"1\" /><polyline clip-path=\"url(#clip580)\" style=\"stroke:#000000; stroke-linecap:round; stroke-linejoin:round; stroke-width:4; stroke-opacity:1; fill:none\" points=\"277.431,1486.45 277.431,47.2441 \"/>\n",
       "<polyline clip-path=\"url(#clip580)\" style=\"stroke:#000000; stroke-linecap:round; stroke-linejoin:round; stroke-width:4; stroke-opacity:1; fill:none\" points=\"277.431,1486.45 296.329,1486.45 \"/>\n",
       "<polyline clip-path=\"url(#clip580)\" style=\"stroke:#000000; stroke-linecap:round; stroke-linejoin:round; stroke-width:4; stroke-opacity:1; fill:none\" points=\"277.431,1203.09 296.329,1203.09 \"/>\n",
       "<polyline clip-path=\"url(#clip580)\" style=\"stroke:#000000; stroke-linecap:round; stroke-linejoin:round; stroke-width:4; stroke-opacity:1; fill:none\" points=\"277.431,919.732 296.329,919.732 \"/>\n",
       "<polyline clip-path=\"url(#clip580)\" style=\"stroke:#000000; stroke-linecap:round; stroke-linejoin:round; stroke-width:4; stroke-opacity:1; fill:none\" points=\"277.431,636.374 296.329,636.374 \"/>\n",
       "<polyline clip-path=\"url(#clip580)\" style=\"stroke:#000000; stroke-linecap:round; stroke-linejoin:round; stroke-width:4; stroke-opacity:1; fill:none\" points=\"277.431,353.016 296.329,353.016 \"/>\n",
       "<polyline clip-path=\"url(#clip580)\" style=\"stroke:#000000; stroke-linecap:round; stroke-linejoin:round; stroke-width:4; stroke-opacity:1; fill:none\" points=\"277.431,69.6577 296.329,69.6577 \"/>\n",
       "<path clip-path=\"url(#clip580)\" d=\"M229.487 1472.25 Q225.875 1472.25 224.047 1475.81 Q222.241 1479.35 222.241 1486.48 Q222.241 1493.59 224.047 1497.15 Q225.875 1500.7 229.487 1500.7 Q233.121 1500.7 234.926 1497.15 Q236.755 1493.59 236.755 1486.48 Q236.755 1479.35 234.926 1475.81 Q233.121 1472.25 229.487 1472.25 M229.487 1468.54 Q235.297 1468.54 238.352 1473.15 Q241.431 1477.73 241.431 1486.48 Q241.431 1495.21 238.352 1499.82 Q235.297 1504.4 229.487 1504.4 Q223.676 1504.4 220.598 1499.82 Q217.542 1495.21 217.542 1486.48 Q217.542 1477.73 220.598 1473.15 Q223.676 1468.54 229.487 1468.54 Z\" fill=\"#000000\" fill-rule=\"nonzero\" fill-opacity=\"1\" /><path clip-path=\"url(#clip580)\" d=\"M54.5569 1222.88 L62.1958 1222.88 L62.1958 1196.52 L53.8856 1198.18 L53.8856 1193.92 L62.1495 1192.26 L66.8254 1192.26 L66.8254 1222.88 L74.4642 1222.88 L74.4642 1226.82 L54.5569 1226.82 L54.5569 1222.88 Z\" fill=\"#000000\" fill-rule=\"nonzero\" fill-opacity=\"1\" /><path clip-path=\"url(#clip580)\" d=\"M83.9086 1220.94 L88.7928 1220.94 L88.7928 1226.82 L83.9086 1226.82 L83.9086 1220.94 Z\" fill=\"#000000\" fill-rule=\"nonzero\" fill-opacity=\"1\" /><path clip-path=\"url(#clip580)\" d=\"M108.978 1195.34 Q105.367 1195.34 103.538 1198.9 Q101.733 1202.44 101.733 1209.57 Q101.733 1216.68 103.538 1220.24 Q105.367 1223.79 108.978 1223.79 Q112.612 1223.79 114.418 1220.24 Q116.246 1216.68 116.246 1209.57 Q116.246 1202.44 114.418 1198.9 Q112.612 1195.34 108.978 1195.34 M108.978 1191.63 Q114.788 1191.63 117.844 1196.24 Q120.922 1200.82 120.922 1209.57 Q120.922 1218.3 117.844 1222.91 Q114.788 1227.49 108.978 1227.49 Q103.168 1227.49 100.089 1222.91 Q97.0335 1218.3 97.0335 1209.57 Q97.0335 1200.82 100.089 1196.24 Q103.168 1191.63 108.978 1191.63 Z\" fill=\"#000000\" fill-rule=\"nonzero\" fill-opacity=\"1\" /><path clip-path=\"url(#clip580)\" d=\"M157.311 1201.35 L146.732 1211.98 L157.311 1222.56 L154.556 1225.36 L143.931 1214.73 L133.306 1225.36 L130.575 1222.56 L141.131 1211.98 L130.575 1201.35 L133.306 1198.55 L143.931 1209.18 L154.556 1198.55 L157.311 1201.35 Z\" fill=\"#000000\" fill-rule=\"nonzero\" fill-opacity=\"1\" /><path clip-path=\"url(#clip580)\" d=\"M169.672 1222.88 L177.311 1222.88 L177.311 1196.52 L169.001 1198.18 L169.001 1193.92 L177.265 1192.26 L181.94 1192.26 L181.94 1222.88 L189.579 1222.88 L189.579 1226.82 L169.672 1226.82 L169.672 1222.88 Z\" fill=\"#000000\" fill-rule=\"nonzero\" fill-opacity=\"1\" /><path clip-path=\"url(#clip580)\" d=\"M209.024 1195.34 Q205.413 1195.34 203.584 1198.9 Q201.778 1202.44 201.778 1209.57 Q201.778 1216.68 203.584 1220.24 Q205.413 1223.79 209.024 1223.79 Q212.658 1223.79 214.463 1220.24 Q216.292 1216.68 216.292 1209.57 Q216.292 1202.44 214.463 1198.9 Q212.658 1195.34 209.024 1195.34 M209.024 1191.63 Q214.834 1191.63 217.889 1196.24 Q220.968 1200.82 220.968 1209.57 Q220.968 1218.3 217.889 1222.91 Q214.834 1227.49 209.024 1227.49 Q203.214 1227.49 200.135 1222.91 Q197.079 1218.3 197.079 1209.57 Q197.079 1200.82 200.135 1196.24 Q203.214 1191.63 209.024 1191.63 Z\" fill=\"#000000\" fill-rule=\"nonzero\" fill-opacity=\"1\" /><path clip-path=\"url(#clip580)\" d=\"M233.645 1174.64 L224.053 1189.63 L233.645 1189.63 L233.645 1174.64 M232.648 1171.33 L237.425 1171.33 L237.425 1189.63 L241.431 1189.63 L241.431 1192.79 L237.425 1192.79 L237.425 1199.41 L233.645 1199.41 L233.645 1192.79 L220.968 1192.79 L220.968 1189.12 L232.648 1171.33 Z\" fill=\"#000000\" fill-rule=\"nonzero\" fill-opacity=\"1\" /><path clip-path=\"url(#clip580)\" d=\"M57.7745 939.524 L74.0939 939.524 L74.0939 943.459 L52.1495 943.459 L52.1495 939.524 Q54.8115 936.77 59.3949 932.14 Q64.0013 927.487 65.1819 926.145 Q67.4272 923.622 68.3068 921.885 Q69.2096 920.126 69.2096 918.436 Q69.2096 915.682 67.2652 913.946 Q65.3439 912.21 62.2421 912.21 Q60.043 912.21 57.5893 912.973 Q55.1588 913.737 52.381 915.288 L52.381 910.566 Q55.2051 909.432 57.6588 908.853 Q60.1124 908.274 62.1495 908.274 Q67.5198 908.274 70.7142 910.96 Q73.9087 913.645 73.9087 918.135 Q73.9087 920.265 73.0985 922.186 Q72.3115 924.085 70.205 926.677 Q69.6263 927.348 66.5245 930.566 Q63.4226 933.76 57.7745 939.524 Z\" fill=\"#000000\" fill-rule=\"nonzero\" fill-opacity=\"1\" /><path clip-path=\"url(#clip580)\" d=\"M83.9086 937.58 L88.7928 937.58 L88.7928 943.459 L83.9086 943.459 L83.9086 937.58 Z\" fill=\"#000000\" fill-rule=\"nonzero\" fill-opacity=\"1\" /><path clip-path=\"url(#clip580)\" d=\"M108.978 911.978 Q105.367 911.978 103.538 915.543 Q101.733 919.085 101.733 926.214 Q101.733 933.321 103.538 936.885 Q105.367 940.427 108.978 940.427 Q112.612 940.427 114.418 936.885 Q116.246 933.321 116.246 926.214 Q116.246 919.085 114.418 915.543 Q112.612 911.978 108.978 911.978 M108.978 908.274 Q114.788 908.274 117.844 912.881 Q120.922 917.464 120.922 926.214 Q120.922 934.941 117.844 939.547 Q114.788 944.131 108.978 944.131 Q103.168 944.131 100.089 939.547 Q97.0335 934.941 97.0335 926.214 Q97.0335 917.464 100.089 912.881 Q103.168 908.274 108.978 908.274 Z\" fill=\"#000000\" fill-rule=\"nonzero\" fill-opacity=\"1\" /><path clip-path=\"url(#clip580)\" d=\"M157.311 917.997 L146.732 928.622 L157.311 939.2 L154.556 942.001 L143.931 931.376 L133.306 942.001 L130.575 939.2 L141.131 928.622 L130.575 917.997 L133.306 915.196 L143.931 925.821 L154.556 915.196 L157.311 917.997 Z\" fill=\"#000000\" fill-rule=\"nonzero\" fill-opacity=\"1\" /><path clip-path=\"url(#clip580)\" d=\"M169.672 939.524 L177.311 939.524 L177.311 913.159 L169.001 914.825 L169.001 910.566 L177.265 908.899 L181.94 908.899 L181.94 939.524 L189.579 939.524 L189.579 943.459 L169.672 943.459 L169.672 939.524 Z\" fill=\"#000000\" fill-rule=\"nonzero\" fill-opacity=\"1\" /><path clip-path=\"url(#clip580)\" d=\"M209.024 911.978 Q205.413 911.978 203.584 915.543 Q201.778 919.085 201.778 926.214 Q201.778 933.321 203.584 936.885 Q205.413 940.427 209.024 940.427 Q212.658 940.427 214.463 936.885 Q216.292 933.321 216.292 926.214 Q216.292 919.085 214.463 915.543 Q212.658 911.978 209.024 911.978 M209.024 908.274 Q214.834 908.274 217.889 912.881 Q220.968 917.464 220.968 926.214 Q220.968 934.941 217.889 939.547 Q214.834 944.131 209.024 944.131 Q203.214 944.131 200.135 939.547 Q197.079 934.941 197.079 926.214 Q197.079 917.464 200.135 912.881 Q203.214 908.274 209.024 908.274 Z\" fill=\"#000000\" fill-rule=\"nonzero\" fill-opacity=\"1\" /><path clip-path=\"url(#clip580)\" d=\"M233.645 891.279 L224.053 906.269 L233.645 906.269 L233.645 891.279 M232.648 887.969 L237.425 887.969 L237.425 906.269 L241.431 906.269 L241.431 909.429 L237.425 909.429 L237.425 916.049 L233.645 916.049 L233.645 909.429 L220.968 909.429 L220.968 905.761 L232.648 887.969 Z\" fill=\"#000000\" fill-rule=\"nonzero\" fill-opacity=\"1\" /><path clip-path=\"url(#clip580)\" d=\"M67.9133 641.467 Q71.2698 642.185 73.1448 644.453 Q75.0429 646.722 75.0429 650.055 Q75.0429 655.171 71.5244 657.972 Q68.0059 660.773 61.5245 660.773 Q59.3486 660.773 57.0338 660.333 Q54.7421 659.916 52.2884 659.06 L52.2884 654.546 Q54.2328 655.68 56.5477 656.259 Q58.8625 656.838 61.3856 656.838 Q65.7837 656.838 68.0754 655.101 Q70.3902 653.365 70.3902 650.055 Q70.3902 647 68.2374 645.287 Q66.1078 643.551 62.2884 643.551 L58.2606 643.551 L58.2606 639.708 L62.4735 639.708 Q65.9226 639.708 67.7513 638.342 Q69.58 636.953 69.58 634.361 Q69.58 631.699 67.6819 630.287 Q65.8069 628.852 62.2884 628.852 Q60.3671 628.852 58.168 629.268 Q55.969 629.685 53.3301 630.564 L53.3301 626.398 Q55.9921 625.657 58.3069 625.287 Q60.6449 624.916 62.705 624.916 Q68.0291 624.916 71.1309 627.347 Q74.2327 629.754 74.2327 633.875 Q74.2327 636.745 72.5892 638.736 Q70.9457 640.703 67.9133 641.467 Z\" fill=\"#000000\" fill-rule=\"nonzero\" fill-opacity=\"1\" /><path clip-path=\"url(#clip580)\" d=\"M83.9086 654.222 L88.7928 654.222 L88.7928 660.101 L83.9086 660.101 L83.9086 654.222 Z\" fill=\"#000000\" fill-rule=\"nonzero\" fill-opacity=\"1\" /><path clip-path=\"url(#clip580)\" d=\"M108.978 628.62 Q105.367 628.62 103.538 632.185 Q101.733 635.727 101.733 642.856 Q101.733 649.963 103.538 653.527 Q105.367 657.069 108.978 657.069 Q112.612 657.069 114.418 653.527 Q116.246 649.963 116.246 642.856 Q116.246 635.727 114.418 632.185 Q112.612 628.62 108.978 628.62 M108.978 624.916 Q114.788 624.916 117.844 629.523 Q120.922 634.106 120.922 642.856 Q120.922 651.583 117.844 656.189 Q114.788 660.773 108.978 660.773 Q103.168 660.773 100.089 656.189 Q97.0335 651.583 97.0335 642.856 Q97.0335 634.106 100.089 629.523 Q103.168 624.916 108.978 624.916 Z\" fill=\"#000000\" fill-rule=\"nonzero\" fill-opacity=\"1\" /><path clip-path=\"url(#clip580)\" d=\"M157.311 634.639 L146.732 645.263 L157.311 655.842 L154.556 658.643 L143.931 648.018 L133.306 658.643 L130.575 655.842 L141.131 645.263 L130.575 634.639 L133.306 631.838 L143.931 642.463 L154.556 631.838 L157.311 634.639 Z\" fill=\"#000000\" fill-rule=\"nonzero\" fill-opacity=\"1\" /><path clip-path=\"url(#clip580)\" d=\"M169.672 656.166 L177.311 656.166 L177.311 629.801 L169.001 631.467 L169.001 627.208 L177.265 625.541 L181.94 625.541 L181.94 656.166 L189.579 656.166 L189.579 660.101 L169.672 660.101 L169.672 656.166 Z\" fill=\"#000000\" fill-rule=\"nonzero\" fill-opacity=\"1\" /><path clip-path=\"url(#clip580)\" d=\"M209.024 628.62 Q205.413 628.62 203.584 632.185 Q201.778 635.727 201.778 642.856 Q201.778 649.963 203.584 653.527 Q205.413 657.069 209.024 657.069 Q212.658 657.069 214.463 653.527 Q216.292 649.963 216.292 642.856 Q216.292 635.727 214.463 632.185 Q212.658 628.62 209.024 628.62 M209.024 624.916 Q214.834 624.916 217.889 629.523 Q220.968 634.106 220.968 642.856 Q220.968 651.583 217.889 656.189 Q214.834 660.773 209.024 660.773 Q203.214 660.773 200.135 656.189 Q197.079 651.583 197.079 642.856 Q197.079 634.106 200.135 629.523 Q203.214 624.916 209.024 624.916 Z\" fill=\"#000000\" fill-rule=\"nonzero\" fill-opacity=\"1\" /><path clip-path=\"url(#clip580)\" d=\"M233.645 607.921 L224.053 622.911 L233.645 622.911 L233.645 607.921 M232.648 604.611 L237.425 604.611 L237.425 622.911 L241.431 622.911 L241.431 626.071 L237.425 626.071 L237.425 632.691 L233.645 632.691 L233.645 626.071 L220.968 626.071 L220.968 622.403 L232.648 604.611 Z\" fill=\"#000000\" fill-rule=\"nonzero\" fill-opacity=\"1\" /><path clip-path=\"url(#clip580)\" d=\"M66.5939 346.257 L54.7884 364.706 L66.5939 364.706 L66.5939 346.257 M65.367 342.183 L71.2466 342.183 L71.2466 364.706 L76.1772 364.706 L76.1772 368.595 L71.2466 368.595 L71.2466 376.743 L66.5939 376.743 L66.5939 368.595 L50.9921 368.595 L50.9921 364.081 L65.367 342.183 Z\" fill=\"#000000\" fill-rule=\"nonzero\" fill-opacity=\"1\" /><path clip-path=\"url(#clip580)\" d=\"M83.9086 370.864 L88.7928 370.864 L88.7928 376.743 L83.9086 376.743 L83.9086 370.864 Z\" fill=\"#000000\" fill-rule=\"nonzero\" fill-opacity=\"1\" /><path clip-path=\"url(#clip580)\" d=\"M108.978 345.262 Q105.367 345.262 103.538 348.827 Q101.733 352.368 101.733 359.498 Q101.733 366.605 103.538 370.169 Q105.367 373.711 108.978 373.711 Q112.612 373.711 114.418 370.169 Q116.246 366.605 116.246 359.498 Q116.246 352.368 114.418 348.827 Q112.612 345.262 108.978 345.262 M108.978 341.558 Q114.788 341.558 117.844 346.165 Q120.922 350.748 120.922 359.498 Q120.922 368.225 117.844 372.831 Q114.788 377.415 108.978 377.415 Q103.168 377.415 100.089 372.831 Q97.0335 368.225 97.0335 359.498 Q97.0335 350.748 100.089 346.165 Q103.168 341.558 108.978 341.558 Z\" fill=\"#000000\" fill-rule=\"nonzero\" fill-opacity=\"1\" /><path clip-path=\"url(#clip580)\" d=\"M157.311 351.281 L146.732 361.905 L157.311 372.484 L154.556 375.285 L143.931 364.66 L133.306 375.285 L130.575 372.484 L141.131 361.905 L130.575 351.281 L133.306 348.48 L143.931 359.105 L154.556 348.48 L157.311 351.281 Z\" fill=\"#000000\" fill-rule=\"nonzero\" fill-opacity=\"1\" /><path clip-path=\"url(#clip580)\" d=\"M169.672 372.808 L177.311 372.808 L177.311 346.443 L169.001 348.109 L169.001 343.85 L177.265 342.183 L181.94 342.183 L181.94 372.808 L189.579 372.808 L189.579 376.743 L169.672 376.743 L169.672 372.808 Z\" fill=\"#000000\" fill-rule=\"nonzero\" fill-opacity=\"1\" /><path clip-path=\"url(#clip580)\" d=\"M209.024 345.262 Q205.413 345.262 203.584 348.827 Q201.778 352.368 201.778 359.498 Q201.778 366.605 203.584 370.169 Q205.413 373.711 209.024 373.711 Q212.658 373.711 214.463 370.169 Q216.292 366.605 216.292 359.498 Q216.292 352.368 214.463 348.827 Q212.658 345.262 209.024 345.262 M209.024 341.558 Q214.834 341.558 217.889 346.165 Q220.968 350.748 220.968 359.498 Q220.968 368.225 217.889 372.831 Q214.834 377.415 209.024 377.415 Q203.214 377.415 200.135 372.831 Q197.079 368.225 197.079 359.498 Q197.079 350.748 200.135 346.165 Q203.214 341.558 209.024 341.558 Z\" fill=\"#000000\" fill-rule=\"nonzero\" fill-opacity=\"1\" /><path clip-path=\"url(#clip580)\" d=\"M233.645 324.563 L224.053 339.553 L233.645 339.553 L233.645 324.563 M232.648 321.253 L237.425 321.253 L237.425 339.553 L241.431 339.553 L241.431 342.713 L237.425 342.713 L237.425 349.333 L233.645 349.333 L233.645 342.713 L220.968 342.713 L220.968 339.045 L232.648 321.253 Z\" fill=\"#000000\" fill-rule=\"nonzero\" fill-opacity=\"1\" /><path clip-path=\"url(#clip580)\" d=\"M53.793 58.8253 L72.1494 58.8253 L72.1494 62.7605 L58.0754 62.7605 L58.0754 71.2327 Q59.0939 70.8854 60.1124 70.7234 Q61.131 70.5382 62.1495 70.5382 Q67.9365 70.5382 71.3161 73.7095 Q74.6957 76.8808 74.6957 82.2974 Q74.6957 87.8761 71.2235 90.9779 Q67.7513 94.0566 61.4319 94.0566 Q59.256 94.0566 56.9875 93.6862 Q54.7421 93.3159 52.3347 92.5751 L52.3347 87.8761 Q54.418 89.0103 56.6402 89.5659 Q58.8625 90.1214 61.3393 90.1214 Q65.3439 90.1214 67.6819 88.015 Q70.0198 85.9085 70.0198 82.2974 Q70.0198 78.6863 67.6819 76.5798 Q65.3439 74.4734 61.3393 74.4734 Q59.4643 74.4734 57.5893 74.89 Q55.7375 75.3067 53.793 76.1863 L53.793 58.8253 Z\" fill=\"#000000\" fill-rule=\"nonzero\" fill-opacity=\"1\" /><path clip-path=\"url(#clip580)\" d=\"M83.9086 87.5057 L88.7928 87.5057 L88.7928 93.3853 L83.9086 93.3853 L83.9086 87.5057 Z\" fill=\"#000000\" fill-rule=\"nonzero\" fill-opacity=\"1\" /><path clip-path=\"url(#clip580)\" d=\"M108.978 61.904 Q105.367 61.904 103.538 65.4688 Q101.733 69.0104 101.733 76.14 Q101.733 83.2465 103.538 86.8113 Q105.367 90.3529 108.978 90.3529 Q112.612 90.3529 114.418 86.8113 Q116.246 83.2465 116.246 76.14 Q116.246 69.0104 114.418 65.4688 Q112.612 61.904 108.978 61.904 M108.978 58.2003 Q114.788 58.2003 117.844 62.8068 Q120.922 67.3901 120.922 76.14 Q120.922 84.8668 117.844 89.4733 Q114.788 94.0566 108.978 94.0566 Q103.168 94.0566 100.089 89.4733 Q97.0335 84.8668 97.0335 76.14 Q97.0335 67.3901 100.089 62.8068 Q103.168 58.2003 108.978 58.2003 Z\" fill=\"#000000\" fill-rule=\"nonzero\" fill-opacity=\"1\" /><path clip-path=\"url(#clip580)\" d=\"M157.311 67.9225 L146.732 78.5474 L157.311 89.1261 L154.556 91.927 L143.931 81.302 L133.306 91.927 L130.575 89.1261 L141.131 78.5474 L130.575 67.9225 L133.306 65.1216 L143.931 75.7465 L154.556 65.1216 L157.311 67.9225 Z\" fill=\"#000000\" fill-rule=\"nonzero\" fill-opacity=\"1\" /><path clip-path=\"url(#clip580)\" d=\"M169.672 89.4502 L177.311 89.4502 L177.311 63.0846 L169.001 64.7512 L169.001 60.492 L177.265 58.8253 L181.94 58.8253 L181.94 89.4502 L189.579 89.4502 L189.579 93.3853 L169.672 93.3853 L169.672 89.4502 Z\" fill=\"#000000\" fill-rule=\"nonzero\" fill-opacity=\"1\" /><path clip-path=\"url(#clip580)\" d=\"M209.024 61.904 Q205.413 61.904 203.584 65.4688 Q201.778 69.0104 201.778 76.14 Q201.778 83.2465 203.584 86.8113 Q205.413 90.3529 209.024 90.3529 Q212.658 90.3529 214.463 86.8113 Q216.292 83.2465 216.292 76.14 Q216.292 69.0104 214.463 65.4688 Q212.658 61.904 209.024 61.904 M209.024 58.2003 Q214.834 58.2003 217.889 62.8068 Q220.968 67.3901 220.968 76.14 Q220.968 84.8668 217.889 89.4733 Q214.834 94.0566 209.024 94.0566 Q203.214 94.0566 200.135 89.4733 Q197.079 84.8668 197.079 76.14 Q197.079 67.3901 200.135 62.8068 Q203.214 58.2003 209.024 58.2003 Z\" fill=\"#000000\" fill-rule=\"nonzero\" fill-opacity=\"1\" /><path clip-path=\"url(#clip580)\" d=\"M233.645 41.2051 L224.053 56.1949 L233.645 56.1949 L233.645 41.2051 M232.648 37.8949 L237.425 37.8949 L237.425 56.1949 L241.431 56.1949 L241.431 59.3546 L237.425 59.3546 L237.425 65.9749 L233.645 65.9749 L233.645 59.3546 L220.968 59.3546 L220.968 55.6871 L232.648 37.8949 Z\" fill=\"#000000\" fill-rule=\"nonzero\" fill-opacity=\"1\" /><path clip-path=\"url(#clip582)\" d=\"M391.577 1486.39 L391.577 1486.45 L425.16 1486.45 L425.16 1486.39 L391.577 1486.39 L391.577 1486.39  Z\" fill=\"#009af9\" fill-rule=\"evenodd\" fill-opacity=\"1\"/>\n",
       "<polyline clip-path=\"url(#clip582)\" style=\"stroke:#000000; stroke-linecap:round; stroke-linejoin:round; stroke-width:4; stroke-opacity:1; fill:none\" points=\"391.577,1486.39 391.577,1486.45 425.16,1486.45 425.16,1486.39 391.577,1486.39 \"/>\n",
       "<path clip-path=\"url(#clip582)\" d=\"M425.16 1480.92 L425.16 1486.45 L458.742 1486.45 L458.742 1480.92 L425.16 1480.92 L425.16 1480.92  Z\" fill=\"#009af9\" fill-rule=\"evenodd\" fill-opacity=\"1\"/>\n",
       "<polyline clip-path=\"url(#clip582)\" style=\"stroke:#000000; stroke-linecap:round; stroke-linejoin:round; stroke-width:4; stroke-opacity:1; fill:none\" points=\"425.16,1480.92 425.16,1486.45 458.742,1486.45 458.742,1480.92 425.16,1480.92 \"/>\n",
       "<path clip-path=\"url(#clip582)\" d=\"M458.742 1398.61 L458.742 1486.45 L492.325 1486.45 L492.325 1398.61 L458.742 1398.61 L458.742 1398.61  Z\" fill=\"#009af9\" fill-rule=\"evenodd\" fill-opacity=\"1\"/>\n",
       "<polyline clip-path=\"url(#clip582)\" style=\"stroke:#000000; stroke-linecap:round; stroke-linejoin:round; stroke-width:4; stroke-opacity:1; fill:none\" points=\"458.742,1398.61 458.742,1486.45 492.325,1486.45 492.325,1398.61 458.742,1398.61 \"/>\n",
       "<path clip-path=\"url(#clip582)\" d=\"M492.325 1350.32 L492.325 1486.45 L525.907 1486.45 L525.907 1350.32 L492.325 1350.32 L492.325 1350.32  Z\" fill=\"#009af9\" fill-rule=\"evenodd\" fill-opacity=\"1\"/>\n",
       "<polyline clip-path=\"url(#clip582)\" style=\"stroke:#000000; stroke-linecap:round; stroke-linejoin:round; stroke-width:4; stroke-opacity:1; fill:none\" points=\"492.325,1350.32 492.325,1486.45 525.907,1486.45 525.907,1350.32 492.325,1350.32 \"/>\n",
       "<path clip-path=\"url(#clip582)\" d=\"M525.907 47.2441 L525.907 1486.45 L559.489 1486.45 L559.489 47.2441 L525.907 47.2441 L525.907 47.2441  Z\" fill=\"#009af9\" fill-rule=\"evenodd\" fill-opacity=\"1\"/>\n",
       "<polyline clip-path=\"url(#clip582)\" style=\"stroke:#000000; stroke-linecap:round; stroke-linejoin:round; stroke-width:4; stroke-opacity:1; fill:none\" points=\"525.907,47.2441 525.907,1486.45 559.489,1486.45 559.489,47.2441 525.907,47.2441 \"/>\n",
       "<path clip-path=\"url(#clip582)\" d=\"M559.489 1336.61 L559.489 1486.45 L593.072 1486.45 L593.072 1336.61 L559.489 1336.61 L559.489 1336.61  Z\" fill=\"#009af9\" fill-rule=\"evenodd\" fill-opacity=\"1\"/>\n",
       "<polyline clip-path=\"url(#clip582)\" style=\"stroke:#000000; stroke-linecap:round; stroke-linejoin:round; stroke-width:4; stroke-opacity:1; fill:none\" points=\"559.489,1336.61 559.489,1486.45 593.072,1486.45 593.072,1336.61 559.489,1336.61 \"/>\n",
       "<path clip-path=\"url(#clip582)\" d=\"M593.072 1334.17 L593.072 1486.45 L626.654 1486.45 L626.654 1334.17 L593.072 1334.17 L593.072 1334.17  Z\" fill=\"#009af9\" fill-rule=\"evenodd\" fill-opacity=\"1\"/>\n",
       "<polyline clip-path=\"url(#clip582)\" style=\"stroke:#000000; stroke-linecap:round; stroke-linejoin:round; stroke-width:4; stroke-opacity:1; fill:none\" points=\"593.072,1334.17 593.072,1486.45 626.654,1486.45 626.654,1334.17 593.072,1334.17 \"/>\n",
       "<path clip-path=\"url(#clip582)\" d=\"M626.654 1285.63 L626.654 1486.45 L660.237 1486.45 L660.237 1285.63 L626.654 1285.63 L626.654 1285.63  Z\" fill=\"#009af9\" fill-rule=\"evenodd\" fill-opacity=\"1\"/>\n",
       "<polyline clip-path=\"url(#clip582)\" style=\"stroke:#000000; stroke-linecap:round; stroke-linejoin:round; stroke-width:4; stroke-opacity:1; fill:none\" points=\"626.654,1285.63 626.654,1486.45 660.237,1486.45 660.237,1285.63 626.654,1285.63 \"/>\n",
       "<path clip-path=\"url(#clip582)\" d=\"M660.237 1347.91 L660.237 1486.45 L693.819 1486.45 L693.819 1347.91 L660.237 1347.91 L660.237 1347.91  Z\" fill=\"#009af9\" fill-rule=\"evenodd\" fill-opacity=\"1\"/>\n",
       "<polyline clip-path=\"url(#clip582)\" style=\"stroke:#000000; stroke-linecap:round; stroke-linejoin:round; stroke-width:4; stroke-opacity:1; fill:none\" points=\"660.237,1347.91 660.237,1486.45 693.819,1486.45 693.819,1347.91 660.237,1347.91 \"/>\n",
       "<path clip-path=\"url(#clip582)\" d=\"M693.819 1344.57 L693.819 1486.45 L727.401 1486.45 L727.401 1344.57 L693.819 1344.57 L693.819 1344.57  Z\" fill=\"#009af9\" fill-rule=\"evenodd\" fill-opacity=\"1\"/>\n",
       "<polyline clip-path=\"url(#clip582)\" style=\"stroke:#000000; stroke-linecap:round; stroke-linejoin:round; stroke-width:4; stroke-opacity:1; fill:none\" points=\"693.819,1344.57 693.819,1486.45 727.401,1486.45 727.401,1344.57 693.819,1344.57 \"/>\n",
       "<path clip-path=\"url(#clip582)\" d=\"M727.401 1288.1 L727.401 1486.45 L760.984 1486.45 L760.984 1288.1 L727.401 1288.1 L727.401 1288.1  Z\" fill=\"#009af9\" fill-rule=\"evenodd\" fill-opacity=\"1\"/>\n",
       "<polyline clip-path=\"url(#clip582)\" style=\"stroke:#000000; stroke-linecap:round; stroke-linejoin:round; stroke-width:4; stroke-opacity:1; fill:none\" points=\"727.401,1288.1 727.401,1486.45 760.984,1486.45 760.984,1288.1 727.401,1288.1 \"/>\n",
       "<path clip-path=\"url(#clip582)\" d=\"M760.984 1363.53 L760.984 1486.45 L794.566 1486.45 L794.566 1363.53 L760.984 1363.53 L760.984 1363.53  Z\" fill=\"#009af9\" fill-rule=\"evenodd\" fill-opacity=\"1\"/>\n",
       "<polyline clip-path=\"url(#clip582)\" style=\"stroke:#000000; stroke-linecap:round; stroke-linejoin:round; stroke-width:4; stroke-opacity:1; fill:none\" points=\"760.984,1363.53 760.984,1486.45 794.566,1486.45 794.566,1363.53 760.984,1363.53 \"/>\n",
       "<path clip-path=\"url(#clip582)\" d=\"M794.566 1301.84 L794.566 1486.45 L828.149 1486.45 L828.149 1301.84 L794.566 1301.84 L794.566 1301.84  Z\" fill=\"#009af9\" fill-rule=\"evenodd\" fill-opacity=\"1\"/>\n",
       "<polyline clip-path=\"url(#clip582)\" style=\"stroke:#000000; stroke-linecap:round; stroke-linejoin:round; stroke-width:4; stroke-opacity:1; fill:none\" points=\"794.566,1301.84 794.566,1486.45 828.149,1486.45 828.149,1301.84 794.566,1301.84 \"/>\n",
       "<path clip-path=\"url(#clip582)\" d=\"M828.149 1336.07 L828.149 1486.45 L861.731 1486.45 L861.731 1336.07 L828.149 1336.07 L828.149 1336.07  Z\" fill=\"#009af9\" fill-rule=\"evenodd\" fill-opacity=\"1\"/>\n",
       "<polyline clip-path=\"url(#clip582)\" style=\"stroke:#000000; stroke-linecap:round; stroke-linejoin:round; stroke-width:4; stroke-opacity:1; fill:none\" points=\"828.149,1336.07 828.149,1486.45 861.731,1486.45 861.731,1336.07 828.149,1336.07 \"/>\n",
       "<path clip-path=\"url(#clip582)\" d=\"M861.731 1316.35 L861.731 1486.45 L895.313 1486.45 L895.313 1316.35 L861.731 1316.35 L861.731 1316.35  Z\" fill=\"#009af9\" fill-rule=\"evenodd\" fill-opacity=\"1\"/>\n",
       "<polyline clip-path=\"url(#clip582)\" style=\"stroke:#000000; stroke-linecap:round; stroke-linejoin:round; stroke-width:4; stroke-opacity:1; fill:none\" points=\"861.731,1316.35 861.731,1486.45 895.313,1486.45 895.313,1316.35 861.731,1316.35 \"/>\n",
       "<path clip-path=\"url(#clip582)\" d=\"M895.313 1309.46 L895.313 1486.45 L928.896 1486.45 L928.896 1309.46 L895.313 1309.46 L895.313 1309.46  Z\" fill=\"#009af9\" fill-rule=\"evenodd\" fill-opacity=\"1\"/>\n",
       "<polyline clip-path=\"url(#clip582)\" style=\"stroke:#000000; stroke-linecap:round; stroke-linejoin:round; stroke-width:4; stroke-opacity:1; fill:none\" points=\"895.313,1309.46 895.313,1486.45 928.896,1486.45 928.896,1309.46 895.313,1309.46 \"/>\n",
       "<path clip-path=\"url(#clip582)\" d=\"M928.896 1331.76 L928.896 1486.45 L962.478 1486.45 L962.478 1331.76 L928.896 1331.76 L928.896 1331.76  Z\" fill=\"#009af9\" fill-rule=\"evenodd\" fill-opacity=\"1\"/>\n",
       "<polyline clip-path=\"url(#clip582)\" style=\"stroke:#000000; stroke-linecap:round; stroke-linejoin:round; stroke-width:4; stroke-opacity:1; fill:none\" points=\"928.896,1331.76 928.896,1486.45 962.478,1486.45 962.478,1331.76 928.896,1331.76 \"/>\n",
       "<path clip-path=\"url(#clip582)\" d=\"M962.478 1314.87 L962.478 1486.45 L996.061 1486.45 L996.061 1314.87 L962.478 1314.87 L962.478 1314.87  Z\" fill=\"#009af9\" fill-rule=\"evenodd\" fill-opacity=\"1\"/>\n",
       "<polyline clip-path=\"url(#clip582)\" style=\"stroke:#000000; stroke-linecap:round; stroke-linejoin:round; stroke-width:4; stroke-opacity:1; fill:none\" points=\"962.478,1314.87 962.478,1486.45 996.061,1486.45 996.061,1314.87 962.478,1314.87 \"/>\n",
       "<path clip-path=\"url(#clip582)\" d=\"M996.061 1328.02 L996.061 1486.45 L1029.64 1486.45 L1029.64 1328.02 L996.061 1328.02 L996.061 1328.02  Z\" fill=\"#009af9\" fill-rule=\"evenodd\" fill-opacity=\"1\"/>\n",
       "<polyline clip-path=\"url(#clip582)\" style=\"stroke:#000000; stroke-linecap:round; stroke-linejoin:round; stroke-width:4; stroke-opacity:1; fill:none\" points=\"996.061,1328.02 996.061,1486.45 1029.64,1486.45 1029.64,1328.02 996.061,1328.02 \"/>\n",
       "<path clip-path=\"url(#clip582)\" d=\"M1029.64 1331.65 L1029.64 1486.45 L1063.23 1486.45 L1063.23 1331.65 L1029.64 1331.65 L1029.64 1331.65  Z\" fill=\"#009af9\" fill-rule=\"evenodd\" fill-opacity=\"1\"/>\n",
       "<polyline clip-path=\"url(#clip582)\" style=\"stroke:#000000; stroke-linecap:round; stroke-linejoin:round; stroke-width:4; stroke-opacity:1; fill:none\" points=\"1029.64,1331.65 1029.64,1486.45 1063.23,1486.45 1063.23,1331.65 1029.64,1331.65 \"/>\n",
       "<path clip-path=\"url(#clip582)\" d=\"M1063.23 1334.06 L1063.23 1486.45 L1096.81 1486.45 L1096.81 1334.06 L1063.23 1334.06 L1063.23 1334.06  Z\" fill=\"#009af9\" fill-rule=\"evenodd\" fill-opacity=\"1\"/>\n",
       "<polyline clip-path=\"url(#clip582)\" style=\"stroke:#000000; stroke-linecap:round; stroke-linejoin:round; stroke-width:4; stroke-opacity:1; fill:none\" points=\"1063.23,1334.06 1063.23,1486.45 1096.81,1486.45 1096.81,1334.06 1063.23,1334.06 \"/>\n",
       "<path clip-path=\"url(#clip582)\" d=\"M1096.81 1349.78 L1096.81 1486.45 L1130.39 1486.45 L1130.39 1349.78 L1096.81 1349.78 L1096.81 1349.78  Z\" fill=\"#009af9\" fill-rule=\"evenodd\" fill-opacity=\"1\"/>\n",
       "<polyline clip-path=\"url(#clip582)\" style=\"stroke:#000000; stroke-linecap:round; stroke-linejoin:round; stroke-width:4; stroke-opacity:1; fill:none\" points=\"1096.81,1349.78 1096.81,1486.45 1130.39,1486.45 1130.39,1349.78 1096.81,1349.78 \"/>\n",
       "<path clip-path=\"url(#clip582)\" d=\"M1130.39 1346.44 L1130.39 1486.45 L1163.97 1486.45 L1163.97 1346.44 L1130.39 1346.44 L1130.39 1346.44  Z\" fill=\"#009af9\" fill-rule=\"evenodd\" fill-opacity=\"1\"/>\n",
       "<polyline clip-path=\"url(#clip582)\" style=\"stroke:#000000; stroke-linecap:round; stroke-linejoin:round; stroke-width:4; stroke-opacity:1; fill:none\" points=\"1130.39,1346.44 1130.39,1486.45 1163.97,1486.45 1163.97,1346.44 1130.39,1346.44 \"/>\n",
       "<path clip-path=\"url(#clip582)\" d=\"M1163.97 1348.28 L1163.97 1486.45 L1197.56 1486.45 L1197.56 1348.28 L1163.97 1348.28 L1163.97 1348.28  Z\" fill=\"#009af9\" fill-rule=\"evenodd\" fill-opacity=\"1\"/>\n",
       "<polyline clip-path=\"url(#clip582)\" style=\"stroke:#000000; stroke-linecap:round; stroke-linejoin:round; stroke-width:4; stroke-opacity:1; fill:none\" points=\"1163.97,1348.28 1163.97,1486.45 1197.56,1486.45 1197.56,1348.28 1163.97,1348.28 \"/>\n",
       "<path clip-path=\"url(#clip582)\" d=\"M1197.56 1348.28 L1197.56 1486.45 L1231.14 1486.45 L1231.14 1348.28 L1197.56 1348.28 L1197.56 1348.28  Z\" fill=\"#009af9\" fill-rule=\"evenodd\" fill-opacity=\"1\"/>\n",
       "<polyline clip-path=\"url(#clip582)\" style=\"stroke:#000000; stroke-linecap:round; stroke-linejoin:round; stroke-width:4; stroke-opacity:1; fill:none\" points=\"1197.56,1348.28 1197.56,1486.45 1231.14,1486.45 1231.14,1348.28 1197.56,1348.28 \"/>\n",
       "<path clip-path=\"url(#clip582)\" d=\"M1231.14 1328.25 L1231.14 1486.45 L1264.72 1486.45 L1264.72 1328.25 L1231.14 1328.25 L1231.14 1328.25  Z\" fill=\"#009af9\" fill-rule=\"evenodd\" fill-opacity=\"1\"/>\n",
       "<polyline clip-path=\"url(#clip582)\" style=\"stroke:#000000; stroke-linecap:round; stroke-linejoin:round; stroke-width:4; stroke-opacity:1; fill:none\" points=\"1231.14,1328.25 1231.14,1486.45 1264.72,1486.45 1264.72,1328.25 1231.14,1328.25 \"/>\n",
       "<path clip-path=\"url(#clip582)\" d=\"M1264.72 1334.37 L1264.72 1486.45 L1298.3 1486.45 L1298.3 1334.37 L1264.72 1334.37 L1264.72 1334.37  Z\" fill=\"#009af9\" fill-rule=\"evenodd\" fill-opacity=\"1\"/>\n",
       "<polyline clip-path=\"url(#clip582)\" style=\"stroke:#000000; stroke-linecap:round; stroke-linejoin:round; stroke-width:4; stroke-opacity:1; fill:none\" points=\"1264.72,1334.37 1264.72,1486.45 1298.3,1486.45 1298.3,1334.37 1264.72,1334.37 \"/>\n",
       "<path clip-path=\"url(#clip582)\" d=\"M1298.3 1343.83 L1298.3 1486.45 L1331.88 1486.45 L1331.88 1343.83 L1298.3 1343.83 L1298.3 1343.83  Z\" fill=\"#009af9\" fill-rule=\"evenodd\" fill-opacity=\"1\"/>\n",
       "<polyline clip-path=\"url(#clip582)\" style=\"stroke:#000000; stroke-linecap:round; stroke-linejoin:round; stroke-width:4; stroke-opacity:1; fill:none\" points=\"1298.3,1343.83 1298.3,1486.45 1331.88,1486.45 1331.88,1343.83 1298.3,1343.83 \"/>\n",
       "<path clip-path=\"url(#clip582)\" d=\"M1331.88 1351.65 L1331.88 1486.45 L1365.47 1486.45 L1365.47 1351.65 L1331.88 1351.65 L1331.88 1351.65  Z\" fill=\"#009af9\" fill-rule=\"evenodd\" fill-opacity=\"1\"/>\n",
       "<polyline clip-path=\"url(#clip582)\" style=\"stroke:#000000; stroke-linecap:round; stroke-linejoin:round; stroke-width:4; stroke-opacity:1; fill:none\" points=\"1331.88,1351.65 1331.88,1486.45 1365.47,1486.45 1365.47,1351.65 1331.88,1351.65 \"/>\n",
       "<path clip-path=\"url(#clip582)\" d=\"M1365.47 1375.99 L1365.47 1486.45 L1399.05 1486.45 L1399.05 1375.99 L1365.47 1375.99 L1365.47 1375.99  Z\" fill=\"#009af9\" fill-rule=\"evenodd\" fill-opacity=\"1\"/>\n",
       "<polyline clip-path=\"url(#clip582)\" style=\"stroke:#000000; stroke-linecap:round; stroke-linejoin:round; stroke-width:4; stroke-opacity:1; fill:none\" points=\"1365.47,1375.99 1365.47,1486.45 1399.05,1486.45 1399.05,1375.99 1365.47,1375.99 \"/>\n",
       "<path clip-path=\"url(#clip582)\" d=\"M1399.05 1346.53 L1399.05 1486.45 L1432.63 1486.45 L1432.63 1346.53 L1399.05 1346.53 L1399.05 1346.53  Z\" fill=\"#009af9\" fill-rule=\"evenodd\" fill-opacity=\"1\"/>\n",
       "<polyline clip-path=\"url(#clip582)\" style=\"stroke:#000000; stroke-linecap:round; stroke-linejoin:round; stroke-width:4; stroke-opacity:1; fill:none\" points=\"1399.05,1346.53 1399.05,1486.45 1432.63,1486.45 1432.63,1346.53 1399.05,1346.53 \"/>\n",
       "<path clip-path=\"url(#clip582)\" d=\"M1432.63 1343.21 L1432.63 1486.45 L1466.21 1486.45 L1466.21 1343.21 L1432.63 1343.21 L1432.63 1343.21  Z\" fill=\"#009af9\" fill-rule=\"evenodd\" fill-opacity=\"1\"/>\n",
       "<polyline clip-path=\"url(#clip582)\" style=\"stroke:#000000; stroke-linecap:round; stroke-linejoin:round; stroke-width:4; stroke-opacity:1; fill:none\" points=\"1432.63,1343.21 1432.63,1486.45 1466.21,1486.45 1466.21,1343.21 1432.63,1343.21 \"/>\n",
       "<path clip-path=\"url(#clip582)\" d=\"M1466.21 1361.54 L1466.21 1486.45 L1499.8 1486.45 L1499.8 1361.54 L1466.21 1361.54 L1466.21 1361.54  Z\" fill=\"#009af9\" fill-rule=\"evenodd\" fill-opacity=\"1\"/>\n",
       "<polyline clip-path=\"url(#clip582)\" style=\"stroke:#000000; stroke-linecap:round; stroke-linejoin:round; stroke-width:4; stroke-opacity:1; fill:none\" points=\"1466.21,1361.54 1466.21,1486.45 1499.8,1486.45 1499.8,1361.54 1466.21,1361.54 \"/>\n",
       "<path clip-path=\"url(#clip582)\" d=\"M1499.8 1393.39 L1499.8 1486.45 L1533.38 1486.45 L1533.38 1393.39 L1499.8 1393.39 L1499.8 1393.39  Z\" fill=\"#009af9\" fill-rule=\"evenodd\" fill-opacity=\"1\"/>\n",
       "<polyline clip-path=\"url(#clip582)\" style=\"stroke:#000000; stroke-linecap:round; stroke-linejoin:round; stroke-width:4; stroke-opacity:1; fill:none\" points=\"1499.8,1393.39 1499.8,1486.45 1533.38,1486.45 1533.38,1393.39 1499.8,1393.39 \"/>\n",
       "<path clip-path=\"url(#clip582)\" d=\"M1533.38 1418.1 L1533.38 1486.45 L1566.96 1486.45 L1566.96 1418.1 L1533.38 1418.1 L1533.38 1418.1  Z\" fill=\"#009af9\" fill-rule=\"evenodd\" fill-opacity=\"1\"/>\n",
       "<polyline clip-path=\"url(#clip582)\" style=\"stroke:#000000; stroke-linecap:round; stroke-linejoin:round; stroke-width:4; stroke-opacity:1; fill:none\" points=\"1533.38,1418.1 1533.38,1486.45 1566.96,1486.45 1566.96,1418.1 1533.38,1418.1 \"/>\n",
       "<path clip-path=\"url(#clip582)\" d=\"M1566.96 1436.29 L1566.96 1486.45 L1600.54 1486.45 L1600.54 1436.29 L1566.96 1436.29 L1566.96 1436.29  Z\" fill=\"#009af9\" fill-rule=\"evenodd\" fill-opacity=\"1\"/>\n",
       "<polyline clip-path=\"url(#clip582)\" style=\"stroke:#000000; stroke-linecap:round; stroke-linejoin:round; stroke-width:4; stroke-opacity:1; fill:none\" points=\"1566.96,1436.29 1566.96,1486.45 1600.54,1486.45 1600.54,1436.29 1566.96,1436.29 \"/>\n",
       "<path clip-path=\"url(#clip582)\" d=\"M1600.54 1442.22 L1600.54 1486.45 L1634.13 1486.45 L1634.13 1442.22 L1600.54 1442.22 L1600.54 1442.22  Z\" fill=\"#009af9\" fill-rule=\"evenodd\" fill-opacity=\"1\"/>\n",
       "<polyline clip-path=\"url(#clip582)\" style=\"stroke:#000000; stroke-linecap:round; stroke-linejoin:round; stroke-width:4; stroke-opacity:1; fill:none\" points=\"1600.54,1442.22 1600.54,1486.45 1634.13,1486.45 1634.13,1442.22 1600.54,1442.22 \"/>\n",
       "<path clip-path=\"url(#clip582)\" d=\"M1634.13 1449.92 L1634.13 1486.45 L1667.71 1486.45 L1667.71 1449.92 L1634.13 1449.92 L1634.13 1449.92  Z\" fill=\"#009af9\" fill-rule=\"evenodd\" fill-opacity=\"1\"/>\n",
       "<polyline clip-path=\"url(#clip582)\" style=\"stroke:#000000; stroke-linecap:round; stroke-linejoin:round; stroke-width:4; stroke-opacity:1; fill:none\" points=\"1634.13,1449.92 1634.13,1486.45 1667.71,1486.45 1667.71,1449.92 1634.13,1449.92 \"/>\n",
       "<path clip-path=\"url(#clip582)\" d=\"M1667.71 1453.52 L1667.71 1486.45 L1701.29 1486.45 L1701.29 1453.52 L1667.71 1453.52 L1667.71 1453.52  Z\" fill=\"#009af9\" fill-rule=\"evenodd\" fill-opacity=\"1\"/>\n",
       "<polyline clip-path=\"url(#clip582)\" style=\"stroke:#000000; stroke-linecap:round; stroke-linejoin:round; stroke-width:4; stroke-opacity:1; fill:none\" points=\"1667.71,1453.52 1667.71,1486.45 1701.29,1486.45 1701.29,1453.52 1667.71,1453.52 \"/>\n",
       "<path clip-path=\"url(#clip582)\" d=\"M1701.29 1458.48 L1701.29 1486.45 L1734.87 1486.45 L1734.87 1458.48 L1701.29 1458.48 L1701.29 1458.48  Z\" fill=\"#009af9\" fill-rule=\"evenodd\" fill-opacity=\"1\"/>\n",
       "<polyline clip-path=\"url(#clip582)\" style=\"stroke:#000000; stroke-linecap:round; stroke-linejoin:round; stroke-width:4; stroke-opacity:1; fill:none\" points=\"1701.29,1458.48 1701.29,1486.45 1734.87,1486.45 1734.87,1458.48 1701.29,1458.48 \"/>\n",
       "<path clip-path=\"url(#clip582)\" d=\"M1734.87 1461.68 L1734.87 1486.45 L1768.46 1486.45 L1768.46 1461.68 L1734.87 1461.68 L1734.87 1461.68  Z\" fill=\"#009af9\" fill-rule=\"evenodd\" fill-opacity=\"1\"/>\n",
       "<polyline clip-path=\"url(#clip582)\" style=\"stroke:#000000; stroke-linecap:round; stroke-linejoin:round; stroke-width:4; stroke-opacity:1; fill:none\" points=\"1734.87,1461.68 1734.87,1486.45 1768.46,1486.45 1768.46,1461.68 1734.87,1461.68 \"/>\n",
       "<path clip-path=\"url(#clip582)\" d=\"M1768.46 1462.14 L1768.46 1486.45 L1802.04 1486.45 L1802.04 1462.14 L1768.46 1462.14 L1768.46 1462.14  Z\" fill=\"#009af9\" fill-rule=\"evenodd\" fill-opacity=\"1\"/>\n",
       "<polyline clip-path=\"url(#clip582)\" style=\"stroke:#000000; stroke-linecap:round; stroke-linejoin:round; stroke-width:4; stroke-opacity:1; fill:none\" points=\"1768.46,1462.14 1768.46,1486.45 1802.04,1486.45 1802.04,1462.14 1768.46,1462.14 \"/>\n",
       "<path clip-path=\"url(#clip582)\" d=\"M1802.04 1465.22 L1802.04 1486.45 L1835.62 1486.45 L1835.62 1465.22 L1802.04 1465.22 L1802.04 1465.22  Z\" fill=\"#009af9\" fill-rule=\"evenodd\" fill-opacity=\"1\"/>\n",
       "<polyline clip-path=\"url(#clip582)\" style=\"stroke:#000000; stroke-linecap:round; stroke-linejoin:round; stroke-width:4; stroke-opacity:1; fill:none\" points=\"1802.04,1465.22 1802.04,1486.45 1835.62,1486.45 1835.62,1465.22 1802.04,1465.22 \"/>\n",
       "<path clip-path=\"url(#clip582)\" d=\"M1835.62 1467.94 L1835.62 1486.45 L1869.2 1486.45 L1869.2 1467.94 L1835.62 1467.94 L1835.62 1467.94  Z\" fill=\"#009af9\" fill-rule=\"evenodd\" fill-opacity=\"1\"/>\n",
       "<polyline clip-path=\"url(#clip582)\" style=\"stroke:#000000; stroke-linecap:round; stroke-linejoin:round; stroke-width:4; stroke-opacity:1; fill:none\" points=\"1835.62,1467.94 1835.62,1486.45 1869.2,1486.45 1869.2,1467.94 1835.62,1467.94 \"/>\n",
       "<path clip-path=\"url(#clip582)\" d=\"M1869.2 1469.16 L1869.2 1486.45 L1902.79 1486.45 L1902.79 1469.16 L1869.2 1469.16 L1869.2 1469.16  Z\" fill=\"#009af9\" fill-rule=\"evenodd\" fill-opacity=\"1\"/>\n",
       "<polyline clip-path=\"url(#clip582)\" style=\"stroke:#000000; stroke-linecap:round; stroke-linejoin:round; stroke-width:4; stroke-opacity:1; fill:none\" points=\"1869.2,1469.16 1869.2,1486.45 1902.79,1486.45 1902.79,1469.16 1869.2,1469.16 \"/>\n",
       "<path clip-path=\"url(#clip582)\" d=\"M1902.79 1468.74 L1902.79 1486.45 L1936.37 1486.45 L1936.37 1468.74 L1902.79 1468.74 L1902.79 1468.74  Z\" fill=\"#009af9\" fill-rule=\"evenodd\" fill-opacity=\"1\"/>\n",
       "<polyline clip-path=\"url(#clip582)\" style=\"stroke:#000000; stroke-linecap:round; stroke-linejoin:round; stroke-width:4; stroke-opacity:1; fill:none\" points=\"1902.79,1468.74 1902.79,1486.45 1936.37,1486.45 1936.37,1468.74 1902.79,1468.74 \"/>\n",
       "<path clip-path=\"url(#clip582)\" d=\"M1936.37 1469.7 L1936.37 1486.45 L1969.95 1486.45 L1969.95 1469.7 L1936.37 1469.7 L1936.37 1469.7  Z\" fill=\"#009af9\" fill-rule=\"evenodd\" fill-opacity=\"1\"/>\n",
       "<polyline clip-path=\"url(#clip582)\" style=\"stroke:#000000; stroke-linecap:round; stroke-linejoin:round; stroke-width:4; stroke-opacity:1; fill:none\" points=\"1936.37,1469.7 1936.37,1486.45 1969.95,1486.45 1969.95,1469.7 1936.37,1469.7 \"/>\n",
       "<path clip-path=\"url(#clip582)\" d=\"M1969.95 1468.62 L1969.95 1486.45 L2003.53 1486.45 L2003.53 1468.62 L1969.95 1468.62 L1969.95 1468.62  Z\" fill=\"#009af9\" fill-rule=\"evenodd\" fill-opacity=\"1\"/>\n",
       "<polyline clip-path=\"url(#clip582)\" style=\"stroke:#000000; stroke-linecap:round; stroke-linejoin:round; stroke-width:4; stroke-opacity:1; fill:none\" points=\"1969.95,1468.62 1969.95,1486.45 2003.53,1486.45 2003.53,1468.62 1969.95,1468.62 \"/>\n",
       "<path clip-path=\"url(#clip582)\" d=\"M2003.53 1468.96 L2003.53 1486.45 L2037.11 1486.45 L2037.11 1468.96 L2003.53 1468.96 L2003.53 1468.96  Z\" fill=\"#009af9\" fill-rule=\"evenodd\" fill-opacity=\"1\"/>\n",
       "<polyline clip-path=\"url(#clip582)\" style=\"stroke:#000000; stroke-linecap:round; stroke-linejoin:round; stroke-width:4; stroke-opacity:1; fill:none\" points=\"2003.53,1468.96 2003.53,1486.45 2037.11,1486.45 2037.11,1468.96 2003.53,1468.96 \"/>\n",
       "<path clip-path=\"url(#clip582)\" d=\"M2037.11 1470.64 L2037.11 1486.45 L2070.7 1486.45 L2070.7 1470.64 L2037.11 1470.64 L2037.11 1470.64  Z\" fill=\"#009af9\" fill-rule=\"evenodd\" fill-opacity=\"1\"/>\n",
       "<polyline clip-path=\"url(#clip582)\" style=\"stroke:#000000; stroke-linecap:round; stroke-linejoin:round; stroke-width:4; stroke-opacity:1; fill:none\" points=\"2037.11,1470.64 2037.11,1486.45 2070.7,1486.45 2070.7,1470.64 2037.11,1470.64 \"/>\n",
       "<path clip-path=\"url(#clip582)\" d=\"M2070.7 1473.44 L2070.7 1486.45 L2104.28 1486.45 L2104.28 1473.44 L2070.7 1473.44 L2070.7 1473.44  Z\" fill=\"#009af9\" fill-rule=\"evenodd\" fill-opacity=\"1\"/>\n",
       "<polyline clip-path=\"url(#clip582)\" style=\"stroke:#000000; stroke-linecap:round; stroke-linejoin:round; stroke-width:4; stroke-opacity:1; fill:none\" points=\"2070.7,1473.44 2070.7,1486.45 2104.28,1486.45 2104.28,1473.44 2070.7,1473.44 \"/>\n",
       "<path clip-path=\"url(#clip582)\" d=\"M2104.28 1477.86 L2104.28 1486.45 L2137.86 1486.45 L2137.86 1477.86 L2104.28 1477.86 L2104.28 1477.86  Z\" fill=\"#009af9\" fill-rule=\"evenodd\" fill-opacity=\"1\"/>\n",
       "<polyline clip-path=\"url(#clip582)\" style=\"stroke:#000000; stroke-linecap:round; stroke-linejoin:round; stroke-width:4; stroke-opacity:1; fill:none\" points=\"2104.28,1477.86 2104.28,1486.45 2137.86,1486.45 2137.86,1477.86 2104.28,1477.86 \"/>\n",
       "<path clip-path=\"url(#clip582)\" d=\"M2137.86 1481.46 L2137.86 1486.45 L2171.44 1486.45 L2171.44 1481.46 L2137.86 1481.46 L2137.86 1481.46  Z\" fill=\"#009af9\" fill-rule=\"evenodd\" fill-opacity=\"1\"/>\n",
       "<polyline clip-path=\"url(#clip582)\" style=\"stroke:#000000; stroke-linecap:round; stroke-linejoin:round; stroke-width:4; stroke-opacity:1; fill:none\" points=\"2137.86,1481.46 2137.86,1486.45 2171.44,1486.45 2171.44,1481.46 2137.86,1481.46 \"/>\n",
       "<path clip-path=\"url(#clip582)\" d=\"M2171.44 1484.8 L2171.44 1486.45 L2205.03 1486.45 L2205.03 1484.8 L2171.44 1484.8 L2171.44 1484.8  Z\" fill=\"#009af9\" fill-rule=\"evenodd\" fill-opacity=\"1\"/>\n",
       "<polyline clip-path=\"url(#clip582)\" style=\"stroke:#000000; stroke-linecap:round; stroke-linejoin:round; stroke-width:4; stroke-opacity:1; fill:none\" points=\"2171.44,1484.8 2171.44,1486.45 2205.03,1486.45 2205.03,1484.8 2171.44,1484.8 \"/>\n",
       "<path clip-path=\"url(#clip582)\" d=\"M2205.03 1486.36 L2205.03 1486.45 L2238.61 1486.45 L2238.61 1486.36 L2205.03 1486.36 L2205.03 1486.36  Z\" fill=\"#009af9\" fill-rule=\"evenodd\" fill-opacity=\"1\"/>\n",
       "<polyline clip-path=\"url(#clip582)\" style=\"stroke:#000000; stroke-linecap:round; stroke-linejoin:round; stroke-width:4; stroke-opacity:1; fill:none\" points=\"2205.03,1486.36 2205.03,1486.45 2238.61,1486.45 2238.61,1486.36 2205.03,1486.36 \"/>\n",
       "<circle clip-path=\"url(#clip582)\" style=\"fill:#009af9; stroke:none; fill-opacity:0\" cx=\"408.369\" cy=\"1486.39\" r=\"2\"/>\n",
       "<circle clip-path=\"url(#clip582)\" style=\"fill:#009af9; stroke:none; fill-opacity:0\" cx=\"441.951\" cy=\"1480.92\" r=\"2\"/>\n",
       "<circle clip-path=\"url(#clip582)\" style=\"fill:#009af9; stroke:none; fill-opacity:0\" cx=\"475.533\" cy=\"1398.61\" r=\"2\"/>\n",
       "<circle clip-path=\"url(#clip582)\" style=\"fill:#009af9; stroke:none; fill-opacity:0\" cx=\"509.116\" cy=\"1350.32\" r=\"2\"/>\n",
       "<circle clip-path=\"url(#clip582)\" style=\"fill:#009af9; stroke:none; fill-opacity:0\" cx=\"542.698\" cy=\"47.2441\" r=\"2\"/>\n",
       "<circle clip-path=\"url(#clip582)\" style=\"fill:#009af9; stroke:none; fill-opacity:0\" cx=\"576.281\" cy=\"1336.61\" r=\"2\"/>\n",
       "<circle clip-path=\"url(#clip582)\" style=\"fill:#009af9; stroke:none; fill-opacity:0\" cx=\"609.863\" cy=\"1334.17\" r=\"2\"/>\n",
       "<circle clip-path=\"url(#clip582)\" style=\"fill:#009af9; stroke:none; fill-opacity:0\" cx=\"643.445\" cy=\"1285.63\" r=\"2\"/>\n",
       "<circle clip-path=\"url(#clip582)\" style=\"fill:#009af9; stroke:none; fill-opacity:0\" cx=\"677.028\" cy=\"1347.91\" r=\"2\"/>\n",
       "<circle clip-path=\"url(#clip582)\" style=\"fill:#009af9; stroke:none; fill-opacity:0\" cx=\"710.61\" cy=\"1344.57\" r=\"2\"/>\n",
       "<circle clip-path=\"url(#clip582)\" style=\"fill:#009af9; stroke:none; fill-opacity:0\" cx=\"744.193\" cy=\"1288.1\" r=\"2\"/>\n",
       "<circle clip-path=\"url(#clip582)\" style=\"fill:#009af9; stroke:none; fill-opacity:0\" cx=\"777.775\" cy=\"1363.53\" r=\"2\"/>\n",
       "<circle clip-path=\"url(#clip582)\" style=\"fill:#009af9; stroke:none; fill-opacity:0\" cx=\"811.357\" cy=\"1301.84\" r=\"2\"/>\n",
       "<circle clip-path=\"url(#clip582)\" style=\"fill:#009af9; stroke:none; fill-opacity:0\" cx=\"844.94\" cy=\"1336.07\" r=\"2\"/>\n",
       "<circle clip-path=\"url(#clip582)\" style=\"fill:#009af9; stroke:none; fill-opacity:0\" cx=\"878.522\" cy=\"1316.35\" r=\"2\"/>\n",
       "<circle clip-path=\"url(#clip582)\" style=\"fill:#009af9; stroke:none; fill-opacity:0\" cx=\"912.105\" cy=\"1309.46\" r=\"2\"/>\n",
       "<circle clip-path=\"url(#clip582)\" style=\"fill:#009af9; stroke:none; fill-opacity:0\" cx=\"945.687\" cy=\"1331.76\" r=\"2\"/>\n",
       "<circle clip-path=\"url(#clip582)\" style=\"fill:#009af9; stroke:none; fill-opacity:0\" cx=\"979.269\" cy=\"1314.87\" r=\"2\"/>\n",
       "<circle clip-path=\"url(#clip582)\" style=\"fill:#009af9; stroke:none; fill-opacity:0\" cx=\"1012.85\" cy=\"1328.02\" r=\"2\"/>\n",
       "<circle clip-path=\"url(#clip582)\" style=\"fill:#009af9; stroke:none; fill-opacity:0\" cx=\"1046.43\" cy=\"1331.65\" r=\"2\"/>\n",
       "<circle clip-path=\"url(#clip582)\" style=\"fill:#009af9; stroke:none; fill-opacity:0\" cx=\"1080.02\" cy=\"1334.06\" r=\"2\"/>\n",
       "<circle clip-path=\"url(#clip582)\" style=\"fill:#009af9; stroke:none; fill-opacity:0\" cx=\"1113.6\" cy=\"1349.78\" r=\"2\"/>\n",
       "<circle clip-path=\"url(#clip582)\" style=\"fill:#009af9; stroke:none; fill-opacity:0\" cx=\"1147.18\" cy=\"1346.44\" r=\"2\"/>\n",
       "<circle clip-path=\"url(#clip582)\" style=\"fill:#009af9; stroke:none; fill-opacity:0\" cx=\"1180.76\" cy=\"1348.28\" r=\"2\"/>\n",
       "<circle clip-path=\"url(#clip582)\" style=\"fill:#009af9; stroke:none; fill-opacity:0\" cx=\"1214.35\" cy=\"1348.28\" r=\"2\"/>\n",
       "<circle clip-path=\"url(#clip582)\" style=\"fill:#009af9; stroke:none; fill-opacity:0\" cx=\"1247.93\" cy=\"1328.25\" r=\"2\"/>\n",
       "<circle clip-path=\"url(#clip582)\" style=\"fill:#009af9; stroke:none; fill-opacity:0\" cx=\"1281.51\" cy=\"1334.37\" r=\"2\"/>\n",
       "<circle clip-path=\"url(#clip582)\" style=\"fill:#009af9; stroke:none; fill-opacity:0\" cx=\"1315.09\" cy=\"1343.83\" r=\"2\"/>\n",
       "<circle clip-path=\"url(#clip582)\" style=\"fill:#009af9; stroke:none; fill-opacity:0\" cx=\"1348.68\" cy=\"1351.65\" r=\"2\"/>\n",
       "<circle clip-path=\"url(#clip582)\" style=\"fill:#009af9; stroke:none; fill-opacity:0\" cx=\"1382.26\" cy=\"1375.99\" r=\"2\"/>\n",
       "<circle clip-path=\"url(#clip582)\" style=\"fill:#009af9; stroke:none; fill-opacity:0\" cx=\"1415.84\" cy=\"1346.53\" r=\"2\"/>\n",
       "<circle clip-path=\"url(#clip582)\" style=\"fill:#009af9; stroke:none; fill-opacity:0\" cx=\"1449.42\" cy=\"1343.21\" r=\"2\"/>\n",
       "<circle clip-path=\"url(#clip582)\" style=\"fill:#009af9; stroke:none; fill-opacity:0\" cx=\"1483.01\" cy=\"1361.54\" r=\"2\"/>\n",
       "<circle clip-path=\"url(#clip582)\" style=\"fill:#009af9; stroke:none; fill-opacity:0\" cx=\"1516.59\" cy=\"1393.39\" r=\"2\"/>\n",
       "<circle clip-path=\"url(#clip582)\" style=\"fill:#009af9; stroke:none; fill-opacity:0\" cx=\"1550.17\" cy=\"1418.1\" r=\"2\"/>\n",
       "<circle clip-path=\"url(#clip582)\" style=\"fill:#009af9; stroke:none; fill-opacity:0\" cx=\"1583.75\" cy=\"1436.29\" r=\"2\"/>\n",
       "<circle clip-path=\"url(#clip582)\" style=\"fill:#009af9; stroke:none; fill-opacity:0\" cx=\"1617.33\" cy=\"1442.22\" r=\"2\"/>\n",
       "<circle clip-path=\"url(#clip582)\" style=\"fill:#009af9; stroke:none; fill-opacity:0\" cx=\"1650.92\" cy=\"1449.92\" r=\"2\"/>\n",
       "<circle clip-path=\"url(#clip582)\" style=\"fill:#009af9; stroke:none; fill-opacity:0\" cx=\"1684.5\" cy=\"1453.52\" r=\"2\"/>\n",
       "<circle clip-path=\"url(#clip582)\" style=\"fill:#009af9; stroke:none; fill-opacity:0\" cx=\"1718.08\" cy=\"1458.48\" r=\"2\"/>\n",
       "<circle clip-path=\"url(#clip582)\" style=\"fill:#009af9; stroke:none; fill-opacity:0\" cx=\"1751.66\" cy=\"1461.68\" r=\"2\"/>\n",
       "<circle clip-path=\"url(#clip582)\" style=\"fill:#009af9; stroke:none; fill-opacity:0\" cx=\"1785.25\" cy=\"1462.14\" r=\"2\"/>\n",
       "<circle clip-path=\"url(#clip582)\" style=\"fill:#009af9; stroke:none; fill-opacity:0\" cx=\"1818.83\" cy=\"1465.22\" r=\"2\"/>\n",
       "<circle clip-path=\"url(#clip582)\" style=\"fill:#009af9; stroke:none; fill-opacity:0\" cx=\"1852.41\" cy=\"1467.94\" r=\"2\"/>\n",
       "<circle clip-path=\"url(#clip582)\" style=\"fill:#009af9; stroke:none; fill-opacity:0\" cx=\"1885.99\" cy=\"1469.16\" r=\"2\"/>\n",
       "<circle clip-path=\"url(#clip582)\" style=\"fill:#009af9; stroke:none; fill-opacity:0\" cx=\"1919.58\" cy=\"1468.74\" r=\"2\"/>\n",
       "<circle clip-path=\"url(#clip582)\" style=\"fill:#009af9; stroke:none; fill-opacity:0\" cx=\"1953.16\" cy=\"1469.7\" r=\"2\"/>\n",
       "<circle clip-path=\"url(#clip582)\" style=\"fill:#009af9; stroke:none; fill-opacity:0\" cx=\"1986.74\" cy=\"1468.62\" r=\"2\"/>\n",
       "<circle clip-path=\"url(#clip582)\" style=\"fill:#009af9; stroke:none; fill-opacity:0\" cx=\"2020.32\" cy=\"1468.96\" r=\"2\"/>\n",
       "<circle clip-path=\"url(#clip582)\" style=\"fill:#009af9; stroke:none; fill-opacity:0\" cx=\"2053.91\" cy=\"1470.64\" r=\"2\"/>\n",
       "<circle clip-path=\"url(#clip582)\" style=\"fill:#009af9; stroke:none; fill-opacity:0\" cx=\"2087.49\" cy=\"1473.44\" r=\"2\"/>\n",
       "<circle clip-path=\"url(#clip582)\" style=\"fill:#009af9; stroke:none; fill-opacity:0\" cx=\"2121.07\" cy=\"1477.86\" r=\"2\"/>\n",
       "<circle clip-path=\"url(#clip582)\" style=\"fill:#009af9; stroke:none; fill-opacity:0\" cx=\"2154.65\" cy=\"1481.46\" r=\"2\"/>\n",
       "<circle clip-path=\"url(#clip582)\" style=\"fill:#009af9; stroke:none; fill-opacity:0\" cx=\"2188.24\" cy=\"1484.8\" r=\"2\"/>\n",
       "<circle clip-path=\"url(#clip582)\" style=\"fill:#009af9; stroke:none; fill-opacity:0\" cx=\"2221.82\" cy=\"1486.36\" r=\"2\"/>\n",
       "<path clip-path=\"url(#clip580)\" d=\"M2023.62 198.898 L2283.58 198.898 L2283.58 95.2176 L2023.62 95.2176  Z\" fill=\"#ffffff\" fill-rule=\"evenodd\" fill-opacity=\"1\"/>\n",
       "<polyline clip-path=\"url(#clip580)\" style=\"stroke:#000000; stroke-linecap:round; stroke-linejoin:round; stroke-width:4; stroke-opacity:1; fill:none\" points=\"2023.62,198.898 2283.58,198.898 2283.58,95.2176 2023.62,95.2176 2023.62,198.898 \"/>\n",
       "<path clip-path=\"url(#clip580)\" d=\"M2046.67 167.794 L2185.03 167.794 L2185.03 126.322 L2046.67 126.322 L2046.67 167.794  Z\" fill=\"#009af9\" fill-rule=\"evenodd\" fill-opacity=\"1\"/>\n",
       "<polyline clip-path=\"url(#clip580)\" style=\"stroke:#000000; stroke-linecap:round; stroke-linejoin:round; stroke-width:4; stroke-opacity:1; fill:none\" points=\"2046.67,167.794 2185.03,167.794 2185.03,126.322 2046.67,126.322 2046.67,167.794 \"/>\n",
       "<path clip-path=\"url(#clip580)\" d=\"M2221.93 166.745 Q2220.13 171.375 2218.41 172.787 Q2216.7 174.199 2213.83 174.199 L2210.43 174.199 L2210.43 170.634 L2212.93 170.634 Q2214.69 170.634 2215.66 169.8 Q2216.63 168.967 2217.81 165.865 L2218.58 163.921 L2208.09 138.412 L2212.6 138.412 L2220.7 158.689 L2228.81 138.412 L2233.32 138.412 L2221.93 166.745 Z\" fill=\"#000000\" fill-rule=\"nonzero\" fill-opacity=\"1\" /><path clip-path=\"url(#clip580)\" d=\"M2240.61 160.402 L2248.25 160.402 L2248.25 134.037 L2239.94 135.703 L2239.94 131.444 L2248.2 129.778 L2252.88 129.778 L2252.88 160.402 L2260.52 160.402 L2260.52 164.338 L2240.61 164.338 L2240.61 160.402 Z\" fill=\"#000000\" fill-rule=\"nonzero\" fill-opacity=\"1\" /></svg>\n"
      ],
      "text/html": [
       "<?xml version=\"1.0\" encoding=\"utf-8\"?>\n",
       "<svg xmlns=\"http://www.w3.org/2000/svg\" xmlns:xlink=\"http://www.w3.org/1999/xlink\" width=\"600\" height=\"400\" viewBox=\"0 0 2400 1600\">\n",
       "<defs>\n",
       "  <clipPath id=\"clip630\">\n",
       "    <rect x=\"0\" y=\"0\" width=\"2400\" height=\"1600\"/>\n",
       "  </clipPath>\n",
       "</defs>\n",
       "<path clip-path=\"url(#clip630)\" d=\"M0 1600 L2400 1600 L2400 0 L0 0  Z\" fill=\"#ffffff\" fill-rule=\"evenodd\" fill-opacity=\"1\"/>\n",
       "<defs>\n",
       "  <clipPath id=\"clip631\">\n",
       "    <rect x=\"480\" y=\"0\" width=\"1681\" height=\"1600\"/>\n",
       "  </clipPath>\n",
       "</defs>\n",
       "<path clip-path=\"url(#clip630)\" d=\"M277.431 1486.45 L2352.76 1486.45 L2352.76 47.2441 L277.431 47.2441  Z\" fill=\"#ffffff\" fill-rule=\"evenodd\" fill-opacity=\"1\"/>\n",
       "<defs>\n",
       "  <clipPath id=\"clip632\">\n",
       "    <rect x=\"277\" y=\"47\" width=\"2076\" height=\"1440\"/>\n",
       "  </clipPath>\n",
       "</defs>\n",
       "<polyline clip-path=\"url(#clip632)\" style=\"stroke:#000000; stroke-linecap:round; stroke-linejoin:round; stroke-width:2; stroke-opacity:0.1; fill:none\" points=\"559.489,1486.45 559.489,47.2441 \"/>\n",
       "<polyline clip-path=\"url(#clip632)\" style=\"stroke:#000000; stroke-linecap:round; stroke-linejoin:round; stroke-width:2; stroke-opacity:0.1; fill:none\" points=\"979.269,1486.45 979.269,47.2441 \"/>\n",
       "<polyline clip-path=\"url(#clip632)\" style=\"stroke:#000000; stroke-linecap:round; stroke-linejoin:round; stroke-width:2; stroke-opacity:0.1; fill:none\" points=\"1399.05,1486.45 1399.05,47.2441 \"/>\n",
       "<polyline clip-path=\"url(#clip632)\" style=\"stroke:#000000; stroke-linecap:round; stroke-linejoin:round; stroke-width:2; stroke-opacity:0.1; fill:none\" points=\"1818.83,1486.45 1818.83,47.2441 \"/>\n",
       "<polyline clip-path=\"url(#clip632)\" style=\"stroke:#000000; stroke-linecap:round; stroke-linejoin:round; stroke-width:2; stroke-opacity:0.1; fill:none\" points=\"2238.61,1486.45 2238.61,47.2441 \"/>\n",
       "<polyline clip-path=\"url(#clip632)\" style=\"stroke:#000000; stroke-linecap:round; stroke-linejoin:round; stroke-width:2; stroke-opacity:0.1; fill:none\" points=\"277.431,1486.45 2352.76,1486.45 \"/>\n",
       "<polyline clip-path=\"url(#clip632)\" style=\"stroke:#000000; stroke-linecap:round; stroke-linejoin:round; stroke-width:2; stroke-opacity:0.1; fill:none\" points=\"277.431,1203.09 2352.76,1203.09 \"/>\n",
       "<polyline clip-path=\"url(#clip632)\" style=\"stroke:#000000; stroke-linecap:round; stroke-linejoin:round; stroke-width:2; stroke-opacity:0.1; fill:none\" points=\"277.431,919.732 2352.76,919.732 \"/>\n",
       "<polyline clip-path=\"url(#clip632)\" style=\"stroke:#000000; stroke-linecap:round; stroke-linejoin:round; stroke-width:2; stroke-opacity:0.1; fill:none\" points=\"277.431,636.374 2352.76,636.374 \"/>\n",
       "<polyline clip-path=\"url(#clip632)\" style=\"stroke:#000000; stroke-linecap:round; stroke-linejoin:round; stroke-width:2; stroke-opacity:0.1; fill:none\" points=\"277.431,353.016 2352.76,353.016 \"/>\n",
       "<polyline clip-path=\"url(#clip632)\" style=\"stroke:#000000; stroke-linecap:round; stroke-linejoin:round; stroke-width:2; stroke-opacity:0.1; fill:none\" points=\"277.431,69.6577 2352.76,69.6577 \"/>\n",
       "<polyline clip-path=\"url(#clip630)\" style=\"stroke:#000000; stroke-linecap:round; stroke-linejoin:round; stroke-width:4; stroke-opacity:1; fill:none\" points=\"277.431,1486.45 2352.76,1486.45 \"/>\n",
       "<polyline clip-path=\"url(#clip630)\" style=\"stroke:#000000; stroke-linecap:round; stroke-linejoin:round; stroke-width:4; stroke-opacity:1; fill:none\" points=\"559.489,1486.45 559.489,1467.55 \"/>\n",
       "<polyline clip-path=\"url(#clip630)\" style=\"stroke:#000000; stroke-linecap:round; stroke-linejoin:round; stroke-width:4; stroke-opacity:1; fill:none\" points=\"979.269,1486.45 979.269,1467.55 \"/>\n",
       "<polyline clip-path=\"url(#clip630)\" style=\"stroke:#000000; stroke-linecap:round; stroke-linejoin:round; stroke-width:4; stroke-opacity:1; fill:none\" points=\"1399.05,1486.45 1399.05,1467.55 \"/>\n",
       "<polyline clip-path=\"url(#clip630)\" style=\"stroke:#000000; stroke-linecap:round; stroke-linejoin:round; stroke-width:4; stroke-opacity:1; fill:none\" points=\"1818.83,1486.45 1818.83,1467.55 \"/>\n",
       "<polyline clip-path=\"url(#clip630)\" style=\"stroke:#000000; stroke-linecap:round; stroke-linejoin:round; stroke-width:4; stroke-opacity:1; fill:none\" points=\"2238.61,1486.45 2238.61,1467.55 \"/>\n",
       "<path clip-path=\"url(#clip630)\" d=\"M521.793 1517.37 Q518.182 1517.37 516.353 1520.93 Q514.548 1524.47 514.548 1531.6 Q514.548 1538.71 516.353 1542.27 Q518.182 1545.82 521.793 1545.82 Q525.427 1545.82 527.233 1542.27 Q529.061 1538.71 529.061 1531.6 Q529.061 1524.47 527.233 1520.93 Q525.427 1517.37 521.793 1517.37 M521.793 1513.66 Q527.603 1513.66 530.659 1518.27 Q533.737 1522.85 533.737 1531.6 Q533.737 1540.33 530.659 1544.94 Q527.603 1549.52 521.793 1549.52 Q515.983 1549.52 512.904 1544.94 Q509.849 1540.33 509.849 1531.6 Q509.849 1522.85 512.904 1518.27 Q515.983 1513.66 521.793 1513.66 Z\" fill=\"#000000\" fill-rule=\"nonzero\" fill-opacity=\"1\" /><path clip-path=\"url(#clip630)\" d=\"M541.955 1542.97 L546.839 1542.97 L546.839 1548.85 L541.955 1548.85 L541.955 1542.97 Z\" fill=\"#000000\" fill-rule=\"nonzero\" fill-opacity=\"1\" /><path clip-path=\"url(#clip630)\" d=\"M567.024 1517.37 Q563.413 1517.37 561.584 1520.93 Q559.779 1524.47 559.779 1531.6 Q559.779 1538.71 561.584 1542.27 Q563.413 1545.82 567.024 1545.82 Q570.658 1545.82 572.464 1542.27 Q574.293 1538.71 574.293 1531.6 Q574.293 1524.47 572.464 1520.93 Q570.658 1517.37 567.024 1517.37 M567.024 1513.66 Q572.834 1513.66 575.89 1518.27 Q578.969 1522.85 578.969 1531.6 Q578.969 1540.33 575.89 1544.94 Q572.834 1549.52 567.024 1549.52 Q561.214 1549.52 558.135 1544.94 Q555.08 1540.33 555.08 1531.6 Q555.08 1522.85 558.135 1518.27 Q561.214 1513.66 567.024 1513.66 Z\" fill=\"#000000\" fill-rule=\"nonzero\" fill-opacity=\"1\" /><path clip-path=\"url(#clip630)\" d=\"M597.186 1517.37 Q593.575 1517.37 591.746 1520.93 Q589.941 1524.47 589.941 1531.6 Q589.941 1538.71 591.746 1542.27 Q593.575 1545.82 597.186 1545.82 Q600.82 1545.82 602.626 1542.27 Q604.455 1538.71 604.455 1531.6 Q604.455 1524.47 602.626 1520.93 Q600.82 1517.37 597.186 1517.37 M597.186 1513.66 Q602.996 1513.66 606.052 1518.27 Q609.13 1522.85 609.13 1531.6 Q609.13 1540.33 606.052 1544.94 Q602.996 1549.52 597.186 1549.52 Q591.376 1549.52 588.297 1544.94 Q585.242 1540.33 585.242 1531.6 Q585.242 1522.85 588.297 1518.27 Q591.376 1513.66 597.186 1513.66 Z\" fill=\"#000000\" fill-rule=\"nonzero\" fill-opacity=\"1\" /><path clip-path=\"url(#clip630)\" d=\"M942.071 1517.37 Q938.459 1517.37 936.631 1520.93 Q934.825 1524.47 934.825 1531.6 Q934.825 1538.71 936.631 1542.27 Q938.459 1545.82 942.071 1545.82 Q945.705 1545.82 947.51 1542.27 Q949.339 1538.71 949.339 1531.6 Q949.339 1524.47 947.51 1520.93 Q945.705 1517.37 942.071 1517.37 M942.071 1513.66 Q947.881 1513.66 950.936 1518.27 Q954.015 1522.85 954.015 1531.6 Q954.015 1540.33 950.936 1544.94 Q947.881 1549.52 942.071 1549.52 Q936.26 1549.52 933.182 1544.94 Q930.126 1540.33 930.126 1531.6 Q930.126 1522.85 933.182 1518.27 Q936.26 1513.66 942.071 1513.66 Z\" fill=\"#000000\" fill-rule=\"nonzero\" fill-opacity=\"1\" /><path clip-path=\"url(#clip630)\" d=\"M962.232 1542.97 L967.117 1542.97 L967.117 1548.85 L962.232 1548.85 L962.232 1542.97 Z\" fill=\"#000000\" fill-rule=\"nonzero\" fill-opacity=\"1\" /><path clip-path=\"url(#clip630)\" d=\"M981.33 1544.91 L997.649 1544.91 L997.649 1548.85 L975.705 1548.85 L975.705 1544.91 Q978.367 1542.16 982.95 1537.53 Q987.556 1532.88 988.737 1531.53 Q990.982 1529.01 991.862 1527.27 Q992.765 1525.51 992.765 1523.82 Q992.765 1521.07 990.82 1519.33 Q988.899 1517.6 985.797 1517.6 Q983.598 1517.6 981.144 1518.36 Q978.714 1519.13 975.936 1520.68 L975.936 1515.95 Q978.76 1514.82 981.214 1514.24 Q983.668 1513.66 985.705 1513.66 Q991.075 1513.66 994.269 1516.35 Q997.464 1519.03 997.464 1523.52 Q997.464 1525.65 996.654 1527.57 Q995.867 1529.47 993.76 1532.07 Q993.181 1532.74 990.08 1535.95 Q986.978 1539.15 981.33 1544.91 Z\" fill=\"#000000\" fill-rule=\"nonzero\" fill-opacity=\"1\" /><path clip-path=\"url(#clip630)\" d=\"M1007.51 1514.29 L1025.87 1514.29 L1025.87 1518.22 L1011.79 1518.22 L1011.79 1526.7 Q1012.81 1526.35 1013.83 1526.19 Q1014.85 1526 1015.87 1526 Q1021.65 1526 1025.03 1529.17 Q1028.41 1532.34 1028.41 1537.76 Q1028.41 1543.34 1024.94 1546.44 Q1021.47 1549.52 1015.15 1549.52 Q1012.97 1549.52 1010.7 1549.15 Q1008.46 1548.78 1006.05 1548.04 L1006.05 1543.34 Q1008.14 1544.47 1010.36 1545.03 Q1012.58 1545.58 1015.06 1545.58 Q1019.06 1545.58 1021.4 1543.48 Q1023.74 1541.37 1023.74 1537.76 Q1023.74 1534.15 1021.4 1532.04 Q1019.06 1529.94 1015.06 1529.94 Q1013.18 1529.94 1011.31 1530.35 Q1009.45 1530.77 1007.51 1531.65 L1007.51 1514.29 Z\" fill=\"#000000\" fill-rule=\"nonzero\" fill-opacity=\"1\" /><path clip-path=\"url(#clip630)\" d=\"M1361.35 1517.37 Q1357.74 1517.37 1355.91 1520.93 Q1354.11 1524.47 1354.11 1531.6 Q1354.11 1538.71 1355.91 1542.27 Q1357.74 1545.82 1361.35 1545.82 Q1364.99 1545.82 1366.79 1542.27 Q1368.62 1538.71 1368.62 1531.6 Q1368.62 1524.47 1366.79 1520.93 Q1364.99 1517.37 1361.35 1517.37 M1361.35 1513.66 Q1367.16 1513.66 1370.22 1518.27 Q1373.3 1522.85 1373.3 1531.6 Q1373.3 1540.33 1370.22 1544.94 Q1367.16 1549.52 1361.35 1549.52 Q1355.54 1549.52 1352.46 1544.94 Q1349.41 1540.33 1349.41 1531.6 Q1349.41 1522.85 1352.46 1518.27 Q1355.54 1513.66 1361.35 1513.66 Z\" fill=\"#000000\" fill-rule=\"nonzero\" fill-opacity=\"1\" /><path clip-path=\"url(#clip630)\" d=\"M1381.51 1542.97 L1386.4 1542.97 L1386.4 1548.85 L1381.51 1548.85 L1381.51 1542.97 Z\" fill=\"#000000\" fill-rule=\"nonzero\" fill-opacity=\"1\" /><path clip-path=\"url(#clip630)\" d=\"M1396.63 1514.29 L1414.99 1514.29 L1414.99 1518.22 L1400.91 1518.22 L1400.91 1526.7 Q1401.93 1526.35 1402.95 1526.19 Q1403.97 1526 1404.99 1526 Q1410.77 1526 1414.15 1529.17 Q1417.53 1532.34 1417.53 1537.76 Q1417.53 1543.34 1414.06 1546.44 Q1410.59 1549.52 1404.27 1549.52 Q1402.09 1549.52 1399.82 1549.15 Q1397.58 1548.78 1395.17 1548.04 L1395.17 1543.34 Q1397.26 1544.47 1399.48 1545.03 Q1401.7 1545.58 1404.18 1545.58 Q1408.18 1545.58 1410.52 1543.48 Q1412.86 1541.37 1412.86 1537.76 Q1412.86 1534.15 1410.52 1532.04 Q1408.18 1529.94 1404.18 1529.94 Q1402.3 1529.94 1400.43 1530.35 Q1398.57 1530.77 1396.63 1531.65 L1396.63 1514.29 Z\" fill=\"#000000\" fill-rule=\"nonzero\" fill-opacity=\"1\" /><path clip-path=\"url(#clip630)\" d=\"M1436.75 1517.37 Q1433.13 1517.37 1431.31 1520.93 Q1429.5 1524.47 1429.5 1531.6 Q1429.5 1538.71 1431.31 1542.27 Q1433.13 1545.82 1436.75 1545.82 Q1440.38 1545.82 1442.19 1542.27 Q1444.01 1538.71 1444.01 1531.6 Q1444.01 1524.47 1442.19 1520.93 Q1440.38 1517.37 1436.75 1517.37 M1436.75 1513.66 Q1442.56 1513.66 1445.61 1518.27 Q1448.69 1522.85 1448.69 1531.6 Q1448.69 1540.33 1445.61 1544.94 Q1442.56 1549.52 1436.75 1549.52 Q1430.94 1549.52 1427.86 1544.94 Q1424.8 1540.33 1424.8 1531.6 Q1424.8 1522.85 1427.86 1518.27 Q1430.94 1513.66 1436.75 1513.66 Z\" fill=\"#000000\" fill-rule=\"nonzero\" fill-opacity=\"1\" /><path clip-path=\"url(#clip630)\" d=\"M1781.63 1517.37 Q1778.02 1517.37 1776.19 1520.93 Q1774.39 1524.47 1774.39 1531.6 Q1774.39 1538.71 1776.19 1542.27 Q1778.02 1545.82 1781.63 1545.82 Q1785.26 1545.82 1787.07 1542.27 Q1788.9 1538.71 1788.9 1531.6 Q1788.9 1524.47 1787.07 1520.93 Q1785.26 1517.37 1781.63 1517.37 M1781.63 1513.66 Q1787.44 1513.66 1790.5 1518.27 Q1793.57 1522.85 1793.57 1531.6 Q1793.57 1540.33 1790.5 1544.94 Q1787.44 1549.52 1781.63 1549.52 Q1775.82 1549.52 1772.74 1544.94 Q1769.69 1540.33 1769.69 1531.6 Q1769.69 1522.85 1772.74 1518.27 Q1775.82 1513.66 1781.63 1513.66 Z\" fill=\"#000000\" fill-rule=\"nonzero\" fill-opacity=\"1\" /><path clip-path=\"url(#clip630)\" d=\"M1801.79 1542.97 L1806.68 1542.97 L1806.68 1548.85 L1801.79 1548.85 L1801.79 1542.97 Z\" fill=\"#000000\" fill-rule=\"nonzero\" fill-opacity=\"1\" /><path clip-path=\"url(#clip630)\" d=\"M1815.68 1514.29 L1837.9 1514.29 L1837.9 1516.28 L1825.36 1548.85 L1820.47 1548.85 L1832.28 1518.22 L1815.68 1518.22 L1815.68 1514.29 Z\" fill=\"#000000\" fill-rule=\"nonzero\" fill-opacity=\"1\" /><path clip-path=\"url(#clip630)\" d=\"M1847.07 1514.29 L1865.43 1514.29 L1865.43 1518.22 L1851.35 1518.22 L1851.35 1526.7 Q1852.37 1526.35 1853.39 1526.19 Q1854.41 1526 1855.43 1526 Q1861.21 1526 1864.59 1529.17 Q1867.97 1532.34 1867.97 1537.76 Q1867.97 1543.34 1864.5 1546.44 Q1861.03 1549.52 1854.71 1549.52 Q1852.53 1549.52 1850.26 1549.15 Q1848.02 1548.78 1845.61 1548.04 L1845.61 1543.34 Q1847.69 1544.47 1849.92 1545.03 Q1852.14 1545.58 1854.62 1545.58 Q1858.62 1545.58 1860.96 1543.48 Q1863.3 1541.37 1863.3 1537.76 Q1863.3 1534.15 1860.96 1532.04 Q1858.62 1529.94 1854.62 1529.94 Q1852.74 1529.94 1850.87 1530.35 Q1849.01 1530.77 1847.07 1531.65 L1847.07 1514.29 Z\" fill=\"#000000\" fill-rule=\"nonzero\" fill-opacity=\"1\" /><path clip-path=\"url(#clip630)\" d=\"M2190.68 1544.91 L2198.32 1544.91 L2198.32 1518.55 L2190.01 1520.21 L2190.01 1515.95 L2198.27 1514.29 L2202.95 1514.29 L2202.95 1544.91 L2210.59 1544.91 L2210.59 1548.85 L2190.68 1548.85 L2190.68 1544.91 Z\" fill=\"#000000\" fill-rule=\"nonzero\" fill-opacity=\"1\" /><path clip-path=\"url(#clip630)\" d=\"M2220.03 1542.97 L2224.92 1542.97 L2224.92 1548.85 L2220.03 1548.85 L2220.03 1542.97 Z\" fill=\"#000000\" fill-rule=\"nonzero\" fill-opacity=\"1\" /><path clip-path=\"url(#clip630)\" d=\"M2245.1 1517.37 Q2241.49 1517.37 2239.66 1520.93 Q2237.86 1524.47 2237.86 1531.6 Q2237.86 1538.71 2239.66 1542.27 Q2241.49 1545.82 2245.1 1545.82 Q2248.74 1545.82 2250.54 1542.27 Q2252.37 1538.71 2252.37 1531.6 Q2252.37 1524.47 2250.54 1520.93 Q2248.74 1517.37 2245.1 1517.37 M2245.1 1513.66 Q2250.91 1513.66 2253.97 1518.27 Q2257.05 1522.85 2257.05 1531.6 Q2257.05 1540.33 2253.97 1544.94 Q2250.91 1549.52 2245.1 1549.52 Q2239.29 1549.52 2236.21 1544.94 Q2233.16 1540.33 2233.16 1531.6 Q2233.16 1522.85 2236.21 1518.27 Q2239.29 1513.66 2245.1 1513.66 Z\" fill=\"#000000\" fill-rule=\"nonzero\" fill-opacity=\"1\" /><path clip-path=\"url(#clip630)\" d=\"M2275.26 1517.37 Q2271.65 1517.37 2269.82 1520.93 Q2268.02 1524.47 2268.02 1531.6 Q2268.02 1538.71 2269.82 1542.27 Q2271.65 1545.82 2275.26 1545.82 Q2278.9 1545.82 2280.7 1542.27 Q2282.53 1538.71 2282.53 1531.6 Q2282.53 1524.47 2280.7 1520.93 Q2278.9 1517.37 2275.26 1517.37 M2275.26 1513.66 Q2281.07 1513.66 2284.13 1518.27 Q2287.21 1522.85 2287.21 1531.6 Q2287.21 1540.33 2284.13 1544.94 Q2281.07 1549.52 2275.26 1549.52 Q2269.45 1549.52 2266.38 1544.94 Q2263.32 1540.33 2263.32 1531.6 Q2263.32 1522.85 2266.38 1518.27 Q2269.45 1513.66 2275.26 1513.66 Z\" fill=\"#000000\" fill-rule=\"nonzero\" fill-opacity=\"1\" /><polyline clip-path=\"url(#clip630)\" style=\"stroke:#000000; stroke-linecap:round; stroke-linejoin:round; stroke-width:4; stroke-opacity:1; fill:none\" points=\"277.431,1486.45 277.431,47.2441 \"/>\n",
       "<polyline clip-path=\"url(#clip630)\" style=\"stroke:#000000; stroke-linecap:round; stroke-linejoin:round; stroke-width:4; stroke-opacity:1; fill:none\" points=\"277.431,1486.45 296.329,1486.45 \"/>\n",
       "<polyline clip-path=\"url(#clip630)\" style=\"stroke:#000000; stroke-linecap:round; stroke-linejoin:round; stroke-width:4; stroke-opacity:1; fill:none\" points=\"277.431,1203.09 296.329,1203.09 \"/>\n",
       "<polyline clip-path=\"url(#clip630)\" style=\"stroke:#000000; stroke-linecap:round; stroke-linejoin:round; stroke-width:4; stroke-opacity:1; fill:none\" points=\"277.431,919.732 296.329,919.732 \"/>\n",
       "<polyline clip-path=\"url(#clip630)\" style=\"stroke:#000000; stroke-linecap:round; stroke-linejoin:round; stroke-width:4; stroke-opacity:1; fill:none\" points=\"277.431,636.374 296.329,636.374 \"/>\n",
       "<polyline clip-path=\"url(#clip630)\" style=\"stroke:#000000; stroke-linecap:round; stroke-linejoin:round; stroke-width:4; stroke-opacity:1; fill:none\" points=\"277.431,353.016 296.329,353.016 \"/>\n",
       "<polyline clip-path=\"url(#clip630)\" style=\"stroke:#000000; stroke-linecap:round; stroke-linejoin:round; stroke-width:4; stroke-opacity:1; fill:none\" points=\"277.431,69.6577 296.329,69.6577 \"/>\n",
       "<path clip-path=\"url(#clip630)\" d=\"M229.487 1472.25 Q225.875 1472.25 224.047 1475.81 Q222.241 1479.35 222.241 1486.48 Q222.241 1493.59 224.047 1497.15 Q225.875 1500.7 229.487 1500.7 Q233.121 1500.7 234.926 1497.15 Q236.755 1493.59 236.755 1486.48 Q236.755 1479.35 234.926 1475.81 Q233.121 1472.25 229.487 1472.25 M229.487 1468.54 Q235.297 1468.54 238.352 1473.15 Q241.431 1477.73 241.431 1486.48 Q241.431 1495.21 238.352 1499.82 Q235.297 1504.4 229.487 1504.4 Q223.676 1504.4 220.598 1499.82 Q217.542 1495.21 217.542 1486.48 Q217.542 1477.73 220.598 1473.15 Q223.676 1468.54 229.487 1468.54 Z\" fill=\"#000000\" fill-rule=\"nonzero\" fill-opacity=\"1\" /><path clip-path=\"url(#clip630)\" d=\"M54.5569 1222.88 L62.1958 1222.88 L62.1958 1196.52 L53.8856 1198.18 L53.8856 1193.92 L62.1495 1192.26 L66.8254 1192.26 L66.8254 1222.88 L74.4642 1222.88 L74.4642 1226.82 L54.5569 1226.82 L54.5569 1222.88 Z\" fill=\"#000000\" fill-rule=\"nonzero\" fill-opacity=\"1\" /><path clip-path=\"url(#clip630)\" d=\"M83.9086 1220.94 L88.7928 1220.94 L88.7928 1226.82 L83.9086 1226.82 L83.9086 1220.94 Z\" fill=\"#000000\" fill-rule=\"nonzero\" fill-opacity=\"1\" /><path clip-path=\"url(#clip630)\" d=\"M108.978 1195.34 Q105.367 1195.34 103.538 1198.9 Q101.733 1202.44 101.733 1209.57 Q101.733 1216.68 103.538 1220.24 Q105.367 1223.79 108.978 1223.79 Q112.612 1223.79 114.418 1220.24 Q116.246 1216.68 116.246 1209.57 Q116.246 1202.44 114.418 1198.9 Q112.612 1195.34 108.978 1195.34 M108.978 1191.63 Q114.788 1191.63 117.844 1196.24 Q120.922 1200.82 120.922 1209.57 Q120.922 1218.3 117.844 1222.91 Q114.788 1227.49 108.978 1227.49 Q103.168 1227.49 100.089 1222.91 Q97.0335 1218.3 97.0335 1209.57 Q97.0335 1200.82 100.089 1196.24 Q103.168 1191.63 108.978 1191.63 Z\" fill=\"#000000\" fill-rule=\"nonzero\" fill-opacity=\"1\" /><path clip-path=\"url(#clip630)\" d=\"M157.311 1201.35 L146.732 1211.98 L157.311 1222.56 L154.556 1225.36 L143.931 1214.73 L133.306 1225.36 L130.575 1222.56 L141.131 1211.98 L130.575 1201.35 L133.306 1198.55 L143.931 1209.18 L154.556 1198.55 L157.311 1201.35 Z\" fill=\"#000000\" fill-rule=\"nonzero\" fill-opacity=\"1\" /><path clip-path=\"url(#clip630)\" d=\"M169.672 1222.88 L177.311 1222.88 L177.311 1196.52 L169.001 1198.18 L169.001 1193.92 L177.265 1192.26 L181.94 1192.26 L181.94 1222.88 L189.579 1222.88 L189.579 1226.82 L169.672 1226.82 L169.672 1222.88 Z\" fill=\"#000000\" fill-rule=\"nonzero\" fill-opacity=\"1\" /><path clip-path=\"url(#clip630)\" d=\"M209.024 1195.34 Q205.413 1195.34 203.584 1198.9 Q201.778 1202.44 201.778 1209.57 Q201.778 1216.68 203.584 1220.24 Q205.413 1223.79 209.024 1223.79 Q212.658 1223.79 214.463 1220.24 Q216.292 1216.68 216.292 1209.57 Q216.292 1202.44 214.463 1198.9 Q212.658 1195.34 209.024 1195.34 M209.024 1191.63 Q214.834 1191.63 217.889 1196.24 Q220.968 1200.82 220.968 1209.57 Q220.968 1218.3 217.889 1222.91 Q214.834 1227.49 209.024 1227.49 Q203.214 1227.49 200.135 1222.91 Q197.079 1218.3 197.079 1209.57 Q197.079 1200.82 200.135 1196.24 Q203.214 1191.63 209.024 1191.63 Z\" fill=\"#000000\" fill-rule=\"nonzero\" fill-opacity=\"1\" /><path clip-path=\"url(#clip630)\" d=\"M233.645 1174.64 L224.053 1189.63 L233.645 1189.63 L233.645 1174.64 M232.648 1171.33 L237.425 1171.33 L237.425 1189.63 L241.431 1189.63 L241.431 1192.79 L237.425 1192.79 L237.425 1199.41 L233.645 1199.41 L233.645 1192.79 L220.968 1192.79 L220.968 1189.12 L232.648 1171.33 Z\" fill=\"#000000\" fill-rule=\"nonzero\" fill-opacity=\"1\" /><path clip-path=\"url(#clip630)\" d=\"M57.7745 939.524 L74.0939 939.524 L74.0939 943.459 L52.1495 943.459 L52.1495 939.524 Q54.8115 936.77 59.3949 932.14 Q64.0013 927.487 65.1819 926.145 Q67.4272 923.622 68.3068 921.885 Q69.2096 920.126 69.2096 918.436 Q69.2096 915.682 67.2652 913.946 Q65.3439 912.21 62.2421 912.21 Q60.043 912.21 57.5893 912.973 Q55.1588 913.737 52.381 915.288 L52.381 910.566 Q55.2051 909.432 57.6588 908.853 Q60.1124 908.274 62.1495 908.274 Q67.5198 908.274 70.7142 910.96 Q73.9087 913.645 73.9087 918.135 Q73.9087 920.265 73.0985 922.186 Q72.3115 924.085 70.205 926.677 Q69.6263 927.348 66.5245 930.566 Q63.4226 933.76 57.7745 939.524 Z\" fill=\"#000000\" fill-rule=\"nonzero\" fill-opacity=\"1\" /><path clip-path=\"url(#clip630)\" d=\"M83.9086 937.58 L88.7928 937.58 L88.7928 943.459 L83.9086 943.459 L83.9086 937.58 Z\" fill=\"#000000\" fill-rule=\"nonzero\" fill-opacity=\"1\" /><path clip-path=\"url(#clip630)\" d=\"M108.978 911.978 Q105.367 911.978 103.538 915.543 Q101.733 919.085 101.733 926.214 Q101.733 933.321 103.538 936.885 Q105.367 940.427 108.978 940.427 Q112.612 940.427 114.418 936.885 Q116.246 933.321 116.246 926.214 Q116.246 919.085 114.418 915.543 Q112.612 911.978 108.978 911.978 M108.978 908.274 Q114.788 908.274 117.844 912.881 Q120.922 917.464 120.922 926.214 Q120.922 934.941 117.844 939.547 Q114.788 944.131 108.978 944.131 Q103.168 944.131 100.089 939.547 Q97.0335 934.941 97.0335 926.214 Q97.0335 917.464 100.089 912.881 Q103.168 908.274 108.978 908.274 Z\" fill=\"#000000\" fill-rule=\"nonzero\" fill-opacity=\"1\" /><path clip-path=\"url(#clip630)\" d=\"M157.311 917.997 L146.732 928.622 L157.311 939.2 L154.556 942.001 L143.931 931.376 L133.306 942.001 L130.575 939.2 L141.131 928.622 L130.575 917.997 L133.306 915.196 L143.931 925.821 L154.556 915.196 L157.311 917.997 Z\" fill=\"#000000\" fill-rule=\"nonzero\" fill-opacity=\"1\" /><path clip-path=\"url(#clip630)\" d=\"M169.672 939.524 L177.311 939.524 L177.311 913.159 L169.001 914.825 L169.001 910.566 L177.265 908.899 L181.94 908.899 L181.94 939.524 L189.579 939.524 L189.579 943.459 L169.672 943.459 L169.672 939.524 Z\" fill=\"#000000\" fill-rule=\"nonzero\" fill-opacity=\"1\" /><path clip-path=\"url(#clip630)\" d=\"M209.024 911.978 Q205.413 911.978 203.584 915.543 Q201.778 919.085 201.778 926.214 Q201.778 933.321 203.584 936.885 Q205.413 940.427 209.024 940.427 Q212.658 940.427 214.463 936.885 Q216.292 933.321 216.292 926.214 Q216.292 919.085 214.463 915.543 Q212.658 911.978 209.024 911.978 M209.024 908.274 Q214.834 908.274 217.889 912.881 Q220.968 917.464 220.968 926.214 Q220.968 934.941 217.889 939.547 Q214.834 944.131 209.024 944.131 Q203.214 944.131 200.135 939.547 Q197.079 934.941 197.079 926.214 Q197.079 917.464 200.135 912.881 Q203.214 908.274 209.024 908.274 Z\" fill=\"#000000\" fill-rule=\"nonzero\" fill-opacity=\"1\" /><path clip-path=\"url(#clip630)\" d=\"M233.645 891.279 L224.053 906.269 L233.645 906.269 L233.645 891.279 M232.648 887.969 L237.425 887.969 L237.425 906.269 L241.431 906.269 L241.431 909.429 L237.425 909.429 L237.425 916.049 L233.645 916.049 L233.645 909.429 L220.968 909.429 L220.968 905.761 L232.648 887.969 Z\" fill=\"#000000\" fill-rule=\"nonzero\" fill-opacity=\"1\" /><path clip-path=\"url(#clip630)\" d=\"M67.9133 641.467 Q71.2698 642.185 73.1448 644.453 Q75.0429 646.722 75.0429 650.055 Q75.0429 655.171 71.5244 657.972 Q68.0059 660.773 61.5245 660.773 Q59.3486 660.773 57.0338 660.333 Q54.7421 659.916 52.2884 659.06 L52.2884 654.546 Q54.2328 655.68 56.5477 656.259 Q58.8625 656.838 61.3856 656.838 Q65.7837 656.838 68.0754 655.101 Q70.3902 653.365 70.3902 650.055 Q70.3902 647 68.2374 645.287 Q66.1078 643.551 62.2884 643.551 L58.2606 643.551 L58.2606 639.708 L62.4735 639.708 Q65.9226 639.708 67.7513 638.342 Q69.58 636.953 69.58 634.361 Q69.58 631.699 67.6819 630.287 Q65.8069 628.852 62.2884 628.852 Q60.3671 628.852 58.168 629.268 Q55.969 629.685 53.3301 630.564 L53.3301 626.398 Q55.9921 625.657 58.3069 625.287 Q60.6449 624.916 62.705 624.916 Q68.0291 624.916 71.1309 627.347 Q74.2327 629.754 74.2327 633.875 Q74.2327 636.745 72.5892 638.736 Q70.9457 640.703 67.9133 641.467 Z\" fill=\"#000000\" fill-rule=\"nonzero\" fill-opacity=\"1\" /><path clip-path=\"url(#clip630)\" d=\"M83.9086 654.222 L88.7928 654.222 L88.7928 660.101 L83.9086 660.101 L83.9086 654.222 Z\" fill=\"#000000\" fill-rule=\"nonzero\" fill-opacity=\"1\" /><path clip-path=\"url(#clip630)\" d=\"M108.978 628.62 Q105.367 628.62 103.538 632.185 Q101.733 635.727 101.733 642.856 Q101.733 649.963 103.538 653.527 Q105.367 657.069 108.978 657.069 Q112.612 657.069 114.418 653.527 Q116.246 649.963 116.246 642.856 Q116.246 635.727 114.418 632.185 Q112.612 628.62 108.978 628.62 M108.978 624.916 Q114.788 624.916 117.844 629.523 Q120.922 634.106 120.922 642.856 Q120.922 651.583 117.844 656.189 Q114.788 660.773 108.978 660.773 Q103.168 660.773 100.089 656.189 Q97.0335 651.583 97.0335 642.856 Q97.0335 634.106 100.089 629.523 Q103.168 624.916 108.978 624.916 Z\" fill=\"#000000\" fill-rule=\"nonzero\" fill-opacity=\"1\" /><path clip-path=\"url(#clip630)\" d=\"M157.311 634.639 L146.732 645.263 L157.311 655.842 L154.556 658.643 L143.931 648.018 L133.306 658.643 L130.575 655.842 L141.131 645.263 L130.575 634.639 L133.306 631.838 L143.931 642.463 L154.556 631.838 L157.311 634.639 Z\" fill=\"#000000\" fill-rule=\"nonzero\" fill-opacity=\"1\" /><path clip-path=\"url(#clip630)\" d=\"M169.672 656.166 L177.311 656.166 L177.311 629.801 L169.001 631.467 L169.001 627.208 L177.265 625.541 L181.94 625.541 L181.94 656.166 L189.579 656.166 L189.579 660.101 L169.672 660.101 L169.672 656.166 Z\" fill=\"#000000\" fill-rule=\"nonzero\" fill-opacity=\"1\" /><path clip-path=\"url(#clip630)\" d=\"M209.024 628.62 Q205.413 628.62 203.584 632.185 Q201.778 635.727 201.778 642.856 Q201.778 649.963 203.584 653.527 Q205.413 657.069 209.024 657.069 Q212.658 657.069 214.463 653.527 Q216.292 649.963 216.292 642.856 Q216.292 635.727 214.463 632.185 Q212.658 628.62 209.024 628.62 M209.024 624.916 Q214.834 624.916 217.889 629.523 Q220.968 634.106 220.968 642.856 Q220.968 651.583 217.889 656.189 Q214.834 660.773 209.024 660.773 Q203.214 660.773 200.135 656.189 Q197.079 651.583 197.079 642.856 Q197.079 634.106 200.135 629.523 Q203.214 624.916 209.024 624.916 Z\" fill=\"#000000\" fill-rule=\"nonzero\" fill-opacity=\"1\" /><path clip-path=\"url(#clip630)\" d=\"M233.645 607.921 L224.053 622.911 L233.645 622.911 L233.645 607.921 M232.648 604.611 L237.425 604.611 L237.425 622.911 L241.431 622.911 L241.431 626.071 L237.425 626.071 L237.425 632.691 L233.645 632.691 L233.645 626.071 L220.968 626.071 L220.968 622.403 L232.648 604.611 Z\" fill=\"#000000\" fill-rule=\"nonzero\" fill-opacity=\"1\" /><path clip-path=\"url(#clip630)\" d=\"M66.5939 346.257 L54.7884 364.706 L66.5939 364.706 L66.5939 346.257 M65.367 342.183 L71.2466 342.183 L71.2466 364.706 L76.1772 364.706 L76.1772 368.595 L71.2466 368.595 L71.2466 376.743 L66.5939 376.743 L66.5939 368.595 L50.9921 368.595 L50.9921 364.081 L65.367 342.183 Z\" fill=\"#000000\" fill-rule=\"nonzero\" fill-opacity=\"1\" /><path clip-path=\"url(#clip630)\" d=\"M83.9086 370.864 L88.7928 370.864 L88.7928 376.743 L83.9086 376.743 L83.9086 370.864 Z\" fill=\"#000000\" fill-rule=\"nonzero\" fill-opacity=\"1\" /><path clip-path=\"url(#clip630)\" d=\"M108.978 345.262 Q105.367 345.262 103.538 348.827 Q101.733 352.368 101.733 359.498 Q101.733 366.605 103.538 370.169 Q105.367 373.711 108.978 373.711 Q112.612 373.711 114.418 370.169 Q116.246 366.605 116.246 359.498 Q116.246 352.368 114.418 348.827 Q112.612 345.262 108.978 345.262 M108.978 341.558 Q114.788 341.558 117.844 346.165 Q120.922 350.748 120.922 359.498 Q120.922 368.225 117.844 372.831 Q114.788 377.415 108.978 377.415 Q103.168 377.415 100.089 372.831 Q97.0335 368.225 97.0335 359.498 Q97.0335 350.748 100.089 346.165 Q103.168 341.558 108.978 341.558 Z\" fill=\"#000000\" fill-rule=\"nonzero\" fill-opacity=\"1\" /><path clip-path=\"url(#clip630)\" d=\"M157.311 351.281 L146.732 361.905 L157.311 372.484 L154.556 375.285 L143.931 364.66 L133.306 375.285 L130.575 372.484 L141.131 361.905 L130.575 351.281 L133.306 348.48 L143.931 359.105 L154.556 348.48 L157.311 351.281 Z\" fill=\"#000000\" fill-rule=\"nonzero\" fill-opacity=\"1\" /><path clip-path=\"url(#clip630)\" d=\"M169.672 372.808 L177.311 372.808 L177.311 346.443 L169.001 348.109 L169.001 343.85 L177.265 342.183 L181.94 342.183 L181.94 372.808 L189.579 372.808 L189.579 376.743 L169.672 376.743 L169.672 372.808 Z\" fill=\"#000000\" fill-rule=\"nonzero\" fill-opacity=\"1\" /><path clip-path=\"url(#clip630)\" d=\"M209.024 345.262 Q205.413 345.262 203.584 348.827 Q201.778 352.368 201.778 359.498 Q201.778 366.605 203.584 370.169 Q205.413 373.711 209.024 373.711 Q212.658 373.711 214.463 370.169 Q216.292 366.605 216.292 359.498 Q216.292 352.368 214.463 348.827 Q212.658 345.262 209.024 345.262 M209.024 341.558 Q214.834 341.558 217.889 346.165 Q220.968 350.748 220.968 359.498 Q220.968 368.225 217.889 372.831 Q214.834 377.415 209.024 377.415 Q203.214 377.415 200.135 372.831 Q197.079 368.225 197.079 359.498 Q197.079 350.748 200.135 346.165 Q203.214 341.558 209.024 341.558 Z\" fill=\"#000000\" fill-rule=\"nonzero\" fill-opacity=\"1\" /><path clip-path=\"url(#clip630)\" d=\"M233.645 324.563 L224.053 339.553 L233.645 339.553 L233.645 324.563 M232.648 321.253 L237.425 321.253 L237.425 339.553 L241.431 339.553 L241.431 342.713 L237.425 342.713 L237.425 349.333 L233.645 349.333 L233.645 342.713 L220.968 342.713 L220.968 339.045 L232.648 321.253 Z\" fill=\"#000000\" fill-rule=\"nonzero\" fill-opacity=\"1\" /><path clip-path=\"url(#clip630)\" d=\"M53.793 58.8253 L72.1494 58.8253 L72.1494 62.7605 L58.0754 62.7605 L58.0754 71.2327 Q59.0939 70.8854 60.1124 70.7234 Q61.131 70.5382 62.1495 70.5382 Q67.9365 70.5382 71.3161 73.7095 Q74.6957 76.8808 74.6957 82.2974 Q74.6957 87.8761 71.2235 90.9779 Q67.7513 94.0566 61.4319 94.0566 Q59.256 94.0566 56.9875 93.6862 Q54.7421 93.3159 52.3347 92.5751 L52.3347 87.8761 Q54.418 89.0103 56.6402 89.5659 Q58.8625 90.1214 61.3393 90.1214 Q65.3439 90.1214 67.6819 88.015 Q70.0198 85.9085 70.0198 82.2974 Q70.0198 78.6863 67.6819 76.5798 Q65.3439 74.4734 61.3393 74.4734 Q59.4643 74.4734 57.5893 74.89 Q55.7375 75.3067 53.793 76.1863 L53.793 58.8253 Z\" fill=\"#000000\" fill-rule=\"nonzero\" fill-opacity=\"1\" /><path clip-path=\"url(#clip630)\" d=\"M83.9086 87.5057 L88.7928 87.5057 L88.7928 93.3853 L83.9086 93.3853 L83.9086 87.5057 Z\" fill=\"#000000\" fill-rule=\"nonzero\" fill-opacity=\"1\" /><path clip-path=\"url(#clip630)\" d=\"M108.978 61.904 Q105.367 61.904 103.538 65.4688 Q101.733 69.0104 101.733 76.14 Q101.733 83.2465 103.538 86.8113 Q105.367 90.3529 108.978 90.3529 Q112.612 90.3529 114.418 86.8113 Q116.246 83.2465 116.246 76.14 Q116.246 69.0104 114.418 65.4688 Q112.612 61.904 108.978 61.904 M108.978 58.2003 Q114.788 58.2003 117.844 62.8068 Q120.922 67.3901 120.922 76.14 Q120.922 84.8668 117.844 89.4733 Q114.788 94.0566 108.978 94.0566 Q103.168 94.0566 100.089 89.4733 Q97.0335 84.8668 97.0335 76.14 Q97.0335 67.3901 100.089 62.8068 Q103.168 58.2003 108.978 58.2003 Z\" fill=\"#000000\" fill-rule=\"nonzero\" fill-opacity=\"1\" /><path clip-path=\"url(#clip630)\" d=\"M157.311 67.9225 L146.732 78.5474 L157.311 89.1261 L154.556 91.927 L143.931 81.302 L133.306 91.927 L130.575 89.1261 L141.131 78.5474 L130.575 67.9225 L133.306 65.1216 L143.931 75.7465 L154.556 65.1216 L157.311 67.9225 Z\" fill=\"#000000\" fill-rule=\"nonzero\" fill-opacity=\"1\" /><path clip-path=\"url(#clip630)\" d=\"M169.672 89.4502 L177.311 89.4502 L177.311 63.0846 L169.001 64.7512 L169.001 60.492 L177.265 58.8253 L181.94 58.8253 L181.94 89.4502 L189.579 89.4502 L189.579 93.3853 L169.672 93.3853 L169.672 89.4502 Z\" fill=\"#000000\" fill-rule=\"nonzero\" fill-opacity=\"1\" /><path clip-path=\"url(#clip630)\" d=\"M209.024 61.904 Q205.413 61.904 203.584 65.4688 Q201.778 69.0104 201.778 76.14 Q201.778 83.2465 203.584 86.8113 Q205.413 90.3529 209.024 90.3529 Q212.658 90.3529 214.463 86.8113 Q216.292 83.2465 216.292 76.14 Q216.292 69.0104 214.463 65.4688 Q212.658 61.904 209.024 61.904 M209.024 58.2003 Q214.834 58.2003 217.889 62.8068 Q220.968 67.3901 220.968 76.14 Q220.968 84.8668 217.889 89.4733 Q214.834 94.0566 209.024 94.0566 Q203.214 94.0566 200.135 89.4733 Q197.079 84.8668 197.079 76.14 Q197.079 67.3901 200.135 62.8068 Q203.214 58.2003 209.024 58.2003 Z\" fill=\"#000000\" fill-rule=\"nonzero\" fill-opacity=\"1\" /><path clip-path=\"url(#clip630)\" d=\"M233.645 41.2051 L224.053 56.1949 L233.645 56.1949 L233.645 41.2051 M232.648 37.8949 L237.425 37.8949 L237.425 56.1949 L241.431 56.1949 L241.431 59.3546 L237.425 59.3546 L237.425 65.9749 L233.645 65.9749 L233.645 59.3546 L220.968 59.3546 L220.968 55.6871 L232.648 37.8949 Z\" fill=\"#000000\" fill-rule=\"nonzero\" fill-opacity=\"1\" /><path clip-path=\"url(#clip632)\" d=\"M391.577 1486.39 L391.577 1486.45 L425.16 1486.45 L425.16 1486.39 L391.577 1486.39 L391.577 1486.39  Z\" fill=\"#009af9\" fill-rule=\"evenodd\" fill-opacity=\"1\"/>\n",
       "<polyline clip-path=\"url(#clip632)\" style=\"stroke:#000000; stroke-linecap:round; stroke-linejoin:round; stroke-width:4; stroke-opacity:1; fill:none\" points=\"391.577,1486.39 391.577,1486.45 425.16,1486.45 425.16,1486.39 391.577,1486.39 \"/>\n",
       "<path clip-path=\"url(#clip632)\" d=\"M425.16 1480.92 L425.16 1486.45 L458.742 1486.45 L458.742 1480.92 L425.16 1480.92 L425.16 1480.92  Z\" fill=\"#009af9\" fill-rule=\"evenodd\" fill-opacity=\"1\"/>\n",
       "<polyline clip-path=\"url(#clip632)\" style=\"stroke:#000000; stroke-linecap:round; stroke-linejoin:round; stroke-width:4; stroke-opacity:1; fill:none\" points=\"425.16,1480.92 425.16,1486.45 458.742,1486.45 458.742,1480.92 425.16,1480.92 \"/>\n",
       "<path clip-path=\"url(#clip632)\" d=\"M458.742 1398.61 L458.742 1486.45 L492.325 1486.45 L492.325 1398.61 L458.742 1398.61 L458.742 1398.61  Z\" fill=\"#009af9\" fill-rule=\"evenodd\" fill-opacity=\"1\"/>\n",
       "<polyline clip-path=\"url(#clip632)\" style=\"stroke:#000000; stroke-linecap:round; stroke-linejoin:round; stroke-width:4; stroke-opacity:1; fill:none\" points=\"458.742,1398.61 458.742,1486.45 492.325,1486.45 492.325,1398.61 458.742,1398.61 \"/>\n",
       "<path clip-path=\"url(#clip632)\" d=\"M492.325 1350.32 L492.325 1486.45 L525.907 1486.45 L525.907 1350.32 L492.325 1350.32 L492.325 1350.32  Z\" fill=\"#009af9\" fill-rule=\"evenodd\" fill-opacity=\"1\"/>\n",
       "<polyline clip-path=\"url(#clip632)\" style=\"stroke:#000000; stroke-linecap:round; stroke-linejoin:round; stroke-width:4; stroke-opacity:1; fill:none\" points=\"492.325,1350.32 492.325,1486.45 525.907,1486.45 525.907,1350.32 492.325,1350.32 \"/>\n",
       "<path clip-path=\"url(#clip632)\" d=\"M525.907 47.2441 L525.907 1486.45 L559.489 1486.45 L559.489 47.2441 L525.907 47.2441 L525.907 47.2441  Z\" fill=\"#009af9\" fill-rule=\"evenodd\" fill-opacity=\"1\"/>\n",
       "<polyline clip-path=\"url(#clip632)\" style=\"stroke:#000000; stroke-linecap:round; stroke-linejoin:round; stroke-width:4; stroke-opacity:1; fill:none\" points=\"525.907,47.2441 525.907,1486.45 559.489,1486.45 559.489,47.2441 525.907,47.2441 \"/>\n",
       "<path clip-path=\"url(#clip632)\" d=\"M559.489 1336.61 L559.489 1486.45 L593.072 1486.45 L593.072 1336.61 L559.489 1336.61 L559.489 1336.61  Z\" fill=\"#009af9\" fill-rule=\"evenodd\" fill-opacity=\"1\"/>\n",
       "<polyline clip-path=\"url(#clip632)\" style=\"stroke:#000000; stroke-linecap:round; stroke-linejoin:round; stroke-width:4; stroke-opacity:1; fill:none\" points=\"559.489,1336.61 559.489,1486.45 593.072,1486.45 593.072,1336.61 559.489,1336.61 \"/>\n",
       "<path clip-path=\"url(#clip632)\" d=\"M593.072 1334.17 L593.072 1486.45 L626.654 1486.45 L626.654 1334.17 L593.072 1334.17 L593.072 1334.17  Z\" fill=\"#009af9\" fill-rule=\"evenodd\" fill-opacity=\"1\"/>\n",
       "<polyline clip-path=\"url(#clip632)\" style=\"stroke:#000000; stroke-linecap:round; stroke-linejoin:round; stroke-width:4; stroke-opacity:1; fill:none\" points=\"593.072,1334.17 593.072,1486.45 626.654,1486.45 626.654,1334.17 593.072,1334.17 \"/>\n",
       "<path clip-path=\"url(#clip632)\" d=\"M626.654 1285.63 L626.654 1486.45 L660.237 1486.45 L660.237 1285.63 L626.654 1285.63 L626.654 1285.63  Z\" fill=\"#009af9\" fill-rule=\"evenodd\" fill-opacity=\"1\"/>\n",
       "<polyline clip-path=\"url(#clip632)\" style=\"stroke:#000000; stroke-linecap:round; stroke-linejoin:round; stroke-width:4; stroke-opacity:1; fill:none\" points=\"626.654,1285.63 626.654,1486.45 660.237,1486.45 660.237,1285.63 626.654,1285.63 \"/>\n",
       "<path clip-path=\"url(#clip632)\" d=\"M660.237 1347.91 L660.237 1486.45 L693.819 1486.45 L693.819 1347.91 L660.237 1347.91 L660.237 1347.91  Z\" fill=\"#009af9\" fill-rule=\"evenodd\" fill-opacity=\"1\"/>\n",
       "<polyline clip-path=\"url(#clip632)\" style=\"stroke:#000000; stroke-linecap:round; stroke-linejoin:round; stroke-width:4; stroke-opacity:1; fill:none\" points=\"660.237,1347.91 660.237,1486.45 693.819,1486.45 693.819,1347.91 660.237,1347.91 \"/>\n",
       "<path clip-path=\"url(#clip632)\" d=\"M693.819 1344.57 L693.819 1486.45 L727.401 1486.45 L727.401 1344.57 L693.819 1344.57 L693.819 1344.57  Z\" fill=\"#009af9\" fill-rule=\"evenodd\" fill-opacity=\"1\"/>\n",
       "<polyline clip-path=\"url(#clip632)\" style=\"stroke:#000000; stroke-linecap:round; stroke-linejoin:round; stroke-width:4; stroke-opacity:1; fill:none\" points=\"693.819,1344.57 693.819,1486.45 727.401,1486.45 727.401,1344.57 693.819,1344.57 \"/>\n",
       "<path clip-path=\"url(#clip632)\" d=\"M727.401 1288.1 L727.401 1486.45 L760.984 1486.45 L760.984 1288.1 L727.401 1288.1 L727.401 1288.1  Z\" fill=\"#009af9\" fill-rule=\"evenodd\" fill-opacity=\"1\"/>\n",
       "<polyline clip-path=\"url(#clip632)\" style=\"stroke:#000000; stroke-linecap:round; stroke-linejoin:round; stroke-width:4; stroke-opacity:1; fill:none\" points=\"727.401,1288.1 727.401,1486.45 760.984,1486.45 760.984,1288.1 727.401,1288.1 \"/>\n",
       "<path clip-path=\"url(#clip632)\" d=\"M760.984 1363.53 L760.984 1486.45 L794.566 1486.45 L794.566 1363.53 L760.984 1363.53 L760.984 1363.53  Z\" fill=\"#009af9\" fill-rule=\"evenodd\" fill-opacity=\"1\"/>\n",
       "<polyline clip-path=\"url(#clip632)\" style=\"stroke:#000000; stroke-linecap:round; stroke-linejoin:round; stroke-width:4; stroke-opacity:1; fill:none\" points=\"760.984,1363.53 760.984,1486.45 794.566,1486.45 794.566,1363.53 760.984,1363.53 \"/>\n",
       "<path clip-path=\"url(#clip632)\" d=\"M794.566 1301.84 L794.566 1486.45 L828.149 1486.45 L828.149 1301.84 L794.566 1301.84 L794.566 1301.84  Z\" fill=\"#009af9\" fill-rule=\"evenodd\" fill-opacity=\"1\"/>\n",
       "<polyline clip-path=\"url(#clip632)\" style=\"stroke:#000000; stroke-linecap:round; stroke-linejoin:round; stroke-width:4; stroke-opacity:1; fill:none\" points=\"794.566,1301.84 794.566,1486.45 828.149,1486.45 828.149,1301.84 794.566,1301.84 \"/>\n",
       "<path clip-path=\"url(#clip632)\" d=\"M828.149 1336.07 L828.149 1486.45 L861.731 1486.45 L861.731 1336.07 L828.149 1336.07 L828.149 1336.07  Z\" fill=\"#009af9\" fill-rule=\"evenodd\" fill-opacity=\"1\"/>\n",
       "<polyline clip-path=\"url(#clip632)\" style=\"stroke:#000000; stroke-linecap:round; stroke-linejoin:round; stroke-width:4; stroke-opacity:1; fill:none\" points=\"828.149,1336.07 828.149,1486.45 861.731,1486.45 861.731,1336.07 828.149,1336.07 \"/>\n",
       "<path clip-path=\"url(#clip632)\" d=\"M861.731 1316.35 L861.731 1486.45 L895.313 1486.45 L895.313 1316.35 L861.731 1316.35 L861.731 1316.35  Z\" fill=\"#009af9\" fill-rule=\"evenodd\" fill-opacity=\"1\"/>\n",
       "<polyline clip-path=\"url(#clip632)\" style=\"stroke:#000000; stroke-linecap:round; stroke-linejoin:round; stroke-width:4; stroke-opacity:1; fill:none\" points=\"861.731,1316.35 861.731,1486.45 895.313,1486.45 895.313,1316.35 861.731,1316.35 \"/>\n",
       "<path clip-path=\"url(#clip632)\" d=\"M895.313 1309.46 L895.313 1486.45 L928.896 1486.45 L928.896 1309.46 L895.313 1309.46 L895.313 1309.46  Z\" fill=\"#009af9\" fill-rule=\"evenodd\" fill-opacity=\"1\"/>\n",
       "<polyline clip-path=\"url(#clip632)\" style=\"stroke:#000000; stroke-linecap:round; stroke-linejoin:round; stroke-width:4; stroke-opacity:1; fill:none\" points=\"895.313,1309.46 895.313,1486.45 928.896,1486.45 928.896,1309.46 895.313,1309.46 \"/>\n",
       "<path clip-path=\"url(#clip632)\" d=\"M928.896 1331.76 L928.896 1486.45 L962.478 1486.45 L962.478 1331.76 L928.896 1331.76 L928.896 1331.76  Z\" fill=\"#009af9\" fill-rule=\"evenodd\" fill-opacity=\"1\"/>\n",
       "<polyline clip-path=\"url(#clip632)\" style=\"stroke:#000000; stroke-linecap:round; stroke-linejoin:round; stroke-width:4; stroke-opacity:1; fill:none\" points=\"928.896,1331.76 928.896,1486.45 962.478,1486.45 962.478,1331.76 928.896,1331.76 \"/>\n",
       "<path clip-path=\"url(#clip632)\" d=\"M962.478 1314.87 L962.478 1486.45 L996.061 1486.45 L996.061 1314.87 L962.478 1314.87 L962.478 1314.87  Z\" fill=\"#009af9\" fill-rule=\"evenodd\" fill-opacity=\"1\"/>\n",
       "<polyline clip-path=\"url(#clip632)\" style=\"stroke:#000000; stroke-linecap:round; stroke-linejoin:round; stroke-width:4; stroke-opacity:1; fill:none\" points=\"962.478,1314.87 962.478,1486.45 996.061,1486.45 996.061,1314.87 962.478,1314.87 \"/>\n",
       "<path clip-path=\"url(#clip632)\" d=\"M996.061 1328.02 L996.061 1486.45 L1029.64 1486.45 L1029.64 1328.02 L996.061 1328.02 L996.061 1328.02  Z\" fill=\"#009af9\" fill-rule=\"evenodd\" fill-opacity=\"1\"/>\n",
       "<polyline clip-path=\"url(#clip632)\" style=\"stroke:#000000; stroke-linecap:round; stroke-linejoin:round; stroke-width:4; stroke-opacity:1; fill:none\" points=\"996.061,1328.02 996.061,1486.45 1029.64,1486.45 1029.64,1328.02 996.061,1328.02 \"/>\n",
       "<path clip-path=\"url(#clip632)\" d=\"M1029.64 1331.65 L1029.64 1486.45 L1063.23 1486.45 L1063.23 1331.65 L1029.64 1331.65 L1029.64 1331.65  Z\" fill=\"#009af9\" fill-rule=\"evenodd\" fill-opacity=\"1\"/>\n",
       "<polyline clip-path=\"url(#clip632)\" style=\"stroke:#000000; stroke-linecap:round; stroke-linejoin:round; stroke-width:4; stroke-opacity:1; fill:none\" points=\"1029.64,1331.65 1029.64,1486.45 1063.23,1486.45 1063.23,1331.65 1029.64,1331.65 \"/>\n",
       "<path clip-path=\"url(#clip632)\" d=\"M1063.23 1334.06 L1063.23 1486.45 L1096.81 1486.45 L1096.81 1334.06 L1063.23 1334.06 L1063.23 1334.06  Z\" fill=\"#009af9\" fill-rule=\"evenodd\" fill-opacity=\"1\"/>\n",
       "<polyline clip-path=\"url(#clip632)\" style=\"stroke:#000000; stroke-linecap:round; stroke-linejoin:round; stroke-width:4; stroke-opacity:1; fill:none\" points=\"1063.23,1334.06 1063.23,1486.45 1096.81,1486.45 1096.81,1334.06 1063.23,1334.06 \"/>\n",
       "<path clip-path=\"url(#clip632)\" d=\"M1096.81 1349.78 L1096.81 1486.45 L1130.39 1486.45 L1130.39 1349.78 L1096.81 1349.78 L1096.81 1349.78  Z\" fill=\"#009af9\" fill-rule=\"evenodd\" fill-opacity=\"1\"/>\n",
       "<polyline clip-path=\"url(#clip632)\" style=\"stroke:#000000; stroke-linecap:round; stroke-linejoin:round; stroke-width:4; stroke-opacity:1; fill:none\" points=\"1096.81,1349.78 1096.81,1486.45 1130.39,1486.45 1130.39,1349.78 1096.81,1349.78 \"/>\n",
       "<path clip-path=\"url(#clip632)\" d=\"M1130.39 1346.44 L1130.39 1486.45 L1163.97 1486.45 L1163.97 1346.44 L1130.39 1346.44 L1130.39 1346.44  Z\" fill=\"#009af9\" fill-rule=\"evenodd\" fill-opacity=\"1\"/>\n",
       "<polyline clip-path=\"url(#clip632)\" style=\"stroke:#000000; stroke-linecap:round; stroke-linejoin:round; stroke-width:4; stroke-opacity:1; fill:none\" points=\"1130.39,1346.44 1130.39,1486.45 1163.97,1486.45 1163.97,1346.44 1130.39,1346.44 \"/>\n",
       "<path clip-path=\"url(#clip632)\" d=\"M1163.97 1348.28 L1163.97 1486.45 L1197.56 1486.45 L1197.56 1348.28 L1163.97 1348.28 L1163.97 1348.28  Z\" fill=\"#009af9\" fill-rule=\"evenodd\" fill-opacity=\"1\"/>\n",
       "<polyline clip-path=\"url(#clip632)\" style=\"stroke:#000000; stroke-linecap:round; stroke-linejoin:round; stroke-width:4; stroke-opacity:1; fill:none\" points=\"1163.97,1348.28 1163.97,1486.45 1197.56,1486.45 1197.56,1348.28 1163.97,1348.28 \"/>\n",
       "<path clip-path=\"url(#clip632)\" d=\"M1197.56 1348.28 L1197.56 1486.45 L1231.14 1486.45 L1231.14 1348.28 L1197.56 1348.28 L1197.56 1348.28  Z\" fill=\"#009af9\" fill-rule=\"evenodd\" fill-opacity=\"1\"/>\n",
       "<polyline clip-path=\"url(#clip632)\" style=\"stroke:#000000; stroke-linecap:round; stroke-linejoin:round; stroke-width:4; stroke-opacity:1; fill:none\" points=\"1197.56,1348.28 1197.56,1486.45 1231.14,1486.45 1231.14,1348.28 1197.56,1348.28 \"/>\n",
       "<path clip-path=\"url(#clip632)\" d=\"M1231.14 1328.25 L1231.14 1486.45 L1264.72 1486.45 L1264.72 1328.25 L1231.14 1328.25 L1231.14 1328.25  Z\" fill=\"#009af9\" fill-rule=\"evenodd\" fill-opacity=\"1\"/>\n",
       "<polyline clip-path=\"url(#clip632)\" style=\"stroke:#000000; stroke-linecap:round; stroke-linejoin:round; stroke-width:4; stroke-opacity:1; fill:none\" points=\"1231.14,1328.25 1231.14,1486.45 1264.72,1486.45 1264.72,1328.25 1231.14,1328.25 \"/>\n",
       "<path clip-path=\"url(#clip632)\" d=\"M1264.72 1334.37 L1264.72 1486.45 L1298.3 1486.45 L1298.3 1334.37 L1264.72 1334.37 L1264.72 1334.37  Z\" fill=\"#009af9\" fill-rule=\"evenodd\" fill-opacity=\"1\"/>\n",
       "<polyline clip-path=\"url(#clip632)\" style=\"stroke:#000000; stroke-linecap:round; stroke-linejoin:round; stroke-width:4; stroke-opacity:1; fill:none\" points=\"1264.72,1334.37 1264.72,1486.45 1298.3,1486.45 1298.3,1334.37 1264.72,1334.37 \"/>\n",
       "<path clip-path=\"url(#clip632)\" d=\"M1298.3 1343.83 L1298.3 1486.45 L1331.88 1486.45 L1331.88 1343.83 L1298.3 1343.83 L1298.3 1343.83  Z\" fill=\"#009af9\" fill-rule=\"evenodd\" fill-opacity=\"1\"/>\n",
       "<polyline clip-path=\"url(#clip632)\" style=\"stroke:#000000; stroke-linecap:round; stroke-linejoin:round; stroke-width:4; stroke-opacity:1; fill:none\" points=\"1298.3,1343.83 1298.3,1486.45 1331.88,1486.45 1331.88,1343.83 1298.3,1343.83 \"/>\n",
       "<path clip-path=\"url(#clip632)\" d=\"M1331.88 1351.65 L1331.88 1486.45 L1365.47 1486.45 L1365.47 1351.65 L1331.88 1351.65 L1331.88 1351.65  Z\" fill=\"#009af9\" fill-rule=\"evenodd\" fill-opacity=\"1\"/>\n",
       "<polyline clip-path=\"url(#clip632)\" style=\"stroke:#000000; stroke-linecap:round; stroke-linejoin:round; stroke-width:4; stroke-opacity:1; fill:none\" points=\"1331.88,1351.65 1331.88,1486.45 1365.47,1486.45 1365.47,1351.65 1331.88,1351.65 \"/>\n",
       "<path clip-path=\"url(#clip632)\" d=\"M1365.47 1375.99 L1365.47 1486.45 L1399.05 1486.45 L1399.05 1375.99 L1365.47 1375.99 L1365.47 1375.99  Z\" fill=\"#009af9\" fill-rule=\"evenodd\" fill-opacity=\"1\"/>\n",
       "<polyline clip-path=\"url(#clip632)\" style=\"stroke:#000000; stroke-linecap:round; stroke-linejoin:round; stroke-width:4; stroke-opacity:1; fill:none\" points=\"1365.47,1375.99 1365.47,1486.45 1399.05,1486.45 1399.05,1375.99 1365.47,1375.99 \"/>\n",
       "<path clip-path=\"url(#clip632)\" d=\"M1399.05 1346.53 L1399.05 1486.45 L1432.63 1486.45 L1432.63 1346.53 L1399.05 1346.53 L1399.05 1346.53  Z\" fill=\"#009af9\" fill-rule=\"evenodd\" fill-opacity=\"1\"/>\n",
       "<polyline clip-path=\"url(#clip632)\" style=\"stroke:#000000; stroke-linecap:round; stroke-linejoin:round; stroke-width:4; stroke-opacity:1; fill:none\" points=\"1399.05,1346.53 1399.05,1486.45 1432.63,1486.45 1432.63,1346.53 1399.05,1346.53 \"/>\n",
       "<path clip-path=\"url(#clip632)\" d=\"M1432.63 1343.21 L1432.63 1486.45 L1466.21 1486.45 L1466.21 1343.21 L1432.63 1343.21 L1432.63 1343.21  Z\" fill=\"#009af9\" fill-rule=\"evenodd\" fill-opacity=\"1\"/>\n",
       "<polyline clip-path=\"url(#clip632)\" style=\"stroke:#000000; stroke-linecap:round; stroke-linejoin:round; stroke-width:4; stroke-opacity:1; fill:none\" points=\"1432.63,1343.21 1432.63,1486.45 1466.21,1486.45 1466.21,1343.21 1432.63,1343.21 \"/>\n",
       "<path clip-path=\"url(#clip632)\" d=\"M1466.21 1361.54 L1466.21 1486.45 L1499.8 1486.45 L1499.8 1361.54 L1466.21 1361.54 L1466.21 1361.54  Z\" fill=\"#009af9\" fill-rule=\"evenodd\" fill-opacity=\"1\"/>\n",
       "<polyline clip-path=\"url(#clip632)\" style=\"stroke:#000000; stroke-linecap:round; stroke-linejoin:round; stroke-width:4; stroke-opacity:1; fill:none\" points=\"1466.21,1361.54 1466.21,1486.45 1499.8,1486.45 1499.8,1361.54 1466.21,1361.54 \"/>\n",
       "<path clip-path=\"url(#clip632)\" d=\"M1499.8 1393.39 L1499.8 1486.45 L1533.38 1486.45 L1533.38 1393.39 L1499.8 1393.39 L1499.8 1393.39  Z\" fill=\"#009af9\" fill-rule=\"evenodd\" fill-opacity=\"1\"/>\n",
       "<polyline clip-path=\"url(#clip632)\" style=\"stroke:#000000; stroke-linecap:round; stroke-linejoin:round; stroke-width:4; stroke-opacity:1; fill:none\" points=\"1499.8,1393.39 1499.8,1486.45 1533.38,1486.45 1533.38,1393.39 1499.8,1393.39 \"/>\n",
       "<path clip-path=\"url(#clip632)\" d=\"M1533.38 1418.1 L1533.38 1486.45 L1566.96 1486.45 L1566.96 1418.1 L1533.38 1418.1 L1533.38 1418.1  Z\" fill=\"#009af9\" fill-rule=\"evenodd\" fill-opacity=\"1\"/>\n",
       "<polyline clip-path=\"url(#clip632)\" style=\"stroke:#000000; stroke-linecap:round; stroke-linejoin:round; stroke-width:4; stroke-opacity:1; fill:none\" points=\"1533.38,1418.1 1533.38,1486.45 1566.96,1486.45 1566.96,1418.1 1533.38,1418.1 \"/>\n",
       "<path clip-path=\"url(#clip632)\" d=\"M1566.96 1436.29 L1566.96 1486.45 L1600.54 1486.45 L1600.54 1436.29 L1566.96 1436.29 L1566.96 1436.29  Z\" fill=\"#009af9\" fill-rule=\"evenodd\" fill-opacity=\"1\"/>\n",
       "<polyline clip-path=\"url(#clip632)\" style=\"stroke:#000000; stroke-linecap:round; stroke-linejoin:round; stroke-width:4; stroke-opacity:1; fill:none\" points=\"1566.96,1436.29 1566.96,1486.45 1600.54,1486.45 1600.54,1436.29 1566.96,1436.29 \"/>\n",
       "<path clip-path=\"url(#clip632)\" d=\"M1600.54 1442.22 L1600.54 1486.45 L1634.13 1486.45 L1634.13 1442.22 L1600.54 1442.22 L1600.54 1442.22  Z\" fill=\"#009af9\" fill-rule=\"evenodd\" fill-opacity=\"1\"/>\n",
       "<polyline clip-path=\"url(#clip632)\" style=\"stroke:#000000; stroke-linecap:round; stroke-linejoin:round; stroke-width:4; stroke-opacity:1; fill:none\" points=\"1600.54,1442.22 1600.54,1486.45 1634.13,1486.45 1634.13,1442.22 1600.54,1442.22 \"/>\n",
       "<path clip-path=\"url(#clip632)\" d=\"M1634.13 1449.92 L1634.13 1486.45 L1667.71 1486.45 L1667.71 1449.92 L1634.13 1449.92 L1634.13 1449.92  Z\" fill=\"#009af9\" fill-rule=\"evenodd\" fill-opacity=\"1\"/>\n",
       "<polyline clip-path=\"url(#clip632)\" style=\"stroke:#000000; stroke-linecap:round; stroke-linejoin:round; stroke-width:4; stroke-opacity:1; fill:none\" points=\"1634.13,1449.92 1634.13,1486.45 1667.71,1486.45 1667.71,1449.92 1634.13,1449.92 \"/>\n",
       "<path clip-path=\"url(#clip632)\" d=\"M1667.71 1453.52 L1667.71 1486.45 L1701.29 1486.45 L1701.29 1453.52 L1667.71 1453.52 L1667.71 1453.52  Z\" fill=\"#009af9\" fill-rule=\"evenodd\" fill-opacity=\"1\"/>\n",
       "<polyline clip-path=\"url(#clip632)\" style=\"stroke:#000000; stroke-linecap:round; stroke-linejoin:round; stroke-width:4; stroke-opacity:1; fill:none\" points=\"1667.71,1453.52 1667.71,1486.45 1701.29,1486.45 1701.29,1453.52 1667.71,1453.52 \"/>\n",
       "<path clip-path=\"url(#clip632)\" d=\"M1701.29 1458.48 L1701.29 1486.45 L1734.87 1486.45 L1734.87 1458.48 L1701.29 1458.48 L1701.29 1458.48  Z\" fill=\"#009af9\" fill-rule=\"evenodd\" fill-opacity=\"1\"/>\n",
       "<polyline clip-path=\"url(#clip632)\" style=\"stroke:#000000; stroke-linecap:round; stroke-linejoin:round; stroke-width:4; stroke-opacity:1; fill:none\" points=\"1701.29,1458.48 1701.29,1486.45 1734.87,1486.45 1734.87,1458.48 1701.29,1458.48 \"/>\n",
       "<path clip-path=\"url(#clip632)\" d=\"M1734.87 1461.68 L1734.87 1486.45 L1768.46 1486.45 L1768.46 1461.68 L1734.87 1461.68 L1734.87 1461.68  Z\" fill=\"#009af9\" fill-rule=\"evenodd\" fill-opacity=\"1\"/>\n",
       "<polyline clip-path=\"url(#clip632)\" style=\"stroke:#000000; stroke-linecap:round; stroke-linejoin:round; stroke-width:4; stroke-opacity:1; fill:none\" points=\"1734.87,1461.68 1734.87,1486.45 1768.46,1486.45 1768.46,1461.68 1734.87,1461.68 \"/>\n",
       "<path clip-path=\"url(#clip632)\" d=\"M1768.46 1462.14 L1768.46 1486.45 L1802.04 1486.45 L1802.04 1462.14 L1768.46 1462.14 L1768.46 1462.14  Z\" fill=\"#009af9\" fill-rule=\"evenodd\" fill-opacity=\"1\"/>\n",
       "<polyline clip-path=\"url(#clip632)\" style=\"stroke:#000000; stroke-linecap:round; stroke-linejoin:round; stroke-width:4; stroke-opacity:1; fill:none\" points=\"1768.46,1462.14 1768.46,1486.45 1802.04,1486.45 1802.04,1462.14 1768.46,1462.14 \"/>\n",
       "<path clip-path=\"url(#clip632)\" d=\"M1802.04 1465.22 L1802.04 1486.45 L1835.62 1486.45 L1835.62 1465.22 L1802.04 1465.22 L1802.04 1465.22  Z\" fill=\"#009af9\" fill-rule=\"evenodd\" fill-opacity=\"1\"/>\n",
       "<polyline clip-path=\"url(#clip632)\" style=\"stroke:#000000; stroke-linecap:round; stroke-linejoin:round; stroke-width:4; stroke-opacity:1; fill:none\" points=\"1802.04,1465.22 1802.04,1486.45 1835.62,1486.45 1835.62,1465.22 1802.04,1465.22 \"/>\n",
       "<path clip-path=\"url(#clip632)\" d=\"M1835.62 1467.94 L1835.62 1486.45 L1869.2 1486.45 L1869.2 1467.94 L1835.62 1467.94 L1835.62 1467.94  Z\" fill=\"#009af9\" fill-rule=\"evenodd\" fill-opacity=\"1\"/>\n",
       "<polyline clip-path=\"url(#clip632)\" style=\"stroke:#000000; stroke-linecap:round; stroke-linejoin:round; stroke-width:4; stroke-opacity:1; fill:none\" points=\"1835.62,1467.94 1835.62,1486.45 1869.2,1486.45 1869.2,1467.94 1835.62,1467.94 \"/>\n",
       "<path clip-path=\"url(#clip632)\" d=\"M1869.2 1469.16 L1869.2 1486.45 L1902.79 1486.45 L1902.79 1469.16 L1869.2 1469.16 L1869.2 1469.16  Z\" fill=\"#009af9\" fill-rule=\"evenodd\" fill-opacity=\"1\"/>\n",
       "<polyline clip-path=\"url(#clip632)\" style=\"stroke:#000000; stroke-linecap:round; stroke-linejoin:round; stroke-width:4; stroke-opacity:1; fill:none\" points=\"1869.2,1469.16 1869.2,1486.45 1902.79,1486.45 1902.79,1469.16 1869.2,1469.16 \"/>\n",
       "<path clip-path=\"url(#clip632)\" d=\"M1902.79 1468.74 L1902.79 1486.45 L1936.37 1486.45 L1936.37 1468.74 L1902.79 1468.74 L1902.79 1468.74  Z\" fill=\"#009af9\" fill-rule=\"evenodd\" fill-opacity=\"1\"/>\n",
       "<polyline clip-path=\"url(#clip632)\" style=\"stroke:#000000; stroke-linecap:round; stroke-linejoin:round; stroke-width:4; stroke-opacity:1; fill:none\" points=\"1902.79,1468.74 1902.79,1486.45 1936.37,1486.45 1936.37,1468.74 1902.79,1468.74 \"/>\n",
       "<path clip-path=\"url(#clip632)\" d=\"M1936.37 1469.7 L1936.37 1486.45 L1969.95 1486.45 L1969.95 1469.7 L1936.37 1469.7 L1936.37 1469.7  Z\" fill=\"#009af9\" fill-rule=\"evenodd\" fill-opacity=\"1\"/>\n",
       "<polyline clip-path=\"url(#clip632)\" style=\"stroke:#000000; stroke-linecap:round; stroke-linejoin:round; stroke-width:4; stroke-opacity:1; fill:none\" points=\"1936.37,1469.7 1936.37,1486.45 1969.95,1486.45 1969.95,1469.7 1936.37,1469.7 \"/>\n",
       "<path clip-path=\"url(#clip632)\" d=\"M1969.95 1468.62 L1969.95 1486.45 L2003.53 1486.45 L2003.53 1468.62 L1969.95 1468.62 L1969.95 1468.62  Z\" fill=\"#009af9\" fill-rule=\"evenodd\" fill-opacity=\"1\"/>\n",
       "<polyline clip-path=\"url(#clip632)\" style=\"stroke:#000000; stroke-linecap:round; stroke-linejoin:round; stroke-width:4; stroke-opacity:1; fill:none\" points=\"1969.95,1468.62 1969.95,1486.45 2003.53,1486.45 2003.53,1468.62 1969.95,1468.62 \"/>\n",
       "<path clip-path=\"url(#clip632)\" d=\"M2003.53 1468.96 L2003.53 1486.45 L2037.11 1486.45 L2037.11 1468.96 L2003.53 1468.96 L2003.53 1468.96  Z\" fill=\"#009af9\" fill-rule=\"evenodd\" fill-opacity=\"1\"/>\n",
       "<polyline clip-path=\"url(#clip632)\" style=\"stroke:#000000; stroke-linecap:round; stroke-linejoin:round; stroke-width:4; stroke-opacity:1; fill:none\" points=\"2003.53,1468.96 2003.53,1486.45 2037.11,1486.45 2037.11,1468.96 2003.53,1468.96 \"/>\n",
       "<path clip-path=\"url(#clip632)\" d=\"M2037.11 1470.64 L2037.11 1486.45 L2070.7 1486.45 L2070.7 1470.64 L2037.11 1470.64 L2037.11 1470.64  Z\" fill=\"#009af9\" fill-rule=\"evenodd\" fill-opacity=\"1\"/>\n",
       "<polyline clip-path=\"url(#clip632)\" style=\"stroke:#000000; stroke-linecap:round; stroke-linejoin:round; stroke-width:4; stroke-opacity:1; fill:none\" points=\"2037.11,1470.64 2037.11,1486.45 2070.7,1486.45 2070.7,1470.64 2037.11,1470.64 \"/>\n",
       "<path clip-path=\"url(#clip632)\" d=\"M2070.7 1473.44 L2070.7 1486.45 L2104.28 1486.45 L2104.28 1473.44 L2070.7 1473.44 L2070.7 1473.44  Z\" fill=\"#009af9\" fill-rule=\"evenodd\" fill-opacity=\"1\"/>\n",
       "<polyline clip-path=\"url(#clip632)\" style=\"stroke:#000000; stroke-linecap:round; stroke-linejoin:round; stroke-width:4; stroke-opacity:1; fill:none\" points=\"2070.7,1473.44 2070.7,1486.45 2104.28,1486.45 2104.28,1473.44 2070.7,1473.44 \"/>\n",
       "<path clip-path=\"url(#clip632)\" d=\"M2104.28 1477.86 L2104.28 1486.45 L2137.86 1486.45 L2137.86 1477.86 L2104.28 1477.86 L2104.28 1477.86  Z\" fill=\"#009af9\" fill-rule=\"evenodd\" fill-opacity=\"1\"/>\n",
       "<polyline clip-path=\"url(#clip632)\" style=\"stroke:#000000; stroke-linecap:round; stroke-linejoin:round; stroke-width:4; stroke-opacity:1; fill:none\" points=\"2104.28,1477.86 2104.28,1486.45 2137.86,1486.45 2137.86,1477.86 2104.28,1477.86 \"/>\n",
       "<path clip-path=\"url(#clip632)\" d=\"M2137.86 1481.46 L2137.86 1486.45 L2171.44 1486.45 L2171.44 1481.46 L2137.86 1481.46 L2137.86 1481.46  Z\" fill=\"#009af9\" fill-rule=\"evenodd\" fill-opacity=\"1\"/>\n",
       "<polyline clip-path=\"url(#clip632)\" style=\"stroke:#000000; stroke-linecap:round; stroke-linejoin:round; stroke-width:4; stroke-opacity:1; fill:none\" points=\"2137.86,1481.46 2137.86,1486.45 2171.44,1486.45 2171.44,1481.46 2137.86,1481.46 \"/>\n",
       "<path clip-path=\"url(#clip632)\" d=\"M2171.44 1484.8 L2171.44 1486.45 L2205.03 1486.45 L2205.03 1484.8 L2171.44 1484.8 L2171.44 1484.8  Z\" fill=\"#009af9\" fill-rule=\"evenodd\" fill-opacity=\"1\"/>\n",
       "<polyline clip-path=\"url(#clip632)\" style=\"stroke:#000000; stroke-linecap:round; stroke-linejoin:round; stroke-width:4; stroke-opacity:1; fill:none\" points=\"2171.44,1484.8 2171.44,1486.45 2205.03,1486.45 2205.03,1484.8 2171.44,1484.8 \"/>\n",
       "<path clip-path=\"url(#clip632)\" d=\"M2205.03 1486.36 L2205.03 1486.45 L2238.61 1486.45 L2238.61 1486.36 L2205.03 1486.36 L2205.03 1486.36  Z\" fill=\"#009af9\" fill-rule=\"evenodd\" fill-opacity=\"1\"/>\n",
       "<polyline clip-path=\"url(#clip632)\" style=\"stroke:#000000; stroke-linecap:round; stroke-linejoin:round; stroke-width:4; stroke-opacity:1; fill:none\" points=\"2205.03,1486.36 2205.03,1486.45 2238.61,1486.45 2238.61,1486.36 2205.03,1486.36 \"/>\n",
       "<circle clip-path=\"url(#clip632)\" style=\"fill:#009af9; stroke:none; fill-opacity:0\" cx=\"408.369\" cy=\"1486.39\" r=\"2\"/>\n",
       "<circle clip-path=\"url(#clip632)\" style=\"fill:#009af9; stroke:none; fill-opacity:0\" cx=\"441.951\" cy=\"1480.92\" r=\"2\"/>\n",
       "<circle clip-path=\"url(#clip632)\" style=\"fill:#009af9; stroke:none; fill-opacity:0\" cx=\"475.533\" cy=\"1398.61\" r=\"2\"/>\n",
       "<circle clip-path=\"url(#clip632)\" style=\"fill:#009af9; stroke:none; fill-opacity:0\" cx=\"509.116\" cy=\"1350.32\" r=\"2\"/>\n",
       "<circle clip-path=\"url(#clip632)\" style=\"fill:#009af9; stroke:none; fill-opacity:0\" cx=\"542.698\" cy=\"47.2441\" r=\"2\"/>\n",
       "<circle clip-path=\"url(#clip632)\" style=\"fill:#009af9; stroke:none; fill-opacity:0\" cx=\"576.281\" cy=\"1336.61\" r=\"2\"/>\n",
       "<circle clip-path=\"url(#clip632)\" style=\"fill:#009af9; stroke:none; fill-opacity:0\" cx=\"609.863\" cy=\"1334.17\" r=\"2\"/>\n",
       "<circle clip-path=\"url(#clip632)\" style=\"fill:#009af9; stroke:none; fill-opacity:0\" cx=\"643.445\" cy=\"1285.63\" r=\"2\"/>\n",
       "<circle clip-path=\"url(#clip632)\" style=\"fill:#009af9; stroke:none; fill-opacity:0\" cx=\"677.028\" cy=\"1347.91\" r=\"2\"/>\n",
       "<circle clip-path=\"url(#clip632)\" style=\"fill:#009af9; stroke:none; fill-opacity:0\" cx=\"710.61\" cy=\"1344.57\" r=\"2\"/>\n",
       "<circle clip-path=\"url(#clip632)\" style=\"fill:#009af9; stroke:none; fill-opacity:0\" cx=\"744.193\" cy=\"1288.1\" r=\"2\"/>\n",
       "<circle clip-path=\"url(#clip632)\" style=\"fill:#009af9; stroke:none; fill-opacity:0\" cx=\"777.775\" cy=\"1363.53\" r=\"2\"/>\n",
       "<circle clip-path=\"url(#clip632)\" style=\"fill:#009af9; stroke:none; fill-opacity:0\" cx=\"811.357\" cy=\"1301.84\" r=\"2\"/>\n",
       "<circle clip-path=\"url(#clip632)\" style=\"fill:#009af9; stroke:none; fill-opacity:0\" cx=\"844.94\" cy=\"1336.07\" r=\"2\"/>\n",
       "<circle clip-path=\"url(#clip632)\" style=\"fill:#009af9; stroke:none; fill-opacity:0\" cx=\"878.522\" cy=\"1316.35\" r=\"2\"/>\n",
       "<circle clip-path=\"url(#clip632)\" style=\"fill:#009af9; stroke:none; fill-opacity:0\" cx=\"912.105\" cy=\"1309.46\" r=\"2\"/>\n",
       "<circle clip-path=\"url(#clip632)\" style=\"fill:#009af9; stroke:none; fill-opacity:0\" cx=\"945.687\" cy=\"1331.76\" r=\"2\"/>\n",
       "<circle clip-path=\"url(#clip632)\" style=\"fill:#009af9; stroke:none; fill-opacity:0\" cx=\"979.269\" cy=\"1314.87\" r=\"2\"/>\n",
       "<circle clip-path=\"url(#clip632)\" style=\"fill:#009af9; stroke:none; fill-opacity:0\" cx=\"1012.85\" cy=\"1328.02\" r=\"2\"/>\n",
       "<circle clip-path=\"url(#clip632)\" style=\"fill:#009af9; stroke:none; fill-opacity:0\" cx=\"1046.43\" cy=\"1331.65\" r=\"2\"/>\n",
       "<circle clip-path=\"url(#clip632)\" style=\"fill:#009af9; stroke:none; fill-opacity:0\" cx=\"1080.02\" cy=\"1334.06\" r=\"2\"/>\n",
       "<circle clip-path=\"url(#clip632)\" style=\"fill:#009af9; stroke:none; fill-opacity:0\" cx=\"1113.6\" cy=\"1349.78\" r=\"2\"/>\n",
       "<circle clip-path=\"url(#clip632)\" style=\"fill:#009af9; stroke:none; fill-opacity:0\" cx=\"1147.18\" cy=\"1346.44\" r=\"2\"/>\n",
       "<circle clip-path=\"url(#clip632)\" style=\"fill:#009af9; stroke:none; fill-opacity:0\" cx=\"1180.76\" cy=\"1348.28\" r=\"2\"/>\n",
       "<circle clip-path=\"url(#clip632)\" style=\"fill:#009af9; stroke:none; fill-opacity:0\" cx=\"1214.35\" cy=\"1348.28\" r=\"2\"/>\n",
       "<circle clip-path=\"url(#clip632)\" style=\"fill:#009af9; stroke:none; fill-opacity:0\" cx=\"1247.93\" cy=\"1328.25\" r=\"2\"/>\n",
       "<circle clip-path=\"url(#clip632)\" style=\"fill:#009af9; stroke:none; fill-opacity:0\" cx=\"1281.51\" cy=\"1334.37\" r=\"2\"/>\n",
       "<circle clip-path=\"url(#clip632)\" style=\"fill:#009af9; stroke:none; fill-opacity:0\" cx=\"1315.09\" cy=\"1343.83\" r=\"2\"/>\n",
       "<circle clip-path=\"url(#clip632)\" style=\"fill:#009af9; stroke:none; fill-opacity:0\" cx=\"1348.68\" cy=\"1351.65\" r=\"2\"/>\n",
       "<circle clip-path=\"url(#clip632)\" style=\"fill:#009af9; stroke:none; fill-opacity:0\" cx=\"1382.26\" cy=\"1375.99\" r=\"2\"/>\n",
       "<circle clip-path=\"url(#clip632)\" style=\"fill:#009af9; stroke:none; fill-opacity:0\" cx=\"1415.84\" cy=\"1346.53\" r=\"2\"/>\n",
       "<circle clip-path=\"url(#clip632)\" style=\"fill:#009af9; stroke:none; fill-opacity:0\" cx=\"1449.42\" cy=\"1343.21\" r=\"2\"/>\n",
       "<circle clip-path=\"url(#clip632)\" style=\"fill:#009af9; stroke:none; fill-opacity:0\" cx=\"1483.01\" cy=\"1361.54\" r=\"2\"/>\n",
       "<circle clip-path=\"url(#clip632)\" style=\"fill:#009af9; stroke:none; fill-opacity:0\" cx=\"1516.59\" cy=\"1393.39\" r=\"2\"/>\n",
       "<circle clip-path=\"url(#clip632)\" style=\"fill:#009af9; stroke:none; fill-opacity:0\" cx=\"1550.17\" cy=\"1418.1\" r=\"2\"/>\n",
       "<circle clip-path=\"url(#clip632)\" style=\"fill:#009af9; stroke:none; fill-opacity:0\" cx=\"1583.75\" cy=\"1436.29\" r=\"2\"/>\n",
       "<circle clip-path=\"url(#clip632)\" style=\"fill:#009af9; stroke:none; fill-opacity:0\" cx=\"1617.33\" cy=\"1442.22\" r=\"2\"/>\n",
       "<circle clip-path=\"url(#clip632)\" style=\"fill:#009af9; stroke:none; fill-opacity:0\" cx=\"1650.92\" cy=\"1449.92\" r=\"2\"/>\n",
       "<circle clip-path=\"url(#clip632)\" style=\"fill:#009af9; stroke:none; fill-opacity:0\" cx=\"1684.5\" cy=\"1453.52\" r=\"2\"/>\n",
       "<circle clip-path=\"url(#clip632)\" style=\"fill:#009af9; stroke:none; fill-opacity:0\" cx=\"1718.08\" cy=\"1458.48\" r=\"2\"/>\n",
       "<circle clip-path=\"url(#clip632)\" style=\"fill:#009af9; stroke:none; fill-opacity:0\" cx=\"1751.66\" cy=\"1461.68\" r=\"2\"/>\n",
       "<circle clip-path=\"url(#clip632)\" style=\"fill:#009af9; stroke:none; fill-opacity:0\" cx=\"1785.25\" cy=\"1462.14\" r=\"2\"/>\n",
       "<circle clip-path=\"url(#clip632)\" style=\"fill:#009af9; stroke:none; fill-opacity:0\" cx=\"1818.83\" cy=\"1465.22\" r=\"2\"/>\n",
       "<circle clip-path=\"url(#clip632)\" style=\"fill:#009af9; stroke:none; fill-opacity:0\" cx=\"1852.41\" cy=\"1467.94\" r=\"2\"/>\n",
       "<circle clip-path=\"url(#clip632)\" style=\"fill:#009af9; stroke:none; fill-opacity:0\" cx=\"1885.99\" cy=\"1469.16\" r=\"2\"/>\n",
       "<circle clip-path=\"url(#clip632)\" style=\"fill:#009af9; stroke:none; fill-opacity:0\" cx=\"1919.58\" cy=\"1468.74\" r=\"2\"/>\n",
       "<circle clip-path=\"url(#clip632)\" style=\"fill:#009af9; stroke:none; fill-opacity:0\" cx=\"1953.16\" cy=\"1469.7\" r=\"2\"/>\n",
       "<circle clip-path=\"url(#clip632)\" style=\"fill:#009af9; stroke:none; fill-opacity:0\" cx=\"1986.74\" cy=\"1468.62\" r=\"2\"/>\n",
       "<circle clip-path=\"url(#clip632)\" style=\"fill:#009af9; stroke:none; fill-opacity:0\" cx=\"2020.32\" cy=\"1468.96\" r=\"2\"/>\n",
       "<circle clip-path=\"url(#clip632)\" style=\"fill:#009af9; stroke:none; fill-opacity:0\" cx=\"2053.91\" cy=\"1470.64\" r=\"2\"/>\n",
       "<circle clip-path=\"url(#clip632)\" style=\"fill:#009af9; stroke:none; fill-opacity:0\" cx=\"2087.49\" cy=\"1473.44\" r=\"2\"/>\n",
       "<circle clip-path=\"url(#clip632)\" style=\"fill:#009af9; stroke:none; fill-opacity:0\" cx=\"2121.07\" cy=\"1477.86\" r=\"2\"/>\n",
       "<circle clip-path=\"url(#clip632)\" style=\"fill:#009af9; stroke:none; fill-opacity:0\" cx=\"2154.65\" cy=\"1481.46\" r=\"2\"/>\n",
       "<circle clip-path=\"url(#clip632)\" style=\"fill:#009af9; stroke:none; fill-opacity:0\" cx=\"2188.24\" cy=\"1484.8\" r=\"2\"/>\n",
       "<circle clip-path=\"url(#clip632)\" style=\"fill:#009af9; stroke:none; fill-opacity:0\" cx=\"2221.82\" cy=\"1486.36\" r=\"2\"/>\n",
       "<path clip-path=\"url(#clip630)\" d=\"M2023.62 198.898 L2283.58 198.898 L2283.58 95.2176 L2023.62 95.2176  Z\" fill=\"#ffffff\" fill-rule=\"evenodd\" fill-opacity=\"1\"/>\n",
       "<polyline clip-path=\"url(#clip630)\" style=\"stroke:#000000; stroke-linecap:round; stroke-linejoin:round; stroke-width:4; stroke-opacity:1; fill:none\" points=\"2023.62,198.898 2283.58,198.898 2283.58,95.2176 2023.62,95.2176 2023.62,198.898 \"/>\n",
       "<path clip-path=\"url(#clip630)\" d=\"M2046.67 167.794 L2185.03 167.794 L2185.03 126.322 L2046.67 126.322 L2046.67 167.794  Z\" fill=\"#009af9\" fill-rule=\"evenodd\" fill-opacity=\"1\"/>\n",
       "<polyline clip-path=\"url(#clip630)\" style=\"stroke:#000000; stroke-linecap:round; stroke-linejoin:round; stroke-width:4; stroke-opacity:1; fill:none\" points=\"2046.67,167.794 2185.03,167.794 2185.03,126.322 2046.67,126.322 2046.67,167.794 \"/>\n",
       "<path clip-path=\"url(#clip630)\" d=\"M2221.93 166.745 Q2220.13 171.375 2218.41 172.787 Q2216.7 174.199 2213.83 174.199 L2210.43 174.199 L2210.43 170.634 L2212.93 170.634 Q2214.69 170.634 2215.66 169.8 Q2216.63 168.967 2217.81 165.865 L2218.58 163.921 L2208.09 138.412 L2212.6 138.412 L2220.7 158.689 L2228.81 138.412 L2233.32 138.412 L2221.93 166.745 Z\" fill=\"#000000\" fill-rule=\"nonzero\" fill-opacity=\"1\" /><path clip-path=\"url(#clip630)\" d=\"M2240.61 160.402 L2248.25 160.402 L2248.25 134.037 L2239.94 135.703 L2239.94 131.444 L2248.2 129.778 L2252.88 129.778 L2252.88 160.402 L2260.52 160.402 L2260.52 164.338 L2240.61 164.338 L2240.61 160.402 Z\" fill=\"#000000\" fill-rule=\"nonzero\" fill-opacity=\"1\" /></svg>\n"
      ]
     },
     "execution_count": 93,
     "metadata": {},
     "output_type": "execute_result"
    }
   ],
   "source": [
    "histogram(esdf_ply_sliced[\"vertex\"][\"intensity\"])"
   ]
  },
  {
   "cell_type": "code",
   "execution_count": null,
   "id": "16418cd0",
   "metadata": {},
   "outputs": [],
   "source": []
  },
  {
   "cell_type": "code",
   "execution_count": 94,
   "id": "0ccbc107",
   "metadata": {},
   "outputs": [
    {
     "data": {
      "text/plain": [
       "MeshCat Visualizer with path /meshcat/slice at http://127.0.0.1:8700"
      ]
     },
     "execution_count": 94,
     "metadata": {},
     "output_type": "execute_result"
    }
   ],
   "source": [
    "VH.draw_pointcloud!(vis[\"slice\"], VH.sdf2PointCloud(esdf_ply_sliced; intensitylims=(-0.1, 1.0)))"
   ]
  },
  {
   "cell_type": "code",
   "execution_count": null,
   "id": "dd523ca9",
   "metadata": {},
   "outputs": [],
   "source": []
  },
  {
   "cell_type": "code",
   "execution_count": null,
   "id": "18e8f0ff",
   "metadata": {},
   "outputs": [],
   "source": []
  },
  {
   "cell_type": "code",
   "execution_count": null,
   "id": "35a71196",
   "metadata": {},
   "outputs": [],
   "source": []
  },
  {
   "cell_type": "code",
   "execution_count": 81,
   "id": "9fee5ee2",
   "metadata": {},
   "outputs": [
    {
     "data": {
      "image/png": "[encoded data removed]",
      "image/svg+xml": [
       "<?xml version=\"1.0\" encoding=\"utf-8\"?>\n",
       "<svg xmlns=\"http://www.w3.org/2000/svg\" xmlns:xlink=\"http://www.w3.org/1999/xlink\" width=\"600\" height=\"400\" viewBox=\"0 0 2400 1600\">\n",
       "<defs>\n",
       "  <clipPath id=\"clip310\">\n",
       "    <rect x=\"0\" y=\"0\" width=\"2400\" height=\"1600\"/>\n",
       "  </clipPath>\n",
       "</defs>\n",
       "<path clip-path=\"url(#clip310)\" d=\"M0 1600 L2400 1600 L2400 0 L0 0  Z\" fill=\"#ffffff\" fill-rule=\"evenodd\" fill-opacity=\"1\"/>\n",
       "<defs>\n",
       "  <clipPath id=\"clip311\">\n",
       "    <rect x=\"480\" y=\"0\" width=\"1681\" height=\"1600\"/>\n",
       "  </clipPath>\n",
       "</defs>\n",
       "<path clip-path=\"url(#clip310)\" d=\"M276.359 1486.45 L2352.76 1486.45 L2352.76 47.2441 L276.359 47.2441  Z\" fill=\"#ffffff\" fill-rule=\"evenodd\" fill-opacity=\"1\"/>\n",
       "<defs>\n",
       "  <clipPath id=\"clip312\">\n",
       "    <rect x=\"276\" y=\"47\" width=\"2077\" height=\"1440\"/>\n",
       "  </clipPath>\n",
       "</defs>\n",
       "<polyline clip-path=\"url(#clip312)\" style=\"stroke:#000000; stroke-linecap:round; stroke-linejoin:round; stroke-width:2; stroke-opacity:0.1; fill:none\" points=\"417.43,1486.45 417.43,47.2441 \"/>\n",
       "<polyline clip-path=\"url(#clip312)\" style=\"stroke:#000000; stroke-linecap:round; stroke-linejoin:round; stroke-width:2; stroke-opacity:0.1; fill:none\" points=\"828.956,1486.45 828.956,47.2441 \"/>\n",
       "<polyline clip-path=\"url(#clip312)\" style=\"stroke:#000000; stroke-linecap:round; stroke-linejoin:round; stroke-width:2; stroke-opacity:0.1; fill:none\" points=\"1240.48,1486.45 1240.48,47.2441 \"/>\n",
       "<polyline clip-path=\"url(#clip312)\" style=\"stroke:#000000; stroke-linecap:round; stroke-linejoin:round; stroke-width:2; stroke-opacity:0.1; fill:none\" points=\"1652.01,1486.45 1652.01,47.2441 \"/>\n",
       "<polyline clip-path=\"url(#clip312)\" style=\"stroke:#000000; stroke-linecap:round; stroke-linejoin:round; stroke-width:2; stroke-opacity:0.1; fill:none\" points=\"2063.54,1486.45 2063.54,47.2441 \"/>\n",
       "<polyline clip-path=\"url(#clip312)\" style=\"stroke:#000000; stroke-linecap:round; stroke-linejoin:round; stroke-width:2; stroke-opacity:0.1; fill:none\" points=\"276.359,1486.45 2352.76,1486.45 \"/>\n",
       "<polyline clip-path=\"url(#clip312)\" style=\"stroke:#000000; stroke-linecap:round; stroke-linejoin:round; stroke-width:2; stroke-opacity:0.1; fill:none\" points=\"276.359,1245.23 2352.76,1245.23 \"/>\n",
       "<polyline clip-path=\"url(#clip312)\" style=\"stroke:#000000; stroke-linecap:round; stroke-linejoin:round; stroke-width:2; stroke-opacity:0.1; fill:none\" points=\"276.359,1004.01 2352.76,1004.01 \"/>\n",
       "<polyline clip-path=\"url(#clip312)\" style=\"stroke:#000000; stroke-linecap:round; stroke-linejoin:round; stroke-width:2; stroke-opacity:0.1; fill:none\" points=\"276.359,762.787 2352.76,762.787 \"/>\n",
       "<polyline clip-path=\"url(#clip312)\" style=\"stroke:#000000; stroke-linecap:round; stroke-linejoin:round; stroke-width:2; stroke-opacity:0.1; fill:none\" points=\"276.359,521.567 2352.76,521.567 \"/>\n",
       "<polyline clip-path=\"url(#clip312)\" style=\"stroke:#000000; stroke-linecap:round; stroke-linejoin:round; stroke-width:2; stroke-opacity:0.1; fill:none\" points=\"276.359,280.347 2352.76,280.347 \"/>\n",
       "<polyline clip-path=\"url(#clip310)\" style=\"stroke:#000000; stroke-linecap:round; stroke-linejoin:round; stroke-width:4; stroke-opacity:1; fill:none\" points=\"276.359,1486.45 2352.76,1486.45 \"/>\n",
       "<polyline clip-path=\"url(#clip310)\" style=\"stroke:#000000; stroke-linecap:round; stroke-linejoin:round; stroke-width:4; stroke-opacity:1; fill:none\" points=\"417.43,1486.45 417.43,1467.55 \"/>\n",
       "<polyline clip-path=\"url(#clip310)\" style=\"stroke:#000000; stroke-linecap:round; stroke-linejoin:round; stroke-width:4; stroke-opacity:1; fill:none\" points=\"828.956,1486.45 828.956,1467.55 \"/>\n",
       "<polyline clip-path=\"url(#clip310)\" style=\"stroke:#000000; stroke-linecap:round; stroke-linejoin:round; stroke-width:4; stroke-opacity:1; fill:none\" points=\"1240.48,1486.45 1240.48,1467.55 \"/>\n",
       "<polyline clip-path=\"url(#clip310)\" style=\"stroke:#000000; stroke-linecap:round; stroke-linejoin:round; stroke-width:4; stroke-opacity:1; fill:none\" points=\"1652.01,1486.45 1652.01,1467.55 \"/>\n",
       "<polyline clip-path=\"url(#clip310)\" style=\"stroke:#000000; stroke-linecap:round; stroke-linejoin:round; stroke-width:4; stroke-opacity:1; fill:none\" points=\"2063.54,1486.45 2063.54,1467.55 \"/>\n",
       "<path clip-path=\"url(#clip310)\" d=\"M387.372 1532.02 L417.048 1532.02 L417.048 1535.95 L387.372 1535.95 L387.372 1532.02 Z\" fill=\"#000000\" fill-rule=\"nonzero\" fill-opacity=\"1\" /><path clip-path=\"url(#clip310)\" d=\"M431.168 1544.91 L447.488 1544.91 L447.488 1548.85 L425.543 1548.85 L425.543 1544.91 Q428.205 1542.16 432.789 1537.53 Q437.395 1532.88 438.576 1531.53 Q440.821 1529.01 441.701 1527.27 Q442.604 1525.51 442.604 1523.82 Q442.604 1521.07 440.659 1519.33 Q438.738 1517.6 435.636 1517.6 Q433.437 1517.6 430.983 1518.36 Q428.553 1519.13 425.775 1520.68 L425.775 1515.95 Q428.599 1514.82 431.053 1514.24 Q433.506 1513.66 435.543 1513.66 Q440.914 1513.66 444.108 1516.35 Q447.303 1519.03 447.303 1523.52 Q447.303 1525.65 446.492 1527.57 Q445.705 1529.47 443.599 1532.07 Q443.02 1532.74 439.918 1535.95 Q436.817 1539.15 431.168 1544.91 Z\" fill=\"#000000\" fill-rule=\"nonzero\" fill-opacity=\"1\" /><path clip-path=\"url(#clip310)\" d=\"M798.713 1532.02 L828.389 1532.02 L828.389 1535.95 L798.713 1535.95 L798.713 1532.02 Z\" fill=\"#000000\" fill-rule=\"nonzero\" fill-opacity=\"1\" /><path clip-path=\"url(#clip310)\" d=\"M839.292 1544.91 L846.931 1544.91 L846.931 1518.55 L838.621 1520.21 L838.621 1515.95 L846.885 1514.29 L851.56 1514.29 L851.56 1544.91 L859.199 1544.91 L859.199 1548.85 L839.292 1548.85 L839.292 1544.91 Z\" fill=\"#000000\" fill-rule=\"nonzero\" fill-opacity=\"1\" /><path clip-path=\"url(#clip310)\" d=\"M1240.48 1517.37 Q1236.87 1517.37 1235.04 1520.93 Q1233.24 1524.47 1233.24 1531.6 Q1233.24 1538.71 1235.04 1542.27 Q1236.87 1545.82 1240.48 1545.82 Q1244.12 1545.82 1245.92 1542.27 Q1247.75 1538.71 1247.75 1531.6 Q1247.75 1524.47 1245.92 1520.93 Q1244.12 1517.37 1240.48 1517.37 M1240.48 1513.66 Q1246.29 1513.66 1249.35 1518.27 Q1252.43 1522.85 1252.43 1531.6 Q1252.43 1540.33 1249.35 1544.94 Q1246.29 1549.52 1240.48 1549.52 Q1234.67 1549.52 1231.59 1544.94 Q1228.54 1540.33 1228.54 1531.6 Q1228.54 1522.85 1231.59 1518.27 Q1234.67 1513.66 1240.48 1513.66 Z\" fill=\"#000000\" fill-rule=\"nonzero\" fill-opacity=\"1\" /><path clip-path=\"url(#clip310)\" d=\"M1642.39 1544.91 L1650.03 1544.91 L1650.03 1518.55 L1641.72 1520.21 L1641.72 1515.95 L1649.98 1514.29 L1654.66 1514.29 L1654.66 1544.91 L1662.3 1544.91 L1662.3 1548.85 L1642.39 1548.85 L1642.39 1544.91 Z\" fill=\"#000000\" fill-rule=\"nonzero\" fill-opacity=\"1\" /><path clip-path=\"url(#clip310)\" d=\"M2058.19 1544.91 L2074.51 1544.91 L2074.51 1548.85 L2052.56 1548.85 L2052.56 1544.91 Q2055.23 1542.16 2059.81 1537.53 Q2064.41 1532.88 2065.6 1531.53 Q2067.84 1529.01 2068.72 1527.27 Q2069.62 1525.51 2069.62 1523.82 Q2069.62 1521.07 2067.68 1519.33 Q2065.76 1517.6 2062.66 1517.6 Q2060.46 1517.6 2058 1518.36 Q2055.57 1519.13 2052.79 1520.68 L2052.79 1515.95 Q2055.62 1514.82 2058.07 1514.24 Q2060.53 1513.66 2062.56 1513.66 Q2067.93 1513.66 2071.13 1516.35 Q2074.32 1519.03 2074.32 1523.52 Q2074.32 1525.65 2073.51 1527.57 Q2072.72 1529.47 2070.62 1532.07 Q2070.04 1532.74 2066.94 1535.95 Q2063.84 1539.15 2058.19 1544.91 Z\" fill=\"#000000\" fill-rule=\"nonzero\" fill-opacity=\"1\" /><polyline clip-path=\"url(#clip310)\" style=\"stroke:#000000; stroke-linecap:round; stroke-linejoin:round; stroke-width:4; stroke-opacity:1; fill:none\" points=\"276.359,1486.45 276.359,47.2441 \"/>\n",
       "<polyline clip-path=\"url(#clip310)\" style=\"stroke:#000000; stroke-linecap:round; stroke-linejoin:round; stroke-width:4; stroke-opacity:1; fill:none\" points=\"276.359,1486.45 295.257,1486.45 \"/>\n",
       "<polyline clip-path=\"url(#clip310)\" style=\"stroke:#000000; stroke-linecap:round; stroke-linejoin:round; stroke-width:4; stroke-opacity:1; fill:none\" points=\"276.359,1245.23 295.257,1245.23 \"/>\n",
       "<polyline clip-path=\"url(#clip310)\" style=\"stroke:#000000; stroke-linecap:round; stroke-linejoin:round; stroke-width:4; stroke-opacity:1; fill:none\" points=\"276.359,1004.01 295.257,1004.01 \"/>\n",
       "<polyline clip-path=\"url(#clip310)\" style=\"stroke:#000000; stroke-linecap:round; stroke-linejoin:round; stroke-width:4; stroke-opacity:1; fill:none\" points=\"276.359,762.787 295.257,762.787 \"/>\n",
       "<polyline clip-path=\"url(#clip310)\" style=\"stroke:#000000; stroke-linecap:round; stroke-linejoin:round; stroke-width:4; stroke-opacity:1; fill:none\" points=\"276.359,521.567 295.257,521.567 \"/>\n",
       "<polyline clip-path=\"url(#clip310)\" style=\"stroke:#000000; stroke-linecap:round; stroke-linejoin:round; stroke-width:4; stroke-opacity:1; fill:none\" points=\"276.359,280.347 295.257,280.347 \"/>\n",
       "<path clip-path=\"url(#clip310)\" d=\"M228.414 1472.25 Q224.803 1472.25 222.975 1475.81 Q221.169 1479.35 221.169 1486.48 Q221.169 1493.59 222.975 1497.15 Q224.803 1500.7 228.414 1500.7 Q232.049 1500.7 233.854 1497.15 Q235.683 1493.59 235.683 1486.48 Q235.683 1479.35 233.854 1475.81 Q232.049 1472.25 228.414 1472.25 M228.414 1468.54 Q234.225 1468.54 237.28 1473.15 Q240.359 1477.73 240.359 1486.48 Q240.359 1495.21 237.28 1499.82 Q234.225 1504.4 228.414 1504.4 Q222.604 1504.4 219.526 1499.82 Q216.47 1495.21 216.47 1486.48 Q216.47 1477.73 219.526 1473.15 Q222.604 1468.54 228.414 1468.54 Z\" fill=\"#000000\" fill-rule=\"nonzero\" fill-opacity=\"1\" /><path clip-path=\"url(#clip310)\" d=\"M54.5569 1265.02 L62.1958 1265.02 L62.1958 1238.65 L53.8856 1240.32 L53.8856 1236.06 L62.1495 1234.4 L66.8254 1234.4 L66.8254 1265.02 L74.4642 1265.02 L74.4642 1268.96 L54.5569 1268.96 L54.5569 1265.02 Z\" fill=\"#000000\" fill-rule=\"nonzero\" fill-opacity=\"1\" /><path clip-path=\"url(#clip310)\" d=\"M83.9086 1263.08 L88.7928 1263.08 L88.7928 1268.96 L83.9086 1268.96 L83.9086 1263.08 Z\" fill=\"#000000\" fill-rule=\"nonzero\" fill-opacity=\"1\" /><path clip-path=\"url(#clip310)\" d=\"M108.978 1237.47 Q105.367 1237.47 103.538 1241.04 Q101.733 1244.58 101.733 1251.71 Q101.733 1258.82 103.538 1262.38 Q105.367 1265.92 108.978 1265.92 Q112.612 1265.92 114.418 1262.38 Q116.246 1258.82 116.246 1251.71 Q116.246 1244.58 114.418 1241.04 Q112.612 1237.47 108.978 1237.47 M108.978 1233.77 Q114.788 1233.77 117.844 1238.38 Q120.922 1242.96 120.922 1251.71 Q120.922 1260.44 117.844 1265.04 Q114.788 1269.63 108.978 1269.63 Q103.168 1269.63 100.089 1265.04 Q97.0335 1260.44 97.0335 1251.71 Q97.0335 1242.96 100.089 1238.38 Q103.168 1233.77 108.978 1233.77 Z\" fill=\"#000000\" fill-rule=\"nonzero\" fill-opacity=\"1\" /><path clip-path=\"url(#clip310)\" d=\"M157.311 1243.49 L146.732 1254.12 L157.311 1264.7 L154.556 1267.5 L143.931 1256.87 L133.306 1267.5 L130.575 1264.7 L141.131 1254.12 L130.575 1243.49 L133.306 1240.69 L143.931 1251.32 L154.556 1240.69 L157.311 1243.49 Z\" fill=\"#000000\" fill-rule=\"nonzero\" fill-opacity=\"1\" /><path clip-path=\"url(#clip310)\" d=\"M169.672 1265.02 L177.311 1265.02 L177.311 1238.65 L169.001 1240.32 L169.001 1236.06 L177.265 1234.4 L181.94 1234.4 L181.94 1265.02 L189.579 1265.02 L189.579 1268.96 L169.672 1268.96 L169.672 1265.02 Z\" fill=\"#000000\" fill-rule=\"nonzero\" fill-opacity=\"1\" /><path clip-path=\"url(#clip310)\" d=\"M209.024 1237.47 Q205.413 1237.47 203.584 1241.04 Q201.778 1244.58 201.778 1251.71 Q201.778 1258.82 203.584 1262.38 Q205.413 1265.92 209.024 1265.92 Q212.658 1265.92 214.463 1262.38 Q216.292 1258.82 216.292 1251.71 Q216.292 1244.58 214.463 1241.04 Q212.658 1237.47 209.024 1237.47 M209.024 1233.77 Q214.834 1233.77 217.889 1238.38 Q220.968 1242.96 220.968 1251.71 Q220.968 1260.44 217.889 1265.04 Q214.834 1269.63 209.024 1269.63 Q203.214 1269.63 200.135 1265.04 Q197.079 1260.44 197.079 1251.71 Q197.079 1242.96 200.135 1238.38 Q203.214 1233.77 209.024 1233.77 Z\" fill=\"#000000\" fill-rule=\"nonzero\" fill-opacity=\"1\" /><path clip-path=\"url(#clip310)\" d=\"M230.993 1225.99 Q228.435 1225.99 226.93 1227.74 Q225.444 1229.49 225.444 1232.54 Q225.444 1235.56 226.93 1237.33 Q228.435 1239.08 230.993 1239.08 Q233.55 1239.08 235.036 1237.33 Q236.541 1235.56 236.541 1232.54 Q236.541 1229.49 235.036 1227.74 Q233.55 1225.99 230.993 1225.99 M238.535 1214.09 L238.535 1217.55 Q237.105 1216.87 235.638 1216.51 Q234.19 1216.15 232.761 1216.15 Q228.999 1216.15 227.005 1218.69 Q225.031 1221.23 224.748 1226.37 Q225.858 1224.73 227.532 1223.87 Q229.206 1222.98 231.218 1222.98 Q235.45 1222.98 237.895 1225.56 Q240.359 1228.12 240.359 1232.54 Q240.359 1236.86 237.801 1239.48 Q235.243 1242.09 230.993 1242.09 Q226.121 1242.09 223.545 1238.37 Q220.968 1234.62 220.968 1227.53 Q220.968 1220.88 224.128 1216.93 Q227.287 1212.96 232.61 1212.96 Q234.039 1212.96 235.488 1213.24 Q236.955 1213.52 238.535 1214.09 Z\" fill=\"#000000\" fill-rule=\"nonzero\" fill-opacity=\"1\" /><path clip-path=\"url(#clip310)\" d=\"M57.7745 1023.8 L74.0939 1023.8 L74.0939 1027.74 L52.1495 1027.74 L52.1495 1023.8 Q54.8115 1021.05 59.3949 1016.42 Q64.0013 1011.76 65.1819 1010.42 Q67.4272 1007.9 68.3068 1006.16 Q69.2096 1004.4 69.2096 1002.71 Q69.2096 999.958 67.2652 998.221 Q65.3439 996.485 62.2421 996.485 Q60.043 996.485 57.5893 997.249 Q55.1588 998.013 52.381 999.564 L52.381 994.842 Q55.2051 993.708 57.6588 993.129 Q60.1124 992.55 62.1495 992.55 Q67.5198 992.55 70.7142 995.235 Q73.9087 997.921 73.9087 1002.41 Q73.9087 1004.54 73.0985 1006.46 Q72.3115 1008.36 70.205 1010.95 Q69.6263 1011.62 66.5245 1014.84 Q63.4226 1018.04 57.7745 1023.8 Z\" fill=\"#000000\" fill-rule=\"nonzero\" fill-opacity=\"1\" /><path clip-path=\"url(#clip310)\" d=\"M83.9086 1021.86 L88.7928 1021.86 L88.7928 1027.74 L83.9086 1027.74 L83.9086 1021.86 Z\" fill=\"#000000\" fill-rule=\"nonzero\" fill-opacity=\"1\" /><path clip-path=\"url(#clip310)\" d=\"M108.978 996.254 Q105.367 996.254 103.538 999.819 Q101.733 1003.36 101.733 1010.49 Q101.733 1017.6 103.538 1021.16 Q105.367 1024.7 108.978 1024.7 Q112.612 1024.7 114.418 1021.16 Q116.246 1017.6 116.246 1010.49 Q116.246 1003.36 114.418 999.819 Q112.612 996.254 108.978 996.254 M108.978 992.55 Q114.788 992.55 117.844 997.157 Q120.922 1001.74 120.922 1010.49 Q120.922 1019.22 117.844 1023.82 Q114.788 1028.41 108.978 1028.41 Q103.168 1028.41 100.089 1023.82 Q97.0335 1019.22 97.0335 1010.49 Q97.0335 1001.74 100.089 997.157 Q103.168 992.55 108.978 992.55 Z\" fill=\"#000000\" fill-rule=\"nonzero\" fill-opacity=\"1\" /><path clip-path=\"url(#clip310)\" d=\"M157.311 1002.27 L146.732 1012.9 L157.311 1023.48 L154.556 1026.28 L143.931 1015.65 L133.306 1026.28 L130.575 1023.48 L141.131 1012.9 L130.575 1002.27 L133.306 999.471 L143.931 1010.1 L154.556 999.471 L157.311 1002.27 Z\" fill=\"#000000\" fill-rule=\"nonzero\" fill-opacity=\"1\" /><path clip-path=\"url(#clip310)\" d=\"M169.672 1023.8 L177.311 1023.8 L177.311 997.434 L169.001 999.101 L169.001 994.842 L177.265 993.175 L181.94 993.175 L181.94 1023.8 L189.579 1023.8 L189.579 1027.74 L169.672 1027.74 L169.672 1023.8 Z\" fill=\"#000000\" fill-rule=\"nonzero\" fill-opacity=\"1\" /><path clip-path=\"url(#clip310)\" d=\"M209.024 996.254 Q205.413 996.254 203.584 999.819 Q201.778 1003.36 201.778 1010.49 Q201.778 1017.6 203.584 1021.16 Q205.413 1024.7 209.024 1024.7 Q212.658 1024.7 214.463 1021.16 Q216.292 1017.6 216.292 1010.49 Q216.292 1003.36 214.463 999.819 Q212.658 996.254 209.024 996.254 M209.024 992.55 Q214.834 992.55 217.889 997.157 Q220.968 1001.74 220.968 1010.49 Q220.968 1019.22 217.889 1023.82 Q214.834 1028.41 209.024 1028.41 Q203.214 1028.41 200.135 1023.82 Q197.079 1019.22 197.079 1010.49 Q197.079 1001.74 200.135 997.157 Q203.214 992.55 209.024 992.55 Z\" fill=\"#000000\" fill-rule=\"nonzero\" fill-opacity=\"1\" /><path clip-path=\"url(#clip310)\" d=\"M230.993 984.771 Q228.435 984.771 226.93 986.52 Q225.444 988.269 225.444 991.316 Q225.444 994.344 226.93 996.112 Q228.435 997.861 230.993 997.861 Q233.55 997.861 235.036 996.112 Q236.541 994.344 236.541 991.316 Q236.541 988.269 235.036 986.52 Q233.55 984.771 230.993 984.771 M238.535 972.865 L238.535 976.326 Q237.105 975.649 235.638 975.292 Q234.19 974.934 232.761 974.934 Q228.999 974.934 227.005 977.473 Q225.031 980.012 224.748 985.147 Q225.858 983.511 227.532 982.645 Q229.206 981.762 231.218 981.762 Q235.45 981.762 237.895 984.338 Q240.359 986.896 240.359 991.316 Q240.359 995.642 237.801 998.256 Q235.243 1000.87 230.993 1000.87 Q226.121 1000.87 223.545 997.146 Q220.968 993.404 220.968 986.313 Q220.968 979.655 224.128 975.705 Q227.287 971.737 232.61 971.737 Q234.039 971.737 235.488 972.019 Q236.955 972.301 238.535 972.865 Z\" fill=\"#000000\" fill-rule=\"nonzero\" fill-opacity=\"1\" /><path clip-path=\"url(#clip310)\" d=\"M67.9133 767.881 Q71.2698 768.598 73.1448 770.867 Q75.0429 773.135 75.0429 776.469 Q75.0429 781.585 71.5244 784.385 Q68.0059 787.186 61.5245 787.186 Q59.3486 787.186 57.0338 786.747 Q54.7421 786.33 52.2884 785.473 L52.2884 780.96 Q54.2328 782.094 56.5477 782.672 Q58.8625 783.251 61.3856 783.251 Q65.7837 783.251 68.0754 781.515 Q70.3902 779.779 70.3902 776.469 Q70.3902 773.413 68.2374 771.7 Q66.1078 769.964 62.2884 769.964 L58.2606 769.964 L58.2606 766.122 L62.4735 766.122 Q65.9226 766.122 67.7513 764.756 Q69.58 763.367 69.58 760.774 Q69.58 758.112 67.6819 756.7 Q65.8069 755.265 62.2884 755.265 Q60.3671 755.265 58.168 755.682 Q55.969 756.099 53.3301 756.978 L53.3301 752.812 Q55.9921 752.071 58.3069 751.7 Q60.6449 751.33 62.705 751.33 Q68.0291 751.33 71.1309 753.761 Q74.2327 756.168 74.2327 760.288 Q74.2327 763.159 72.5892 765.149 Q70.9457 767.117 67.9133 767.881 Z\" fill=\"#000000\" fill-rule=\"nonzero\" fill-opacity=\"1\" /><path clip-path=\"url(#clip310)\" d=\"M83.9086 780.635 L88.7928 780.635 L88.7928 786.515 L83.9086 786.515 L83.9086 780.635 Z\" fill=\"#000000\" fill-rule=\"nonzero\" fill-opacity=\"1\" /><path clip-path=\"url(#clip310)\" d=\"M108.978 755.034 Q105.367 755.034 103.538 758.599 Q101.733 762.14 101.733 769.27 Q101.733 776.376 103.538 779.941 Q105.367 783.483 108.978 783.483 Q112.612 783.483 114.418 779.941 Q116.246 776.376 116.246 769.27 Q116.246 762.14 114.418 758.599 Q112.612 755.034 108.978 755.034 M108.978 751.33 Q114.788 751.33 117.844 755.937 Q120.922 760.52 120.922 769.27 Q120.922 777.997 117.844 782.603 Q114.788 787.186 108.978 787.186 Q103.168 787.186 100.089 782.603 Q97.0335 777.997 97.0335 769.27 Q97.0335 760.52 100.089 755.937 Q103.168 751.33 108.978 751.33 Z\" fill=\"#000000\" fill-rule=\"nonzero\" fill-opacity=\"1\" /><path clip-path=\"url(#clip310)\" d=\"M157.311 761.052 L146.732 771.677 L157.311 782.256 L154.556 785.057 L143.931 774.432 L133.306 785.057 L130.575 782.256 L141.131 771.677 L130.575 761.052 L133.306 758.251 L143.931 768.876 L154.556 758.251 L157.311 761.052 Z\" fill=\"#000000\" fill-rule=\"nonzero\" fill-opacity=\"1\" /><path clip-path=\"url(#clip310)\" d=\"M169.672 782.58 L177.311 782.58 L177.311 756.214 L169.001 757.881 L169.001 753.622 L177.265 751.955 L181.94 751.955 L181.94 782.58 L189.579 782.58 L189.579 786.515 L169.672 786.515 L169.672 782.58 Z\" fill=\"#000000\" fill-rule=\"nonzero\" fill-opacity=\"1\" /><path clip-path=\"url(#clip310)\" d=\"M209.024 755.034 Q205.413 755.034 203.584 758.599 Q201.778 762.14 201.778 769.27 Q201.778 776.376 203.584 779.941 Q205.413 783.483 209.024 783.483 Q212.658 783.483 214.463 779.941 Q216.292 776.376 216.292 769.27 Q216.292 762.14 214.463 758.599 Q212.658 755.034 209.024 755.034 M209.024 751.33 Q214.834 751.33 217.889 755.937 Q220.968 760.52 220.968 769.27 Q220.968 777.997 217.889 782.603 Q214.834 787.186 209.024 787.186 Q203.214 787.186 200.135 782.603 Q197.079 777.997 197.079 769.27 Q197.079 760.52 200.135 755.937 Q203.214 751.33 209.024 751.33 Z\" fill=\"#000000\" fill-rule=\"nonzero\" fill-opacity=\"1\" /><path clip-path=\"url(#clip310)\" d=\"M230.993 743.551 Q228.435 743.551 226.93 745.3 Q225.444 747.049 225.444 750.096 Q225.444 753.124 226.93 754.892 Q228.435 756.641 230.993 756.641 Q233.55 756.641 235.036 754.892 Q236.541 753.124 236.541 750.096 Q236.541 747.049 235.036 745.3 Q233.55 743.551 230.993 743.551 M238.535 731.645 L238.535 735.106 Q237.105 734.429 235.638 734.072 Q234.19 733.714 232.761 733.714 Q228.999 733.714 227.005 736.253 Q225.031 738.792 224.748 743.927 Q225.858 742.291 227.532 741.425 Q229.206 740.541 231.218 740.541 Q235.45 740.541 237.895 743.118 Q240.359 745.676 240.359 750.096 Q240.359 754.422 237.801 757.036 Q235.243 759.65 230.993 759.65 Q226.121 759.65 223.545 755.926 Q220.968 752.183 220.968 745.093 Q220.968 738.435 224.128 734.485 Q227.287 730.517 232.61 730.517 Q234.039 730.517 235.488 730.799 Q236.955 731.081 238.535 731.645 Z\" fill=\"#000000\" fill-rule=\"nonzero\" fill-opacity=\"1\" /><path clip-path=\"url(#clip310)\" d=\"M66.5939 514.809 L54.7884 533.258 L66.5939 533.258 L66.5939 514.809 M65.367 510.735 L71.2466 510.735 L71.2466 533.258 L76.1772 533.258 L76.1772 537.147 L71.2466 537.147 L71.2466 545.295 L66.5939 545.295 L66.5939 537.147 L50.9921 537.147 L50.9921 532.633 L65.367 510.735 Z\" fill=\"#000000\" fill-rule=\"nonzero\" fill-opacity=\"1\" /><path clip-path=\"url(#clip310)\" d=\"M83.9086 539.415 L88.7928 539.415 L88.7928 545.295 L83.9086 545.295 L83.9086 539.415 Z\" fill=\"#000000\" fill-rule=\"nonzero\" fill-opacity=\"1\" /><path clip-path=\"url(#clip310)\" d=\"M108.978 513.814 Q105.367 513.814 103.538 517.378 Q101.733 520.92 101.733 528.05 Q101.733 535.156 103.538 538.721 Q105.367 542.263 108.978 542.263 Q112.612 542.263 114.418 538.721 Q116.246 535.156 116.246 528.05 Q116.246 520.92 114.418 517.378 Q112.612 513.814 108.978 513.814 M108.978 510.11 Q114.788 510.11 117.844 514.716 Q120.922 519.3 120.922 528.05 Q120.922 536.776 117.844 541.383 Q114.788 545.966 108.978 545.966 Q103.168 545.966 100.089 541.383 Q97.0335 536.776 97.0335 528.05 Q97.0335 519.3 100.089 514.716 Q103.168 510.11 108.978 510.11 Z\" fill=\"#000000\" fill-rule=\"nonzero\" fill-opacity=\"1\" /><path clip-path=\"url(#clip310)\" d=\"M157.311 519.832 L146.732 530.457 L157.311 541.036 L154.556 543.837 L143.931 533.212 L133.306 543.837 L130.575 541.036 L141.131 530.457 L130.575 519.832 L133.306 517.031 L143.931 527.656 L154.556 517.031 L157.311 519.832 Z\" fill=\"#000000\" fill-rule=\"nonzero\" fill-opacity=\"1\" /><path clip-path=\"url(#clip310)\" d=\"M169.672 541.36 L177.311 541.36 L177.311 514.994 L169.001 516.661 L169.001 512.402 L177.265 510.735 L181.94 510.735 L181.94 541.36 L189.579 541.36 L189.579 545.295 L169.672 545.295 L169.672 541.36 Z\" fill=\"#000000\" fill-rule=\"nonzero\" fill-opacity=\"1\" /><path clip-path=\"url(#clip310)\" d=\"M209.024 513.814 Q205.413 513.814 203.584 517.378 Q201.778 520.92 201.778 528.05 Q201.778 535.156 203.584 538.721 Q205.413 542.263 209.024 542.263 Q212.658 542.263 214.463 538.721 Q216.292 535.156 216.292 528.05 Q216.292 520.92 214.463 517.378 Q212.658 513.814 209.024 513.814 M209.024 510.11 Q214.834 510.11 217.889 514.716 Q220.968 519.3 220.968 528.05 Q220.968 536.776 217.889 541.383 Q214.834 545.966 209.024 545.966 Q203.214 545.966 200.135 541.383 Q197.079 536.776 197.079 528.05 Q197.079 519.3 200.135 514.716 Q203.214 510.11 209.024 510.11 Z\" fill=\"#000000\" fill-rule=\"nonzero\" fill-opacity=\"1\" /><path clip-path=\"url(#clip310)\" d=\"M230.993 502.33 Q228.435 502.33 226.93 504.08 Q225.444 505.829 225.444 508.876 Q225.444 511.904 226.93 513.672 Q228.435 515.421 230.993 515.421 Q233.55 515.421 235.036 513.672 Q236.541 511.904 236.541 508.876 Q236.541 505.829 235.036 504.08 Q233.55 502.33 230.993 502.33 M238.535 490.425 L238.535 493.886 Q237.105 493.209 235.638 492.851 Q234.19 492.494 232.761 492.494 Q228.999 492.494 227.005 495.033 Q225.031 497.572 224.748 502.707 Q225.858 501.07 227.532 500.205 Q229.206 499.321 231.218 499.321 Q235.45 499.321 237.895 501.898 Q240.359 504.456 240.359 508.876 Q240.359 513.201 237.801 515.816 Q235.243 518.43 230.993 518.43 Q226.121 518.43 223.545 514.706 Q220.968 510.963 220.968 503.873 Q220.968 497.215 224.128 493.265 Q227.287 489.297 232.61 489.297 Q234.039 489.297 235.488 489.579 Q236.955 489.861 238.535 490.425 Z\" fill=\"#000000\" fill-rule=\"nonzero\" fill-opacity=\"1\" /><path clip-path=\"url(#clip310)\" d=\"M53.793 269.515 L72.1494 269.515 L72.1494 273.45 L58.0754 273.45 L58.0754 281.922 Q59.0939 281.575 60.1124 281.413 Q61.131 281.228 62.1495 281.228 Q67.9365 281.228 71.3161 284.399 Q74.6957 287.57 74.6957 292.987 Q74.6957 298.566 71.2235 301.667 Q67.7513 304.746 61.4319 304.746 Q59.256 304.746 56.9875 304.376 Q54.7421 304.005 52.3347 303.265 L52.3347 298.566 Q54.418 299.7 56.6402 300.255 Q58.8625 300.811 61.3393 300.811 Q65.3439 300.811 67.6819 298.704 Q70.0198 296.598 70.0198 292.987 Q70.0198 289.376 67.6819 287.269 Q65.3439 285.163 61.3393 285.163 Q59.4643 285.163 57.5893 285.58 Q55.7375 285.996 53.793 286.876 L53.793 269.515 Z\" fill=\"#000000\" fill-rule=\"nonzero\" fill-opacity=\"1\" /><path clip-path=\"url(#clip310)\" d=\"M83.9086 298.195 L88.7928 298.195 L88.7928 304.075 L83.9086 304.075 L83.9086 298.195 Z\" fill=\"#000000\" fill-rule=\"nonzero\" fill-opacity=\"1\" /><path clip-path=\"url(#clip310)\" d=\"M108.978 272.593 Q105.367 272.593 103.538 276.158 Q101.733 279.7 101.733 286.829 Q101.733 293.936 103.538 297.501 Q105.367 301.042 108.978 301.042 Q112.612 301.042 114.418 297.501 Q116.246 293.936 116.246 286.829 Q116.246 279.7 114.418 276.158 Q112.612 272.593 108.978 272.593 M108.978 268.89 Q114.788 268.89 117.844 273.496 Q120.922 278.08 120.922 286.829 Q120.922 295.556 117.844 300.163 Q114.788 304.746 108.978 304.746 Q103.168 304.746 100.089 300.163 Q97.0335 295.556 97.0335 286.829 Q97.0335 278.08 100.089 273.496 Q103.168 268.89 108.978 268.89 Z\" fill=\"#000000\" fill-rule=\"nonzero\" fill-opacity=\"1\" /><path clip-path=\"url(#clip310)\" d=\"M157.311 278.612 L146.732 289.237 L157.311 299.816 L154.556 302.616 L143.931 291.992 L133.306 302.616 L130.575 299.816 L141.131 289.237 L130.575 278.612 L133.306 275.811 L143.931 286.436 L154.556 275.811 L157.311 278.612 Z\" fill=\"#000000\" fill-rule=\"nonzero\" fill-opacity=\"1\" /><path clip-path=\"url(#clip310)\" d=\"M169.672 300.14 L177.311 300.14 L177.311 273.774 L169.001 275.441 L169.001 271.181 L177.265 269.515 L181.94 269.515 L181.94 300.14 L189.579 300.14 L189.579 304.075 L169.672 304.075 L169.672 300.14 Z\" fill=\"#000000\" fill-rule=\"nonzero\" fill-opacity=\"1\" /><path clip-path=\"url(#clip310)\" d=\"M209.024 272.593 Q205.413 272.593 203.584 276.158 Q201.778 279.7 201.778 286.829 Q201.778 293.936 203.584 297.501 Q205.413 301.042 209.024 301.042 Q212.658 301.042 214.463 297.501 Q216.292 293.936 216.292 286.829 Q216.292 279.7 214.463 276.158 Q212.658 272.593 209.024 272.593 M209.024 268.89 Q214.834 268.89 217.889 273.496 Q220.968 278.08 220.968 286.829 Q220.968 295.556 217.889 300.163 Q214.834 304.746 209.024 304.746 Q203.214 304.746 200.135 300.163 Q197.079 295.556 197.079 286.829 Q197.079 278.08 200.135 273.496 Q203.214 268.89 209.024 268.89 Z\" fill=\"#000000\" fill-rule=\"nonzero\" fill-opacity=\"1\" /><path clip-path=\"url(#clip310)\" d=\"M230.993 261.11 Q228.435 261.11 226.93 262.859 Q225.444 264.609 225.444 267.655 Q225.444 270.684 226.93 272.451 Q228.435 274.201 230.993 274.201 Q233.55 274.201 235.036 272.451 Q236.541 270.684 236.541 267.655 Q236.541 264.609 235.036 262.859 Q233.55 261.11 230.993 261.11 M238.535 249.205 L238.535 252.666 Q237.105 251.989 235.638 251.631 Q234.19 251.274 232.761 251.274 Q228.999 251.274 227.005 253.813 Q225.031 256.352 224.748 261.487 Q225.858 259.85 227.532 258.985 Q229.206 258.101 231.218 258.101 Q235.45 258.101 237.895 260.678 Q240.359 263.236 240.359 267.655 Q240.359 271.981 237.801 274.596 Q235.243 277.21 230.993 277.21 Q226.121 277.21 223.545 273.486 Q220.968 269.743 220.968 262.653 Q220.968 255.995 224.128 252.045 Q227.287 248.077 232.61 248.077 Q234.039 248.077 235.488 248.359 Q236.955 248.641 238.535 249.205 Z\" fill=\"#000000\" fill-rule=\"nonzero\" fill-opacity=\"1\" /><polyline clip-path=\"url(#clip312)\" style=\"stroke:#009af9; stroke-linecap:round; stroke-linejoin:round; stroke-width:4; stroke-opacity:1; fill:none\" points=\"335.125,1486.45 335.125,1486 343.355,1486 343.355,1485.04 351.586,1485.04 351.586,1483.87 359.816,1483.87 359.816,1482.46 368.047,1482.46 368.047,1480.82 376.277,1480.82 376.277,1478.78 384.508,1478.78 384.508,1475.06 392.739,1475.06 392.739,1467.62 400.969,1467.62 400.969,1458.51 409.2,1458.51 409.2,1449.29 417.43,1449.29 417.43,1440.64 425.661,1440.64 425.661,1431.56 433.891,1431.56 433.891,1422.75 442.122,1422.75 442.122,1412.67 450.352,1412.67 450.352,1399.48 458.583,1399.48 458.583,1387.03 466.813,1387.03 466.813,1374.39 475.044,1374.39 475.044,1359.9 483.274,1359.9 483.274,1344.13 491.505,1344.13 491.505,1328.52 499.735,1328.52 499.735,1310.66 507.966,1310.66 507.966,1293.3 516.196,1293.3 516.196,1277.45 524.427,1277.45 524.427,1257.2 532.657,1257.2 532.657,1231.9 540.888,1231.9 540.888,1202.33 549.118,1202.33 549.118,1165.97 557.349,1165.97 557.349,1120.93 565.58,1120.93 565.58,1067.98 573.81,1067.98 573.81,1007.11 582.041,1007.11 582.041,941.93 590.271,941.93 590.271,873.93 598.502,873.93 598.502,807.341 606.732,807.341 606.732,744.949 614.963,744.949 614.963,686.61 623.193,686.61 623.193,630.514 631.424,630.514 631.424,578.905 639.654,578.905 639.654,533.761 647.885,533.761 647.885,493.887 656.115,493.887 656.115,462.456 664.346,462.456 664.346,432.34 672.576,432.34 672.576,399.1 680.807,399.1 680.807,366.74 689.037,366.74 689.037,339.904 697.268,339.904 697.268,315.819 705.498,315.819 705.498,293.807 713.729,293.807 713.729,275.607 721.96,275.607 721.96,258.505 730.19,258.505 730.19,245.008 738.421,245.008 738.421,232.658 746.651,232.658 746.651,221.827 754.882,221.827 754.882,213.481 763.112,213.481 763.112,207.342 771.343,207.342 771.343,200.069 779.573,200.069 779.573,191.675 787.804,191.675 787.804,184.559 796.034,184.559 796.034,180.265 804.265,180.265 804.265,177.804 812.495,177.804 812.495,174.608 820.726,174.608 820.726,169.277 828.956,169.277 828.956,164.393 837.187,164.393 837.187,160.521 845.417,160.521 845.417,156.879 853.648,156.879 853.648,149.558 861.878,149.558 861.878,142.333 870.109,142.333 870.109,137.292 878.34,137.292 878.34,132.503 886.57,132.503 886.57,128.957 894.801,128.957 894.801,126.002 903.031,126.002 903.031,122.999 911.262,122.999 911.262,118.73 919.492,118.73 919.492,113.881 927.723,113.881 927.723,107.404 935.953,107.404 935.953,100.843 944.184,100.843 944.184,96.3686 952.414,96.3686 952.414,93.1845 960.645,93.1845 960.645,92.6297 968.875,92.6297 968.875,93.6669 977.106,93.6669 977.106,94.2338 985.336,94.2338 985.336,94.1494 993.567,94.1494 993.567,93.2448 1001.8,93.2448 1001.8,91.8457 1010.03,91.8457 1010.03,89.0837 1018.26,89.0837 1018.26,86.177 1026.49,86.177 1026.49,83.7648 1034.72,83.7648 1034.72,83.2944 1042.95,83.2944 1042.95,83.7045 1051.18,83.7045 1051.18,84.7418 1059.41,84.7418 1059.41,86.3821 1067.64,86.3821 1067.64,86.9972 1075.87,86.9972 1075.87,87.6967 1084.1,87.6967 1084.1,85.6584 1092.33,85.6584 1092.33,82.7276 1100.56,82.7276 1100.56,79.7003 1108.79,79.7003 1108.79,78.47 1117.02,78.47 1117.02,77.1192 1125.26,77.1192 1125.26,74.9844 1133.49,74.9844 1133.49,73.2838 1141.72,73.2838 1141.72,71.1249 1149.95,71.1249 1149.95,71.0887 1158.18,71.0887 1158.18,71.3661 1166.41,71.3661 1166.41,69.6896 1174.64,69.6896 1174.64,67.579 1182.87,67.579 1182.87,66.2402 1191.1,66.2402 1191.1,65.2271 1199.33,65.2271 1199.33,65.0823 1207.56,65.0823 1207.56,65.6251 1215.79,65.6251 1215.79,65.2512 1224.02,65.2512 1224.02,65.3838 1232.25,65.3838 1232.25,65.4924 1240.48,65.4924 1240.48,65.7819 1248.71,65.7819 1248.71,66.1196 1256.94,66.1196 1256.94,64.0451 1265.17,64.0451 1265.17,60.9213 1273.4,60.9213 1273.4,58.7865 1281.64,58.7865 1281.64,56.7361 1289.87,56.7361 1289.87,55.3491 1298.1,55.3491 1298.1,55.0114 1306.33,55.0114 1306.33,55.3732 1314.56,55.3732 1314.56,54.927 1322.79,54.927 1322.79,54.4686 1331.02,54.4686 1331.02,53.6002 1339.25,53.6002 1339.25,52.6836 1347.48,52.6836 1347.48,51.9961 1355.71,51.9961 1355.71,51.9117 1363.94,51.9117 1363.94,52.4786 1372.17,52.4786 1372.17,53.6485 1380.4,53.6485 1380.4,54.9028 1388.63,54.9028 1388.63,54.3239 1396.86,54.3239 1396.86,52.8163 1405.09,52.8163 1405.09,50.8262 1413.32,50.8262 1413.32,50.0302 1421.55,50.0302 1421.55,49.7407 1429.78,49.7407 1429.78,49.6925 1438.02,49.6925 1438.02,50.1026 1446.25,50.1026 1446.25,51.5137 1454.48,51.5137 1454.48,52.2856 1462.71,52.2856 1462.71,52.0806 1470.94,52.0806 1470.94,51.6464 1479.17,51.6464 1479.17,51.3328 1487.4,51.3328 1487.4,49.0532 1495.63,49.0532 1495.63,47.6662 1503.86,47.6662 1503.86,47.2441 1512.09,47.2441 1512.09,48.1125 1520.32,48.1125 1520.32,50.4161 1528.55,50.4161 1528.55,50.7418 1536.78,50.7418 1536.78,50.392 1545.01,50.392 1545.01,49.7528 1553.24,49.7528 1553.24,48.9206 1561.47,48.9206 1561.47,48.402 1569.7,48.402 1569.7,49.5236 1577.93,49.5236 1577.93,52.9972 1586.16,52.9972 1586.16,58.0025 1594.4,58.0025 1594.4,62.9716 1602.63,62.9716 1602.63,66.8915 1610.86,66.8915 1610.86,69.9308 1619.09,69.9308 1619.09,69.8223 1627.32,69.8223 1627.32,69.4122 1635.55,69.4122 1635.55,69.762 1643.78,69.762 1643.78,70.6304 1652.01,70.6304 1652.01,73.115 1660.24,73.115 1660.24,76.2388 1668.47,76.2388 1668.47,81.0511 1676.7,81.0511 1676.7,87.9741 1684.93,87.9741 1684.93,95.271 1693.16,95.271 1693.16,102.833 1701.39,102.833 1701.39,111.686 1709.62,111.686 1709.62,121.13 1717.85,121.13 1717.85,131.008 1726.08,131.008 1726.08,141.187 1734.31,141.187 1734.31,149.148 1742.54,149.148 1742.54,156.312 1750.78,156.312 1750.78,164.465 1759.01,164.465 1759.01,171.46 1767.24,171.46 1767.24,178.275 1775.47,178.275 1775.47,185.656 1783.7,185.656 1783.7,193.038 1791.93,193.038 1791.93,199.128 1800.16,199.128 1800.16,204.146 1808.39,204.146 1808.39,210.454 1816.62,210.454 1816.62,222.671 1824.85,222.671 1824.85,238.604 1833.08,238.604 1833.08,252.679 1841.31,252.679 1841.31,267.695 1849.54,267.695 1849.54,286.233 1857.77,286.233 1857.77,310.415 1866,310.415 1866,341.123 1874.23,341.123 1874.23,379.392 1882.46,379.392 1882.46,423.765 1890.69,423.765 1890.69,479.33 1898.92,479.33 1898.92,545.327 1907.16,545.327 1907.16,613.617 1915.39,613.617 1915.39,678.915 1923.62,678.915 1923.62,742.115 1931.85,742.115 1931.85,802.251 1940.08,802.251 1940.08,853.715 1948.31,853.715 1948.31,894.65 1956.54,894.65 1956.54,921.655 1964.77,921.655 1964.77,942.279 1973,942.279 1973,962.289 1981.23,962.289 1981.23,983.83 1989.46,983.83 1989.46,1006.93 1997.69,1006.93 1997.69,1031.37 2005.92,1031.37 2005.92,1058.4 2014.15,1058.4 2014.15,1087.37 2022.38,1087.37 2022.38,1116.38 2030.61,1116.38 2030.61,1149.43 2038.84,1149.43 2038.84,1184.14 2047.07,1184.14 2047.07,1216.94 2055.3,1216.94 2055.3,1246.31 2063.54,1246.31 2063.54,1271.45 2071.77,1271.45 2071.77,1291.7 2080,1291.7 2080,1311.29 2088.23,1311.29 2088.23,1331.23 2096.46,1331.23 2096.46,1347.57 2104.69,1347.57 2104.69,1360.93 2112.92,1360.93 2112.92,1371.83 2121.15,1371.83 2121.15,1381.47 2129.38,1381.47 2129.38,1391.54 2137.61,1391.54 2137.61,1401.38 2145.84,1401.38 2145.84,1410.55 2154.07,1410.55 2154.07,1419.64 2162.3,1419.64 2162.3,1429.13 2170.53,1429.13 2170.53,1438.4 2178.76,1438.4 2178.76,1447.36 2186.99,1447.36 2186.99,1456.33 2195.22,1456.33 2195.22,1464.83 2203.45,1464.83 2203.45,1471.85 2211.68,1471.85 2211.68,1476.47 2219.92,1476.47 2219.92,1478.57 2228.15,1478.57 2228.15,1479.45 2236.38,1479.45 2236.38,1480.51 2244.61,1480.51 2244.61,1481.55 2252.84,1481.55 2252.84,1483 2261.07,1483 2261.07,1484.11 2269.3,1484.11 2269.3,1485.17 2277.53,1485.17 2277.53,1486.04 2285.76,1486.04 2285.76,1486.44 2293.99,1486.44 2293.99,1486.45 \"/>\n",
       "<path clip-path=\"url(#clip312)\" d=\"M1232.25 64.6964 L1232.25 1486.45 L1232.66 1486.45 L1232.66 64.6964 L1232.25 64.6964 L1232.25 64.6964  Z\" fill=\"#e26f46\" fill-rule=\"evenodd\" fill-opacity=\"1\"/>\n",
       "<polyline clip-path=\"url(#clip312)\" style=\"stroke:#000000; stroke-linecap:round; stroke-linejoin:round; stroke-width:4; stroke-opacity:1; fill:none\" points=\"1232.25,64.6964 1232.25,1486.45 1232.66,1486.45 1232.66,64.6964 1232.25,64.6964 \"/>\n",
       "<path clip-path=\"url(#clip312)\" d=\"M1232.66 65.6613 L1232.66 1486.45 L1233.08 1486.45 L1233.08 65.6613 L1232.66 65.6613 L1232.66 65.6613  Z\" fill=\"#e26f46\" fill-rule=\"evenodd\" fill-opacity=\"1\"/>\n",
       "<polyline clip-path=\"url(#clip312)\" style=\"stroke:#000000; stroke-linecap:round; stroke-linejoin:round; stroke-width:4; stroke-opacity:1; fill:none\" points=\"1232.66,65.6613 1232.66,1486.45 1233.08,1486.45 1233.08,65.6613 1232.66,65.6613 \"/>\n",
       "<path clip-path=\"url(#clip312)\" d=\"M1233.08 64.4552 L1233.08 1486.45 L1233.49 1486.45 L1233.49 64.4552 L1233.08 64.4552 L1233.08 64.4552  Z\" fill=\"#e26f46\" fill-rule=\"evenodd\" fill-opacity=\"1\"/>\n",
       "<polyline clip-path=\"url(#clip312)\" style=\"stroke:#000000; stroke-linecap:round; stroke-linejoin:round; stroke-width:4; stroke-opacity:1; fill:none\" points=\"1233.08,64.4552 1233.08,1486.45 1233.49,1486.45 1233.49,64.4552 1233.08,64.4552 \"/>\n",
       "<path clip-path=\"url(#clip312)\" d=\"M1233.49 65.6613 L1233.49 1486.45 L1233.9 1486.45 L1233.9 65.6613 L1233.49 65.6613 L1233.49 65.6613  Z\" fill=\"#e26f46\" fill-rule=\"evenodd\" fill-opacity=\"1\"/>\n",
       "<polyline clip-path=\"url(#clip312)\" style=\"stroke:#000000; stroke-linecap:round; stroke-linejoin:round; stroke-width:4; stroke-opacity:1; fill:none\" points=\"1233.49,65.6613 1233.49,1486.45 1233.9,1486.45 1233.9,65.6613 1233.49,65.6613 \"/>\n",
       "<path clip-path=\"url(#clip312)\" d=\"M1233.9 67.591 L1233.9 1486.45 L1234.31 1486.45 L1234.31 67.591 L1233.9 67.591 L1233.9 67.591  Z\" fill=\"#e26f46\" fill-rule=\"evenodd\" fill-opacity=\"1\"/>\n",
       "<polyline clip-path=\"url(#clip312)\" style=\"stroke:#000000; stroke-linecap:round; stroke-linejoin:round; stroke-width:4; stroke-opacity:1; fill:none\" points=\"1233.9,67.591 1233.9,1486.45 1234.31,1486.45 1234.31,67.591 1233.9,67.591 \"/>\n",
       "<path clip-path=\"url(#clip312)\" d=\"M1234.31 63.0078 L1234.31 1486.45 L1234.72 1486.45 L1234.72 63.0078 L1234.31 63.0078 L1234.31 63.0078  Z\" fill=\"#e26f46\" fill-rule=\"evenodd\" fill-opacity=\"1\"/>\n",
       "<polyline clip-path=\"url(#clip312)\" style=\"stroke:#000000; stroke-linecap:round; stroke-linejoin:round; stroke-width:4; stroke-opacity:1; fill:none\" points=\"1234.31,63.0078 1234.31,1486.45 1234.72,1486.45 1234.72,63.0078 1234.31,63.0078 \"/>\n",
       "<path clip-path=\"url(#clip312)\" d=\"M1234.72 66.3849 L1234.72 1486.45 L1235.13 1486.45 L1235.13 66.3849 L1234.72 66.3849 L1234.72 66.3849  Z\" fill=\"#e26f46\" fill-rule=\"evenodd\" fill-opacity=\"1\"/>\n",
       "<polyline clip-path=\"url(#clip312)\" style=\"stroke:#000000; stroke-linecap:round; stroke-linejoin:round; stroke-width:4; stroke-opacity:1; fill:none\" points=\"1234.72,66.3849 1234.72,1486.45 1235.13,1486.45 1235.13,66.3849 1234.72,66.3849 \"/>\n",
       "<path clip-path=\"url(#clip312)\" d=\"M1235.13 65.6613 L1235.13 1486.45 L1235.54 1486.45 L1235.54 65.6613 L1235.13 65.6613 L1235.13 65.6613  Z\" fill=\"#e26f46\" fill-rule=\"evenodd\" fill-opacity=\"1\"/>\n",
       "<polyline clip-path=\"url(#clip312)\" style=\"stroke:#000000; stroke-linecap:round; stroke-linejoin:round; stroke-width:4; stroke-opacity:1; fill:none\" points=\"1235.13,65.6613 1235.13,1486.45 1235.54,1486.45 1235.54,65.6613 1235.13,65.6613 \"/>\n",
       "<path clip-path=\"url(#clip312)\" d=\"M1235.54 66.6261 L1235.54 1486.45 L1235.96 1486.45 L1235.96 66.6261 L1235.54 66.6261 L1235.54 66.6261  Z\" fill=\"#e26f46\" fill-rule=\"evenodd\" fill-opacity=\"1\"/>\n",
       "<polyline clip-path=\"url(#clip312)\" style=\"stroke:#000000; stroke-linecap:round; stroke-linejoin:round; stroke-width:4; stroke-opacity:1; fill:none\" points=\"1235.54,66.6261 1235.54,1486.45 1235.96,1486.45 1235.96,66.6261 1235.54,66.6261 \"/>\n",
       "<path clip-path=\"url(#clip312)\" d=\"M1235.96 65.9025 L1235.96 1486.45 L1236.37 1486.45 L1236.37 65.9025 L1235.96 65.9025 L1235.96 65.9025  Z\" fill=\"#e26f46\" fill-rule=\"evenodd\" fill-opacity=\"1\"/>\n",
       "<polyline clip-path=\"url(#clip312)\" style=\"stroke:#000000; stroke-linecap:round; stroke-linejoin:round; stroke-width:4; stroke-opacity:1; fill:none\" points=\"1235.96,65.9025 1235.96,1486.45 1236.37,1486.45 1236.37,65.9025 1235.96,65.9025 \"/>\n",
       "<path clip-path=\"url(#clip312)\" d=\"M1236.37 66.1437 L1236.37 1486.45 L1236.78 1486.45 L1236.78 66.1437 L1236.37 66.1437 L1236.37 66.1437  Z\" fill=\"#e26f46\" fill-rule=\"evenodd\" fill-opacity=\"1\"/>\n",
       "<polyline clip-path=\"url(#clip312)\" style=\"stroke:#000000; stroke-linecap:round; stroke-linejoin:round; stroke-width:4; stroke-opacity:1; fill:none\" points=\"1236.37,66.1437 1236.37,1486.45 1236.78,1486.45 1236.78,66.1437 1236.37,66.1437 \"/>\n",
       "<path clip-path=\"url(#clip312)\" d=\"M1236.78 63.9727 L1236.78 1486.45 L1237.19 1486.45 L1237.19 63.9727 L1236.78 63.9727 L1236.78 63.9727  Z\" fill=\"#e26f46\" fill-rule=\"evenodd\" fill-opacity=\"1\"/>\n",
       "<polyline clip-path=\"url(#clip312)\" style=\"stroke:#000000; stroke-linecap:round; stroke-linejoin:round; stroke-width:4; stroke-opacity:1; fill:none\" points=\"1236.78,63.9727 1236.78,1486.45 1237.19,1486.45 1237.19,63.9727 1236.78,63.9727 \"/>\n",
       "<path clip-path=\"url(#clip312)\" d=\"M1237.19 64.6964 L1237.19 1486.45 L1237.6 1486.45 L1237.6 64.6964 L1237.19 64.6964 L1237.19 64.6964  Z\" fill=\"#e26f46\" fill-rule=\"evenodd\" fill-opacity=\"1\"/>\n",
       "<polyline clip-path=\"url(#clip312)\" style=\"stroke:#000000; stroke-linecap:round; stroke-linejoin:round; stroke-width:4; stroke-opacity:1; fill:none\" points=\"1237.19,64.6964 1237.19,1486.45 1237.6,1486.45 1237.6,64.6964 1237.19,64.6964 \"/>\n",
       "<path clip-path=\"url(#clip312)\" d=\"M1237.6 65.6613 L1237.6 1486.45 L1238.01 1486.45 L1238.01 65.6613 L1237.6 65.6613 L1237.6 65.6613  Z\" fill=\"#e26f46\" fill-rule=\"evenodd\" fill-opacity=\"1\"/>\n",
       "<polyline clip-path=\"url(#clip312)\" style=\"stroke:#000000; stroke-linecap:round; stroke-linejoin:round; stroke-width:4; stroke-opacity:1; fill:none\" points=\"1237.6,65.6613 1237.6,1486.45 1238.01,1486.45 1238.01,65.6613 1237.6,65.6613 \"/>\n",
       "<path clip-path=\"url(#clip312)\" d=\"M1238.01 68.5559 L1238.01 1486.45 L1238.43 1486.45 L1238.43 68.5559 L1238.01 68.5559 L1238.01 68.5559  Z\" fill=\"#e26f46\" fill-rule=\"evenodd\" fill-opacity=\"1\"/>\n",
       "<polyline clip-path=\"url(#clip312)\" style=\"stroke:#000000; stroke-linecap:round; stroke-linejoin:round; stroke-width:4; stroke-opacity:1; fill:none\" points=\"1238.01,68.5559 1238.01,1486.45 1238.43,1486.45 1238.43,68.5559 1238.01,68.5559 \"/>\n",
       "<path clip-path=\"url(#clip312)\" d=\"M1238.43 62.2842 L1238.43 1486.45 L1238.84 1486.45 L1238.84 62.2842 L1238.43 62.2842 L1238.43 62.2842  Z\" fill=\"#e26f46\" fill-rule=\"evenodd\" fill-opacity=\"1\"/>\n",
       "<polyline clip-path=\"url(#clip312)\" style=\"stroke:#000000; stroke-linecap:round; stroke-linejoin:round; stroke-width:4; stroke-opacity:1; fill:none\" points=\"1238.43,62.2842 1238.43,1486.45 1238.84,1486.45 1238.84,62.2842 1238.43,62.2842 \"/>\n",
       "<path clip-path=\"url(#clip312)\" d=\"M1238.84 66.8674 L1238.84 1486.45 L1239.25 1486.45 L1239.25 66.8674 L1238.84 66.8674 L1238.84 66.8674  Z\" fill=\"#e26f46\" fill-rule=\"evenodd\" fill-opacity=\"1\"/>\n",
       "<polyline clip-path=\"url(#clip312)\" style=\"stroke:#000000; stroke-linecap:round; stroke-linejoin:round; stroke-width:4; stroke-opacity:1; fill:none\" points=\"1238.84,66.8674 1238.84,1486.45 1239.25,1486.45 1239.25,66.8674 1238.84,66.8674 \"/>\n",
       "<path clip-path=\"url(#clip312)\" d=\"M1239.25 64.6964 L1239.25 1486.45 L1239.66 1486.45 L1239.66 64.6964 L1239.25 64.6964 L1239.25 64.6964  Z\" fill=\"#e26f46\" fill-rule=\"evenodd\" fill-opacity=\"1\"/>\n",
       "<polyline clip-path=\"url(#clip312)\" style=\"stroke:#000000; stroke-linecap:round; stroke-linejoin:round; stroke-width:4; stroke-opacity:1; fill:none\" points=\"1239.25,64.6964 1239.25,1486.45 1239.66,1486.45 1239.66,64.6964 1239.25,64.6964 \"/>\n",
       "<path clip-path=\"url(#clip312)\" d=\"M1239.66 65.9025 L1239.66 1486.45 L1240.07 1486.45 L1240.07 65.9025 L1239.66 65.9025 L1239.66 65.9025  Z\" fill=\"#e26f46\" fill-rule=\"evenodd\" fill-opacity=\"1\"/>\n",
       "<polyline clip-path=\"url(#clip312)\" style=\"stroke:#000000; stroke-linecap:round; stroke-linejoin:round; stroke-width:4; stroke-opacity:1; fill:none\" points=\"1239.66,65.9025 1239.66,1486.45 1240.07,1486.45 1240.07,65.9025 1239.66,65.9025 \"/>\n",
       "<path clip-path=\"url(#clip312)\" d=\"M1240.07 66.8674 L1240.07 1486.45 L1240.48 1486.45 L1240.48 66.8674 L1240.07 66.8674 L1240.07 66.8674  Z\" fill=\"#e26f46\" fill-rule=\"evenodd\" fill-opacity=\"1\"/>\n",
       "<polyline clip-path=\"url(#clip312)\" style=\"stroke:#000000; stroke-linecap:round; stroke-linejoin:round; stroke-width:4; stroke-opacity:1; fill:none\" points=\"1240.07,66.8674 1240.07,1486.45 1240.48,1486.45 1240.48,66.8674 1240.07,66.8674 \"/>\n",
       "<path clip-path=\"url(#clip312)\" d=\"M1240.48 65.9025 L1240.48 1486.45 L1240.89 1486.45 L1240.89 65.9025 L1240.48 65.9025 L1240.48 65.9025  Z\" fill=\"#e26f46\" fill-rule=\"evenodd\" fill-opacity=\"1\"/>\n",
       "<polyline clip-path=\"url(#clip312)\" style=\"stroke:#000000; stroke-linecap:round; stroke-linejoin:round; stroke-width:4; stroke-opacity:1; fill:none\" points=\"1240.48,65.9025 1240.48,1486.45 1240.89,1486.45 1240.89,65.9025 1240.48,65.9025 \"/>\n",
       "<path clip-path=\"url(#clip312)\" d=\"M1240.89 64.9376 L1240.89 1486.45 L1241.31 1486.45 L1241.31 64.9376 L1240.89 64.9376 L1240.89 64.9376  Z\" fill=\"#e26f46\" fill-rule=\"evenodd\" fill-opacity=\"1\"/>\n",
       "<polyline clip-path=\"url(#clip312)\" style=\"stroke:#000000; stroke-linecap:round; stroke-linejoin:round; stroke-width:4; stroke-opacity:1; fill:none\" points=\"1240.89,64.9376 1240.89,1486.45 1241.31,1486.45 1241.31,64.9376 1240.89,64.9376 \"/>\n",
       "<path clip-path=\"url(#clip312)\" d=\"M1241.31 65.6613 L1241.31 1486.45 L1241.72 1486.45 L1241.72 65.6613 L1241.31 65.6613 L1241.31 65.6613  Z\" fill=\"#e26f46\" fill-rule=\"evenodd\" fill-opacity=\"1\"/>\n",
       "<polyline clip-path=\"url(#clip312)\" style=\"stroke:#000000; stroke-linecap:round; stroke-linejoin:round; stroke-width:4; stroke-opacity:1; fill:none\" points=\"1241.31,65.6613 1241.31,1486.45 1241.72,1486.45 1241.72,65.6613 1241.31,65.6613 \"/>\n",
       "<path clip-path=\"url(#clip312)\" d=\"M1241.72 64.6964 L1241.72 1486.45 L1242.13 1486.45 L1242.13 64.6964 L1241.72 64.6964 L1241.72 64.6964  Z\" fill=\"#e26f46\" fill-rule=\"evenodd\" fill-opacity=\"1\"/>\n",
       "<polyline clip-path=\"url(#clip312)\" style=\"stroke:#000000; stroke-linecap:round; stroke-linejoin:round; stroke-width:4; stroke-opacity:1; fill:none\" points=\"1241.72,64.6964 1241.72,1486.45 1242.13,1486.45 1242.13,64.6964 1241.72,64.6964 \"/>\n",
       "<path clip-path=\"url(#clip312)\" d=\"M1242.13 65.42 L1242.13 1486.45 L1242.54 1486.45 L1242.54 65.42 L1242.13 65.42 L1242.13 65.42  Z\" fill=\"#e26f46\" fill-rule=\"evenodd\" fill-opacity=\"1\"/>\n",
       "<polyline clip-path=\"url(#clip312)\" style=\"stroke:#000000; stroke-linecap:round; stroke-linejoin:round; stroke-width:4; stroke-opacity:1; fill:none\" points=\"1242.13,65.42 1242.13,1486.45 1242.54,1486.45 1242.54,65.42 1242.13,65.42 \"/>\n",
       "<path clip-path=\"url(#clip312)\" d=\"M1242.54 66.6261 L1242.54 1486.45 L1242.95 1486.45 L1242.95 66.6261 L1242.54 66.6261 L1242.54 66.6261  Z\" fill=\"#e26f46\" fill-rule=\"evenodd\" fill-opacity=\"1\"/>\n",
       "<polyline clip-path=\"url(#clip312)\" style=\"stroke:#000000; stroke-linecap:round; stroke-linejoin:round; stroke-width:4; stroke-opacity:1; fill:none\" points=\"1242.54,66.6261 1242.54,1486.45 1242.95,1486.45 1242.95,66.6261 1242.54,66.6261 \"/>\n",
       "<path clip-path=\"url(#clip312)\" d=\"M1242.95 66.6261 L1242.95 1486.45 L1243.36 1486.45 L1243.36 66.6261 L1242.95 66.6261 L1242.95 66.6261  Z\" fill=\"#e26f46\" fill-rule=\"evenodd\" fill-opacity=\"1\"/>\n",
       "<polyline clip-path=\"url(#clip312)\" style=\"stroke:#000000; stroke-linecap:round; stroke-linejoin:round; stroke-width:4; stroke-opacity:1; fill:none\" points=\"1242.95,66.6261 1242.95,1486.45 1243.36,1486.45 1243.36,66.6261 1242.95,66.6261 \"/>\n",
       "<path clip-path=\"url(#clip312)\" d=\"M1243.36 64.4552 L1243.36 1486.45 L1243.77 1486.45 L1243.77 64.4552 L1243.36 64.4552 L1243.36 64.4552  Z\" fill=\"#e26f46\" fill-rule=\"evenodd\" fill-opacity=\"1\"/>\n",
       "<polyline clip-path=\"url(#clip312)\" style=\"stroke:#000000; stroke-linecap:round; stroke-linejoin:round; stroke-width:4; stroke-opacity:1; fill:none\" points=\"1243.36,64.4552 1243.36,1486.45 1243.77,1486.45 1243.77,64.4552 1243.36,64.4552 \"/>\n",
       "<path clip-path=\"url(#clip312)\" d=\"M1243.77 63.7315 L1243.77 1486.45 L1244.19 1486.45 L1244.19 63.7315 L1243.77 63.7315 L1243.77 63.7315  Z\" fill=\"#e26f46\" fill-rule=\"evenodd\" fill-opacity=\"1\"/>\n",
       "<polyline clip-path=\"url(#clip312)\" style=\"stroke:#000000; stroke-linecap:round; stroke-linejoin:round; stroke-width:4; stroke-opacity:1; fill:none\" points=\"1243.77,63.7315 1243.77,1486.45 1244.19,1486.45 1244.19,63.7315 1243.77,63.7315 \"/>\n",
       "<path clip-path=\"url(#clip312)\" d=\"M1244.19 67.8322 L1244.19 1486.45 L1244.6 1486.45 L1244.6 67.8322 L1244.19 67.8322 L1244.19 67.8322  Z\" fill=\"#e26f46\" fill-rule=\"evenodd\" fill-opacity=\"1\"/>\n",
       "<polyline clip-path=\"url(#clip312)\" style=\"stroke:#000000; stroke-linecap:round; stroke-linejoin:round; stroke-width:4; stroke-opacity:1; fill:none\" points=\"1244.19,67.8322 1244.19,1486.45 1244.6,1486.45 1244.6,67.8322 1244.19,67.8322 \"/>\n",
       "<path clip-path=\"url(#clip312)\" d=\"M1244.6 65.9025 L1244.6 1486.45 L1245.01 1486.45 L1245.01 65.9025 L1244.6 65.9025 L1244.6 65.9025  Z\" fill=\"#e26f46\" fill-rule=\"evenodd\" fill-opacity=\"1\"/>\n",
       "<polyline clip-path=\"url(#clip312)\" style=\"stroke:#000000; stroke-linecap:round; stroke-linejoin:round; stroke-width:4; stroke-opacity:1; fill:none\" points=\"1244.6,65.9025 1244.6,1486.45 1245.01,1486.45 1245.01,65.9025 1244.6,65.9025 \"/>\n",
       "<path clip-path=\"url(#clip312)\" d=\"M1245.01 66.1437 L1245.01 1486.45 L1245.42 1486.45 L1245.42 66.1437 L1245.01 66.1437 L1245.01 66.1437  Z\" fill=\"#e26f46\" fill-rule=\"evenodd\" fill-opacity=\"1\"/>\n",
       "<polyline clip-path=\"url(#clip312)\" style=\"stroke:#000000; stroke-linecap:round; stroke-linejoin:round; stroke-width:4; stroke-opacity:1; fill:none\" points=\"1245.01,66.1437 1245.01,1486.45 1245.42,1486.45 1245.42,66.1437 1245.01,66.1437 \"/>\n",
       "<path clip-path=\"url(#clip312)\" d=\"M1245.42 64.9376 L1245.42 1486.45 L1245.83 1486.45 L1245.83 64.9376 L1245.42 64.9376 L1245.42 64.9376  Z\" fill=\"#e26f46\" fill-rule=\"evenodd\" fill-opacity=\"1\"/>\n",
       "<polyline clip-path=\"url(#clip312)\" style=\"stroke:#000000; stroke-linecap:round; stroke-linejoin:round; stroke-width:4; stroke-opacity:1; fill:none\" points=\"1245.42,64.9376 1245.42,1486.45 1245.83,1486.45 1245.83,64.9376 1245.42,64.9376 \"/>\n",
       "<path clip-path=\"url(#clip312)\" d=\"M1245.83 68.0735 L1245.83 1486.45 L1246.24 1486.45 L1246.24 68.0735 L1245.83 68.0735 L1245.83 68.0735  Z\" fill=\"#e26f46\" fill-rule=\"evenodd\" fill-opacity=\"1\"/>\n",
       "<polyline clip-path=\"url(#clip312)\" style=\"stroke:#000000; stroke-linecap:round; stroke-linejoin:round; stroke-width:4; stroke-opacity:1; fill:none\" points=\"1245.83,68.0735 1245.83,1486.45 1246.24,1486.45 1246.24,68.0735 1245.83,68.0735 \"/>\n",
       "<path clip-path=\"url(#clip312)\" d=\"M1246.24 65.1788 L1246.24 1486.45 L1246.66 1486.45 L1246.66 65.1788 L1246.24 65.1788 L1246.24 65.1788  Z\" fill=\"#e26f46\" fill-rule=\"evenodd\" fill-opacity=\"1\"/>\n",
       "<polyline clip-path=\"url(#clip312)\" style=\"stroke:#000000; stroke-linecap:round; stroke-linejoin:round; stroke-width:4; stroke-opacity:1; fill:none\" points=\"1246.24,65.1788 1246.24,1486.45 1246.66,1486.45 1246.66,65.1788 1246.24,65.1788 \"/>\n",
       "<path clip-path=\"url(#clip312)\" d=\"M1246.66 66.1437 L1246.66 1486.45 L1247.07 1486.45 L1247.07 66.1437 L1246.66 66.1437 L1246.66 66.1437  Z\" fill=\"#e26f46\" fill-rule=\"evenodd\" fill-opacity=\"1\"/>\n",
       "<polyline clip-path=\"url(#clip312)\" style=\"stroke:#000000; stroke-linecap:round; stroke-linejoin:round; stroke-width:4; stroke-opacity:1; fill:none\" points=\"1246.66,66.1437 1246.66,1486.45 1247.07,1486.45 1247.07,66.1437 1246.66,66.1437 \"/>\n",
       "<path clip-path=\"url(#clip312)\" d=\"M1247.07 65.42 L1247.07 1486.45 L1247.48 1486.45 L1247.48 65.42 L1247.07 65.42 L1247.07 65.42  Z\" fill=\"#e26f46\" fill-rule=\"evenodd\" fill-opacity=\"1\"/>\n",
       "<polyline clip-path=\"url(#clip312)\" style=\"stroke:#000000; stroke-linecap:round; stroke-linejoin:round; stroke-width:4; stroke-opacity:1; fill:none\" points=\"1247.07,65.42 1247.07,1486.45 1247.48,1486.45 1247.48,65.42 1247.07,65.42 \"/>\n",
       "<path clip-path=\"url(#clip312)\" d=\"M1247.48 64.9376 L1247.48 1486.45 L1247.89 1486.45 L1247.89 64.9376 L1247.48 64.9376 L1247.48 64.9376  Z\" fill=\"#e26f46\" fill-rule=\"evenodd\" fill-opacity=\"1\"/>\n",
       "<polyline clip-path=\"url(#clip312)\" style=\"stroke:#000000; stroke-linecap:round; stroke-linejoin:round; stroke-width:4; stroke-opacity:1; fill:none\" points=\"1247.48,64.9376 1247.48,1486.45 1247.89,1486.45 1247.89,64.9376 1247.48,64.9376 \"/>\n",
       "<path clip-path=\"url(#clip312)\" d=\"M1247.89 67.591 L1247.89 1486.45 L1248.3 1486.45 L1248.3 67.591 L1247.89 67.591 L1247.89 67.591  Z\" fill=\"#e26f46\" fill-rule=\"evenodd\" fill-opacity=\"1\"/>\n",
       "<polyline clip-path=\"url(#clip312)\" style=\"stroke:#000000; stroke-linecap:round; stroke-linejoin:round; stroke-width:4; stroke-opacity:1; fill:none\" points=\"1247.89,67.591 1247.89,1486.45 1248.3,1486.45 1248.3,67.591 1247.89,67.591 \"/>\n",
       "<path clip-path=\"url(#clip312)\" d=\"M1248.3 63.9727 L1248.3 1486.45 L1248.71 1486.45 L1248.71 63.9727 L1248.3 63.9727 L1248.3 63.9727  Z\" fill=\"#e26f46\" fill-rule=\"evenodd\" fill-opacity=\"1\"/>\n",
       "<polyline clip-path=\"url(#clip312)\" style=\"stroke:#000000; stroke-linecap:round; stroke-linejoin:round; stroke-width:4; stroke-opacity:1; fill:none\" points=\"1248.3,63.9727 1248.3,1486.45 1248.71,1486.45 1248.71,63.9727 1248.3,63.9727 \"/>\n",
       "<path clip-path=\"url(#clip312)\" d=\"M1248.71 1486.45 L1248.71 1486.45 L1249.12 1486.45 L1249.12 1486.45 L1248.71 1486.45 L1248.71 1486.45  Z\" fill=\"#e26f46\" fill-rule=\"evenodd\" fill-opacity=\"1\"/>\n",
       "<polyline clip-path=\"url(#clip312)\" style=\"stroke:#000000; stroke-linecap:round; stroke-linejoin:round; stroke-width:4; stroke-opacity:1; fill:none\" points=\"1248.71,1486.45 1248.71,1486.45 1249.12,1486.45 1248.71,1486.45 \"/>\n",
       "<circle clip-path=\"url(#clip312)\" style=\"fill:#e26f46; stroke:none; fill-opacity:0\" cx=\"1232.46\" cy=\"64.6964\" r=\"2\"/>\n",
       "<circle clip-path=\"url(#clip312)\" style=\"fill:#e26f46; stroke:none; fill-opacity:0\" cx=\"1232.87\" cy=\"65.6613\" r=\"2\"/>\n",
       "<circle clip-path=\"url(#clip312)\" style=\"fill:#e26f46; stroke:none; fill-opacity:0\" cx=\"1233.28\" cy=\"64.4552\" r=\"2\"/>\n",
       "<circle clip-path=\"url(#clip312)\" style=\"fill:#e26f46; stroke:none; fill-opacity:0\" cx=\"1233.69\" cy=\"65.6613\" r=\"2\"/>\n",
       "<circle clip-path=\"url(#clip312)\" style=\"fill:#e26f46; stroke:none; fill-opacity:0\" cx=\"1234.1\" cy=\"67.591\" r=\"2\"/>\n",
       "<circle clip-path=\"url(#clip312)\" style=\"fill:#e26f46; stroke:none; fill-opacity:0\" cx=\"1234.52\" cy=\"63.0078\" r=\"2\"/>\n",
       "<circle clip-path=\"url(#clip312)\" style=\"fill:#e26f46; stroke:none; fill-opacity:0\" cx=\"1234.93\" cy=\"66.3849\" r=\"2\"/>\n",
       "<circle clip-path=\"url(#clip312)\" style=\"fill:#e26f46; stroke:none; fill-opacity:0\" cx=\"1235.34\" cy=\"65.6613\" r=\"2\"/>\n",
       "<circle clip-path=\"url(#clip312)\" style=\"fill:#e26f46; stroke:none; fill-opacity:0\" cx=\"1235.75\" cy=\"66.6261\" r=\"2\"/>\n",
       "<circle clip-path=\"url(#clip312)\" style=\"fill:#e26f46; stroke:none; fill-opacity:0\" cx=\"1236.16\" cy=\"65.9025\" r=\"2\"/>\n",
       "<circle clip-path=\"url(#clip312)\" style=\"fill:#e26f46; stroke:none; fill-opacity:0\" cx=\"1236.57\" cy=\"66.1437\" r=\"2\"/>\n",
       "<circle clip-path=\"url(#clip312)\" style=\"fill:#e26f46; stroke:none; fill-opacity:0\" cx=\"1236.98\" cy=\"63.9727\" r=\"2\"/>\n",
       "<circle clip-path=\"url(#clip312)\" style=\"fill:#e26f46; stroke:none; fill-opacity:0\" cx=\"1237.4\" cy=\"64.6964\" r=\"2\"/>\n",
       "<circle clip-path=\"url(#clip312)\" style=\"fill:#e26f46; stroke:none; fill-opacity:0\" cx=\"1237.81\" cy=\"65.6613\" r=\"2\"/>\n",
       "<circle clip-path=\"url(#clip312)\" style=\"fill:#e26f46; stroke:none; fill-opacity:0\" cx=\"1238.22\" cy=\"68.5559\" r=\"2\"/>\n",
       "<circle clip-path=\"url(#clip312)\" style=\"fill:#e26f46; stroke:none; fill-opacity:0\" cx=\"1238.63\" cy=\"62.2842\" r=\"2\"/>\n",
       "<circle clip-path=\"url(#clip312)\" style=\"fill:#e26f46; stroke:none; fill-opacity:0\" cx=\"1239.04\" cy=\"66.8674\" r=\"2\"/>\n",
       "<circle clip-path=\"url(#clip312)\" style=\"fill:#e26f46; stroke:none; fill-opacity:0\" cx=\"1239.45\" cy=\"64.6964\" r=\"2\"/>\n",
       "<circle clip-path=\"url(#clip312)\" style=\"fill:#e26f46; stroke:none; fill-opacity:0\" cx=\"1239.87\" cy=\"65.9025\" r=\"2\"/>\n",
       "<circle clip-path=\"url(#clip312)\" style=\"fill:#e26f46; stroke:none; fill-opacity:0\" cx=\"1240.28\" cy=\"66.8674\" r=\"2\"/>\n",
       "<circle clip-path=\"url(#clip312)\" style=\"fill:#e26f46; stroke:none; fill-opacity:0\" cx=\"1240.69\" cy=\"65.9025\" r=\"2\"/>\n",
       "<circle clip-path=\"url(#clip312)\" style=\"fill:#e26f46; stroke:none; fill-opacity:0\" cx=\"1241.1\" cy=\"64.9376\" r=\"2\"/>\n",
       "<circle clip-path=\"url(#clip312)\" style=\"fill:#e26f46; stroke:none; fill-opacity:0\" cx=\"1241.51\" cy=\"65.6613\" r=\"2\"/>\n",
       "<circle clip-path=\"url(#clip312)\" style=\"fill:#e26f46; stroke:none; fill-opacity:0\" cx=\"1241.92\" cy=\"64.6964\" r=\"2\"/>\n",
       "<circle clip-path=\"url(#clip312)\" style=\"fill:#e26f46; stroke:none; fill-opacity:0\" cx=\"1242.33\" cy=\"65.42\" r=\"2\"/>\n",
       "<circle clip-path=\"url(#clip312)\" style=\"fill:#e26f46; stroke:none; fill-opacity:0\" cx=\"1242.75\" cy=\"66.6261\" r=\"2\"/>\n",
       "<circle clip-path=\"url(#clip312)\" style=\"fill:#e26f46; stroke:none; fill-opacity:0\" cx=\"1243.16\" cy=\"66.6261\" r=\"2\"/>\n",
       "<circle clip-path=\"url(#clip312)\" style=\"fill:#e26f46; stroke:none; fill-opacity:0\" cx=\"1243.57\" cy=\"64.4552\" r=\"2\"/>\n",
       "<circle clip-path=\"url(#clip312)\" style=\"fill:#e26f46; stroke:none; fill-opacity:0\" cx=\"1243.98\" cy=\"63.7315\" r=\"2\"/>\n",
       "<circle clip-path=\"url(#clip312)\" style=\"fill:#e26f46; stroke:none; fill-opacity:0\" cx=\"1244.39\" cy=\"67.8322\" r=\"2\"/>\n",
       "<circle clip-path=\"url(#clip312)\" style=\"fill:#e26f46; stroke:none; fill-opacity:0\" cx=\"1244.8\" cy=\"65.9025\" r=\"2\"/>\n",
       "<circle clip-path=\"url(#clip312)\" style=\"fill:#e26f46; stroke:none; fill-opacity:0\" cx=\"1245.22\" cy=\"66.1437\" r=\"2\"/>\n",
       "<circle clip-path=\"url(#clip312)\" style=\"fill:#e26f46; stroke:none; fill-opacity:0\" cx=\"1245.63\" cy=\"64.9376\" r=\"2\"/>\n",
       "<circle clip-path=\"url(#clip312)\" style=\"fill:#e26f46; stroke:none; fill-opacity:0\" cx=\"1246.04\" cy=\"68.0735\" r=\"2\"/>\n",
       "<circle clip-path=\"url(#clip312)\" style=\"fill:#e26f46; stroke:none; fill-opacity:0\" cx=\"1246.45\" cy=\"65.1788\" r=\"2\"/>\n",
       "<circle clip-path=\"url(#clip312)\" style=\"fill:#e26f46; stroke:none; fill-opacity:0\" cx=\"1246.86\" cy=\"66.1437\" r=\"2\"/>\n",
       "<circle clip-path=\"url(#clip312)\" style=\"fill:#e26f46; stroke:none; fill-opacity:0\" cx=\"1247.27\" cy=\"65.42\" r=\"2\"/>\n",
       "<circle clip-path=\"url(#clip312)\" style=\"fill:#e26f46; stroke:none; fill-opacity:0\" cx=\"1247.68\" cy=\"64.9376\" r=\"2\"/>\n",
       "<circle clip-path=\"url(#clip312)\" style=\"fill:#e26f46; stroke:none; fill-opacity:0\" cx=\"1248.1\" cy=\"67.591\" r=\"2\"/>\n",
       "<circle clip-path=\"url(#clip312)\" style=\"fill:#e26f46; stroke:none; fill-opacity:0\" cx=\"1248.51\" cy=\"63.9727\" r=\"2\"/>\n",
       "<circle clip-path=\"url(#clip312)\" style=\"fill:#e26f46; stroke:none; fill-opacity:0\" cx=\"1248.92\" cy=\"1486.45\" r=\"2\"/>\n",
       "<path clip-path=\"url(#clip310)\" d=\"M2023.47 250.738 L2283.54 250.738 L2283.54 95.2176 L2023.47 95.2176  Z\" fill=\"#ffffff\" fill-rule=\"evenodd\" fill-opacity=\"1\"/>\n",
       "<polyline clip-path=\"url(#clip310)\" style=\"stroke:#000000; stroke-linecap:round; stroke-linejoin:round; stroke-width:4; stroke-opacity:1; fill:none\" points=\"2023.47,250.738 2283.54,250.738 2283.54,95.2176 2023.47,95.2176 2023.47,250.738 \"/>\n",
       "<polyline clip-path=\"url(#clip310)\" style=\"stroke:#009af9; stroke-linecap:round; stroke-linejoin:round; stroke-width:4; stroke-opacity:1; fill:none\" points=\"2046.54,147.058 2184.97,147.058 \"/>\n",
       "<path clip-path=\"url(#clip310)\" d=\"M2221.88 166.745 Q2220.08 171.375 2218.37 172.787 Q2216.65 174.199 2213.78 174.199 L2210.38 174.199 L2210.38 170.634 L2212.88 170.634 Q2214.64 170.634 2215.61 169.8 Q2216.58 168.967 2217.76 165.865 L2218.53 163.921 L2208.04 138.412 L2212.56 138.412 L2220.66 158.689 L2228.76 138.412 L2233.27 138.412 L2221.88 166.745 Z\" fill=\"#000000\" fill-rule=\"nonzero\" fill-opacity=\"1\" /><path clip-path=\"url(#clip310)\" d=\"M2240.56 160.402 L2248.2 160.402 L2248.2 134.037 L2239.89 135.703 L2239.89 131.444 L2248.16 129.778 L2252.83 129.778 L2252.83 160.402 L2260.47 160.402 L2260.47 164.338 L2240.56 164.338 L2240.56 160.402 Z\" fill=\"#000000\" fill-rule=\"nonzero\" fill-opacity=\"1\" /><path clip-path=\"url(#clip310)\" d=\"M2046.54 219.634 L2184.97 219.634 L2184.97 178.162 L2046.54 178.162 L2046.54 219.634  Z\" fill=\"#e26f46\" fill-rule=\"evenodd\" fill-opacity=\"1\"/>\n",
       "<polyline clip-path=\"url(#clip310)\" style=\"stroke:#000000; stroke-linecap:round; stroke-linejoin:round; stroke-width:4; stroke-opacity:1; fill:none\" points=\"2046.54,219.634 2184.97,219.634 2184.97,178.162 2046.54,178.162 2046.54,219.634 \"/>\n",
       "<path clip-path=\"url(#clip310)\" d=\"M2221.88 218.585 Q2220.08 223.215 2218.37 224.627 Q2216.65 226.039 2213.78 226.039 L2210.38 226.039 L2210.38 222.474 L2212.88 222.474 Q2214.64 222.474 2215.61 221.64 Q2216.58 220.807 2217.76 217.705 L2218.53 215.761 L2208.04 190.252 L2212.56 190.252 L2220.66 210.529 L2228.76 190.252 L2233.27 190.252 L2221.88 218.585 Z\" fill=\"#000000\" fill-rule=\"nonzero\" fill-opacity=\"1\" /><path clip-path=\"url(#clip310)\" d=\"M2243.78 212.242 L2260.1 212.242 L2260.1 216.178 L2238.16 216.178 L2238.16 212.242 Q2240.82 209.488 2245.4 204.858 Q2250.01 200.205 2251.19 198.863 Q2253.43 196.34 2254.31 194.604 Q2255.22 192.844 2255.22 191.155 Q2255.22 188.4 2253.27 186.664 Q2251.35 184.928 2248.25 184.928 Q2246.05 184.928 2243.6 185.692 Q2241.17 186.455 2238.39 188.006 L2238.39 183.284 Q2241.21 182.15 2243.67 181.571 Q2246.12 180.993 2248.16 180.993 Q2253.53 180.993 2256.72 183.678 Q2259.92 186.363 2259.92 190.854 Q2259.92 192.983 2259.11 194.905 Q2258.32 196.803 2256.21 199.395 Q2255.63 200.067 2252.53 203.284 Q2249.43 206.479 2243.78 212.242 Z\" fill=\"#000000\" fill-rule=\"nonzero\" fill-opacity=\"1\" /></svg>\n"
      ],
      "text/html": [
       "<?xml version=\"1.0\" encoding=\"utf-8\"?>\n",
       "<svg xmlns=\"http://www.w3.org/2000/svg\" xmlns:xlink=\"http://www.w3.org/1999/xlink\" width=\"600\" height=\"400\" viewBox=\"0 0 2400 1600\">\n",
       "<defs>\n",
       "  <clipPath id=\"clip360\">\n",
       "    <rect x=\"0\" y=\"0\" width=\"2400\" height=\"1600\"/>\n",
       "  </clipPath>\n",
       "</defs>\n",
       "<path clip-path=\"url(#clip360)\" d=\"M0 1600 L2400 1600 L2400 0 L0 0  Z\" fill=\"#ffffff\" fill-rule=\"evenodd\" fill-opacity=\"1\"/>\n",
       "<defs>\n",
       "  <clipPath id=\"clip361\">\n",
       "    <rect x=\"480\" y=\"0\" width=\"1681\" height=\"1600\"/>\n",
       "  </clipPath>\n",
       "</defs>\n",
       "<path clip-path=\"url(#clip360)\" d=\"M276.359 1486.45 L2352.76 1486.45 L2352.76 47.2441 L276.359 47.2441  Z\" fill=\"#ffffff\" fill-rule=\"evenodd\" fill-opacity=\"1\"/>\n",
       "<defs>\n",
       "  <clipPath id=\"clip362\">\n",
       "    <rect x=\"276\" y=\"47\" width=\"2077\" height=\"1440\"/>\n",
       "  </clipPath>\n",
       "</defs>\n",
       "<polyline clip-path=\"url(#clip362)\" style=\"stroke:#000000; stroke-linecap:round; stroke-linejoin:round; stroke-width:2; stroke-opacity:0.1; fill:none\" points=\"417.43,1486.45 417.43,47.2441 \"/>\n",
       "<polyline clip-path=\"url(#clip362)\" style=\"stroke:#000000; stroke-linecap:round; stroke-linejoin:round; stroke-width:2; stroke-opacity:0.1; fill:none\" points=\"828.956,1486.45 828.956,47.2441 \"/>\n",
       "<polyline clip-path=\"url(#clip362)\" style=\"stroke:#000000; stroke-linecap:round; stroke-linejoin:round; stroke-width:2; stroke-opacity:0.1; fill:none\" points=\"1240.48,1486.45 1240.48,47.2441 \"/>\n",
       "<polyline clip-path=\"url(#clip362)\" style=\"stroke:#000000; stroke-linecap:round; stroke-linejoin:round; stroke-width:2; stroke-opacity:0.1; fill:none\" points=\"1652.01,1486.45 1652.01,47.2441 \"/>\n",
       "<polyline clip-path=\"url(#clip362)\" style=\"stroke:#000000; stroke-linecap:round; stroke-linejoin:round; stroke-width:2; stroke-opacity:0.1; fill:none\" points=\"2063.54,1486.45 2063.54,47.2441 \"/>\n",
       "<polyline clip-path=\"url(#clip362)\" style=\"stroke:#000000; stroke-linecap:round; stroke-linejoin:round; stroke-width:2; stroke-opacity:0.1; fill:none\" points=\"276.359,1486.45 2352.76,1486.45 \"/>\n",
       "<polyline clip-path=\"url(#clip362)\" style=\"stroke:#000000; stroke-linecap:round; stroke-linejoin:round; stroke-width:2; stroke-opacity:0.1; fill:none\" points=\"276.359,1245.23 2352.76,1245.23 \"/>\n",
       "<polyline clip-path=\"url(#clip362)\" style=\"stroke:#000000; stroke-linecap:round; stroke-linejoin:round; stroke-width:2; stroke-opacity:0.1; fill:none\" points=\"276.359,1004.01 2352.76,1004.01 \"/>\n",
       "<polyline clip-path=\"url(#clip362)\" style=\"stroke:#000000; stroke-linecap:round; stroke-linejoin:round; stroke-width:2; stroke-opacity:0.1; fill:none\" points=\"276.359,762.787 2352.76,762.787 \"/>\n",
       "<polyline clip-path=\"url(#clip362)\" style=\"stroke:#000000; stroke-linecap:round; stroke-linejoin:round; stroke-width:2; stroke-opacity:0.1; fill:none\" points=\"276.359,521.567 2352.76,521.567 \"/>\n",
       "<polyline clip-path=\"url(#clip362)\" style=\"stroke:#000000; stroke-linecap:round; stroke-linejoin:round; stroke-width:2; stroke-opacity:0.1; fill:none\" points=\"276.359,280.347 2352.76,280.347 \"/>\n",
       "<polyline clip-path=\"url(#clip360)\" style=\"stroke:#000000; stroke-linecap:round; stroke-linejoin:round; stroke-width:4; stroke-opacity:1; fill:none\" points=\"276.359,1486.45 2352.76,1486.45 \"/>\n",
       "<polyline clip-path=\"url(#clip360)\" style=\"stroke:#000000; stroke-linecap:round; stroke-linejoin:round; stroke-width:4; stroke-opacity:1; fill:none\" points=\"417.43,1486.45 417.43,1467.55 \"/>\n",
       "<polyline clip-path=\"url(#clip360)\" style=\"stroke:#000000; stroke-linecap:round; stroke-linejoin:round; stroke-width:4; stroke-opacity:1; fill:none\" points=\"828.956,1486.45 828.956,1467.55 \"/>\n",
       "<polyline clip-path=\"url(#clip360)\" style=\"stroke:#000000; stroke-linecap:round; stroke-linejoin:round; stroke-width:4; stroke-opacity:1; fill:none\" points=\"1240.48,1486.45 1240.48,1467.55 \"/>\n",
       "<polyline clip-path=\"url(#clip360)\" style=\"stroke:#000000; stroke-linecap:round; stroke-linejoin:round; stroke-width:4; stroke-opacity:1; fill:none\" points=\"1652.01,1486.45 1652.01,1467.55 \"/>\n",
       "<polyline clip-path=\"url(#clip360)\" style=\"stroke:#000000; stroke-linecap:round; stroke-linejoin:round; stroke-width:4; stroke-opacity:1; fill:none\" points=\"2063.54,1486.45 2063.54,1467.55 \"/>\n",
       "<path clip-path=\"url(#clip360)\" d=\"M387.372 1532.02 L417.048 1532.02 L417.048 1535.95 L387.372 1535.95 L387.372 1532.02 Z\" fill=\"#000000\" fill-rule=\"nonzero\" fill-opacity=\"1\" /><path clip-path=\"url(#clip360)\" d=\"M431.168 1544.91 L447.488 1544.91 L447.488 1548.85 L425.543 1548.85 L425.543 1544.91 Q428.205 1542.16 432.789 1537.53 Q437.395 1532.88 438.576 1531.53 Q440.821 1529.01 441.701 1527.27 Q442.604 1525.51 442.604 1523.82 Q442.604 1521.07 440.659 1519.33 Q438.738 1517.6 435.636 1517.6 Q433.437 1517.6 430.983 1518.36 Q428.553 1519.13 425.775 1520.68 L425.775 1515.95 Q428.599 1514.82 431.053 1514.24 Q433.506 1513.66 435.543 1513.66 Q440.914 1513.66 444.108 1516.35 Q447.303 1519.03 447.303 1523.52 Q447.303 1525.65 446.492 1527.57 Q445.705 1529.47 443.599 1532.07 Q443.02 1532.74 439.918 1535.95 Q436.817 1539.15 431.168 1544.91 Z\" fill=\"#000000\" fill-rule=\"nonzero\" fill-opacity=\"1\" /><path clip-path=\"url(#clip360)\" d=\"M798.713 1532.02 L828.389 1532.02 L828.389 1535.95 L798.713 1535.95 L798.713 1532.02 Z\" fill=\"#000000\" fill-rule=\"nonzero\" fill-opacity=\"1\" /><path clip-path=\"url(#clip360)\" d=\"M839.292 1544.91 L846.931 1544.91 L846.931 1518.55 L838.621 1520.21 L838.621 1515.95 L846.885 1514.29 L851.56 1514.29 L851.56 1544.91 L859.199 1544.91 L859.199 1548.85 L839.292 1548.85 L839.292 1544.91 Z\" fill=\"#000000\" fill-rule=\"nonzero\" fill-opacity=\"1\" /><path clip-path=\"url(#clip360)\" d=\"M1240.48 1517.37 Q1236.87 1517.37 1235.04 1520.93 Q1233.24 1524.47 1233.24 1531.6 Q1233.24 1538.71 1235.04 1542.27 Q1236.87 1545.82 1240.48 1545.82 Q1244.12 1545.82 1245.92 1542.27 Q1247.75 1538.71 1247.75 1531.6 Q1247.75 1524.47 1245.92 1520.93 Q1244.12 1517.37 1240.48 1517.37 M1240.48 1513.66 Q1246.29 1513.66 1249.35 1518.27 Q1252.43 1522.85 1252.43 1531.6 Q1252.43 1540.33 1249.35 1544.94 Q1246.29 1549.52 1240.48 1549.52 Q1234.67 1549.52 1231.59 1544.94 Q1228.54 1540.33 1228.54 1531.6 Q1228.54 1522.85 1231.59 1518.27 Q1234.67 1513.66 1240.48 1513.66 Z\" fill=\"#000000\" fill-rule=\"nonzero\" fill-opacity=\"1\" /><path clip-path=\"url(#clip360)\" d=\"M1642.39 1544.91 L1650.03 1544.91 L1650.03 1518.55 L1641.72 1520.21 L1641.72 1515.95 L1649.98 1514.29 L1654.66 1514.29 L1654.66 1544.91 L1662.3 1544.91 L1662.3 1548.85 L1642.39 1548.85 L1642.39 1544.91 Z\" fill=\"#000000\" fill-rule=\"nonzero\" fill-opacity=\"1\" /><path clip-path=\"url(#clip360)\" d=\"M2058.19 1544.91 L2074.51 1544.91 L2074.51 1548.85 L2052.56 1548.85 L2052.56 1544.91 Q2055.23 1542.16 2059.81 1537.53 Q2064.41 1532.88 2065.6 1531.53 Q2067.84 1529.01 2068.72 1527.27 Q2069.62 1525.51 2069.62 1523.82 Q2069.62 1521.07 2067.68 1519.33 Q2065.76 1517.6 2062.66 1517.6 Q2060.46 1517.6 2058 1518.36 Q2055.57 1519.13 2052.79 1520.68 L2052.79 1515.95 Q2055.62 1514.82 2058.07 1514.24 Q2060.53 1513.66 2062.56 1513.66 Q2067.93 1513.66 2071.13 1516.35 Q2074.32 1519.03 2074.32 1523.52 Q2074.32 1525.65 2073.51 1527.57 Q2072.72 1529.47 2070.62 1532.07 Q2070.04 1532.74 2066.94 1535.95 Q2063.84 1539.15 2058.19 1544.91 Z\" fill=\"#000000\" fill-rule=\"nonzero\" fill-opacity=\"1\" /><polyline clip-path=\"url(#clip360)\" style=\"stroke:#000000; stroke-linecap:round; stroke-linejoin:round; stroke-width:4; stroke-opacity:1; fill:none\" points=\"276.359,1486.45 276.359,47.2441 \"/>\n",
       "<polyline clip-path=\"url(#clip360)\" style=\"stroke:#000000; stroke-linecap:round; stroke-linejoin:round; stroke-width:4; stroke-opacity:1; fill:none\" points=\"276.359,1486.45 295.257,1486.45 \"/>\n",
       "<polyline clip-path=\"url(#clip360)\" style=\"stroke:#000000; stroke-linecap:round; stroke-linejoin:round; stroke-width:4; stroke-opacity:1; fill:none\" points=\"276.359,1245.23 295.257,1245.23 \"/>\n",
       "<polyline clip-path=\"url(#clip360)\" style=\"stroke:#000000; stroke-linecap:round; stroke-linejoin:round; stroke-width:4; stroke-opacity:1; fill:none\" points=\"276.359,1004.01 295.257,1004.01 \"/>\n",
       "<polyline clip-path=\"url(#clip360)\" style=\"stroke:#000000; stroke-linecap:round; stroke-linejoin:round; stroke-width:4; stroke-opacity:1; fill:none\" points=\"276.359,762.787 295.257,762.787 \"/>\n",
       "<polyline clip-path=\"url(#clip360)\" style=\"stroke:#000000; stroke-linecap:round; stroke-linejoin:round; stroke-width:4; stroke-opacity:1; fill:none\" points=\"276.359,521.567 295.257,521.567 \"/>\n",
       "<polyline clip-path=\"url(#clip360)\" style=\"stroke:#000000; stroke-linecap:round; stroke-linejoin:round; stroke-width:4; stroke-opacity:1; fill:none\" points=\"276.359,280.347 295.257,280.347 \"/>\n",
       "<path clip-path=\"url(#clip360)\" d=\"M228.414 1472.25 Q224.803 1472.25 222.975 1475.81 Q221.169 1479.35 221.169 1486.48 Q221.169 1493.59 222.975 1497.15 Q224.803 1500.7 228.414 1500.7 Q232.049 1500.7 233.854 1497.15 Q235.683 1493.59 235.683 1486.48 Q235.683 1479.35 233.854 1475.81 Q232.049 1472.25 228.414 1472.25 M228.414 1468.54 Q234.225 1468.54 237.28 1473.15 Q240.359 1477.73 240.359 1486.48 Q240.359 1495.21 237.28 1499.82 Q234.225 1504.4 228.414 1504.4 Q222.604 1504.4 219.526 1499.82 Q216.47 1495.21 216.47 1486.48 Q216.47 1477.73 219.526 1473.15 Q222.604 1468.54 228.414 1468.54 Z\" fill=\"#000000\" fill-rule=\"nonzero\" fill-opacity=\"1\" /><path clip-path=\"url(#clip360)\" d=\"M54.5569 1265.02 L62.1958 1265.02 L62.1958 1238.65 L53.8856 1240.32 L53.8856 1236.06 L62.1495 1234.4 L66.8254 1234.4 L66.8254 1265.02 L74.4642 1265.02 L74.4642 1268.96 L54.5569 1268.96 L54.5569 1265.02 Z\" fill=\"#000000\" fill-rule=\"nonzero\" fill-opacity=\"1\" /><path clip-path=\"url(#clip360)\" d=\"M83.9086 1263.08 L88.7928 1263.08 L88.7928 1268.96 L83.9086 1268.96 L83.9086 1263.08 Z\" fill=\"#000000\" fill-rule=\"nonzero\" fill-opacity=\"1\" /><path clip-path=\"url(#clip360)\" d=\"M108.978 1237.47 Q105.367 1237.47 103.538 1241.04 Q101.733 1244.58 101.733 1251.71 Q101.733 1258.82 103.538 1262.38 Q105.367 1265.92 108.978 1265.92 Q112.612 1265.92 114.418 1262.38 Q116.246 1258.82 116.246 1251.71 Q116.246 1244.58 114.418 1241.04 Q112.612 1237.47 108.978 1237.47 M108.978 1233.77 Q114.788 1233.77 117.844 1238.38 Q120.922 1242.96 120.922 1251.71 Q120.922 1260.44 117.844 1265.04 Q114.788 1269.63 108.978 1269.63 Q103.168 1269.63 100.089 1265.04 Q97.0335 1260.44 97.0335 1251.71 Q97.0335 1242.96 100.089 1238.38 Q103.168 1233.77 108.978 1233.77 Z\" fill=\"#000000\" fill-rule=\"nonzero\" fill-opacity=\"1\" /><path clip-path=\"url(#clip360)\" d=\"M157.311 1243.49 L146.732 1254.12 L157.311 1264.7 L154.556 1267.5 L143.931 1256.87 L133.306 1267.5 L130.575 1264.7 L141.131 1254.12 L130.575 1243.49 L133.306 1240.69 L143.931 1251.32 L154.556 1240.69 L157.311 1243.49 Z\" fill=\"#000000\" fill-rule=\"nonzero\" fill-opacity=\"1\" /><path clip-path=\"url(#clip360)\" d=\"M169.672 1265.02 L177.311 1265.02 L177.311 1238.65 L169.001 1240.32 L169.001 1236.06 L177.265 1234.4 L181.94 1234.4 L181.94 1265.02 L189.579 1265.02 L189.579 1268.96 L169.672 1268.96 L169.672 1265.02 Z\" fill=\"#000000\" fill-rule=\"nonzero\" fill-opacity=\"1\" /><path clip-path=\"url(#clip360)\" d=\"M209.024 1237.47 Q205.413 1237.47 203.584 1241.04 Q201.778 1244.58 201.778 1251.71 Q201.778 1258.82 203.584 1262.38 Q205.413 1265.92 209.024 1265.92 Q212.658 1265.92 214.463 1262.38 Q216.292 1258.82 216.292 1251.71 Q216.292 1244.58 214.463 1241.04 Q212.658 1237.47 209.024 1237.47 M209.024 1233.77 Q214.834 1233.77 217.889 1238.38 Q220.968 1242.96 220.968 1251.71 Q220.968 1260.44 217.889 1265.04 Q214.834 1269.63 209.024 1269.63 Q203.214 1269.63 200.135 1265.04 Q197.079 1260.44 197.079 1251.71 Q197.079 1242.96 200.135 1238.38 Q203.214 1233.77 209.024 1233.77 Z\" fill=\"#000000\" fill-rule=\"nonzero\" fill-opacity=\"1\" /><path clip-path=\"url(#clip360)\" d=\"M230.993 1225.99 Q228.435 1225.99 226.93 1227.74 Q225.444 1229.49 225.444 1232.54 Q225.444 1235.56 226.93 1237.33 Q228.435 1239.08 230.993 1239.08 Q233.55 1239.08 235.036 1237.33 Q236.541 1235.56 236.541 1232.54 Q236.541 1229.49 235.036 1227.74 Q233.55 1225.99 230.993 1225.99 M238.535 1214.09 L238.535 1217.55 Q237.105 1216.87 235.638 1216.51 Q234.19 1216.15 232.761 1216.15 Q228.999 1216.15 227.005 1218.69 Q225.031 1221.23 224.748 1226.37 Q225.858 1224.73 227.532 1223.87 Q229.206 1222.98 231.218 1222.98 Q235.45 1222.98 237.895 1225.56 Q240.359 1228.12 240.359 1232.54 Q240.359 1236.86 237.801 1239.48 Q235.243 1242.09 230.993 1242.09 Q226.121 1242.09 223.545 1238.37 Q220.968 1234.62 220.968 1227.53 Q220.968 1220.88 224.128 1216.93 Q227.287 1212.96 232.61 1212.96 Q234.039 1212.96 235.488 1213.24 Q236.955 1213.52 238.535 1214.09 Z\" fill=\"#000000\" fill-rule=\"nonzero\" fill-opacity=\"1\" /><path clip-path=\"url(#clip360)\" d=\"M57.7745 1023.8 L74.0939 1023.8 L74.0939 1027.74 L52.1495 1027.74 L52.1495 1023.8 Q54.8115 1021.05 59.3949 1016.42 Q64.0013 1011.76 65.1819 1010.42 Q67.4272 1007.9 68.3068 1006.16 Q69.2096 1004.4 69.2096 1002.71 Q69.2096 999.958 67.2652 998.221 Q65.3439 996.485 62.2421 996.485 Q60.043 996.485 57.5893 997.249 Q55.1588 998.013 52.381 999.564 L52.381 994.842 Q55.2051 993.708 57.6588 993.129 Q60.1124 992.55 62.1495 992.55 Q67.5198 992.55 70.7142 995.235 Q73.9087 997.921 73.9087 1002.41 Q73.9087 1004.54 73.0985 1006.46 Q72.3115 1008.36 70.205 1010.95 Q69.6263 1011.62 66.5245 1014.84 Q63.4226 1018.04 57.7745 1023.8 Z\" fill=\"#000000\" fill-rule=\"nonzero\" fill-opacity=\"1\" /><path clip-path=\"url(#clip360)\" d=\"M83.9086 1021.86 L88.7928 1021.86 L88.7928 1027.74 L83.9086 1027.74 L83.9086 1021.86 Z\" fill=\"#000000\" fill-rule=\"nonzero\" fill-opacity=\"1\" /><path clip-path=\"url(#clip360)\" d=\"M108.978 996.254 Q105.367 996.254 103.538 999.819 Q101.733 1003.36 101.733 1010.49 Q101.733 1017.6 103.538 1021.16 Q105.367 1024.7 108.978 1024.7 Q112.612 1024.7 114.418 1021.16 Q116.246 1017.6 116.246 1010.49 Q116.246 1003.36 114.418 999.819 Q112.612 996.254 108.978 996.254 M108.978 992.55 Q114.788 992.55 117.844 997.157 Q120.922 1001.74 120.922 1010.49 Q120.922 1019.22 117.844 1023.82 Q114.788 1028.41 108.978 1028.41 Q103.168 1028.41 100.089 1023.82 Q97.0335 1019.22 97.0335 1010.49 Q97.0335 1001.74 100.089 997.157 Q103.168 992.55 108.978 992.55 Z\" fill=\"#000000\" fill-rule=\"nonzero\" fill-opacity=\"1\" /><path clip-path=\"url(#clip360)\" d=\"M157.311 1002.27 L146.732 1012.9 L157.311 1023.48 L154.556 1026.28 L143.931 1015.65 L133.306 1026.28 L130.575 1023.48 L141.131 1012.9 L130.575 1002.27 L133.306 999.471 L143.931 1010.1 L154.556 999.471 L157.311 1002.27 Z\" fill=\"#000000\" fill-rule=\"nonzero\" fill-opacity=\"1\" /><path clip-path=\"url(#clip360)\" d=\"M169.672 1023.8 L177.311 1023.8 L177.311 997.434 L169.001 999.101 L169.001 994.842 L177.265 993.175 L181.94 993.175 L181.94 1023.8 L189.579 1023.8 L189.579 1027.74 L169.672 1027.74 L169.672 1023.8 Z\" fill=\"#000000\" fill-rule=\"nonzero\" fill-opacity=\"1\" /><path clip-path=\"url(#clip360)\" d=\"M209.024 996.254 Q205.413 996.254 203.584 999.819 Q201.778 1003.36 201.778 1010.49 Q201.778 1017.6 203.584 1021.16 Q205.413 1024.7 209.024 1024.7 Q212.658 1024.7 214.463 1021.16 Q216.292 1017.6 216.292 1010.49 Q216.292 1003.36 214.463 999.819 Q212.658 996.254 209.024 996.254 M209.024 992.55 Q214.834 992.55 217.889 997.157 Q220.968 1001.74 220.968 1010.49 Q220.968 1019.22 217.889 1023.82 Q214.834 1028.41 209.024 1028.41 Q203.214 1028.41 200.135 1023.82 Q197.079 1019.22 197.079 1010.49 Q197.079 1001.74 200.135 997.157 Q203.214 992.55 209.024 992.55 Z\" fill=\"#000000\" fill-rule=\"nonzero\" fill-opacity=\"1\" /><path clip-path=\"url(#clip360)\" d=\"M230.993 984.771 Q228.435 984.771 226.93 986.52 Q225.444 988.269 225.444 991.316 Q225.444 994.344 226.93 996.112 Q228.435 997.861 230.993 997.861 Q233.55 997.861 235.036 996.112 Q236.541 994.344 236.541 991.316 Q236.541 988.269 235.036 986.52 Q233.55 984.771 230.993 984.771 M238.535 972.865 L238.535 976.326 Q237.105 975.649 235.638 975.292 Q234.19 974.934 232.761 974.934 Q228.999 974.934 227.005 977.473 Q225.031 980.012 224.748 985.147 Q225.858 983.511 227.532 982.645 Q229.206 981.762 231.218 981.762 Q235.45 981.762 237.895 984.338 Q240.359 986.896 240.359 991.316 Q240.359 995.642 237.801 998.256 Q235.243 1000.87 230.993 1000.87 Q226.121 1000.87 223.545 997.146 Q220.968 993.404 220.968 986.313 Q220.968 979.655 224.128 975.705 Q227.287 971.737 232.61 971.737 Q234.039 971.737 235.488 972.019 Q236.955 972.301 238.535 972.865 Z\" fill=\"#000000\" fill-rule=\"nonzero\" fill-opacity=\"1\" /><path clip-path=\"url(#clip360)\" d=\"M67.9133 767.881 Q71.2698 768.598 73.1448 770.867 Q75.0429 773.135 75.0429 776.469 Q75.0429 781.585 71.5244 784.385 Q68.0059 787.186 61.5245 787.186 Q59.3486 787.186 57.0338 786.747 Q54.7421 786.33 52.2884 785.473 L52.2884 780.96 Q54.2328 782.094 56.5477 782.672 Q58.8625 783.251 61.3856 783.251 Q65.7837 783.251 68.0754 781.515 Q70.3902 779.779 70.3902 776.469 Q70.3902 773.413 68.2374 771.7 Q66.1078 769.964 62.2884 769.964 L58.2606 769.964 L58.2606 766.122 L62.4735 766.122 Q65.9226 766.122 67.7513 764.756 Q69.58 763.367 69.58 760.774 Q69.58 758.112 67.6819 756.7 Q65.8069 755.265 62.2884 755.265 Q60.3671 755.265 58.168 755.682 Q55.969 756.099 53.3301 756.978 L53.3301 752.812 Q55.9921 752.071 58.3069 751.7 Q60.6449 751.33 62.705 751.33 Q68.0291 751.33 71.1309 753.761 Q74.2327 756.168 74.2327 760.288 Q74.2327 763.159 72.5892 765.149 Q70.9457 767.117 67.9133 767.881 Z\" fill=\"#000000\" fill-rule=\"nonzero\" fill-opacity=\"1\" /><path clip-path=\"url(#clip360)\" d=\"M83.9086 780.635 L88.7928 780.635 L88.7928 786.515 L83.9086 786.515 L83.9086 780.635 Z\" fill=\"#000000\" fill-rule=\"nonzero\" fill-opacity=\"1\" /><path clip-path=\"url(#clip360)\" d=\"M108.978 755.034 Q105.367 755.034 103.538 758.599 Q101.733 762.14 101.733 769.27 Q101.733 776.376 103.538 779.941 Q105.367 783.483 108.978 783.483 Q112.612 783.483 114.418 779.941 Q116.246 776.376 116.246 769.27 Q116.246 762.14 114.418 758.599 Q112.612 755.034 108.978 755.034 M108.978 751.33 Q114.788 751.33 117.844 755.937 Q120.922 760.52 120.922 769.27 Q120.922 777.997 117.844 782.603 Q114.788 787.186 108.978 787.186 Q103.168 787.186 100.089 782.603 Q97.0335 777.997 97.0335 769.27 Q97.0335 760.52 100.089 755.937 Q103.168 751.33 108.978 751.33 Z\" fill=\"#000000\" fill-rule=\"nonzero\" fill-opacity=\"1\" /><path clip-path=\"url(#clip360)\" d=\"M157.311 761.052 L146.732 771.677 L157.311 782.256 L154.556 785.057 L143.931 774.432 L133.306 785.057 L130.575 782.256 L141.131 771.677 L130.575 761.052 L133.306 758.251 L143.931 768.876 L154.556 758.251 L157.311 761.052 Z\" fill=\"#000000\" fill-rule=\"nonzero\" fill-opacity=\"1\" /><path clip-path=\"url(#clip360)\" d=\"M169.672 782.58 L177.311 782.58 L177.311 756.214 L169.001 757.881 L169.001 753.622 L177.265 751.955 L181.94 751.955 L181.94 782.58 L189.579 782.58 L189.579 786.515 L169.672 786.515 L169.672 782.58 Z\" fill=\"#000000\" fill-rule=\"nonzero\" fill-opacity=\"1\" /><path clip-path=\"url(#clip360)\" d=\"M209.024 755.034 Q205.413 755.034 203.584 758.599 Q201.778 762.14 201.778 769.27 Q201.778 776.376 203.584 779.941 Q205.413 783.483 209.024 783.483 Q212.658 783.483 214.463 779.941 Q216.292 776.376 216.292 769.27 Q216.292 762.14 214.463 758.599 Q212.658 755.034 209.024 755.034 M209.024 751.33 Q214.834 751.33 217.889 755.937 Q220.968 760.52 220.968 769.27 Q220.968 777.997 217.889 782.603 Q214.834 787.186 209.024 787.186 Q203.214 787.186 200.135 782.603 Q197.079 777.997 197.079 769.27 Q197.079 760.52 200.135 755.937 Q203.214 751.33 209.024 751.33 Z\" fill=\"#000000\" fill-rule=\"nonzero\" fill-opacity=\"1\" /><path clip-path=\"url(#clip360)\" d=\"M230.993 743.551 Q228.435 743.551 226.93 745.3 Q225.444 747.049 225.444 750.096 Q225.444 753.124 226.93 754.892 Q228.435 756.641 230.993 756.641 Q233.55 756.641 235.036 754.892 Q236.541 753.124 236.541 750.096 Q236.541 747.049 235.036 745.3 Q233.55 743.551 230.993 743.551 M238.535 731.645 L238.535 735.106 Q237.105 734.429 235.638 734.072 Q234.19 733.714 232.761 733.714 Q228.999 733.714 227.005 736.253 Q225.031 738.792 224.748 743.927 Q225.858 742.291 227.532 741.425 Q229.206 740.541 231.218 740.541 Q235.45 740.541 237.895 743.118 Q240.359 745.676 240.359 750.096 Q240.359 754.422 237.801 757.036 Q235.243 759.65 230.993 759.65 Q226.121 759.65 223.545 755.926 Q220.968 752.183 220.968 745.093 Q220.968 738.435 224.128 734.485 Q227.287 730.517 232.61 730.517 Q234.039 730.517 235.488 730.799 Q236.955 731.081 238.535 731.645 Z\" fill=\"#000000\" fill-rule=\"nonzero\" fill-opacity=\"1\" /><path clip-path=\"url(#clip360)\" d=\"M66.5939 514.809 L54.7884 533.258 L66.5939 533.258 L66.5939 514.809 M65.367 510.735 L71.2466 510.735 L71.2466 533.258 L76.1772 533.258 L76.1772 537.147 L71.2466 537.147 L71.2466 545.295 L66.5939 545.295 L66.5939 537.147 L50.9921 537.147 L50.9921 532.633 L65.367 510.735 Z\" fill=\"#000000\" fill-rule=\"nonzero\" fill-opacity=\"1\" /><path clip-path=\"url(#clip360)\" d=\"M83.9086 539.415 L88.7928 539.415 L88.7928 545.295 L83.9086 545.295 L83.9086 539.415 Z\" fill=\"#000000\" fill-rule=\"nonzero\" fill-opacity=\"1\" /><path clip-path=\"url(#clip360)\" d=\"M108.978 513.814 Q105.367 513.814 103.538 517.378 Q101.733 520.92 101.733 528.05 Q101.733 535.156 103.538 538.721 Q105.367 542.263 108.978 542.263 Q112.612 542.263 114.418 538.721 Q116.246 535.156 116.246 528.05 Q116.246 520.92 114.418 517.378 Q112.612 513.814 108.978 513.814 M108.978 510.11 Q114.788 510.11 117.844 514.716 Q120.922 519.3 120.922 528.05 Q120.922 536.776 117.844 541.383 Q114.788 545.966 108.978 545.966 Q103.168 545.966 100.089 541.383 Q97.0335 536.776 97.0335 528.05 Q97.0335 519.3 100.089 514.716 Q103.168 510.11 108.978 510.11 Z\" fill=\"#000000\" fill-rule=\"nonzero\" fill-opacity=\"1\" /><path clip-path=\"url(#clip360)\" d=\"M157.311 519.832 L146.732 530.457 L157.311 541.036 L154.556 543.837 L143.931 533.212 L133.306 543.837 L130.575 541.036 L141.131 530.457 L130.575 519.832 L133.306 517.031 L143.931 527.656 L154.556 517.031 L157.311 519.832 Z\" fill=\"#000000\" fill-rule=\"nonzero\" fill-opacity=\"1\" /><path clip-path=\"url(#clip360)\" d=\"M169.672 541.36 L177.311 541.36 L177.311 514.994 L169.001 516.661 L169.001 512.402 L177.265 510.735 L181.94 510.735 L181.94 541.36 L189.579 541.36 L189.579 545.295 L169.672 545.295 L169.672 541.36 Z\" fill=\"#000000\" fill-rule=\"nonzero\" fill-opacity=\"1\" /><path clip-path=\"url(#clip360)\" d=\"M209.024 513.814 Q205.413 513.814 203.584 517.378 Q201.778 520.92 201.778 528.05 Q201.778 535.156 203.584 538.721 Q205.413 542.263 209.024 542.263 Q212.658 542.263 214.463 538.721 Q216.292 535.156 216.292 528.05 Q216.292 520.92 214.463 517.378 Q212.658 513.814 209.024 513.814 M209.024 510.11 Q214.834 510.11 217.889 514.716 Q220.968 519.3 220.968 528.05 Q220.968 536.776 217.889 541.383 Q214.834 545.966 209.024 545.966 Q203.214 545.966 200.135 541.383 Q197.079 536.776 197.079 528.05 Q197.079 519.3 200.135 514.716 Q203.214 510.11 209.024 510.11 Z\" fill=\"#000000\" fill-rule=\"nonzero\" fill-opacity=\"1\" /><path clip-path=\"url(#clip360)\" d=\"M230.993 502.33 Q228.435 502.33 226.93 504.08 Q225.444 505.829 225.444 508.876 Q225.444 511.904 226.93 513.672 Q228.435 515.421 230.993 515.421 Q233.55 515.421 235.036 513.672 Q236.541 511.904 236.541 508.876 Q236.541 505.829 235.036 504.08 Q233.55 502.33 230.993 502.33 M238.535 490.425 L238.535 493.886 Q237.105 493.209 235.638 492.851 Q234.19 492.494 232.761 492.494 Q228.999 492.494 227.005 495.033 Q225.031 497.572 224.748 502.707 Q225.858 501.07 227.532 500.205 Q229.206 499.321 231.218 499.321 Q235.45 499.321 237.895 501.898 Q240.359 504.456 240.359 508.876 Q240.359 513.201 237.801 515.816 Q235.243 518.43 230.993 518.43 Q226.121 518.43 223.545 514.706 Q220.968 510.963 220.968 503.873 Q220.968 497.215 224.128 493.265 Q227.287 489.297 232.61 489.297 Q234.039 489.297 235.488 489.579 Q236.955 489.861 238.535 490.425 Z\" fill=\"#000000\" fill-rule=\"nonzero\" fill-opacity=\"1\" /><path clip-path=\"url(#clip360)\" d=\"M53.793 269.515 L72.1494 269.515 L72.1494 273.45 L58.0754 273.45 L58.0754 281.922 Q59.0939 281.575 60.1124 281.413 Q61.131 281.228 62.1495 281.228 Q67.9365 281.228 71.3161 284.399 Q74.6957 287.57 74.6957 292.987 Q74.6957 298.566 71.2235 301.667 Q67.7513 304.746 61.4319 304.746 Q59.256 304.746 56.9875 304.376 Q54.7421 304.005 52.3347 303.265 L52.3347 298.566 Q54.418 299.7 56.6402 300.255 Q58.8625 300.811 61.3393 300.811 Q65.3439 300.811 67.6819 298.704 Q70.0198 296.598 70.0198 292.987 Q70.0198 289.376 67.6819 287.269 Q65.3439 285.163 61.3393 285.163 Q59.4643 285.163 57.5893 285.58 Q55.7375 285.996 53.793 286.876 L53.793 269.515 Z\" fill=\"#000000\" fill-rule=\"nonzero\" fill-opacity=\"1\" /><path clip-path=\"url(#clip360)\" d=\"M83.9086 298.195 L88.7928 298.195 L88.7928 304.075 L83.9086 304.075 L83.9086 298.195 Z\" fill=\"#000000\" fill-rule=\"nonzero\" fill-opacity=\"1\" /><path clip-path=\"url(#clip360)\" d=\"M108.978 272.593 Q105.367 272.593 103.538 276.158 Q101.733 279.7 101.733 286.829 Q101.733 293.936 103.538 297.501 Q105.367 301.042 108.978 301.042 Q112.612 301.042 114.418 297.501 Q116.246 293.936 116.246 286.829 Q116.246 279.7 114.418 276.158 Q112.612 272.593 108.978 272.593 M108.978 268.89 Q114.788 268.89 117.844 273.496 Q120.922 278.08 120.922 286.829 Q120.922 295.556 117.844 300.163 Q114.788 304.746 108.978 304.746 Q103.168 304.746 100.089 300.163 Q97.0335 295.556 97.0335 286.829 Q97.0335 278.08 100.089 273.496 Q103.168 268.89 108.978 268.89 Z\" fill=\"#000000\" fill-rule=\"nonzero\" fill-opacity=\"1\" /><path clip-path=\"url(#clip360)\" d=\"M157.311 278.612 L146.732 289.237 L157.311 299.816 L154.556 302.616 L143.931 291.992 L133.306 302.616 L130.575 299.816 L141.131 289.237 L130.575 278.612 L133.306 275.811 L143.931 286.436 L154.556 275.811 L157.311 278.612 Z\" fill=\"#000000\" fill-rule=\"nonzero\" fill-opacity=\"1\" /><path clip-path=\"url(#clip360)\" d=\"M169.672 300.14 L177.311 300.14 L177.311 273.774 L169.001 275.441 L169.001 271.181 L177.265 269.515 L181.94 269.515 L181.94 300.14 L189.579 300.14 L189.579 304.075 L169.672 304.075 L169.672 300.14 Z\" fill=\"#000000\" fill-rule=\"nonzero\" fill-opacity=\"1\" /><path clip-path=\"url(#clip360)\" d=\"M209.024 272.593 Q205.413 272.593 203.584 276.158 Q201.778 279.7 201.778 286.829 Q201.778 293.936 203.584 297.501 Q205.413 301.042 209.024 301.042 Q212.658 301.042 214.463 297.501 Q216.292 293.936 216.292 286.829 Q216.292 279.7 214.463 276.158 Q212.658 272.593 209.024 272.593 M209.024 268.89 Q214.834 268.89 217.889 273.496 Q220.968 278.08 220.968 286.829 Q220.968 295.556 217.889 300.163 Q214.834 304.746 209.024 304.746 Q203.214 304.746 200.135 300.163 Q197.079 295.556 197.079 286.829 Q197.079 278.08 200.135 273.496 Q203.214 268.89 209.024 268.89 Z\" fill=\"#000000\" fill-rule=\"nonzero\" fill-opacity=\"1\" /><path clip-path=\"url(#clip360)\" d=\"M230.993 261.11 Q228.435 261.11 226.93 262.859 Q225.444 264.609 225.444 267.655 Q225.444 270.684 226.93 272.451 Q228.435 274.201 230.993 274.201 Q233.55 274.201 235.036 272.451 Q236.541 270.684 236.541 267.655 Q236.541 264.609 235.036 262.859 Q233.55 261.11 230.993 261.11 M238.535 249.205 L238.535 252.666 Q237.105 251.989 235.638 251.631 Q234.19 251.274 232.761 251.274 Q228.999 251.274 227.005 253.813 Q225.031 256.352 224.748 261.487 Q225.858 259.85 227.532 258.985 Q229.206 258.101 231.218 258.101 Q235.45 258.101 237.895 260.678 Q240.359 263.236 240.359 267.655 Q240.359 271.981 237.801 274.596 Q235.243 277.21 230.993 277.21 Q226.121 277.21 223.545 273.486 Q220.968 269.743 220.968 262.653 Q220.968 255.995 224.128 252.045 Q227.287 248.077 232.61 248.077 Q234.039 248.077 235.488 248.359 Q236.955 248.641 238.535 249.205 Z\" fill=\"#000000\" fill-rule=\"nonzero\" fill-opacity=\"1\" /><polyline clip-path=\"url(#clip362)\" style=\"stroke:#009af9; stroke-linecap:round; stroke-linejoin:round; stroke-width:4; stroke-opacity:1; fill:none\" points=\"335.125,1486.45 335.125,1486 343.355,1486 343.355,1485.04 351.586,1485.04 351.586,1483.87 359.816,1483.87 359.816,1482.46 368.047,1482.46 368.047,1480.82 376.277,1480.82 376.277,1478.78 384.508,1478.78 384.508,1475.06 392.739,1475.06 392.739,1467.62 400.969,1467.62 400.969,1458.51 409.2,1458.51 409.2,1449.29 417.43,1449.29 417.43,1440.64 425.661,1440.64 425.661,1431.56 433.891,1431.56 433.891,1422.75 442.122,1422.75 442.122,1412.67 450.352,1412.67 450.352,1399.48 458.583,1399.48 458.583,1387.03 466.813,1387.03 466.813,1374.39 475.044,1374.39 475.044,1359.9 483.274,1359.9 483.274,1344.13 491.505,1344.13 491.505,1328.52 499.735,1328.52 499.735,1310.66 507.966,1310.66 507.966,1293.3 516.196,1293.3 516.196,1277.45 524.427,1277.45 524.427,1257.2 532.657,1257.2 532.657,1231.9 540.888,1231.9 540.888,1202.33 549.118,1202.33 549.118,1165.97 557.349,1165.97 557.349,1120.93 565.58,1120.93 565.58,1067.98 573.81,1067.98 573.81,1007.11 582.041,1007.11 582.041,941.93 590.271,941.93 590.271,873.93 598.502,873.93 598.502,807.341 606.732,807.341 606.732,744.949 614.963,744.949 614.963,686.61 623.193,686.61 623.193,630.514 631.424,630.514 631.424,578.905 639.654,578.905 639.654,533.761 647.885,533.761 647.885,493.887 656.115,493.887 656.115,462.456 664.346,462.456 664.346,432.34 672.576,432.34 672.576,399.1 680.807,399.1 680.807,366.74 689.037,366.74 689.037,339.904 697.268,339.904 697.268,315.819 705.498,315.819 705.498,293.807 713.729,293.807 713.729,275.607 721.96,275.607 721.96,258.505 730.19,258.505 730.19,245.008 738.421,245.008 738.421,232.658 746.651,232.658 746.651,221.827 754.882,221.827 754.882,213.481 763.112,213.481 763.112,207.342 771.343,207.342 771.343,200.069 779.573,200.069 779.573,191.675 787.804,191.675 787.804,184.559 796.034,184.559 796.034,180.265 804.265,180.265 804.265,177.804 812.495,177.804 812.495,174.608 820.726,174.608 820.726,169.277 828.956,169.277 828.956,164.393 837.187,164.393 837.187,160.521 845.417,160.521 845.417,156.879 853.648,156.879 853.648,149.558 861.878,149.558 861.878,142.333 870.109,142.333 870.109,137.292 878.34,137.292 878.34,132.503 886.57,132.503 886.57,128.957 894.801,128.957 894.801,126.002 903.031,126.002 903.031,122.999 911.262,122.999 911.262,118.73 919.492,118.73 919.492,113.881 927.723,113.881 927.723,107.404 935.953,107.404 935.953,100.843 944.184,100.843 944.184,96.3686 952.414,96.3686 952.414,93.1845 960.645,93.1845 960.645,92.6297 968.875,92.6297 968.875,93.6669 977.106,93.6669 977.106,94.2338 985.336,94.2338 985.336,94.1494 993.567,94.1494 993.567,93.2448 1001.8,93.2448 1001.8,91.8457 1010.03,91.8457 1010.03,89.0837 1018.26,89.0837 1018.26,86.177 1026.49,86.177 1026.49,83.7648 1034.72,83.7648 1034.72,83.2944 1042.95,83.2944 1042.95,83.7045 1051.18,83.7045 1051.18,84.7418 1059.41,84.7418 1059.41,86.3821 1067.64,86.3821 1067.64,86.9972 1075.87,86.9972 1075.87,87.6967 1084.1,87.6967 1084.1,85.6584 1092.33,85.6584 1092.33,82.7276 1100.56,82.7276 1100.56,79.7003 1108.79,79.7003 1108.79,78.47 1117.02,78.47 1117.02,77.1192 1125.26,77.1192 1125.26,74.9844 1133.49,74.9844 1133.49,73.2838 1141.72,73.2838 1141.72,71.1249 1149.95,71.1249 1149.95,71.0887 1158.18,71.0887 1158.18,71.3661 1166.41,71.3661 1166.41,69.6896 1174.64,69.6896 1174.64,67.579 1182.87,67.579 1182.87,66.2402 1191.1,66.2402 1191.1,65.2271 1199.33,65.2271 1199.33,65.0823 1207.56,65.0823 1207.56,65.6251 1215.79,65.6251 1215.79,65.2512 1224.02,65.2512 1224.02,65.3838 1232.25,65.3838 1232.25,65.4924 1240.48,65.4924 1240.48,65.7819 1248.71,65.7819 1248.71,66.1196 1256.94,66.1196 1256.94,64.0451 1265.17,64.0451 1265.17,60.9213 1273.4,60.9213 1273.4,58.7865 1281.64,58.7865 1281.64,56.7361 1289.87,56.7361 1289.87,55.3491 1298.1,55.3491 1298.1,55.0114 1306.33,55.0114 1306.33,55.3732 1314.56,55.3732 1314.56,54.927 1322.79,54.927 1322.79,54.4686 1331.02,54.4686 1331.02,53.6002 1339.25,53.6002 1339.25,52.6836 1347.48,52.6836 1347.48,51.9961 1355.71,51.9961 1355.71,51.9117 1363.94,51.9117 1363.94,52.4786 1372.17,52.4786 1372.17,53.6485 1380.4,53.6485 1380.4,54.9028 1388.63,54.9028 1388.63,54.3239 1396.86,54.3239 1396.86,52.8163 1405.09,52.8163 1405.09,50.8262 1413.32,50.8262 1413.32,50.0302 1421.55,50.0302 1421.55,49.7407 1429.78,49.7407 1429.78,49.6925 1438.02,49.6925 1438.02,50.1026 1446.25,50.1026 1446.25,51.5137 1454.48,51.5137 1454.48,52.2856 1462.71,52.2856 1462.71,52.0806 1470.94,52.0806 1470.94,51.6464 1479.17,51.6464 1479.17,51.3328 1487.4,51.3328 1487.4,49.0532 1495.63,49.0532 1495.63,47.6662 1503.86,47.6662 1503.86,47.2441 1512.09,47.2441 1512.09,48.1125 1520.32,48.1125 1520.32,50.4161 1528.55,50.4161 1528.55,50.7418 1536.78,50.7418 1536.78,50.392 1545.01,50.392 1545.01,49.7528 1553.24,49.7528 1553.24,48.9206 1561.47,48.9206 1561.47,48.402 1569.7,48.402 1569.7,49.5236 1577.93,49.5236 1577.93,52.9972 1586.16,52.9972 1586.16,58.0025 1594.4,58.0025 1594.4,62.9716 1602.63,62.9716 1602.63,66.8915 1610.86,66.8915 1610.86,69.9308 1619.09,69.9308 1619.09,69.8223 1627.32,69.8223 1627.32,69.4122 1635.55,69.4122 1635.55,69.762 1643.78,69.762 1643.78,70.6304 1652.01,70.6304 1652.01,73.115 1660.24,73.115 1660.24,76.2388 1668.47,76.2388 1668.47,81.0511 1676.7,81.0511 1676.7,87.9741 1684.93,87.9741 1684.93,95.271 1693.16,95.271 1693.16,102.833 1701.39,102.833 1701.39,111.686 1709.62,111.686 1709.62,121.13 1717.85,121.13 1717.85,131.008 1726.08,131.008 1726.08,141.187 1734.31,141.187 1734.31,149.148 1742.54,149.148 1742.54,156.312 1750.78,156.312 1750.78,164.465 1759.01,164.465 1759.01,171.46 1767.24,171.46 1767.24,178.275 1775.47,178.275 1775.47,185.656 1783.7,185.656 1783.7,193.038 1791.93,193.038 1791.93,199.128 1800.16,199.128 1800.16,204.146 1808.39,204.146 1808.39,210.454 1816.62,210.454 1816.62,222.671 1824.85,222.671 1824.85,238.604 1833.08,238.604 1833.08,252.679 1841.31,252.679 1841.31,267.695 1849.54,267.695 1849.54,286.233 1857.77,286.233 1857.77,310.415 1866,310.415 1866,341.123 1874.23,341.123 1874.23,379.392 1882.46,379.392 1882.46,423.765 1890.69,423.765 1890.69,479.33 1898.92,479.33 1898.92,545.327 1907.16,545.327 1907.16,613.617 1915.39,613.617 1915.39,678.915 1923.62,678.915 1923.62,742.115 1931.85,742.115 1931.85,802.251 1940.08,802.251 1940.08,853.715 1948.31,853.715 1948.31,894.65 1956.54,894.65 1956.54,921.655 1964.77,921.655 1964.77,942.279 1973,942.279 1973,962.289 1981.23,962.289 1981.23,983.83 1989.46,983.83 1989.46,1006.93 1997.69,1006.93 1997.69,1031.37 2005.92,1031.37 2005.92,1058.4 2014.15,1058.4 2014.15,1087.37 2022.38,1087.37 2022.38,1116.38 2030.61,1116.38 2030.61,1149.43 2038.84,1149.43 2038.84,1184.14 2047.07,1184.14 2047.07,1216.94 2055.3,1216.94 2055.3,1246.31 2063.54,1246.31 2063.54,1271.45 2071.77,1271.45 2071.77,1291.7 2080,1291.7 2080,1311.29 2088.23,1311.29 2088.23,1331.23 2096.46,1331.23 2096.46,1347.57 2104.69,1347.57 2104.69,1360.93 2112.92,1360.93 2112.92,1371.83 2121.15,1371.83 2121.15,1381.47 2129.38,1381.47 2129.38,1391.54 2137.61,1391.54 2137.61,1401.38 2145.84,1401.38 2145.84,1410.55 2154.07,1410.55 2154.07,1419.64 2162.3,1419.64 2162.3,1429.13 2170.53,1429.13 2170.53,1438.4 2178.76,1438.4 2178.76,1447.36 2186.99,1447.36 2186.99,1456.33 2195.22,1456.33 2195.22,1464.83 2203.45,1464.83 2203.45,1471.85 2211.68,1471.85 2211.68,1476.47 2219.92,1476.47 2219.92,1478.57 2228.15,1478.57 2228.15,1479.45 2236.38,1479.45 2236.38,1480.51 2244.61,1480.51 2244.61,1481.55 2252.84,1481.55 2252.84,1483 2261.07,1483 2261.07,1484.11 2269.3,1484.11 2269.3,1485.17 2277.53,1485.17 2277.53,1486.04 2285.76,1486.04 2285.76,1486.44 2293.99,1486.44 2293.99,1486.45 \"/>\n",
       "<path clip-path=\"url(#clip362)\" d=\"M1232.25 64.6964 L1232.25 1486.45 L1232.66 1486.45 L1232.66 64.6964 L1232.25 64.6964 L1232.25 64.6964  Z\" fill=\"#e26f46\" fill-rule=\"evenodd\" fill-opacity=\"1\"/>\n",
       "<polyline clip-path=\"url(#clip362)\" style=\"stroke:#000000; stroke-linecap:round; stroke-linejoin:round; stroke-width:4; stroke-opacity:1; fill:none\" points=\"1232.25,64.6964 1232.25,1486.45 1232.66,1486.45 1232.66,64.6964 1232.25,64.6964 \"/>\n",
       "<path clip-path=\"url(#clip362)\" d=\"M1232.66 65.6613 L1232.66 1486.45 L1233.08 1486.45 L1233.08 65.6613 L1232.66 65.6613 L1232.66 65.6613  Z\" fill=\"#e26f46\" fill-rule=\"evenodd\" fill-opacity=\"1\"/>\n",
       "<polyline clip-path=\"url(#clip362)\" style=\"stroke:#000000; stroke-linecap:round; stroke-linejoin:round; stroke-width:4; stroke-opacity:1; fill:none\" points=\"1232.66,65.6613 1232.66,1486.45 1233.08,1486.45 1233.08,65.6613 1232.66,65.6613 \"/>\n",
       "<path clip-path=\"url(#clip362)\" d=\"M1233.08 64.4552 L1233.08 1486.45 L1233.49 1486.45 L1233.49 64.4552 L1233.08 64.4552 L1233.08 64.4552  Z\" fill=\"#e26f46\" fill-rule=\"evenodd\" fill-opacity=\"1\"/>\n",
       "<polyline clip-path=\"url(#clip362)\" style=\"stroke:#000000; stroke-linecap:round; stroke-linejoin:round; stroke-width:4; stroke-opacity:1; fill:none\" points=\"1233.08,64.4552 1233.08,1486.45 1233.49,1486.45 1233.49,64.4552 1233.08,64.4552 \"/>\n",
       "<path clip-path=\"url(#clip362)\" d=\"M1233.49 65.6613 L1233.49 1486.45 L1233.9 1486.45 L1233.9 65.6613 L1233.49 65.6613 L1233.49 65.6613  Z\" fill=\"#e26f46\" fill-rule=\"evenodd\" fill-opacity=\"1\"/>\n",
       "<polyline clip-path=\"url(#clip362)\" style=\"stroke:#000000; stroke-linecap:round; stroke-linejoin:round; stroke-width:4; stroke-opacity:1; fill:none\" points=\"1233.49,65.6613 1233.49,1486.45 1233.9,1486.45 1233.9,65.6613 1233.49,65.6613 \"/>\n",
       "<path clip-path=\"url(#clip362)\" d=\"M1233.9 67.591 L1233.9 1486.45 L1234.31 1486.45 L1234.31 67.591 L1233.9 67.591 L1233.9 67.591  Z\" fill=\"#e26f46\" fill-rule=\"evenodd\" fill-opacity=\"1\"/>\n",
       "<polyline clip-path=\"url(#clip362)\" style=\"stroke:#000000; stroke-linecap:round; stroke-linejoin:round; stroke-width:4; stroke-opacity:1; fill:none\" points=\"1233.9,67.591 1233.9,1486.45 1234.31,1486.45 1234.31,67.591 1233.9,67.591 \"/>\n",
       "<path clip-path=\"url(#clip362)\" d=\"M1234.31 63.0078 L1234.31 1486.45 L1234.72 1486.45 L1234.72 63.0078 L1234.31 63.0078 L1234.31 63.0078  Z\" fill=\"#e26f46\" fill-rule=\"evenodd\" fill-opacity=\"1\"/>\n",
       "<polyline clip-path=\"url(#clip362)\" style=\"stroke:#000000; stroke-linecap:round; stroke-linejoin:round; stroke-width:4; stroke-opacity:1; fill:none\" points=\"1234.31,63.0078 1234.31,1486.45 1234.72,1486.45 1234.72,63.0078 1234.31,63.0078 \"/>\n",
       "<path clip-path=\"url(#clip362)\" d=\"M1234.72 66.3849 L1234.72 1486.45 L1235.13 1486.45 L1235.13 66.3849 L1234.72 66.3849 L1234.72 66.3849  Z\" fill=\"#e26f46\" fill-rule=\"evenodd\" fill-opacity=\"1\"/>\n",
       "<polyline clip-path=\"url(#clip362)\" style=\"stroke:#000000; stroke-linecap:round; stroke-linejoin:round; stroke-width:4; stroke-opacity:1; fill:none\" points=\"1234.72,66.3849 1234.72,1486.45 1235.13,1486.45 1235.13,66.3849 1234.72,66.3849 \"/>\n",
       "<path clip-path=\"url(#clip362)\" d=\"M1235.13 65.6613 L1235.13 1486.45 L1235.54 1486.45 L1235.54 65.6613 L1235.13 65.6613 L1235.13 65.6613  Z\" fill=\"#e26f46\" fill-rule=\"evenodd\" fill-opacity=\"1\"/>\n",
       "<polyline clip-path=\"url(#clip362)\" style=\"stroke:#000000; stroke-linecap:round; stroke-linejoin:round; stroke-width:4; stroke-opacity:1; fill:none\" points=\"1235.13,65.6613 1235.13,1486.45 1235.54,1486.45 1235.54,65.6613 1235.13,65.6613 \"/>\n",
       "<path clip-path=\"url(#clip362)\" d=\"M1235.54 66.6261 L1235.54 1486.45 L1235.96 1486.45 L1235.96 66.6261 L1235.54 66.6261 L1235.54 66.6261  Z\" fill=\"#e26f46\" fill-rule=\"evenodd\" fill-opacity=\"1\"/>\n",
       "<polyline clip-path=\"url(#clip362)\" style=\"stroke:#000000; stroke-linecap:round; stroke-linejoin:round; stroke-width:4; stroke-opacity:1; fill:none\" points=\"1235.54,66.6261 1235.54,1486.45 1235.96,1486.45 1235.96,66.6261 1235.54,66.6261 \"/>\n",
       "<path clip-path=\"url(#clip362)\" d=\"M1235.96 65.9025 L1235.96 1486.45 L1236.37 1486.45 L1236.37 65.9025 L1235.96 65.9025 L1235.96 65.9025  Z\" fill=\"#e26f46\" fill-rule=\"evenodd\" fill-opacity=\"1\"/>\n",
       "<polyline clip-path=\"url(#clip362)\" style=\"stroke:#000000; stroke-linecap:round; stroke-linejoin:round; stroke-width:4; stroke-opacity:1; fill:none\" points=\"1235.96,65.9025 1235.96,1486.45 1236.37,1486.45 1236.37,65.9025 1235.96,65.9025 \"/>\n",
       "<path clip-path=\"url(#clip362)\" d=\"M1236.37 66.1437 L1236.37 1486.45 L1236.78 1486.45 L1236.78 66.1437 L1236.37 66.1437 L1236.37 66.1437  Z\" fill=\"#e26f46\" fill-rule=\"evenodd\" fill-opacity=\"1\"/>\n",
       "<polyline clip-path=\"url(#clip362)\" style=\"stroke:#000000; stroke-linecap:round; stroke-linejoin:round; stroke-width:4; stroke-opacity:1; fill:none\" points=\"1236.37,66.1437 1236.37,1486.45 1236.78,1486.45 1236.78,66.1437 1236.37,66.1437 \"/>\n",
       "<path clip-path=\"url(#clip362)\" d=\"M1236.78 63.9727 L1236.78 1486.45 L1237.19 1486.45 L1237.19 63.9727 L1236.78 63.9727 L1236.78 63.9727  Z\" fill=\"#e26f46\" fill-rule=\"evenodd\" fill-opacity=\"1\"/>\n",
       "<polyline clip-path=\"url(#clip362)\" style=\"stroke:#000000; stroke-linecap:round; stroke-linejoin:round; stroke-width:4; stroke-opacity:1; fill:none\" points=\"1236.78,63.9727 1236.78,1486.45 1237.19,1486.45 1237.19,63.9727 1236.78,63.9727 \"/>\n",
       "<path clip-path=\"url(#clip362)\" d=\"M1237.19 64.6964 L1237.19 1486.45 L1237.6 1486.45 L1237.6 64.6964 L1237.19 64.6964 L1237.19 64.6964  Z\" fill=\"#e26f46\" fill-rule=\"evenodd\" fill-opacity=\"1\"/>\n",
       "<polyline clip-path=\"url(#clip362)\" style=\"stroke:#000000; stroke-linecap:round; stroke-linejoin:round; stroke-width:4; stroke-opacity:1; fill:none\" points=\"1237.19,64.6964 1237.19,1486.45 1237.6,1486.45 1237.6,64.6964 1237.19,64.6964 \"/>\n",
       "<path clip-path=\"url(#clip362)\" d=\"M1237.6 65.6613 L1237.6 1486.45 L1238.01 1486.45 L1238.01 65.6613 L1237.6 65.6613 L1237.6 65.6613  Z\" fill=\"#e26f46\" fill-rule=\"evenodd\" fill-opacity=\"1\"/>\n",
       "<polyline clip-path=\"url(#clip362)\" style=\"stroke:#000000; stroke-linecap:round; stroke-linejoin:round; stroke-width:4; stroke-opacity:1; fill:none\" points=\"1237.6,65.6613 1237.6,1486.45 1238.01,1486.45 1238.01,65.6613 1237.6,65.6613 \"/>\n",
       "<path clip-path=\"url(#clip362)\" d=\"M1238.01 68.5559 L1238.01 1486.45 L1238.43 1486.45 L1238.43 68.5559 L1238.01 68.5559 L1238.01 68.5559  Z\" fill=\"#e26f46\" fill-rule=\"evenodd\" fill-opacity=\"1\"/>\n",
       "<polyline clip-path=\"url(#clip362)\" style=\"stroke:#000000; stroke-linecap:round; stroke-linejoin:round; stroke-width:4; stroke-opacity:1; fill:none\" points=\"1238.01,68.5559 1238.01,1486.45 1238.43,1486.45 1238.43,68.5559 1238.01,68.5559 \"/>\n",
       "<path clip-path=\"url(#clip362)\" d=\"M1238.43 62.2842 L1238.43 1486.45 L1238.84 1486.45 L1238.84 62.2842 L1238.43 62.2842 L1238.43 62.2842  Z\" fill=\"#e26f46\" fill-rule=\"evenodd\" fill-opacity=\"1\"/>\n",
       "<polyline clip-path=\"url(#clip362)\" style=\"stroke:#000000; stroke-linecap:round; stroke-linejoin:round; stroke-width:4; stroke-opacity:1; fill:none\" points=\"1238.43,62.2842 1238.43,1486.45 1238.84,1486.45 1238.84,62.2842 1238.43,62.2842 \"/>\n",
       "<path clip-path=\"url(#clip362)\" d=\"M1238.84 66.8674 L1238.84 1486.45 L1239.25 1486.45 L1239.25 66.8674 L1238.84 66.8674 L1238.84 66.8674  Z\" fill=\"#e26f46\" fill-rule=\"evenodd\" fill-opacity=\"1\"/>\n",
       "<polyline clip-path=\"url(#clip362)\" style=\"stroke:#000000; stroke-linecap:round; stroke-linejoin:round; stroke-width:4; stroke-opacity:1; fill:none\" points=\"1238.84,66.8674 1238.84,1486.45 1239.25,1486.45 1239.25,66.8674 1238.84,66.8674 \"/>\n",
       "<path clip-path=\"url(#clip362)\" d=\"M1239.25 64.6964 L1239.25 1486.45 L1239.66 1486.45 L1239.66 64.6964 L1239.25 64.6964 L1239.25 64.6964  Z\" fill=\"#e26f46\" fill-rule=\"evenodd\" fill-opacity=\"1\"/>\n",
       "<polyline clip-path=\"url(#clip362)\" style=\"stroke:#000000; stroke-linecap:round; stroke-linejoin:round; stroke-width:4; stroke-opacity:1; fill:none\" points=\"1239.25,64.6964 1239.25,1486.45 1239.66,1486.45 1239.66,64.6964 1239.25,64.6964 \"/>\n",
       "<path clip-path=\"url(#clip362)\" d=\"M1239.66 65.9025 L1239.66 1486.45 L1240.07 1486.45 L1240.07 65.9025 L1239.66 65.9025 L1239.66 65.9025  Z\" fill=\"#e26f46\" fill-rule=\"evenodd\" fill-opacity=\"1\"/>\n",
       "<polyline clip-path=\"url(#clip362)\" style=\"stroke:#000000; stroke-linecap:round; stroke-linejoin:round; stroke-width:4; stroke-opacity:1; fill:none\" points=\"1239.66,65.9025 1239.66,1486.45 1240.07,1486.45 1240.07,65.9025 1239.66,65.9025 \"/>\n",
       "<path clip-path=\"url(#clip362)\" d=\"M1240.07 66.8674 L1240.07 1486.45 L1240.48 1486.45 L1240.48 66.8674 L1240.07 66.8674 L1240.07 66.8674  Z\" fill=\"#e26f46\" fill-rule=\"evenodd\" fill-opacity=\"1\"/>\n",
       "<polyline clip-path=\"url(#clip362)\" style=\"stroke:#000000; stroke-linecap:round; stroke-linejoin:round; stroke-width:4; stroke-opacity:1; fill:none\" points=\"1240.07,66.8674 1240.07,1486.45 1240.48,1486.45 1240.48,66.8674 1240.07,66.8674 \"/>\n",
       "<path clip-path=\"url(#clip362)\" d=\"M1240.48 65.9025 L1240.48 1486.45 L1240.89 1486.45 L1240.89 65.9025 L1240.48 65.9025 L1240.48 65.9025  Z\" fill=\"#e26f46\" fill-rule=\"evenodd\" fill-opacity=\"1\"/>\n",
       "<polyline clip-path=\"url(#clip362)\" style=\"stroke:#000000; stroke-linecap:round; stroke-linejoin:round; stroke-width:4; stroke-opacity:1; fill:none\" points=\"1240.48,65.9025 1240.48,1486.45 1240.89,1486.45 1240.89,65.9025 1240.48,65.9025 \"/>\n",
       "<path clip-path=\"url(#clip362)\" d=\"M1240.89 64.9376 L1240.89 1486.45 L1241.31 1486.45 L1241.31 64.9376 L1240.89 64.9376 L1240.89 64.9376  Z\" fill=\"#e26f46\" fill-rule=\"evenodd\" fill-opacity=\"1\"/>\n",
       "<polyline clip-path=\"url(#clip362)\" style=\"stroke:#000000; stroke-linecap:round; stroke-linejoin:round; stroke-width:4; stroke-opacity:1; fill:none\" points=\"1240.89,64.9376 1240.89,1486.45 1241.31,1486.45 1241.31,64.9376 1240.89,64.9376 \"/>\n",
       "<path clip-path=\"url(#clip362)\" d=\"M1241.31 65.6613 L1241.31 1486.45 L1241.72 1486.45 L1241.72 65.6613 L1241.31 65.6613 L1241.31 65.6613  Z\" fill=\"#e26f46\" fill-rule=\"evenodd\" fill-opacity=\"1\"/>\n",
       "<polyline clip-path=\"url(#clip362)\" style=\"stroke:#000000; stroke-linecap:round; stroke-linejoin:round; stroke-width:4; stroke-opacity:1; fill:none\" points=\"1241.31,65.6613 1241.31,1486.45 1241.72,1486.45 1241.72,65.6613 1241.31,65.6613 \"/>\n",
       "<path clip-path=\"url(#clip362)\" d=\"M1241.72 64.6964 L1241.72 1486.45 L1242.13 1486.45 L1242.13 64.6964 L1241.72 64.6964 L1241.72 64.6964  Z\" fill=\"#e26f46\" fill-rule=\"evenodd\" fill-opacity=\"1\"/>\n",
       "<polyline clip-path=\"url(#clip362)\" style=\"stroke:#000000; stroke-linecap:round; stroke-linejoin:round; stroke-width:4; stroke-opacity:1; fill:none\" points=\"1241.72,64.6964 1241.72,1486.45 1242.13,1486.45 1242.13,64.6964 1241.72,64.6964 \"/>\n",
       "<path clip-path=\"url(#clip362)\" d=\"M1242.13 65.42 L1242.13 1486.45 L1242.54 1486.45 L1242.54 65.42 L1242.13 65.42 L1242.13 65.42  Z\" fill=\"#e26f46\" fill-rule=\"evenodd\" fill-opacity=\"1\"/>\n",
       "<polyline clip-path=\"url(#clip362)\" style=\"stroke:#000000; stroke-linecap:round; stroke-linejoin:round; stroke-width:4; stroke-opacity:1; fill:none\" points=\"1242.13,65.42 1242.13,1486.45 1242.54,1486.45 1242.54,65.42 1242.13,65.42 \"/>\n",
       "<path clip-path=\"url(#clip362)\" d=\"M1242.54 66.6261 L1242.54 1486.45 L1242.95 1486.45 L1242.95 66.6261 L1242.54 66.6261 L1242.54 66.6261  Z\" fill=\"#e26f46\" fill-rule=\"evenodd\" fill-opacity=\"1\"/>\n",
       "<polyline clip-path=\"url(#clip362)\" style=\"stroke:#000000; stroke-linecap:round; stroke-linejoin:round; stroke-width:4; stroke-opacity:1; fill:none\" points=\"1242.54,66.6261 1242.54,1486.45 1242.95,1486.45 1242.95,66.6261 1242.54,66.6261 \"/>\n",
       "<path clip-path=\"url(#clip362)\" d=\"M1242.95 66.6261 L1242.95 1486.45 L1243.36 1486.45 L1243.36 66.6261 L1242.95 66.6261 L1242.95 66.6261  Z\" fill=\"#e26f46\" fill-rule=\"evenodd\" fill-opacity=\"1\"/>\n",
       "<polyline clip-path=\"url(#clip362)\" style=\"stroke:#000000; stroke-linecap:round; stroke-linejoin:round; stroke-width:4; stroke-opacity:1; fill:none\" points=\"1242.95,66.6261 1242.95,1486.45 1243.36,1486.45 1243.36,66.6261 1242.95,66.6261 \"/>\n",
       "<path clip-path=\"url(#clip362)\" d=\"M1243.36 64.4552 L1243.36 1486.45 L1243.77 1486.45 L1243.77 64.4552 L1243.36 64.4552 L1243.36 64.4552  Z\" fill=\"#e26f46\" fill-rule=\"evenodd\" fill-opacity=\"1\"/>\n",
       "<polyline clip-path=\"url(#clip362)\" style=\"stroke:#000000; stroke-linecap:round; stroke-linejoin:round; stroke-width:4; stroke-opacity:1; fill:none\" points=\"1243.36,64.4552 1243.36,1486.45 1243.77,1486.45 1243.77,64.4552 1243.36,64.4552 \"/>\n",
       "<path clip-path=\"url(#clip362)\" d=\"M1243.77 63.7315 L1243.77 1486.45 L1244.19 1486.45 L1244.19 63.7315 L1243.77 63.7315 L1243.77 63.7315  Z\" fill=\"#e26f46\" fill-rule=\"evenodd\" fill-opacity=\"1\"/>\n",
       "<polyline clip-path=\"url(#clip362)\" style=\"stroke:#000000; stroke-linecap:round; stroke-linejoin:round; stroke-width:4; stroke-opacity:1; fill:none\" points=\"1243.77,63.7315 1243.77,1486.45 1244.19,1486.45 1244.19,63.7315 1243.77,63.7315 \"/>\n",
       "<path clip-path=\"url(#clip362)\" d=\"M1244.19 67.8322 L1244.19 1486.45 L1244.6 1486.45 L1244.6 67.8322 L1244.19 67.8322 L1244.19 67.8322  Z\" fill=\"#e26f46\" fill-rule=\"evenodd\" fill-opacity=\"1\"/>\n",
       "<polyline clip-path=\"url(#clip362)\" style=\"stroke:#000000; stroke-linecap:round; stroke-linejoin:round; stroke-width:4; stroke-opacity:1; fill:none\" points=\"1244.19,67.8322 1244.19,1486.45 1244.6,1486.45 1244.6,67.8322 1244.19,67.8322 \"/>\n",
       "<path clip-path=\"url(#clip362)\" d=\"M1244.6 65.9025 L1244.6 1486.45 L1245.01 1486.45 L1245.01 65.9025 L1244.6 65.9025 L1244.6 65.9025  Z\" fill=\"#e26f46\" fill-rule=\"evenodd\" fill-opacity=\"1\"/>\n",
       "<polyline clip-path=\"url(#clip362)\" style=\"stroke:#000000; stroke-linecap:round; stroke-linejoin:round; stroke-width:4; stroke-opacity:1; fill:none\" points=\"1244.6,65.9025 1244.6,1486.45 1245.01,1486.45 1245.01,65.9025 1244.6,65.9025 \"/>\n",
       "<path clip-path=\"url(#clip362)\" d=\"M1245.01 66.1437 L1245.01 1486.45 L1245.42 1486.45 L1245.42 66.1437 L1245.01 66.1437 L1245.01 66.1437  Z\" fill=\"#e26f46\" fill-rule=\"evenodd\" fill-opacity=\"1\"/>\n",
       "<polyline clip-path=\"url(#clip362)\" style=\"stroke:#000000; stroke-linecap:round; stroke-linejoin:round; stroke-width:4; stroke-opacity:1; fill:none\" points=\"1245.01,66.1437 1245.01,1486.45 1245.42,1486.45 1245.42,66.1437 1245.01,66.1437 \"/>\n",
       "<path clip-path=\"url(#clip362)\" d=\"M1245.42 64.9376 L1245.42 1486.45 L1245.83 1486.45 L1245.83 64.9376 L1245.42 64.9376 L1245.42 64.9376  Z\" fill=\"#e26f46\" fill-rule=\"evenodd\" fill-opacity=\"1\"/>\n",
       "<polyline clip-path=\"url(#clip362)\" style=\"stroke:#000000; stroke-linecap:round; stroke-linejoin:round; stroke-width:4; stroke-opacity:1; fill:none\" points=\"1245.42,64.9376 1245.42,1486.45 1245.83,1486.45 1245.83,64.9376 1245.42,64.9376 \"/>\n",
       "<path clip-path=\"url(#clip362)\" d=\"M1245.83 68.0735 L1245.83 1486.45 L1246.24 1486.45 L1246.24 68.0735 L1245.83 68.0735 L1245.83 68.0735  Z\" fill=\"#e26f46\" fill-rule=\"evenodd\" fill-opacity=\"1\"/>\n",
       "<polyline clip-path=\"url(#clip362)\" style=\"stroke:#000000; stroke-linecap:round; stroke-linejoin:round; stroke-width:4; stroke-opacity:1; fill:none\" points=\"1245.83,68.0735 1245.83,1486.45 1246.24,1486.45 1246.24,68.0735 1245.83,68.0735 \"/>\n",
       "<path clip-path=\"url(#clip362)\" d=\"M1246.24 65.1788 L1246.24 1486.45 L1246.66 1486.45 L1246.66 65.1788 L1246.24 65.1788 L1246.24 65.1788  Z\" fill=\"#e26f46\" fill-rule=\"evenodd\" fill-opacity=\"1\"/>\n",
       "<polyline clip-path=\"url(#clip362)\" style=\"stroke:#000000; stroke-linecap:round; stroke-linejoin:round; stroke-width:4; stroke-opacity:1; fill:none\" points=\"1246.24,65.1788 1246.24,1486.45 1246.66,1486.45 1246.66,65.1788 1246.24,65.1788 \"/>\n",
       "<path clip-path=\"url(#clip362)\" d=\"M1246.66 66.1437 L1246.66 1486.45 L1247.07 1486.45 L1247.07 66.1437 L1246.66 66.1437 L1246.66 66.1437  Z\" fill=\"#e26f46\" fill-rule=\"evenodd\" fill-opacity=\"1\"/>\n",
       "<polyline clip-path=\"url(#clip362)\" style=\"stroke:#000000; stroke-linecap:round; stroke-linejoin:round; stroke-width:4; stroke-opacity:1; fill:none\" points=\"1246.66,66.1437 1246.66,1486.45 1247.07,1486.45 1247.07,66.1437 1246.66,66.1437 \"/>\n",
       "<path clip-path=\"url(#clip362)\" d=\"M1247.07 65.42 L1247.07 1486.45 L1247.48 1486.45 L1247.48 65.42 L1247.07 65.42 L1247.07 65.42  Z\" fill=\"#e26f46\" fill-rule=\"evenodd\" fill-opacity=\"1\"/>\n",
       "<polyline clip-path=\"url(#clip362)\" style=\"stroke:#000000; stroke-linecap:round; stroke-linejoin:round; stroke-width:4; stroke-opacity:1; fill:none\" points=\"1247.07,65.42 1247.07,1486.45 1247.48,1486.45 1247.48,65.42 1247.07,65.42 \"/>\n",
       "<path clip-path=\"url(#clip362)\" d=\"M1247.48 64.9376 L1247.48 1486.45 L1247.89 1486.45 L1247.89 64.9376 L1247.48 64.9376 L1247.48 64.9376  Z\" fill=\"#e26f46\" fill-rule=\"evenodd\" fill-opacity=\"1\"/>\n",
       "<polyline clip-path=\"url(#clip362)\" style=\"stroke:#000000; stroke-linecap:round; stroke-linejoin:round; stroke-width:4; stroke-opacity:1; fill:none\" points=\"1247.48,64.9376 1247.48,1486.45 1247.89,1486.45 1247.89,64.9376 1247.48,64.9376 \"/>\n",
       "<path clip-path=\"url(#clip362)\" d=\"M1247.89 67.591 L1247.89 1486.45 L1248.3 1486.45 L1248.3 67.591 L1247.89 67.591 L1247.89 67.591  Z\" fill=\"#e26f46\" fill-rule=\"evenodd\" fill-opacity=\"1\"/>\n",
       "<polyline clip-path=\"url(#clip362)\" style=\"stroke:#000000; stroke-linecap:round; stroke-linejoin:round; stroke-width:4; stroke-opacity:1; fill:none\" points=\"1247.89,67.591 1247.89,1486.45 1248.3,1486.45 1248.3,67.591 1247.89,67.591 \"/>\n",
       "<path clip-path=\"url(#clip362)\" d=\"M1248.3 63.9727 L1248.3 1486.45 L1248.71 1486.45 L1248.71 63.9727 L1248.3 63.9727 L1248.3 63.9727  Z\" fill=\"#e26f46\" fill-rule=\"evenodd\" fill-opacity=\"1\"/>\n",
       "<polyline clip-path=\"url(#clip362)\" style=\"stroke:#000000; stroke-linecap:round; stroke-linejoin:round; stroke-width:4; stroke-opacity:1; fill:none\" points=\"1248.3,63.9727 1248.3,1486.45 1248.71,1486.45 1248.71,63.9727 1248.3,63.9727 \"/>\n",
       "<path clip-path=\"url(#clip362)\" d=\"M1248.71 1486.45 L1248.71 1486.45 L1249.12 1486.45 L1249.12 1486.45 L1248.71 1486.45 L1248.71 1486.45  Z\" fill=\"#e26f46\" fill-rule=\"evenodd\" fill-opacity=\"1\"/>\n",
       "<polyline clip-path=\"url(#clip362)\" style=\"stroke:#000000; stroke-linecap:round; stroke-linejoin:round; stroke-width:4; stroke-opacity:1; fill:none\" points=\"1248.71,1486.45 1248.71,1486.45 1249.12,1486.45 1248.71,1486.45 \"/>\n",
       "<circle clip-path=\"url(#clip362)\" style=\"fill:#e26f46; stroke:none; fill-opacity:0\" cx=\"1232.46\" cy=\"64.6964\" r=\"2\"/>\n",
       "<circle clip-path=\"url(#clip362)\" style=\"fill:#e26f46; stroke:none; fill-opacity:0\" cx=\"1232.87\" cy=\"65.6613\" r=\"2\"/>\n",
       "<circle clip-path=\"url(#clip362)\" style=\"fill:#e26f46; stroke:none; fill-opacity:0\" cx=\"1233.28\" cy=\"64.4552\" r=\"2\"/>\n",
       "<circle clip-path=\"url(#clip362)\" style=\"fill:#e26f46; stroke:none; fill-opacity:0\" cx=\"1233.69\" cy=\"65.6613\" r=\"2\"/>\n",
       "<circle clip-path=\"url(#clip362)\" style=\"fill:#e26f46; stroke:none; fill-opacity:0\" cx=\"1234.1\" cy=\"67.591\" r=\"2\"/>\n",
       "<circle clip-path=\"url(#clip362)\" style=\"fill:#e26f46; stroke:none; fill-opacity:0\" cx=\"1234.52\" cy=\"63.0078\" r=\"2\"/>\n",
       "<circle clip-path=\"url(#clip362)\" style=\"fill:#e26f46; stroke:none; fill-opacity:0\" cx=\"1234.93\" cy=\"66.3849\" r=\"2\"/>\n",
       "<circle clip-path=\"url(#clip362)\" style=\"fill:#e26f46; stroke:none; fill-opacity:0\" cx=\"1235.34\" cy=\"65.6613\" r=\"2\"/>\n",
       "<circle clip-path=\"url(#clip362)\" style=\"fill:#e26f46; stroke:none; fill-opacity:0\" cx=\"1235.75\" cy=\"66.6261\" r=\"2\"/>\n",
       "<circle clip-path=\"url(#clip362)\" style=\"fill:#e26f46; stroke:none; fill-opacity:0\" cx=\"1236.16\" cy=\"65.9025\" r=\"2\"/>\n",
       "<circle clip-path=\"url(#clip362)\" style=\"fill:#e26f46; stroke:none; fill-opacity:0\" cx=\"1236.57\" cy=\"66.1437\" r=\"2\"/>\n",
       "<circle clip-path=\"url(#clip362)\" style=\"fill:#e26f46; stroke:none; fill-opacity:0\" cx=\"1236.98\" cy=\"63.9727\" r=\"2\"/>\n",
       "<circle clip-path=\"url(#clip362)\" style=\"fill:#e26f46; stroke:none; fill-opacity:0\" cx=\"1237.4\" cy=\"64.6964\" r=\"2\"/>\n",
       "<circle clip-path=\"url(#clip362)\" style=\"fill:#e26f46; stroke:none; fill-opacity:0\" cx=\"1237.81\" cy=\"65.6613\" r=\"2\"/>\n",
       "<circle clip-path=\"url(#clip362)\" style=\"fill:#e26f46; stroke:none; fill-opacity:0\" cx=\"1238.22\" cy=\"68.5559\" r=\"2\"/>\n",
       "<circle clip-path=\"url(#clip362)\" style=\"fill:#e26f46; stroke:none; fill-opacity:0\" cx=\"1238.63\" cy=\"62.2842\" r=\"2\"/>\n",
       "<circle clip-path=\"url(#clip362)\" style=\"fill:#e26f46; stroke:none; fill-opacity:0\" cx=\"1239.04\" cy=\"66.8674\" r=\"2\"/>\n",
       "<circle clip-path=\"url(#clip362)\" style=\"fill:#e26f46; stroke:none; fill-opacity:0\" cx=\"1239.45\" cy=\"64.6964\" r=\"2\"/>\n",
       "<circle clip-path=\"url(#clip362)\" style=\"fill:#e26f46; stroke:none; fill-opacity:0\" cx=\"1239.87\" cy=\"65.9025\" r=\"2\"/>\n",
       "<circle clip-path=\"url(#clip362)\" style=\"fill:#e26f46; stroke:none; fill-opacity:0\" cx=\"1240.28\" cy=\"66.8674\" r=\"2\"/>\n",
       "<circle clip-path=\"url(#clip362)\" style=\"fill:#e26f46; stroke:none; fill-opacity:0\" cx=\"1240.69\" cy=\"65.9025\" r=\"2\"/>\n",
       "<circle clip-path=\"url(#clip362)\" style=\"fill:#e26f46; stroke:none; fill-opacity:0\" cx=\"1241.1\" cy=\"64.9376\" r=\"2\"/>\n",
       "<circle clip-path=\"url(#clip362)\" style=\"fill:#e26f46; stroke:none; fill-opacity:0\" cx=\"1241.51\" cy=\"65.6613\" r=\"2\"/>\n",
       "<circle clip-path=\"url(#clip362)\" style=\"fill:#e26f46; stroke:none; fill-opacity:0\" cx=\"1241.92\" cy=\"64.6964\" r=\"2\"/>\n",
       "<circle clip-path=\"url(#clip362)\" style=\"fill:#e26f46; stroke:none; fill-opacity:0\" cx=\"1242.33\" cy=\"65.42\" r=\"2\"/>\n",
       "<circle clip-path=\"url(#clip362)\" style=\"fill:#e26f46; stroke:none; fill-opacity:0\" cx=\"1242.75\" cy=\"66.6261\" r=\"2\"/>\n",
       "<circle clip-path=\"url(#clip362)\" style=\"fill:#e26f46; stroke:none; fill-opacity:0\" cx=\"1243.16\" cy=\"66.6261\" r=\"2\"/>\n",
       "<circle clip-path=\"url(#clip362)\" style=\"fill:#e26f46; stroke:none; fill-opacity:0\" cx=\"1243.57\" cy=\"64.4552\" r=\"2\"/>\n",
       "<circle clip-path=\"url(#clip362)\" style=\"fill:#e26f46; stroke:none; fill-opacity:0\" cx=\"1243.98\" cy=\"63.7315\" r=\"2\"/>\n",
       "<circle clip-path=\"url(#clip362)\" style=\"fill:#e26f46; stroke:none; fill-opacity:0\" cx=\"1244.39\" cy=\"67.8322\" r=\"2\"/>\n",
       "<circle clip-path=\"url(#clip362)\" style=\"fill:#e26f46; stroke:none; fill-opacity:0\" cx=\"1244.8\" cy=\"65.9025\" r=\"2\"/>\n",
       "<circle clip-path=\"url(#clip362)\" style=\"fill:#e26f46; stroke:none; fill-opacity:0\" cx=\"1245.22\" cy=\"66.1437\" r=\"2\"/>\n",
       "<circle clip-path=\"url(#clip362)\" style=\"fill:#e26f46; stroke:none; fill-opacity:0\" cx=\"1245.63\" cy=\"64.9376\" r=\"2\"/>\n",
       "<circle clip-path=\"url(#clip362)\" style=\"fill:#e26f46; stroke:none; fill-opacity:0\" cx=\"1246.04\" cy=\"68.0735\" r=\"2\"/>\n",
       "<circle clip-path=\"url(#clip362)\" style=\"fill:#e26f46; stroke:none; fill-opacity:0\" cx=\"1246.45\" cy=\"65.1788\" r=\"2\"/>\n",
       "<circle clip-path=\"url(#clip362)\" style=\"fill:#e26f46; stroke:none; fill-opacity:0\" cx=\"1246.86\" cy=\"66.1437\" r=\"2\"/>\n",
       "<circle clip-path=\"url(#clip362)\" style=\"fill:#e26f46; stroke:none; fill-opacity:0\" cx=\"1247.27\" cy=\"65.42\" r=\"2\"/>\n",
       "<circle clip-path=\"url(#clip362)\" style=\"fill:#e26f46; stroke:none; fill-opacity:0\" cx=\"1247.68\" cy=\"64.9376\" r=\"2\"/>\n",
       "<circle clip-path=\"url(#clip362)\" style=\"fill:#e26f46; stroke:none; fill-opacity:0\" cx=\"1248.1\" cy=\"67.591\" r=\"2\"/>\n",
       "<circle clip-path=\"url(#clip362)\" style=\"fill:#e26f46; stroke:none; fill-opacity:0\" cx=\"1248.51\" cy=\"63.9727\" r=\"2\"/>\n",
       "<circle clip-path=\"url(#clip362)\" style=\"fill:#e26f46; stroke:none; fill-opacity:0\" cx=\"1248.92\" cy=\"1486.45\" r=\"2\"/>\n",
       "<path clip-path=\"url(#clip360)\" d=\"M2023.47 250.738 L2283.54 250.738 L2283.54 95.2176 L2023.47 95.2176  Z\" fill=\"#ffffff\" fill-rule=\"evenodd\" fill-opacity=\"1\"/>\n",
       "<polyline clip-path=\"url(#clip360)\" style=\"stroke:#000000; stroke-linecap:round; stroke-linejoin:round; stroke-width:4; stroke-opacity:1; fill:none\" points=\"2023.47,250.738 2283.54,250.738 2283.54,95.2176 2023.47,95.2176 2023.47,250.738 \"/>\n",
       "<polyline clip-path=\"url(#clip360)\" style=\"stroke:#009af9; stroke-linecap:round; stroke-linejoin:round; stroke-width:4; stroke-opacity:1; fill:none\" points=\"2046.54,147.058 2184.97,147.058 \"/>\n",
       "<path clip-path=\"url(#clip360)\" d=\"M2221.88 166.745 Q2220.08 171.375 2218.37 172.787 Q2216.65 174.199 2213.78 174.199 L2210.38 174.199 L2210.38 170.634 L2212.88 170.634 Q2214.64 170.634 2215.61 169.8 Q2216.58 168.967 2217.76 165.865 L2218.53 163.921 L2208.04 138.412 L2212.56 138.412 L2220.66 158.689 L2228.76 138.412 L2233.27 138.412 L2221.88 166.745 Z\" fill=\"#000000\" fill-rule=\"nonzero\" fill-opacity=\"1\" /><path clip-path=\"url(#clip360)\" d=\"M2240.56 160.402 L2248.2 160.402 L2248.2 134.037 L2239.89 135.703 L2239.89 131.444 L2248.16 129.778 L2252.83 129.778 L2252.83 160.402 L2260.47 160.402 L2260.47 164.338 L2240.56 164.338 L2240.56 160.402 Z\" fill=\"#000000\" fill-rule=\"nonzero\" fill-opacity=\"1\" /><path clip-path=\"url(#clip360)\" d=\"M2046.54 219.634 L2184.97 219.634 L2184.97 178.162 L2046.54 178.162 L2046.54 219.634  Z\" fill=\"#e26f46\" fill-rule=\"evenodd\" fill-opacity=\"1\"/>\n",
       "<polyline clip-path=\"url(#clip360)\" style=\"stroke:#000000; stroke-linecap:round; stroke-linejoin:round; stroke-width:4; stroke-opacity:1; fill:none\" points=\"2046.54,219.634 2184.97,219.634 2184.97,178.162 2046.54,178.162 2046.54,219.634 \"/>\n",
       "<path clip-path=\"url(#clip360)\" d=\"M2221.88 218.585 Q2220.08 223.215 2218.37 224.627 Q2216.65 226.039 2213.78 226.039 L2210.38 226.039 L2210.38 222.474 L2212.88 222.474 Q2214.64 222.474 2215.61 221.64 Q2216.58 220.807 2217.76 217.705 L2218.53 215.761 L2208.04 190.252 L2212.56 190.252 L2220.66 210.529 L2228.76 190.252 L2233.27 190.252 L2221.88 218.585 Z\" fill=\"#000000\" fill-rule=\"nonzero\" fill-opacity=\"1\" /><path clip-path=\"url(#clip360)\" d=\"M2243.78 212.242 L2260.1 212.242 L2260.1 216.178 L2238.16 216.178 L2238.16 212.242 Q2240.82 209.488 2245.4 204.858 Q2250.01 200.205 2251.19 198.863 Q2253.43 196.34 2254.31 194.604 Q2255.22 192.844 2255.22 191.155 Q2255.22 188.4 2253.27 186.664 Q2251.35 184.928 2248.25 184.928 Q2246.05 184.928 2243.6 185.692 Q2241.17 186.455 2238.39 188.006 L2238.39 183.284 Q2241.21 182.15 2243.67 181.571 Q2246.12 180.993 2248.16 180.993 Q2253.53 180.993 2256.72 183.678 Q2259.92 186.363 2259.92 190.854 Q2259.92 192.983 2259.11 194.905 Q2258.32 196.803 2256.21 199.395 Q2255.63 200.067 2252.53 203.284 Q2249.43 206.479 2243.78 212.242 Z\" fill=\"#000000\" fill-rule=\"nonzero\" fill-opacity=\"1\" /></svg>\n"
      ]
     },
     "execution_count": 81,
     "metadata": {},
     "output_type": "execute_result"
    }
   ],
   "source": [
    "histogram(esdf_ply[\"vertex\"][\"z\"], normalize=:density)\n",
    "histogram!(esdf_ply_sliced[\"vertex\"][\"z\"],  normalize=:density)"
   ]
  },
  {
   "cell_type": "code",
   "execution_count": 59,
   "id": "c3eb36e6",
   "metadata": {},
   "outputs": [
    {
     "data": {
      "text/plain": [
       "GeometryBasics.AbstractGeometry{3, T} where T"
      ]
     },
     "execution_count": 59,
     "metadata": {},
     "output_type": "execute_result"
    }
   ],
   "source": [
    "supertype(PointCloud)"
   ]
  },
  {
   "cell_type": "code",
   "execution_count": 62,
   "id": "3aeb4a53",
   "metadata": {},
   "outputs": [
    {
     "data": {
      "text/plain": [
       "Vector{RGB{Float64}}\u001b[90m (alias for \u001b[39m\u001b[90mArray{ColorTypes.RGB{Float64}, 1}\u001b[39m\u001b[90m)\u001b[39m"
      ]
     },
     "execution_count": 62,
     "metadata": {},
     "output_type": "execute_result"
    }
   ],
   "source": [
    "typeof(gt_mesh_pc.color)"
   ]
  },
  {
   "cell_type": "code",
   "execution_count": null,
   "id": "f941b0c2",
   "metadata": {},
   "outputs": [],
   "source": []
  },
  {
   "cell_type": "code",
   "execution_count": 703,
   "id": "347d055f",
   "metadata": {},
   "outputs": [],
   "source": [
    "# load the trajectory"
   ]
  },
  {
   "cell_type": "code",
   "execution_count": 707,
   "id": "e7141949",
   "metadata": {},
   "outputs": [
    {
     "name": "stderr",
     "output_type": "stream",
     "text": [
      "\u001b[32m\u001b[1m   Resolving\u001b[22m\u001b[39m package versions...\n",
      "\u001b[32m\u001b[1m   Installed\u001b[22m\u001b[39m WeakRefStrings ── v1.4.2\n",
      "\u001b[32m\u001b[1m   Installed\u001b[22m\u001b[39m WorkerUtilities ─ v1.6.1\n",
      "\u001b[32m\u001b[1m   Installed\u001b[22m\u001b[39m SentinelArrays ── v1.4.8\n",
      "\u001b[32m\u001b[1m   Installed\u001b[22m\u001b[39m FilePathsBase ─── v0.9.22\n",
      "\u001b[32m\u001b[1m   Installed\u001b[22m\u001b[39m CSV ───────────── v0.10.15\n",
      "\u001b[32m\u001b[1m    Updating\u001b[22m\u001b[39m `/media/dasc3/SAMSUNG_SSD/dasc3/devansh/nvblox-accuracy-testing/vslam-nvblox/ros_ws/src/dasc_nvblox/nvblox/nvblox/Project.toml`\n",
      "  \u001b[90m[336ed68f] \u001b[39m\u001b[92m+ CSV v0.10.15\u001b[39m\n",
      "\u001b[32m\u001b[1m    Updating\u001b[22m\u001b[39m `/media/dasc3/SAMSUNG_SSD/dasc3/devansh/nvblox-accuracy-testing/vslam-nvblox/ros_ws/src/dasc_nvblox/nvblox/nvblox/Manifest.toml`\n",
      "  \u001b[90m[336ed68f] \u001b[39m\u001b[92m+ CSV v0.10.15\u001b[39m\n",
      "  \u001b[90m[48062228] \u001b[39m\u001b[92m+ FilePathsBase v0.9.22\u001b[39m\n",
      "  \u001b[90m[842dd82b] \u001b[39m\u001b[92m+ InlineStrings v1.4.2\u001b[39m\n",
      "  \u001b[90m[2dfb63ee] \u001b[39m\u001b[92m+ PooledArrays v1.4.3\u001b[39m\n",
      "  \u001b[90m[91c51154] \u001b[39m\u001b[92m+ SentinelArrays v1.4.8\u001b[39m\n",
      "  \u001b[90m[ea10d353] \u001b[39m\u001b[92m+ WeakRefStrings v1.4.2\u001b[39m\n",
      "  \u001b[90m[76eceee3] \u001b[39m\u001b[92m+ WorkerUtilities v1.6.1\u001b[39m\n",
      "  \u001b[90m[9fa8497b] \u001b[39m\u001b[92m+ Future v1.11.0\u001b[39m\n",
      "\u001b[92m\u001b[1mPrecompiling\u001b[22m\u001b[39m project...\n",
      "    629.8 ms\u001b[32m  ✓ \u001b[39m\u001b[90mWorkerUtilities\u001b[39m\n",
      "    510.7 ms\u001b[32m  ✓ \u001b[39m\u001b[90mPooledArrays\u001b[39m\n",
      "    687.4 ms\u001b[32m  ✓ \u001b[39m\u001b[90mWeakRefStrings\u001b[39m\n",
      "    959.3 ms\u001b[32m  ✓ \u001b[39m\u001b[90mFilePathsBase\u001b[39m\n",
      "   1109.5 ms\u001b[32m  ✓ \u001b[39m\u001b[90mSentinelArrays\u001b[39m\n",
      "    513.3 ms\u001b[32m  ✓ \u001b[39m\u001b[90mFilePathsBase → FilePathsBaseMmapExt\u001b[39m\n",
      "    876.8 ms\u001b[32m  ✓ \u001b[39m\u001b[90mFilePathsBase → FilePathsBaseTestExt\u001b[39m\n",
      "   9314.6 ms\u001b[32m  ✓ \u001b[39mCSV\n",
      "  8 dependencies successfully precompiled in 12 seconds. 246 already precompiled.\n"
     ]
    }
   ],
   "source": [
    "] add CSV"
   ]
  },
  {
   "cell_type": "code",
   "execution_count": 742,
   "id": "d2153431",
   "metadata": {},
   "outputs": [],
   "source": [
    "using CSV, LinearAlgebra"
   ]
  },
  {
   "cell_type": "code",
   "execution_count": 743,
   "id": "6fb66e30",
   "metadata": {},
   "outputs": [
    {
     "data": {
      "text/plain": [
       "\"./../../../../../../data/Replica/office3/traj.txt\""
      ]
     },
     "execution_count": 743,
     "metadata": {},
     "output_type": "execute_result"
    }
   ],
   "source": [
    "traj_file = \"./../../../../../../data/Replica/office3/traj.txt\""
   ]
  },
  {
   "cell_type": "code",
   "execution_count": 744,
   "id": "6e397239",
   "metadata": {},
   "outputs": [
    {
     "data": {
      "text/plain": [
       "1999-element Vector{CSV.Row}:\n",
       " CSV.Row: (var\"4.456140525615527315e-01\" = 0.43989516545105495, var\"-2.210077213462413315e-01\" = -0.22452120742122125, var\"8.675158230631944134e-01\" = 0.8695300287114333, var\"-9.393218179845449489e-01\" = -0.9423335712313682, var\"-8.952251762320302397e-01\" = -0.8980491319592648, var\"-1.100104744272376867e-01\" = -0.10997816285435578, var\"4.318212354164908118e-01\" = 0.4259255337290685, var\"-2.637977168242612525e+00\" = -2.6180897234037634, var\"1.186741061501003696e-16\" = 1.1857560221685788e-16, var\"-9.690476162819019468e-01\" = -0.9682432706263947, var\"-2.468738896245687431e-01\" = -0.2500099375758937, var\"6.196026833231903508e-01\" = 0.650273912859065, var\"0.000000000000000000e+00\" = 0.0, var\"0.000000000000000000e+00_1\" = 0.0, var\"0.000000000000000000e+00_2\" = 0.0, var\"1.000000000000000000e+00\" = 1.0)\n",
       " CSV.Row: (var\"4.456140525615527315e-01\" = 0.434785942750048, var\"-2.210077213462413315e-01\" = -0.2275594071270936, var\"8.675158230631944134e-01\" = 0.8713081545669807, var\"-9.393218179845449489e-01\" = -0.9441591252984481, var\"-8.952251762320302397e-01\" = -0.9005338327830621, var\"-1.100104744272376867e-01\" = -0.10986775594385689, var\"4.318212354164908118e-01\" = 0.42067551891797683, var\"-2.637977168242612525e+00\" = -2.6003260772963728, var\"1.186741061501003696e-16\" = 1.1849024475446782e-16, var\"-9.690476162819019468e-01\" = -0.967546274051958, var\"-2.468738896245687431e-01\" = -0.2526939009318849, var\"6.196026833231903508e-01\" = 0.6780601875487743, var\"0.000000000000000000e+00\" = 0.0, var\"0.000000000000000000e+00_1\" = 0.0, var\"0.000000000000000000e+00_2\" = 0.0, var\"1.000000000000000000e+00\" = 1.0)\n",
       " CSV.Row: (var\"4.456140525615527315e-01\" = 0.430288841869337, var\"-2.210077213462413315e-01\" = -0.23012705833209396, var\"8.675158230631944134e-01\" = 0.8728648518448671, var\"-9.393218179845449489e-01\" = -0.9448560597908865, var\"-8.952251762320302397e-01\" = -0.9026912609318564, var\"-1.100104744272376867e-01\" = -0.10969542932130949, var\"4.318212354164908118e-01\" = 0.4160713883737608, var\"-2.637977168242612525e+00\" = -2.5846003316794484, var\"1.186741061501003696e-16\" = 1.1841824477136926e-16, var\"-9.690476162819019468e-01\" = -0.9669583495732537, var\"-2.468738896245687431e-01\" = -0.2549344037013627, var\"6.196026833231903508e-01\" = 0.7030598097252909, var\"0.000000000000000000e+00\" = 0.0, var\"0.000000000000000000e+00_1\" = 0.0, var\"0.000000000000000000e+00_2\" = 0.0, var\"1.000000000000000000e+00\" = 1.0)\n",
       " CSV.Row: (var\"4.456140525615527315e-01\" = 0.42640412713080444, var\"-2.210077213462413315e-01\" = -0.23223000637539273, var\"8.675158230631944134e-01\" = 0.8742132145562099, var\"-9.393218179845449489e-01\" = -0.9444819543137867, var\"-8.952251762320302397e-01\" = -0.9045327635668134, var\"-1.100104744272376867e-01\" = -0.10947512036115006, var\"4.318212354164908118e-01\" = 0.41211124427282364, var\"-2.637977168242612525e+00\" = -2.5708265883120025, var\"1.186741061501003696e-16\" = 1.1835971654104717e-16, var\"-9.690476162819019468e-01\" = -0.9664804303040992, var\"-2.468738896245687431e-01\" = -0.25674029259000863, var\"6.196026833231903508e-01\" = 0.725371081721589, var\"0.000000000000000000e+00\" = 0.0, var\"0.000000000000000000e+00_1\" = 0.0, var\"0.000000000000000000e+00_2\" = 0.0, var\"1.000000000000000000e+00\" = 1.0)\n",
       " CSV.Row: (var\"4.456140525615527315e-01\" = 0.42312991939521793, var\"-2.210077213462413315e-01\" = -0.23387508388758266, var\"8.675158230631944134e-01\" = 0.8753647905011787, var\"-9.393218179845449489e-01\" = -0.9430943884722507, var\"-8.952251762320302397e-01\" = -0.9060690212740949, var\"-1.100104744272376867e-01\" = -0.10921855076200265, var\"4.318212354164908118e-01\" = 0.40879118979847334, var\"-2.637977168242612525e+00\" = -2.558918948953042, var\"1.186741061501003696e-16\" = 1.1831468283355725e-16, var\"-9.690476162819019468e-01\" = -0.9661127021761095, var\"-2.468738896245687431e-01\" = -0.25812060493880756, var\"6.196026833231903508e-01\" = 0.7450923058706419, var\"0.000000000000000000e+00\" = 0.0, var\"0.000000000000000000e+00_1\" = 0.0, var\"0.000000000000000000e+00_2\" = 0.0, var\"1.000000000000000000e+00\" = 1.0)\n",
       " CSV.Row: (var\"4.456140525615527315e-01\" = 0.4204622406559115, var\"-2.210077213462413315e-01\" = -0.2350700185540472, var\"8.675158230631944134e-01\" = 0.8763296129651276, var\"-9.393218179845449489e-01\" = -0.9407509418713805, var\"-8.952251762320302397e-01\" = -0.9073100375189346, var\"-1.100104744272376867e-01\" = -0.10893527308761734, var\"4.318212354164908118e-01\" = 0.4061054076157024, var\"-2.637977168242612525e+00\" = -2.5487915153615774, var\"1.186741061501003696e-16\" = 1.1828307977838127e-16, var\"-9.690476162819019468e-01\" = -0.9658546436469239, var\"-2.468738896245687431e-01\" = -0.25908455636273237, var\"6.196026833231903508e-01\" = 0.7623217845054224, var\"0.000000000000000000e+00\" = 0.0, var\"0.000000000000000000e+00_1\" = 0.0, var\"0.000000000000000000e+00_2\" = 0.0, var\"1.000000000000000000e+00\" = 1.0)\n",
       " CSV.Row: (var\"4.456140525615527315e-01\" = 0.41839505326373105, var\"-2.210077213462413315e-01\" = -0.23582336802825485, var\"8.675158230631944134e-01\" = 0.8771162514149707, var\"-9.393218179845449489e-01\" = -0.9375091941162791, var\"-8.952251762320302397e-01\" = -0.9082651481833043, var\"-1.100104744272376867e-01\" = -0.10863273882562474, var\"4.318212354164908118e-01\" = 0.4040462209336996, var\"-2.637977168242612525e+00\" = -2.540358389296616, var\"1.186741061501003696e-16\" = 1.1826476133362377e-16, var\"-9.690476162819019468e-01\" = -0.9657050621939672, var\"-2.468738896245687431e-01\" = -0.25964154685440105, var\"6.196026833231903508e-01\" = 0.7771578199589046, var\"0.000000000000000000e+00\" = 0.0, var\"0.000000000000000000e+00_1\" = 0.0, var\"0.000000000000000000e+00_2\" = 0.0, var\"1.000000000000000000e+00\" = 1.0)\n",
       " CSV.Row: (var\"4.456140525615527315e-01\" = 0.41692029391359575, var\"-2.210077213462413315e-01\" = -0.23614448061515192, var\"8.675158230631944134e-01\" = 0.8777318797890397, var\"-9.393218179845449489e-01\" = -0.9334267248120472, var\"-8.952251762320302397e-01\" = -0.9089430502088681, var\"-1.100104744272376867e-01\" = -0.10831638598426911, var\"4.318212354164908118e-01\" = 0.40260413808641593, var\"-2.637977168242612525e+00\" = -2.5335336725171658, var\"1.186741061501003696e-16\" = 1.1825950337001097e-16, var\"-9.690476162819019468e-01\" = -0.9656621276628317, var\"-2.468738896245687431e-01\" = -0.2598011839805451, var\"6.196026833231903508e-01\" = 0.7896987145640609, var\"0.000000000000000000e+00\" = 0.0, var\"0.000000000000000000e+00_1\" = 0.0, var\"0.000000000000000000e+00_2\" = 0.0, var\"1.000000000000000000e+00\" = 1.0)\n",
       " CSV.Row: (var\"4.456140525615527315e-01\" = 0.4160279029563288, var\"-2.210077213462413315e-01\" = -0.2360434798290165, var\"8.675158230631944134e-01\" = 0.8781823612393773, var\"-9.393218179845449489e-01\" = -0.9285611135637889, var\"-8.952251762320302397e-01\" = -0.9093518482753304, var\"-1.100104744272376867e-01\" = -0.10798974468026536, var\"4.318212354164908118e-01\" = 0.40176788209379255, var\"-2.637977168242612525e+00\" = -2.528231466782238, var\"1.186741061501003696e-16\" = 1.1826700740743897e-16, var\"-9.690476162819019468e-01\" = -0.9657234027785078, var\"-2.468738896245687431e-01\" = -0.25957332167597696, var\"6.196026833231903508e-01\" = 0.8000427706538653, var\"0.000000000000000000e+00\" = 0.0, var\"0.000000000000000000e+00_1\" = 0.0, var\"0.000000000000000000e+00_2\" = 0.0, var\"1.000000000000000000e+00\" = 1.0)\n",
       " CSV.Row: (var\"4.456140525615527315e-01\" = 0.415705849993949, var\"-2.210077213462413315e-01\" = -0.2355312704724478, var\"8.675158230631944134e-01\" = 0.8784723484040025, var\"-9.393218179845449489e-01\" = -0.9229699399766058, var\"-8.952251762320302397e-01\" = -0.9094991183507594, var\"-1.100104744272376867e-01\" = -0.10765455954421595, var\"4.318212354164908118e-01\" = 0.4015244071392578, var\"-2.637977168242612525e+00\" = -2.52436587385084, var\"1.186741061501003696e-16\" = 1.1828690406685122e-16, var\"-9.690476162819019468e-01\" = -0.9658858713321029, var\"-2.468738896245687431e-01\" = -0.25896811301977796, var\"6.196026833231903508e-01\" = 0.8082882905612911, var\"0.000000000000000000e+00\" = 0.0, var\"0.000000000000000000e+00_1\" = 0.0, var\"0.000000000000000000e+00_2\" = 0.0, var\"1.000000000000000000e+00\" = 1.0)\n",
       " CSV.Row: (var\"4.456140525615527315e-01\" = 0.41594015706548415, var\"-2.210077213462413315e-01\" = -0.2346195634736635, var\"8.675158230631944134e-01\" = 0.8786053984444712, var\"-9.393218179845449489e-01\" = -0.9167107836556001, var\"-8.952251762320302397e-01\" = -0.9093919868463436, var\"-1.100104744272376867e-01\" = -0.10731092806336774, var\"4.318212354164908118e-01\" = 0.4018589043157291, var\"-2.637977168242612525e+00\" = -2.5218509954819814, var\"1.186741061501003696e-16\" = 1.1831875632090994e-16, var\"-9.690476162819019468e-01\" = -0.9661459647245888, var\"-2.468738896245687431e-01\" = -0.2579960752538567, var\"6.196026833231903508e-01\" = 0.8145335766193115, var\"0.000000000000000000e+00\" = 0.0, var\"0.000000000000000000e+00_1\" = 0.0, var\"0.000000000000000000e+00_2\" = 0.0, var\"1.000000000000000000e+00\" = 1.0)\n",
       " CSV.Row: (var\"4.456140525615527315e-01\" = 0.4167149210266698, var\"-2.210077213462413315e-01\" = -0.23332091635191202, var\"8.675158230631944134e-01\" = 0.8785841021703275, var\"-9.393218179845449489e-01\" = -0.9098412242058743, var\"-8.952251762320302397e-01\" = -0.9090372239868598, var\"-1.100104744272376867e-01\" = -0.10695745417886518, var\"4.318212354164908118e-01\" = 0.40275479935295566, var\"-2.637977168242612525e+00\" = -2.520600933434671, var\"1.186741061501003696e-16\" = 1.1836206264312403e-16, var\"-9.690476162819019468e-01\" = -0.9664995876813813, var\"-2.468738896245687431e-01\" = -0.2566681651699719, var\"6.196026833231903508e-01\" = 0.8188769311608999, var\"0.000000000000000000e+00\" = 0.0, var\"0.000000000000000000e+00_1\" = 0.0, var\"0.000000000000000000e+00_2\" = 0.0, var\"1.000000000000000000e+00\" = 1.0)\n",
       " CSV.Row: (var\"4.456140525615527315e-01\" = 0.4180123369636406, var\"-2.210077213462413315e-01\" = -0.2316487858541047, var\"8.675158230631944134e-01\" = 0.8784102265789686, var\"-9.393218179845449489e-01\" = -0.9024188412325306, var\"-8.952251762320302397e-01\" = -0.9084413498659095, var\"-1.100104744272376867e-01\" = -0.10659141654434515, var\"4.318212354164908118e-01\" = 0.40419374534111, var\"-2.637977168242612525e+00\" = -2.520529789467916, var\"1.186741061501003696e-16\" = 1.1841626016660515e-16, var\"-9.690476162819019468e-01\" = -0.9669421440455417, var\"-2.468738896245687431e-01\" = -0.25499586284606846, var\"6.196026833231903508e-01\" = 0.8214166565190294, var\"0.000000000000000000e+00\" = 0.0, var\"0.000000000000000000e+00_1\" = 0.0, var\"0.000000000000000000e+00_2\" = 0.0, var\"1.000000000000000000e+00\" = 1.0)\n",
       " ⋮\n",
       " CSV.Row: (var\"4.456140525615527315e-01\" = -0.9903480120935938, var\"-2.210077213462413315e-01\" = 0.11174578808309324, var\"8.675158230631944134e-01\" = -0.08199813283212938, var\"-9.393218179845449489e-01\" = -1.6786265803842606, var\"-8.952251762320302397e-01\" = 0.1386030841729978, var\"-1.100104744272376867e-01\" = 0.7984470168773001, var\"4.318212354164908118e-01\" = -0.5858938012109989, var\"-2.637977168242612525e+00\" = -2.960882088741949, var\"1.186741061501003696e-16\" = 7.245058903854458e-17, var\"-9.690476162819019468e-01\" = -0.5916039554342322, var\"-2.468738896245687431e-01\" = -0.8062287267981532, var\"6.196026833231903508e-01\" = 0.746926337099939, var\"0.000000000000000000e+00\" = 0.0, var\"0.000000000000000000e+00_1\" = 0.0, var\"0.000000000000000000e+00_2\" = 0.0, var\"1.000000000000000000e+00\" = 1.0)\n",
       " CSV.Row: (var\"4.456140525615527315e-01\" = -0.9875551858506643, var\"-2.210077213462413315e-01\" = 0.12808940014292286, var\"8.675158230631944134e-01\" = -0.09125711188990174, var\"-9.393218179845449489e-01\" = -1.6684613225722296, var\"-8.952251762320302397e-01\" = 0.15727286765192475, var\"-1.100104744272376867e-01\" = 0.8043049844020328, var\"4.318212354164908118e-01\" = -0.5730259480744184, var\"-2.637977168242612525e+00\" = -2.9761551416464425, var\"1.186741061501003696e-16\" = 7.105976488121359e-17, var\"-9.690476162819019468e-01\" = -0.5802470143284428, var\"-2.468738896245687431e-01\" = -0.8144405456280576, var\"6.196026833231903508e-01\" = 0.7458190350919582, var\"0.000000000000000000e+00\" = 0.0, var\"0.000000000000000000e+00_1\" = 0.0, var\"0.000000000000000000e+00_2\" = 0.0, var\"1.000000000000000000e+00\" = 1.0)\n",
       " CSV.Row: (var\"4.456140525615527315e-01\" = -0.9841639807333764, var\"-2.210077213462413315e-01\" = 0.14580876967588358, var\"8.675158230631944134e-01\" = -0.10080209180686431, var\"-9.393218179845449489e-01\" = -1.6581485518095698, var\"-8.952251762320302397e-01\" = 0.1772604271320431, var\"-1.100104744272376867e-01\" = 0.809541878645927, var\"4.318212354164908118e-01\" = -0.5596612258245062, var\"-2.637977168242612525e+00\" = -2.9914608157317772, var\"1.186741061501003696e-16\" = 6.964157825631159e-17, var\"-9.690476162819019468e-01\" = -0.5686666417190553, var\"-2.468738896245687431e-01\" = -0.8225680826508962, var\"6.196026833231903508e-01\" = 0.7447197721013346, var\"0.000000000000000000e+00\" = 0.0, var\"0.000000000000000000e+00_1\" = 0.0, var\"0.000000000000000000e+00_2\" = 0.0, var\"1.000000000000000000e+00\" = 1.0)\n",
       " CSV.Row: (var\"4.456140525615527315e-01\" = -0.980063574052746, var\"-2.210077213462413315e-01\" = 0.16502635406805857, var\"8.675158230631944134e-01\" = -0.11064218579710731, var\"-9.393218179845449489e-01\" = -1.6476876898099868, var\"-8.952251762320302397e-01\" = 0.1986841483736381, var\"-1.100104744272376867e-01\" = 0.8140373537836549, var\"4.318212354164908118e-01\" = -0.5457726594745719, var\"-2.637977168242612525e+00\" = -3.006799219081778, var\"1.186741061501003696e-16\" = 6.819748822250397e-17, var\"-9.690476162819019468e-01\" = -0.5568747517242173, var\"-2.468738896245687431e-01\" = -0.830596478978867, var\"6.196026833231903508e-01\" = 0.7436287413380056, var\"0.000000000000000000e+00\" = 0.0, var\"0.000000000000000000e+00_1\" = 0.0, var\"0.000000000000000000e+00_2\" = 0.0, var\"1.000000000000000000e+00\" = 1.0)\n",
       " CSV.Row: (var\"4.456140525615527315e-01\" = -0.9751212484349506, var\"-2.210077213462413315e-01\" = 0.18587408059851662, var\"8.675158230631944134e-01\" = -0.12078649350121595, var\"-9.393218179845449489e-01\" = -1.6370781582871952, var\"-8.952251762320302397e-01\" = 0.2216721697702784, var\"-1.100104744272376867e-01\" = 0.8176478161997311, var\"4.318212354164908118e-01\" = -0.5313318151712237, var\"-2.637977168242612525e+00\" = -3.02217045978026, var\"1.186741061501003696e-16\" = 6.672952802320147e-17, var\"-9.690476162819019468e-01\" = -0.5448879470363305, var\"-2.468738896245687431e-01\" = -0.8385088700631217, var\"6.196026833231903508e-01\" = 0.7425461360119097, var\"0.000000000000000000e+00\" = 0.0, var\"0.000000000000000000e+00_1\" = 0.0, var\"0.000000000000000000e+00_2\" = 0.0, var\"1.000000000000000000e+00\" = 1.0)\n",
       " CSV.Row: (var\"4.456140525615527315e-01\" = -0.9691779226856522, var\"-2.210077213462413315e-01\" = 0.20849260795122734, var\"8.675158230631944134e-01\" = -0.13124399646619894, var\"-9.393218179845449489e-01\" = -1.6263193789549013, var\"-8.952251762320302397e-01\" = 0.24636183588113603, var\"-1.100104744272376867e-01\" = 0.8202018463889718, var\"4.318212354164908118e-01\" = -0.5163088000425692, var\"-2.637977168242612525e+00\" = -3.03757464591105, var\"1.186741061501003696e-16\" = 6.524043775074983e-17, var\"-9.690476162819019468e-01\" = -0.5327286022073692, var\"-2.468738896245687431e-01\" = -0.8462861433287104, var\"6.196026833231903508e-01\" = 0.741472149332985, var\"0.000000000000000000e+00\" = 0.0, var\"0.000000000000000000e+00_1\" = 0.0, var\"0.000000000000000000e+00_2\" = 0.0, var\"1.000000000000000000e+00\" = 1.0)\n",
       " CSV.Row: (var\"4.456140525615527315e-01\" = -0.9620428790363763, var\"-2.210077213462413315e-01\" = 0.23302970599302533, var\"8.675158230631944134e-01\" = -0.14202343123655514, var\"-9.393218179845449489e-01\" = -1.615410773526812, var\"-8.952251762320302397e-01\" = 0.27289833069368585, var\"-1.100104744272376867e-01\" = 0.8214948354014151, var\"4.318212354164908118e-01\" = -0.5006722845468896, var\"-2.637977168242612525e+00\" = -3.0530118855579738, var\"1.186741061501003696e-16\" = 6.373382351795956e-17, var\"-9.690476162819019468e-01\" = -0.5204261633830549, var\"-2.468738896245687431e-01\" = -0.8539066743306284, var\"6.196026833231903508e-01\" = 0.7404069745111691, var\"0.000000000000000000e+00\" = 0.0, var\"0.000000000000000000e+00_1\" = 0.0, var\"0.000000000000000000e+00_2\" = 0.0, var\"1.000000000000000000e+00\" = 1.0)\n",
       " CSV.Row: (var\"4.456140525615527315e-01\" = -0.9534876487774125, var\"-2.210077213462413315e-01\" = 0.25963733570569514, var\"8.675158230631944134e-01\" = -0.15313313663792624, var\"-9.393218179845449489e-01\" = -1.604351763716641, var\"-8.952251762320302397e-01\" = 0.3014320879218429, var\"-1.100104744272376867e-01\" = 0.8212828118718539, var\"4.318212354164908118e-01\" = -0.4843895532471147, var\"-2.637977168242612525e+00\" = -3.068482286804846, var\"1.186741061501003696e-16\" = 6.221434715857308e-17, var\"-9.690476162819019468e-01\" = -0.5080186973247236, var\"-2.468738896245687431e-01\" = -0.8613460414772282, var\"6.196026833231903508e-01\" = 0.7393508047564002, var\"0.000000000000000000e+00\" = 0.0, var\"0.000000000000000000e+00_1\" = 0.0, var\"0.000000000000000000e+00_2\" = 0.0, var\"1.000000000000000000e+00\" = 1.0)\n",
       " CSV.Row: (var\"4.456140525615527315e-01\" = -0.9432391044477336, var\"-2.210077213462413315e-01\" = 0.2884668586888443, var\"8.675158230631944134e-01\" = -0.1645808715459599, var\"-9.393218179845449489e-01\" = -1.5931417712380946, var\"-8.952251762320302397e-01\" = 0.3321144258243496, var\"-1.100104744272376867e-01\" = 0.8192755276352329, var\"4.318212354164908118e-01\" = -0.46742659100373535, var\"-2.637977168242612525e+00\" = -3.083985957735492, var\"1.186741061501003696e-16\" = 6.068795025671064e-17, var\"-9.690476162819019468e-01\" = -0.4955547207485779, var\"-2.468738896245687431e-01\" = -0.8685767201254008, var\"6.196026833231903508e-01\" = 0.7383038332786166, var\"0.000000000000000000e+00\" = 0.0, var\"0.000000000000000000e+00_1\" = 0.0, var\"0.000000000000000000e+00_2\" = 0.0, var\"1.000000000000000000e+00\" = 1.0)\n",
       " CSV.Row: (var\"4.456140525615527315e-01\" = -0.9309719665018511, var\"-2.210077213462413315e-01\" = 0.31966161967358214, var\"8.675158230631944134e-01\" = -0.17637359920163315, var\"-9.393218179845449489e-01\" = -1.58178021780488, var\"-8.952251762320302397e-01\" = 0.36509067036515214, var\"-1.100104744272376867e-01\" = 0.8151290373567626, var\"4.318212354164908118e-01\" = -0.4497482127481569, var\"-2.637977168242612525e+00\" = -3.0995230064337376, var\"1.186741061501003696e-16\" = 5.91621154000858e-17, var\"-9.690476162819019468e-01\" = -0.4830953336200835, var\"-2.468738896245687431e-01\" = -0.8755677578774245, var\"6.196026833231903508e-01\" = 0.7372662532877557, var\"0.000000000000000000e+00\" = 0.0, var\"0.000000000000000000e+00_1\" = 0.0, var\"0.000000000000000000e+00_2\" = 0.0, var\"1.000000000000000000e+00\" = 1.0)\n",
       " CSV.Row: (var\"4.456140525615527315e-01\" = -0.916301206056607, var\"-2.210077213462413315e-01\" = 0.35334593851333557, var\"8.675158230631944134e-01\" = -0.1885172340008663, var\"-9.393218179845449489e-01\" = -1.5702665251307115, var\"-8.952251762320302397e-01\" = 0.4004898248135741, var\"-1.100104744272376867e-01\" = 0.8084382911992507, var\"4.318212354164908118e-01\" = -0.4313182462447286, var\"-2.637977168242612525e+00\" = -3.1150935409833993, var\"1.186741061501003696e-16\" = 5.764616549515105e-17, var\"-9.690476162819019468e-01\" = -0.47071666324761197, var\"-2.468738896245687431e-01\" = -0.8822844342620096, var\"6.196026833231903508e-01\" = 0.7362382579937564, var\"0.000000000000000000e+00\" = 0.0, var\"0.000000000000000000e+00_1\" = 0.0, var\"0.000000000000000000e+00_2\" = 0.0, var\"1.000000000000000000e+00\" = 1.0)\n",
       " CSV.Row: (var\"4.456140525615527315e-01\" = -0.8987752652324145, var\"-2.210077213462413315e-01\" = 0.38960935687448367, var\"8.675158230631944134e-01\" = -0.20101634670407806, var\"-9.393218179845449489e-01\" = -1.5586001149292918, var\"-8.952251762320302397e-01\" = 0.4384096515890165, var\"-1.100104744272376867e-01\" = 0.7987307117731058, var\"4.318212354164908118e-01\" = -0.4120997785294538, var\"-2.637977168242612525e+00\" = -3.130697669468305, var\"1.186741061501003696e-16\" = 5.615159809442734e-17, var\"-9.690476162819019468e-01\" = -0.45851259427226093, var\"-2.468738896245687431e-01\" = -0.8886879097263117, var\"6.196026833231903508e-01\" = 0.7352200406065558, var\"0.000000000000000000e+00\" = 0.0, var\"0.000000000000000000e+00_1\" = 0.0, var\"0.000000000000000000e+00_2\" = 0.0, var\"1.000000000000000000e+00\" = 1.0)"
      ]
     },
     "execution_count": 744,
     "metadata": {},
     "output_type": "execute_result"
    }
   ],
   "source": [
    "traj_csv = CSV.File(traj_file) |> collect"
   ]
  },
  {
   "cell_type": "code",
   "execution_count": 762,
   "id": "36eb4964",
   "metadata": {},
   "outputs": [
    {
     "data": {
      "text/plain": [
       "1999-element Vector{Matrix{Float64}}:\n",
       " [0.43989516545105495 -0.22452120742122125 0.8695300287114333 -0.9423335712313682; -0.8980491319592648 -0.10997816285435578 0.4259255337290685 -2.6180897234037634; 1.1857560221685788e-16 -0.9682432706263947 -0.2500099375758937 0.650273912859065; 0.0 0.0 0.0 1.0]\n",
       " [0.434785942750048 -0.2275594071270936 0.8713081545669807 -0.9441591252984481; -0.9005338327830621 -0.10986775594385689 0.42067551891797683 -2.6003260772963728; 1.1849024475446782e-16 -0.967546274051958 -0.2526939009318849 0.6780601875487743; 0.0 0.0 0.0 1.0]\n",
       " [0.430288841869337 -0.23012705833209396 0.8728648518448671 -0.9448560597908865; -0.9026912609318564 -0.10969542932130949 0.4160713883737608 -2.5846003316794484; 1.1841824477136926e-16 -0.9669583495732537 -0.2549344037013627 0.7030598097252909; 0.0 0.0 0.0 1.0]\n",
       " [0.42640412713080444 -0.23223000637539273 0.8742132145562099 -0.9444819543137867; -0.9045327635668134 -0.10947512036115006 0.41211124427282364 -2.5708265883120025; 1.1835971654104717e-16 -0.9664804303040992 -0.25674029259000863 0.725371081721589; 0.0 0.0 0.0 1.0]\n",
       " [0.42312991939521793 -0.23387508388758266 0.8753647905011787 -0.9430943884722507; -0.9060690212740949 -0.10921855076200265 0.40879118979847334 -2.558918948953042; 1.1831468283355725e-16 -0.9661127021761095 -0.25812060493880756 0.7450923058706419; 0.0 0.0 0.0 1.0]\n",
       " [0.4204622406559115 -0.2350700185540472 0.8763296129651276 -0.9407509418713805; -0.9073100375189346 -0.10893527308761734 0.4061054076157024 -2.5487915153615774; 1.1828307977838127e-16 -0.9658546436469239 -0.25908455636273237 0.7623217845054224; 0.0 0.0 0.0 1.0]\n",
       " [0.41839505326373105 -0.23582336802825485 0.8771162514149707 -0.9375091941162791; -0.9082651481833043 -0.10863273882562474 0.4040462209336996 -2.540358389296616; 1.1826476133362377e-16 -0.9657050621939672 -0.25964154685440105 0.7771578199589046; 0.0 0.0 0.0 1.0]\n",
       " [0.41692029391359575 -0.23614448061515192 0.8777318797890397 -0.9334267248120472; -0.9089430502088681 -0.10831638598426911 0.40260413808641593 -2.5335336725171658; 1.1825950337001097e-16 -0.9656621276628317 -0.2598011839805451 0.7896987145640609; 0.0 0.0 0.0 1.0]\n",
       " [0.4160279029563288 -0.2360434798290165 0.8781823612393773 -0.9285611135637889; -0.9093518482753304 -0.10798974468026536 0.40176788209379255 -2.528231466782238; 1.1826700740743897e-16 -0.9657234027785078 -0.25957332167597696 0.8000427706538653; 0.0 0.0 0.0 1.0]\n",
       " [0.415705849993949 -0.2355312704724478 0.8784723484040025 -0.9229699399766058; -0.9094991183507594 -0.10765455954421595 0.4015244071392578 -2.52436587385084; 1.1828690406685122e-16 -0.9658858713321029 -0.25896811301977796 0.8082882905612911; 0.0 0.0 0.0 1.0]\n",
       " [0.41594015706548415 -0.2346195634736635 0.8786053984444712 -0.9167107836556001; -0.9093919868463436 -0.10731092806336774 0.4018589043157291 -2.5218509954819814; 1.1831875632090994e-16 -0.9661459647245888 -0.2579960752538567 0.8145335766193115; 0.0 0.0 0.0 1.0]\n",
       " [0.4167149210266698 -0.23332091635191202 0.8785841021703275 -0.9098412242058743; -0.9090372239868598 -0.10695745417886518 0.40275479935295566 -2.520600933434671; 1.1836206264312403e-16 -0.9664995876813813 -0.2566681651699719 0.8188769311608999; 0.0 0.0 0.0 1.0]\n",
       " [0.4180123369636406 -0.2316487858541047 0.8784102265789686 -0.9024188412325306; -0.9084413498659095 -0.10659141654434515 0.40419374534111 -2.520529789467916; 1.1841626016660515e-16 -0.9669421440455417 -0.25499586284606846 0.8214166565190294; 0.0 0.0 0.0 1.0]\n",
       " ⋮\n",
       " [-0.9903480120935938 0.11174578808309324 -0.08199813283212938 -1.6786265803842606; 0.1386030841729978 0.7984470168773001 -0.5858938012109989 -2.960882088741949; 7.245058903854458e-17 -0.5916039554342322 -0.8062287267981532 0.746926337099939; 0.0 0.0 0.0 1.0]\n",
       " [-0.9875551858506643 0.12808940014292286 -0.09125711188990174 -1.6684613225722296; 0.15727286765192475 0.8043049844020328 -0.5730259480744184 -2.9761551416464425; 7.105976488121359e-17 -0.5802470143284428 -0.8144405456280576 0.7458190350919582; 0.0 0.0 0.0 1.0]\n",
       " [-0.9841639807333764 0.14580876967588358 -0.10080209180686431 -1.6581485518095698; 0.1772604271320431 0.809541878645927 -0.5596612258245062 -2.9914608157317772; 6.964157825631159e-17 -0.5686666417190553 -0.8225680826508962 0.7447197721013346; 0.0 0.0 0.0 1.0]\n",
       " [-0.980063574052746 0.16502635406805857 -0.11064218579710731 -1.6476876898099868; 0.1986841483736381 0.8140373537836549 -0.5457726594745719 -3.006799219081778; 6.819748822250397e-17 -0.5568747517242173 -0.830596478978867 0.7436287413380056; 0.0 0.0 0.0 1.0]\n",
       " [-0.9751212484349506 0.18587408059851662 -0.12078649350121595 -1.6370781582871952; 0.2216721697702784 0.8176478161997311 -0.5313318151712237 -3.02217045978026; 6.672952802320147e-17 -0.5448879470363305 -0.8385088700631217 0.7425461360119097; 0.0 0.0 0.0 1.0]\n",
       " [-0.9691779226856522 0.20849260795122734 -0.13124399646619894 -1.6263193789549013; 0.24636183588113603 0.8202018463889718 -0.5163088000425692 -3.03757464591105; 6.524043775074983e-17 -0.5327286022073692 -0.8462861433287104 0.741472149332985; 0.0 0.0 0.0 1.0]\n",
       " [-0.9620428790363763 0.23302970599302533 -0.14202343123655514 -1.615410773526812; 0.27289833069368585 0.8214948354014151 -0.5006722845468896 -3.0530118855579738; 6.373382351795956e-17 -0.5204261633830549 -0.8539066743306284 0.7404069745111691; 0.0 0.0 0.0 1.0]\n",
       " [-0.9534876487774125 0.25963733570569514 -0.15313313663792624 -1.604351763716641; 0.3014320879218429 0.8212828118718539 -0.4843895532471147 -3.068482286804846; 6.221434715857308e-17 -0.5080186973247236 -0.8613460414772282 0.7393508047564002; 0.0 0.0 0.0 1.0]\n",
       " [-0.9432391044477336 0.2884668586888443 -0.1645808715459599 -1.5931417712380946; 0.3321144258243496 0.8192755276352329 -0.46742659100373535 -3.083985957735492; 6.068795025671064e-17 -0.4955547207485779 -0.8685767201254008 0.7383038332786166; 0.0 0.0 0.0 1.0]\n",
       " [-0.9309719665018511 0.31966161967358214 -0.17637359920163315 -1.58178021780488; 0.36509067036515214 0.8151290373567626 -0.4497482127481569 -3.0995230064337376; 5.91621154000858e-17 -0.4830953336200835 -0.8755677578774245 0.7372662532877557; 0.0 0.0 0.0 1.0]\n",
       " [-0.916301206056607 0.35334593851333557 -0.1885172340008663 -1.5702665251307115; 0.4004898248135741 0.8084382911992507 -0.4313182462447286 -3.1150935409833993; 5.764616549515105e-17 -0.47071666324761197 -0.8822844342620096 0.7362382579937564; 0.0 0.0 0.0 1.0]\n",
       " [-0.8987752652324145 0.38960935687448367 -0.20101634670407806 -1.5586001149292918; 0.4384096515890165 0.7987307117731058 -0.4120997785294538 -3.130697669468305; 5.615159809442734e-17 -0.45851259427226093 -0.8886879097263117 0.7352200406065558; 0.0 0.0 0.0 1.0]"
      ]
     },
     "execution_count": 762,
     "metadata": {},
     "output_type": "execute_result"
    }
   ],
   "source": [
    "traj = map( t->Matrix{Float64}(reshape(t |> collect, (4,4))'), traj_csv)\n",
    "# traj1 = diagm(ones(4))\n",
    "# pushfirst!(traj, traj1)"
   ]
  },
  {
   "cell_type": "code",
   "execution_count": 764,
   "id": "04b9c1e9",
   "metadata": {},
   "outputs": [
    {
     "data": {
      "text/plain": [
       "1999-element Vector{Vector{Float64}}:\n",
       " [-0.9423335712313682, -2.6180897234037634, 0.650273912859065]\n",
       " [-0.9441591252984481, -2.6003260772963728, 0.6780601875487743]\n",
       " [-0.9448560597908865, -2.5846003316794484, 0.7030598097252909]\n",
       " [-0.9444819543137867, -2.5708265883120025, 0.725371081721589]\n",
       " [-0.9430943884722507, -2.558918948953042, 0.7450923058706419]\n",
       " [-0.9407509418713805, -2.5487915153615774, 0.7623217845054224]\n",
       " [-0.9375091941162791, -2.540358389296616, 0.7771578199589046]\n",
       " [-0.9334267248120472, -2.5335336725171658, 0.7896987145640609]\n",
       " [-0.9285611135637889, -2.528231466782238, 0.8000427706538653]\n",
       " [-0.9229699399766058, -2.52436587385084, 0.8082882905612911]\n",
       " [-0.9167107836556001, -2.5218509954819814, 0.8145335766193115]\n",
       " [-0.9098412242058743, -2.520600933434671, 0.8188769311608999]\n",
       " [-0.9024188412325306, -2.520529789467916, 0.8214166565190294]\n",
       " ⋮\n",
       " [-1.6786265803842606, -2.960882088741949, 0.746926337099939]\n",
       " [-1.6684613225722296, -2.9761551416464425, 0.7458190350919582]\n",
       " [-1.6581485518095698, -2.9914608157317772, 0.7447197721013346]\n",
       " [-1.6476876898099868, -3.006799219081778, 0.7436287413380056]\n",
       " [-1.6370781582871952, -3.02217045978026, 0.7425461360119097]\n",
       " [-1.6263193789549013, -3.03757464591105, 0.741472149332985]\n",
       " [-1.615410773526812, -3.0530118855579738, 0.7404069745111691]\n",
       " [-1.604351763716641, -3.068482286804846, 0.7393508047564002]\n",
       " [-1.5931417712380946, -3.083985957735492, 0.7383038332786166]\n",
       " [-1.58178021780488, -3.0995230064337376, 0.7372662532877557]\n",
       " [-1.5702665251307115, -3.1150935409833993, 0.7362382579937564]\n",
       " [-1.5586001149292918, -3.130697669468305, 0.7352200406065558]"
      ]
     },
     "execution_count": 764,
     "metadata": {},
     "output_type": "execute_result"
    }
   ],
   "source": [
    "path_500 = [T[1:3, 4] for T in traj[1:500]]\n",
    "path_1000 = [T[1:3, 4] for T in traj[1:1000]]\n",
    "path_1500 = [T[1:3, 4] for T in traj[1:1500]]\n",
    "path_2000 = [T[1:3, 4] for T in traj[1:1999]]\n"
   ]
  },
  {
   "cell_type": "code",
   "execution_count": 765,
   "id": "5e2ff48d",
   "metadata": {},
   "outputs": [
    {
     "data": {
      "text/plain": [
       "PointCloud{Float32, Point{3, Float32}, RGB{FixedPointNumbers.N0f8}}(Point{3, Float32}[[-0.9423336, -2.6180897, 0.6502739], [-0.94415915, -2.600326, 0.6780602], [-0.94485605, -2.5846004, 0.7030598], [-0.94448197, -2.5708265, 0.72537106], [-0.9430944, -2.558919, 0.74509233], [-0.94075096, -2.5487914, 0.76232177], [-0.9375092, -2.5403583, 0.77715784], [-0.93342674, -2.5335336, 0.7896987], [-0.9285611, -2.5282314, 0.80004275], [-0.92296994, -2.524366, 0.8082883]  …  [-1.6581485, -2.9914608, 0.74471974], [-1.6476877, -3.0067992, 0.74362874], [-1.6370782, -3.0221705, 0.74254614], [-1.6263194, -3.0375745, 0.7414721], [-1.6154108, -3.053012, 0.740407], [-1.6043518, -3.0684824, 0.7393508], [-1.5931418, -3.083986, 0.73830384], [-1.5817802, -3.099523, 0.73726624], [-1.5702665, -3.1150935, 0.73623824], [-1.5586001, -3.1306977, 0.73522]], RGB{FixedPointNumbers.N0f8}[RGB(1.0, 0.0, 0.0), RGB(1.0, 0.0, 0.0), RGB(1.0, 0.0, 0.0), RGB(1.0, 0.0, 0.0), RGB(1.0, 0.0, 0.0), RGB(1.0, 0.0, 0.0), RGB(1.0, 0.0, 0.0), RGB(1.0, 0.0, 0.0), RGB(1.0, 0.0, 0.0), RGB(1.0, 0.0, 0.0)  …  RGB(1.0, 0.0, 0.0), RGB(1.0, 0.0, 0.0), RGB(1.0, 0.0, 0.0), RGB(1.0, 0.0, 0.0), RGB(1.0, 0.0, 0.0), RGB(1.0, 0.0, 0.0), RGB(1.0, 0.0, 0.0), RGB(1.0, 0.0, 0.0), RGB(1.0, 0.0, 0.0), RGB(1.0, 0.0, 0.0)])"
      ]
     },
     "execution_count": 765,
     "metadata": {},
     "output_type": "execute_result"
    }
   ],
   "source": [
    "pc_500 = PointCloud(map(i->Point3f(i), path_500), map(i->RGB(1,0,0), path_500))\n",
    "pc_1000 = PointCloud(map(i->Point3f(i), path_1000), map(i->RGB(1,0,0), path_1000))    \n",
    "pc_1500 = PointCloud(map(i->Point3f(i), path_1500), map(i->RGB(1,0,0), path_1500))\n",
    "pc_2000 = PointCloud(map(i->Point3f(i), path_2000), map(i->RGB(1,0,0), path_2000))    "
   ]
  },
  {
   "cell_type": "code",
   "execution_count": 766,
   "id": "8c2631d3",
   "metadata": {},
   "outputs": [
    {
     "data": {
      "text/plain": [
       "MeshCat Visualizer with path /meshcat/path_2000 at http://127.0.0.1:8700"
      ]
     },
     "execution_count": 766,
     "metadata": {},
     "output_type": "execute_result"
    }
   ],
   "source": [
    "VH.draw_pointcloud!(vis[\"path_500\"], pc_500)\n",
    "VH.draw_pointcloud!(vis[\"path_1000\"], pc_1000)\n",
    "VH.draw_pointcloud!(vis[\"path_1500\"], pc_1500)\n",
    "VH.draw_pointcloud!(vis[\"path_2000\"], pc_2000)"
   ]
  },
  {
   "cell_type": "code",
   "execution_count": 767,
   "id": "e450b161",
   "metadata": {},
   "outputs": [
    {
     "data": {
      "text/plain": [
       "MeshCat Visualizer with path /meshcat/pose_2000 at http://127.0.0.1:8700"
      ]
     },
     "execution_count": 767,
     "metadata": {},
     "output_type": "execute_result"
    }
   ],
   "source": [
    "VH.draw_pose!(vis[\"pose_1\"], traj[1]; size=0.2)\n",
    "VH.draw_pose!(vis[\"pose_500\"], traj[500]; size=0.2)\n",
    "VH.draw_pose!(vis[\"pose_1000\"], traj[1000]; size=0.2)\n",
    "VH.draw_pose!(vis[\"pose_1500\"], traj[1500]; size=0.2)\n",
    "VH.draw_pose!(vis[\"pose_2000\"], traj[1999]; size=0.2)"
   ]
  },
  {
   "cell_type": "code",
   "execution_count": null,
   "id": "cb106704",
   "metadata": {},
   "outputs": [],
   "source": []
  }
 ],
 "metadata": {
  "@webio": {
   "lastCommId": null,
   "lastKernelId": null
  },
  "kernelspec": {
   "display_name": "Julia (4 threads) 1.11.2",
   "language": "julia",
   "name": "julia-_4-threads_-1.11"
  },
  "language_info": {
   "file_extension": ".jl",
   "mimetype": "application/julia",
   "name": "julia",
   "version": "1.11.2"
  }
 },
 "nbformat": 4,
 "nbformat_minor": 5
}
